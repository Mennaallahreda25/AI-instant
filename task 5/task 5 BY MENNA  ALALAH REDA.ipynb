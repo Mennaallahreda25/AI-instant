{
 "cells": [
  {
   "cell_type": "code",
   "execution_count": 12,
   "id": "0ea48306",
   "metadata": {
    "ExecuteTime": {
     "end_time": "2022-08-16T03:00:24.558056Z",
     "start_time": "2022-08-16T03:00:24.535118Z"
    }
   },
   "outputs": [
    {
     "name": "stdout",
     "output_type": "stream",
     "text": [
      "i am playing\n",
      "We currently have 11 player.\n",
      "Object is Deleted !\n"
     ]
    }
   ],
   "source": [
    "#example 1\n",
    "class Game:\n",
    "    player=11\n",
    "    \n",
    "    def __init__(self):\n",
    "        print(\"i am playing\")\n",
    "        \n",
    "    def players(self):\n",
    "        print (\"We currently have \"+str (self.player)+\" player.\")\n",
    "\n",
    "    def __del__(self):\n",
    "        print (\"Object is Deleted !\")\n",
    "        \n",
    "soccer = Game ()\n",
    "soccer.players ()\n",
    "del soccer"
   ]
  },
  {
   "cell_type": "code",
   "execution_count": 13,
   "id": "2b8a0685",
   "metadata": {
    "ExecuteTime": {
     "end_time": "2022-08-16T03:00:26.872901Z",
     "start_time": "2022-08-16T03:00:26.865916Z"
    }
   },
   "outputs": [],
   "source": [
    "#example 2\n",
    "class Test:\n",
    "    def __init__(self):\n",
    "        print(\"new onbject created\")\n",
    "        \n",
    "    def __del__(self):\n",
    "        print(\"curent object is deleted\")"
   ]
  },
  {
   "cell_type": "code",
   "execution_count": 14,
   "id": "c2976ca6",
   "metadata": {
    "ExecuteTime": {
     "end_time": "2022-08-16T03:00:30.563801Z",
     "start_time": "2022-08-16T03:00:30.551272Z"
    }
   },
   "outputs": [
    {
     "name": "stdout",
     "output_type": "stream",
     "text": [
      "new onbject created\n"
     ]
    }
   ],
   "source": [
    "t1=Test()"
   ]
  },
  {
   "cell_type": "code",
   "execution_count": 15,
   "id": "a6c99fa6",
   "metadata": {
    "ExecuteTime": {
     "end_time": "2022-08-16T03:00:33.115946Z",
     "start_time": "2022-08-16T03:00:33.097892Z"
    }
   },
   "outputs": [
    {
     "name": "stdout",
     "output_type": "stream",
     "text": [
      "curent object is deleted\n"
     ]
    }
   ],
   "source": [
    "del t1"
   ]
  },
  {
   "cell_type": "code",
   "execution_count": null,
   "id": "111c5b56",
   "metadata": {},
   "outputs": [],
   "source": []
  }
 ],
 "metadata": {
  "kernelspec": {
   "display_name": "Python 3 (ipykernel)",
   "language": "python",
   "name": "python3"
  },
  "language_info": {
   "codemirror_mode": {
    "name": "ipython",
    "version": 3
   },
   "file_extension": ".py",
   "mimetype": "text/x-python",
   "name": "python",
   "nbconvert_exporter": "python",
   "pygments_lexer": "ipython3",
   "version": "3.9.12"
  },
  "toc": {
   "base_numbering": 1,
   "nav_menu": {},
   "number_sections": true,
   "sideBar": true,
   "skip_h1_title": false,
   "title_cell": "Table of Contents",
   "title_sidebar": "Contents",
   "toc_cell": false,
   "toc_position": {},
   "toc_section_display": true,
   "toc_window_display": false
  },
  "varInspector": {
   "cols": {
    "lenName": 16,
    "lenType": 16,
    "lenVar": 40
   },
   "kernels_config": {
    "python": {
     "delete_cmd_postfix": "",
     "delete_cmd_prefix": "del ",
     "library": "var_list.py",
     "varRefreshCmd": "print(var_dic_list())"
    },
    "r": {
     "delete_cmd_postfix": ") ",
     "delete_cmd_prefix": "rm(",
     "library": "var_list.r",
     "varRefreshCmd": "cat(var_dic_list()) "
    }
   },
   "types_to_exclude": [
    "module",
    "function",
    "builtin_function_or_method",
    "instance",
    "_Feature"
   ],
   "window_display": false
  }
 },
 "nbformat": 4,
 "nbformat_minor": 5
}
