{
 "cells": [
  {
   "cell_type": "code",
   "execution_count": 1,
   "id": "1ef50506",
   "metadata": {
    "ExecuteTime": {
     "end_time": "2022-08-27T23:37:31.789099Z",
     "start_time": "2022-08-27T23:37:31.776133Z"
    }
   },
   "outputs": [],
   "source": [
    "#what is the ternary search?\n",
    "\n",
    "#Ternary search is a decrease(by constant) and conquer algorithm that can be used to find an element in an array. It is similar to binary search where we divide the array into two parts but in this algorithm, we divide the given array into three parts and determine which has the key (searched element). We can divide the array into three parts by taking mid1 and mid2 which can be calculated"
   ]
  },
  {
   "cell_type": "code",
   "execution_count": 2,
   "id": "8ef86747",
   "metadata": {
    "ExecuteTime": {
     "end_time": "2022-08-27T23:42:02.537970Z",
     "start_time": "2022-08-27T23:42:02.518150Z"
    }
   },
   "outputs": [
    {
     "name": "stdout",
     "output_type": "stream",
     "text": [
      "Index of 5 is 4\n",
      "Index of 50 is -1\n"
     ]
    }
   ],
   "source": [
    "#recursive method\n",
    "# Python3 program to illustrate\n",
    "# recursive approach to ternary search\n",
    "import math as mt\n",
    "\n",
    "# Function to perform Ternary Search\n",
    "def ternarySearch(l, r, key, ar):\n",
    "\n",
    "\tif (r >= l):\n",
    "\n",
    "\t\t# Find the mid1 and mid2\n",
    "\t\tmid1 = l + (r - l) //3\n",
    "\t\tmid2 = r - (r - l) //3\n",
    "\n",
    "\t\t# Check if key is present at any mid\n",
    "\t\tif (ar[mid1] == key):\n",
    "\t\t\treturn mid1\n",
    "\t\t\n",
    "\t\tif (ar[mid2] == key):\n",
    "\t\t\treturn mid2\n",
    "\t\t\n",
    "\t\t# Since key is not present at mid,\n",
    "\t\t# check in which region it is present\n",
    "\t\t# then repeat the Search operation\n",
    "\t\t# in that region\n",
    "\t\tif (key < ar[mid1]):\n",
    "\n",
    "\t\t\t# The key lies in between l and mid1\n",
    "\t\t\treturn ternarySearch(l, mid1 - 1, key, ar)\n",
    "\t\t\n",
    "\t\telif (key > ar[mid2]):\n",
    "\n",
    "\t\t\t# The key lies in between mid2 and r\n",
    "\t\t\treturn ternarySearch(mid2 + 1, r, key, ar)\n",
    "\t\t\n",
    "\t\telse:\n",
    "\n",
    "\t\t\t# The key lies in between mid1 and mid2\n",
    "\t\t\treturn ternarySearch(mid1 + 1,\n",
    "\t\t\t\t\t\t\t\tmid2 - 1, key, ar)\n",
    "\t\t\n",
    "\t# Key not found\n",
    "\treturn -1\n",
    "\n",
    "# Driver code\n",
    "l, r, p = 0, 9, 5\n",
    "\n",
    "# Get the array\n",
    "# Sort the array if not sorted\n",
    "ar = [ 1, 2, 3, 4, 5, 6, 7, 8, 9, 10 ]\n",
    "\n",
    "# Starting index\n",
    "l = 0\n",
    "\n",
    "# length of array\n",
    "r = 9\n",
    "\n",
    "# Checking for 5\n",
    "\n",
    "# Key to be searched in the array\n",
    "key = 5\n",
    "\n",
    "# Search the key using ternarySearch\n",
    "p = ternarySearch(l, r, key, ar)\n",
    "\n",
    "# Print the result\n",
    "print(\"Index of\", key, \"is\", p)\n",
    "\n",
    "# Checking for 50\n",
    "\n",
    "# Key to be searched in the array\n",
    "key = 50\n",
    "\n",
    "# Search the key using ternarySearch\n",
    "p = ternarySearch(l, r, key, ar)\n",
    "\n",
    "# Print the result\n",
    "print(\"Index of\", key, \"is\", p)\n",
    "\n",
    "# This code is contributed by\n",
    "# Mohit kumar 29\n"
   ]
  },
  {
   "cell_type": "code",
   "execution_count": 3,
   "id": "31ee04cb",
   "metadata": {
    "ExecuteTime": {
     "end_time": "2022-08-27T23:43:12.718253Z",
     "start_time": "2022-08-27T23:43:12.695285Z"
    }
   },
   "outputs": [
    {
     "name": "stdout",
     "output_type": "stream",
     "text": [
      "Index of 5 is 4\n",
      "Index of 50 is -1\n"
     ]
    }
   ],
   "source": [
    "#iterative method\n",
    "# Python 3 program to illustrate iterative\n",
    "# approach to ternary search\n",
    "\n",
    "# Function to perform Ternary Search\n",
    "def ternarySearch(l, r, key, ar):\n",
    "\twhile r >= l:\n",
    "\t\t\n",
    "\t\t# Find mid1 and mid2\n",
    "\t\tmid1 = l + (r-l) // 3\n",
    "\t\tmid2 = r - (r-l) // 3\n",
    "\n",
    "\t\t# Check if key is at any mid\n",
    "\t\tif key == ar[mid1]:\n",
    "\t\t\treturn mid1\n",
    "\t\tif key == mid2:\n",
    "\t\t\treturn mid2\n",
    "\n",
    "\t\t# Since key is not present at mid,\n",
    "\t\t# Check in which region it is present\n",
    "\t\t# Then repeat the search operation in that region\n",
    "\t\tif key < ar[mid1]:\n",
    "\t\t\t# key lies between l and mid1\n",
    "\t\t\tr = mid1 - 1\n",
    "\t\telif key > ar[mid2]:\n",
    "\t\t\t# key lies between mid2 and r\n",
    "\t\t\tl = mid2 + 1\n",
    "\t\telse:\n",
    "\t\t\t# key lies between mid1 and mid2\n",
    "\t\t\tl = mid1 + 1\n",
    "\t\t\tr = mid2 - 1\n",
    "\n",
    "\t# key not found\n",
    "\treturn -1\n",
    "\n",
    "# Driver code\n",
    "\n",
    "# Get the list\n",
    "# Sort the list if not sorted\n",
    "ar = [1, 2, 3, 4, 5, 6, 7, 8, 9, 10]\n",
    "\n",
    "# Starting index\n",
    "l = 0\n",
    "\n",
    "# Length of list\n",
    "r = 9\n",
    "\n",
    "# Checking for 5\n",
    "# Key to be searched in the list\n",
    "key = 5\n",
    "\n",
    "# Search the key using ternary search\n",
    "p = ternarySearch(l, r, key, ar)\n",
    "\n",
    "# Print the result\n",
    "print(\"Index of\", key, \"is\", p)\n",
    "\n",
    "# Checking for 50\n",
    "# Key to be searched in the list\n",
    "key = 50\n",
    "\n",
    "# Search the key using ternary search\n",
    "p = ternarySearch(l, r, key, ar)\n",
    "\n",
    "# Print the result\n",
    "print(\"Index of\", key, \"is\", p)\n",
    "\n",
    "# This code has been contributed by Sujal Motagi\n"
   ]
  },
  {
   "cell_type": "code",
   "execution_count": null,
   "id": "124d243e",
   "metadata": {},
   "outputs": [],
   "source": [
    "#What is a UML Diagram?\n",
    "UML is a way of visualizing a software program using a collection of diagrams. The notation has evolved from the work of Grady\n",
    "Booch, James Rumbaugh, Ivar Jacobson, and the Rational Software Corporation to be used for object-oriented design,\n",
    "but it has since been extended to cover a wider variety of software engineering projects. Today, UML is accepted\n",
    "by the Object Management Group (OMG) as the standard for modeling software development.\n",
    "\n",
    "These diagrams are organized into two distinct groups: structural diagrams and behavioral or interaction diagrams.\n",
    "\n",
    "Structural UML diagrams\n",
    "\n",
    "Class diagram\n",
    "Package diagram\n",
    "Object diagram\n",
    "Component diagram\n",
    "Composite structure diagram\n",
    "Deployment diagram\n",
    "\n",
    "\n",
    "Behavioral UML diagrams\n",
    "\n",
    "Activity diagram\n",
    "Sequence diagram\n",
    "Use case diagram\n",
    "State diagram\n",
    "Communication diagram\n",
    "Interaction overview diagram\n",
    "Timing diagram\n"
   ]
  },
  {
   "cell_type": "code",
   "execution_count": 5,
   "id": "50188248",
   "metadata": {
    "ExecuteTime": {
     "end_time": "2022-08-28T00:58:00.245328Z",
     "start_time": "2022-08-28T00:58:00.227376Z"
    }
   },
   "outputs": [],
   "source": [
    "#clean code is  It's a guide to producing readable, reusable, and refactorable software that is why it is better than \n",
    "#Spaghetti code that is a pejorative phrase for unstructured and difficult-to-maintain source code.\n",
    "#Spaghetti code can be caused by several factors, such as volatile project requirements,\n",
    "#lack of programming style rules, and software engineers with insufficient ability or experience\n"
   ]
  },
  {
   "cell_type": "code",
   "execution_count": 14,
   "id": "6934e985",
   "metadata": {
    "ExecuteTime": {
     "end_time": "2022-08-28T01:24:18.826522Z",
     "start_time": "2022-08-28T01:24:18.804583Z"
    }
   },
   "outputs": [],
   "source": [
    "#Functions should do one thing\n",
    "#This is by far the most important rule in software engineering. When functions do more than one thing, \n",
    "#they are harder to compose, test, and reason about. When you can isolate a function to just one action, \n",
    "#they can be refactored easily and your code will read much cleaner. \n",
    "#If you take nothing else away from this guide other than this, you'll be ahead of many developers.\n",
    "#bad:\n",
    "from typing import List\n",
    "\n",
    "\n",
    "class Client:\n",
    "    active: bool\n",
    "\n",
    "\n",
    "def email(client: Client) -> None:\n",
    "    pass\n",
    "\n",
    "\n",
    "def email_clients(clients: List[Client]) -> None:\n",
    "    \"\"\"Filter active clients and send them an email.\n",
    "    \"\"\"\n",
    "    for client in clients:\n",
    "        if client.active:\n",
    "            email(client)"
   ]
  },
  {
   "cell_type": "code",
   "execution_count": 12,
   "id": "ff768110",
   "metadata": {
    "ExecuteTime": {
     "end_time": "2022-08-28T01:16:38.221579Z",
     "start_time": "2022-08-28T01:16:38.202628Z"
    }
   },
   "outputs": [],
   "source": [
    "#good:\n",
    "from typing import List\n",
    "\n",
    "\n",
    "class Client:\n",
    "    active: bool\n",
    "\n",
    "\n",
    "def email(client: Client) -> None:\n",
    "    pass\n",
    "\n",
    "\n",
    "def get_active_clients(clients: List[Client]) -> List[Client]:\n",
    "    \"\"\"Filter active clients.\n",
    "    \"\"\"\n",
    "    return [client for client in clients if client.active]\n",
    "\n",
    "\n",
    "def email_clients(clients: List[Client]) -> None:\n",
    "    \"\"\"Send an email to a given list of clients.\n",
    "    \"\"\"\n",
    "    for client in get_active_clients(clients):\n",
    "        email(client)"
   ]
  },
  {
   "cell_type": "code",
   "execution_count": 11,
   "id": "2cda382b",
   "metadata": {
    "ExecuteTime": {
     "end_time": "2022-08-28T01:16:24.871236Z",
     "start_time": "2022-08-28T01:16:24.860239Z"
    }
   },
   "outputs": [],
   "source": [
    "#Use the same vocabulary for the same type of variable is better\n",
    "#Bad: Here we use three different names for the same underlying entity:\n",
    "def get_user_info(): pass\n",
    "def get_client_data(): pass\n",
    "def get_customer_record(): pass"
   ]
  },
  {
   "cell_type": "code",
   "execution_count": 9,
   "id": "d8c58cae",
   "metadata": {
    "ExecuteTime": {
     "end_time": "2022-08-28T01:15:24.425704Z",
     "start_time": "2022-08-28T01:15:24.417698Z"
    }
   },
   "outputs": [],
   "source": [
    "#Good: If the entity is the same, you should be consistent in referring to it in your functions:\n",
    "\n",
    "def get_user_info(): pass\n",
    "def get_user_data(): pass\n",
    "def get_user_record(): pass"
   ]
  },
  {
   "cell_type": "code",
   "execution_count": null,
   "id": "9cf656c2",
   "metadata": {},
   "outputs": [],
   "source": [
    "#the most common desin patterns\n",
    "Classification of Creational Design Patterns =>provides essential information regarding the Class instantiation or the object instantiation. Class Creational Pattern and the Object Creational pattern is the major categorization of the Creational Design Patterns. While class-creation patterns use inheritance effectively in the instantiation process, object-creation patterns use delegation effectively to get the job done.\n",
    "\n",
    "Factory Method\n",
    "Abstract Factory Method\n",
    "Builder Method\n",
    "Prototype Method\n",
    "Singleton Method\n",
    "\n",
    "Classification of Structural Design Patterns =>  are about organizing different classes and objects to form larger structures and provide new functionality while keeping these structures flexible and efficient. Mostly they use Inheritance to compose all the interfaces. It also identifies the relationships which led to the simplification of the structure.\n",
    "\n",
    "Adapter Method\n",
    "Bridge Method\n",
    "Composite Method\n",
    "Decorator Method\n",
    "Facade Method\n",
    "Proxy Method\n",
    "FlyWeight Method\n",
    "\n",
    "Classification of Behavioral Design Patterns => are all about identifying the common communication patterns between objects and realize these patterns. These patterns are concerned with algorithms and the assignment of responsibilities between objects.\n",
    "\n",
    "Chain of Responsibility Method\n",
    "Command Method\n",
    "Iterator Method\n",
    "Mediator Method\n",
    "Memento Method\n",
    "Observer Method\n",
    "State Method\n",
    "Strategy Method\n",
    "Template Method\n",
    "Visitor Method"
   ]
  },
  {
   "cell_type": "code",
   "execution_count": null,
   "id": "aa5ab3be",
   "metadata": {},
   "outputs": [],
   "source": [
    "#DEVOPS VS AGILE\n",
    "#DEVOPS\n",
    "-Devops invoves coiiaboration between the\n",
    "Development and Operation leams\n",
    "-Devops manages end to end DLC process\n",
    "from development to deployment to operations\n",
    "& monitoring\n",
    "-Devops involves bigger and larger teams and\n",
    "responsible for collaboration between them.\n",
    "-Devops normally does not follow any standard\n",
    "frameworks\n",
    "-Devops is involved in complete end to end\n",
    "development process(Development .testing.\n",
    "CI/CD, deployment, monitoring and\n",
    "operations) ensuring faster delivery,\n",
    "-Feecback most comes from within the team internally>\n",
    "-Devops aims to achieve smooth development\n",
    "and deployment process within defined\n",
    "deadlines. The code is ideally deployed daily\n",
    "or every few hours\n",
    "-Devops supports both Left as well as Right\n",
    "shift\n",
    "-Automation is an important part of Devops process\n",
    "-Devops involves a wide variety of tools, most\n",
    "popular ones being: Gil, Jenkins, Puppet.\n",
    "Ansible.Terraform, Nagios, Zabbbix, ELK etc\n",
    "\n",
    "#AGILE\n",
    "-Agile methodology talks about iterative development\n",
    "and focus on collaboraton, customer feedback. small\n",
    "and rapid releases\n",
    "-Agile is used to manage complex projects mostly\n",
    "limited to development, testing and deployment process\n",
    "-Agile works best in smaller team size. The smaller the\n",
    "team lesser woud be members and hence faster\n",
    "would be development, testing and deployment.\n",
    "-Agile supports multiple frameworks and can be\n",
    "imolemented using Scrum, Kanban, Lean. TOD etc\n",
    "-mosty during the software development process\n",
    "-ensures direct feedback from the customer\n",
    "-agile is carried out in units called \"Sprints'. A Sprint\n",
    "duration is normally less than a month, ideally 2 weeks.\n",
    "-Agile only works on Shift-Left principle\n",
    "-Agile's main focus is on speed and agility and does not\n",
    "emphasize on automation\n",
    "-Commonly used Agile tools are:\n",
    "JIRA.Versionone.Leankit.ugz\n",
    "illa, Codegiant etc\n",
    "\n",
    "\n"
   ]
  },
  {
   "cell_type": "code",
   "execution_count": null,
   "id": "59b1d591",
   "metadata": {},
   "outputs": [],
   "source": [
    "What are tools for DevOps?\n",
    "DevOps tools are programs and platforms that help to automate and streamline software development workflows known as toolchains. Developers and IT teams use DevOps tools at varying stages of application and software life cycles, often focusing on automating one of the following:\n",
    "\n",
    "Planning: Defines business values, requirements, objectives and project management\n",
    "Coding: Involves the use of coding for software design, creation and integration\n",
    "Building: Manages and builds software versions and compiles code for future feature updates\n",
    "Testing: Continually tests functionally to ensure optimal code quality\n",
    "Deploying: Manages, coordinates, schedules and automates product releases\n",
    "Operating: Manages software during the production phase\n",
    "Monitoring: Evaluates software releases to identify and collect data on specific software issues\n",
    "    \n",
    " there is 20 DevOps tools\n",
    "There are several DevOps tools available to aid in the design, management and production of each stage of software \n",
    "application development. Below is a list of popular DevOps tools and their core functionalities:\n",
    "1. Puppet\n",
    "2. Docker\n",
    "3. Kubernetes\n",
    "4. Jenkins\n",
    "5. Bamboo\n",
    "6. Selenium\n",
    "7. Ansible\n",
    "8. Chef\n",
    "9. Vagrant\n",
    "10. Git\n",
    "11. Nagios\n",
    "12. QuerySurge\n",
    "13. Buddy\n",
    "14. Gradle\n",
    "15. Raygun\n",
    "16. PagerDuty\n",
    "17. Ganglia\n",
    "18. OverOps\n",
    "19. Splunk\n",
    "20. Salt"
   ]
  }
 ],
 "metadata": {
  "kernelspec": {
   "display_name": "Python 3 (ipykernel)",
   "language": "python",
   "name": "python3"
  },
  "language_info": {
   "codemirror_mode": {
    "name": "ipython",
    "version": 3
   },
   "file_extension": ".py",
   "mimetype": "text/x-python",
   "name": "python",
   "nbconvert_exporter": "python",
   "pygments_lexer": "ipython3",
   "version": "3.9.12"
  },
  "toc": {
   "base_numbering": 1,
   "nav_menu": {},
   "number_sections": true,
   "sideBar": true,
   "skip_h1_title": false,
   "title_cell": "Table of Contents",
   "title_sidebar": "Contents",
   "toc_cell": false,
   "toc_position": {},
   "toc_section_display": true,
   "toc_window_display": false
  },
  "varInspector": {
   "cols": {
    "lenName": 16,
    "lenType": 16,
    "lenVar": 40
   },
   "kernels_config": {
    "python": {
     "delete_cmd_postfix": "",
     "delete_cmd_prefix": "del ",
     "library": "var_list.py",
     "varRefreshCmd": "print(var_dic_list())"
    },
    "r": {
     "delete_cmd_postfix": ") ",
     "delete_cmd_prefix": "rm(",
     "library": "var_list.r",
     "varRefreshCmd": "cat(var_dic_list()) "
    }
   },
   "types_to_exclude": [
    "module",
    "function",
    "builtin_function_or_method",
    "instance",
    "_Feature"
   ],
   "window_display": false
  }
 },
 "nbformat": 4,
 "nbformat_minor": 5
}
