{
 "cells": [
  {
   "cell_type": "code",
   "execution_count": 1,
   "id": "19d1d84b",
   "metadata": {
    "ExecuteTime": {
     "end_time": "2022-08-14T00:32:54.418980Z",
     "start_time": "2022-08-14T00:32:54.413992Z"
    }
   },
   "outputs": [],
   "source": [
    "#1-How to sort dictionary by keys"
   ]
  },
  {
   "cell_type": "code",
   "execution_count": 2,
   "id": "19978e21",
   "metadata": {
    "ExecuteTime": {
     "end_time": "2022-08-14T00:33:05.723869Z",
     "start_time": "2022-08-14T00:33:05.709902Z"
    }
   },
   "outputs": [
    {
     "name": "stdout",
     "output_type": "stream",
     "text": [
      "J 950\n",
      "P 750\n",
      "R 700\n",
      "C 200\n"
     ]
    }
   ],
   "source": [
    "#sort values:\n",
    "dict = {\"P\":750,\"J\":950,\"R\":700,\"C\":200} \n",
    " \n",
    "sort_values = sorted(dict.items(), key=lambda y: y[1], reverse=True)\n",
    "\n",
    "for i in sort_values:\n",
    "    print(i[0], i[1])"
   ]
  },
  {
   "cell_type": "code",
   "execution_count": 3,
   "id": "6129085e",
   "metadata": {
    "ExecuteTime": {
     "end_time": "2022-08-14T00:33:17.313984Z",
     "start_time": "2022-08-14T00:33:17.304011Z"
    }
   },
   "outputs": [
    {
     "name": "stdout",
     "output_type": "stream",
     "text": [
      "[('t', 350), ('u', 120), ('v', 450), ('z', 220)]\n"
     ]
    }
   ],
   "source": [
    "#sort keys\n",
    "new_dict = {\"z\":220,\"v\":450,\"u\":120,\"t\":350} \n",
    " \n",
    "sorted_keys = new_dict.items()\n",
    "new_values = sorted(sorted_keys)\n",
    "print(new_values)"
   ]
  },
  {
   "cell_type": "code",
   "execution_count": 4,
   "id": "54996b16",
   "metadata": {
    "ExecuteTime": {
     "end_time": "2022-08-14T00:33:42.644342Z",
     "start_time": "2022-08-14T00:33:42.628388Z"
    }
   },
   "outputs": [],
   "source": [
    "#2-compare between adjacency matrix / list"
   ]
  },
  {
   "cell_type": "code",
   "execution_count": 46,
   "id": "f4acce2a",
   "metadata": {
    "ExecuteTime": {
     "end_time": "2022-08-14T01:35:24.756944Z",
     "start_time": "2022-08-14T01:35:24.740987Z"
    }
   },
   "outputs": [],
   "source": [
    "#Adjacency List:\n",
    "# an array of linked list\n",
    "#Finding the presence or absence of specific edge between any two nodes/ is slightly slower than with the matrix O(k); where k is the number of neighbors nodes/It is fast to iterate over all edges because you can access any node neighbors directly/ It is fast to add/delete a node; easier than the matrix representation\n",
    "#time of acces: o(d) the slowest\n",
    "#use memory : best  /space:(o(n*m)) /Memory usage depends more on the number of edges (and less on the number of nodes), which might save a lot of memory if the adjacency matrix is sparse\n",
    "#child access : easiest and best\n",
    "#the best because child access is the imprtest thing for us for that when we need fast access for childe it is the better choice"
   ]
  },
  {
   "cell_type": "code",
   "execution_count": 47,
   "id": "424c51ab",
   "metadata": {
    "ExecuteTime": {
     "end_time": "2022-08-14T01:35:26.934235Z",
     "start_time": "2022-08-14T01:35:26.920273Z"
    }
   },
   "outputs": [],
   "source": [
    "#Adjacency Matrix:\n",
    "#a 2D array\n",
    "#time of acces: o(1)  the fastest / It is fast to lookup and check for presence or absence of a specific edge between any two nodes O(1)\n",
    "#It is slow to iterate over all edges/ It is slow to add/delete a node; a complex operation O(n^2) /It is fast to add a new edge O(1)\n",
    "#use memory : worst  / space:(o(n^2))\n",
    "#child access : hard and worst\n",
    "#the worst because child access is bad "
   ]
  },
  {
   "cell_type": "code",
   "execution_count": 45,
   "id": "97b5403f",
   "metadata": {
    "ExecuteTime": {
     "end_time": "2022-08-14T01:26:01.834828Z",
     "start_time": "2022-08-14T01:26:01.825877Z"
    }
   },
   "outputs": [],
   "source": [
    "#note that: n is total of nodes, m total of adges , d is degree"
   ]
  },
  {
   "cell_type": "code",
   "execution_count": 52,
   "id": "fb9b683d",
   "metadata": {
    "ExecuteTime": {
     "end_time": "2022-08-14T01:43:29.781963Z",
     "start_time": "2022-08-14T01:43:29.764984Z"
    }
   },
   "outputs": [],
   "source": [
    "#3-How does DFS and BFS work"
   ]
  },
  {
   "cell_type": "code",
   "execution_count": 53,
   "id": "2a5bdff2",
   "metadata": {
    "ExecuteTime": {
     "end_time": "2022-08-14T01:43:47.979583Z",
     "start_time": "2022-08-14T01:43:47.956619Z"
    }
   },
   "outputs": [
    {
     "name": "stdout",
     "output_type": "stream",
     "text": [
      "Following is the Depth-First Search\n",
      "5\n",
      "3\n",
      "2\n",
      "4\n",
      "8\n",
      "7\n"
     ]
    }
   ],
   "source": [
    "#DFS\n",
    "# Using a Python dictionary to act as an adjacency list\n",
    "graph = {\n",
    "  '5' : ['3','7'],\n",
    "  '3' : ['2', '4'],\n",
    "  '7' : ['8'],\n",
    "  '2' : [],\n",
    "  '4' : ['8'],\n",
    "  '8' : []\n",
    "}\n",
    "\n",
    "visited = set() # Set to keep track of visited nodes of graph.\n",
    "\n",
    "def dfs(visited, graph, node):  #function for dfs \n",
    "    if node not in visited:\n",
    "        print (node)\n",
    "        visited.add(node)\n",
    "        for neighbour in graph[node]:\n",
    "            dfs(visited, graph, neighbour)\n",
    "\n",
    "# Driver Code\n",
    "print(\"Following is the Depth-First Search\")\n",
    "dfs(visited, graph, '5')"
   ]
  },
  {
   "cell_type": "code",
   "execution_count": 54,
   "id": "d14090ff",
   "metadata": {
    "ExecuteTime": {
     "end_time": "2022-08-14T01:44:06.719498Z",
     "start_time": "2022-08-14T01:44:06.696563Z"
    }
   },
   "outputs": [
    {
     "name": "stdout",
     "output_type": "stream",
     "text": [
      "Following is the Breadth-First Search\n",
      "5 3 7 2 4 8 "
     ]
    }
   ],
   "source": [
    "#BFS\n",
    "graph = {\n",
    "  '5' : ['3','7'],\n",
    "  '3' : ['2', '4'],\n",
    "  '7' : ['8'],\n",
    "  '2' : [],\n",
    "  '4' : ['8'],\n",
    "  '8' : []\n",
    "}\n",
    "\n",
    "visited = [] # List for visited nodes.\n",
    "queue = []     #Initialize a queue\n",
    "\n",
    "def bfs(visited, graph, node): #function for BFS\n",
    "  visited.append(node)\n",
    "  queue.append(node)\n",
    "\n",
    "  while queue:          # Creating loop to visit each node\n",
    "    m = queue.pop(0) \n",
    "    print (m, end = \" \") \n",
    "\n",
    "    for neighbour in graph[m]:\n",
    "      if neighbour not in visited:\n",
    "        visited.append(neighbour)\n",
    "        queue.append(neighbour)\n",
    "\n",
    "# Driver Code\n",
    "print(\"Following is the Breadth-First Search\")\n",
    "bfs(visited, graph, '5')    # function calling"
   ]
  },
  {
   "cell_type": "code",
   "execution_count": 6,
   "id": "46846ac7",
   "metadata": {
    "ExecuteTime": {
     "end_time": "2022-08-14T00:34:02.927015Z",
     "start_time": "2022-08-14T00:34:02.907069Z"
    }
   },
   "outputs": [],
   "source": [
    "#4-create your own library and use it"
   ]
  },
  {
   "cell_type": "code",
   "execution_count": 7,
   "id": "afb76fbd",
   "metadata": {
    "ExecuteTime": {
     "end_time": "2022-08-14T00:34:15.831855Z",
     "start_time": "2022-08-14T00:34:15.793954Z"
    }
   },
   "outputs": [
    {
     "data": {
      "text/plain": [
       "8"
      ]
     },
     "execution_count": 7,
     "metadata": {},
     "output_type": "execute_result"
    }
   ],
   "source": [
    "import myfirlib\n",
    "myfirlib.max2(3,8)"
   ]
  },
  {
   "cell_type": "code",
   "execution_count": 8,
   "id": "4bafc695",
   "metadata": {
    "ExecuteTime": {
     "end_time": "2022-08-14T00:34:28.077430Z",
     "start_time": "2022-08-14T00:34:28.063435Z"
    }
   },
   "outputs": [
    {
     "data": {
      "text/plain": [
       "10"
      ]
     },
     "execution_count": 8,
     "metadata": {},
     "output_type": "execute_result"
    }
   ],
   "source": [
    "myfirlib.c"
   ]
  },
  {
   "cell_type": "code",
   "execution_count": 9,
   "id": "f91d354c",
   "metadata": {
    "ExecuteTime": {
     "end_time": "2022-08-14T00:34:38.226001Z",
     "start_time": "2022-08-14T00:34:38.213005Z"
    }
   },
   "outputs": [
    {
     "data": {
      "text/plain": [
       "20"
      ]
     },
     "execution_count": 9,
     "metadata": {},
     "output_type": "execute_result"
    }
   ],
   "source": [
    "myfirlib.a"
   ]
  },
  {
   "cell_type": "code",
   "execution_count": 10,
   "id": "845c6f73",
   "metadata": {
    "ExecuteTime": {
     "end_time": "2022-08-14T00:34:51.270346Z",
     "start_time": "2022-08-14T00:34:51.252395Z"
    }
   },
   "outputs": [
    {
     "data": {
      "text/plain": [
       "30"
      ]
     },
     "execution_count": 10,
     "metadata": {},
     "output_type": "execute_result"
    }
   ],
   "source": [
    "myfirlib.b"
   ]
  },
  {
   "cell_type": "code",
   "execution_count": 11,
   "id": "24ac43fe",
   "metadata": {
    "ExecuteTime": {
     "end_time": "2022-08-14T00:35:02.427724Z",
     "start_time": "2022-08-14T00:35:02.406783Z"
    }
   },
   "outputs": [
    {
     "data": {
      "text/plain": [
       "['python', 'c++', 'java', 'ruby', 'R']"
      ]
     },
     "execution_count": 11,
     "metadata": {},
     "output_type": "execute_result"
    }
   ],
   "source": [
    "myfirlib.mylist"
   ]
  },
  {
   "cell_type": "code",
   "execution_count": 12,
   "id": "93ec7fca",
   "metadata": {
    "ExecuteTime": {
     "end_time": "2022-08-14T00:35:15.141066Z",
     "start_time": "2022-08-14T00:35:15.135080Z"
    }
   },
   "outputs": [
    {
     "name": "stdout",
     "output_type": "stream",
     "text": [
      "menna\n"
     ]
    }
   ],
   "source": [
    "myfirlib.printusername(\"menna\")"
   ]
  },
  {
   "cell_type": "code",
   "execution_count": 13,
   "id": "1b54d0f1",
   "metadata": {
    "ExecuteTime": {
     "end_time": "2022-08-14T00:35:30.747732Z",
     "start_time": "2022-08-14T00:35:30.736788Z"
    }
   },
   "outputs": [],
   "source": [
    "#5-Create a function receives stack elements as inputs from user while not equal to zero"
   ]
  },
  {
   "cell_type": "code",
   "execution_count": 14,
   "id": "5dcd82c5",
   "metadata": {
    "ExecuteTime": {
     "end_time": "2022-08-14T00:35:43.598332Z",
     "start_time": "2022-08-14T00:35:43.580352Z"
    }
   },
   "outputs": [],
   "source": [
    "from queue import LifoQueue as stack"
   ]
  },
  {
   "cell_type": "code",
   "execution_count": 26,
   "id": "0fdf2b93",
   "metadata": {
    "ExecuteTime": {
     "end_time": "2022-08-14T00:37:43.297717Z",
     "start_time": "2022-08-14T00:37:43.288708Z"
    }
   },
   "outputs": [],
   "source": [
    "s=stack()\n",
    "def printelements():\n",
    "    x = int(input(\"please enter a number\"))\n",
    "    while x ==0: \n",
    "        break\n",
    "    s.put(x)"
   ]
  },
  {
   "cell_type": "code",
   "execution_count": 31,
   "id": "1b1d8339",
   "metadata": {
    "ExecuteTime": {
     "end_time": "2022-08-14T00:38:06.097031Z",
     "start_time": "2022-08-14T00:38:06.085068Z"
    }
   },
   "outputs": [],
   "source": [
    "s.put(2)\n",
    "s.put(1)\n",
    "s.put(0)\n",
    "s.put(5)"
   ]
  },
  {
   "cell_type": "code",
   "execution_count": 35,
   "id": "b3c68c64",
   "metadata": {
    "ExecuteTime": {
     "end_time": "2022-08-14T00:38:19.015353Z",
     "start_time": "2022-08-14T00:38:19.008372Z"
    }
   },
   "outputs": [
    {
     "data": {
      "text/plain": [
       "2"
      ]
     },
     "execution_count": 35,
     "metadata": {},
     "output_type": "execute_result"
    }
   ],
   "source": [
    "s.get()"
   ]
  },
  {
   "cell_type": "code",
   "execution_count": 36,
   "id": "ff4d3881",
   "metadata": {
    "ExecuteTime": {
     "end_time": "2022-08-14T00:38:48.611595Z",
     "start_time": "2022-08-14T00:38:48.593619Z"
    }
   },
   "outputs": [],
   "source": [
    "#6-Implement Unordered/Multi set in Python"
   ]
  },
  {
   "cell_type": "code",
   "execution_count": 42,
   "id": "74208b14",
   "metadata": {
    "ExecuteTime": {
     "end_time": "2022-08-14T00:42:02.420337Z",
     "start_time": "2022-08-14T00:42:02.403354Z"
    }
   },
   "outputs": [],
   "source": [
    "#unordered set\n",
    "num_list = [2,1,3]\n",
    "set_from_list = set(num_list)"
   ]
  },
  {
   "cell_type": "code",
   "execution_count": 43,
   "id": "a66da134",
   "metadata": {
    "ExecuteTime": {
     "end_time": "2022-08-14T00:42:04.663386Z",
     "start_time": "2022-08-14T00:42:04.649428Z"
    }
   },
   "outputs": [
    {
     "data": {
      "text/plain": [
       "[2, 1, 3]"
      ]
     },
     "execution_count": 43,
     "metadata": {},
     "output_type": "execute_result"
    }
   ],
   "source": [
    "num_list"
   ]
  },
  {
   "cell_type": "code",
   "execution_count": 40,
   "id": "86df9329",
   "metadata": {
    "ExecuteTime": {
     "end_time": "2022-08-14T00:41:46.485541Z",
     "start_time": "2022-08-14T00:41:46.468555Z"
    }
   },
   "outputs": [],
   "source": [
    "#multiset"
   ]
  },
  {
   "cell_type": "code",
   "execution_count": 41,
   "id": "1c188777",
   "metadata": {
    "ExecuteTime": {
     "end_time": "2022-08-14T00:41:55.002455Z",
     "start_time": "2022-08-14T00:41:50.367724Z"
    }
   },
   "outputs": [
    {
     "name": "stdout",
     "output_type": "stream",
     "text": [
      "Requirement already satisfied: multiset in c:\\users\\hp\\anaconda3\\lib\\site-packages (3.0.1)\n",
      "Note: you may need to restart the kernel to use updated packages.\n"
     ]
    }
   ],
   "source": [
    "pip install multiset\n"
   ]
  },
  {
   "cell_type": "code",
   "execution_count": 44,
   "id": "560b71bd",
   "metadata": {
    "ExecuteTime": {
     "end_time": "2022-08-14T00:42:36.868504Z",
     "start_time": "2022-08-14T00:42:36.846564Z"
    }
   },
   "outputs": [
    {
     "name": "stdout",
     "output_type": "stream",
     "text": [
      "{a, a, b, b, e, e, c, c}\n"
     ]
    }
   ],
   "source": [
    "from multiset import *\n",
    "# print multiset from iterable\n",
    "print(Multiset('aabbeecc'))"
   ]
  }
 ],
 "metadata": {
  "kernelspec": {
   "display_name": "Python 3 (ipykernel)",
   "language": "python",
   "name": "python3"
  },
  "language_info": {
   "codemirror_mode": {
    "name": "ipython",
    "version": 3
   },
   "file_extension": ".py",
   "mimetype": "text/x-python",
   "name": "python",
   "nbconvert_exporter": "python",
   "pygments_lexer": "ipython3",
   "version": "3.9.12"
  },
  "toc": {
   "base_numbering": 1,
   "nav_menu": {},
   "number_sections": true,
   "sideBar": true,
   "skip_h1_title": false,
   "title_cell": "Table of Contents",
   "title_sidebar": "Contents",
   "toc_cell": false,
   "toc_position": {},
   "toc_section_display": true,
   "toc_window_display": false
  },
  "varInspector": {
   "cols": {
    "lenName": 16,
    "lenType": 16,
    "lenVar": 40
   },
   "kernels_config": {
    "python": {
     "delete_cmd_postfix": "",
     "delete_cmd_prefix": "del ",
     "library": "var_list.py",
     "varRefreshCmd": "print(var_dic_list())"
    },
    "r": {
     "delete_cmd_postfix": ") ",
     "delete_cmd_prefix": "rm(",
     "library": "var_list.r",
     "varRefreshCmd": "cat(var_dic_list()) "
    }
   },
   "types_to_exclude": [
    "module",
    "function",
    "builtin_function_or_method",
    "instance",
    "_Feature"
   ],
   "window_display": false
  }
 },
 "nbformat": 4,
 "nbformat_minor": 5
}
