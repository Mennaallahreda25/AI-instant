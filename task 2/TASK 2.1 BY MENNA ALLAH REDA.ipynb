{
 "cells": [
  {
   "cell_type": "code",
   "execution_count": 1,
   "id": "c46db608",
   "metadata": {
    "ExecuteTime": {
     "end_time": "2022-08-08T23:19:29.403971Z",
     "start_time": "2022-08-08T23:19:29.398990Z"
    }
   },
   "outputs": [],
   "source": [
    "#1-Write a Python program to find those numbers which are divisible by 7 and multiple of 5, between 1500 and 2700 (both included).\n"
   ]
  },
  {
   "cell_type": "code",
   "execution_count": 2,
   "id": "9d5be706",
   "metadata": {
    "ExecuteTime": {
     "end_time": "2022-08-08T23:19:46.642678Z",
     "start_time": "2022-08-08T23:19:46.623733Z"
    }
   },
   "outputs": [
    {
     "name": "stdout",
     "output_type": "stream",
     "text": [
      "1505\n",
      "1540\n",
      "1575\n",
      "1610\n",
      "1645\n",
      "1680\n",
      "1715\n",
      "1750\n",
      "1785\n",
      "1820\n",
      "1855\n",
      "1890\n",
      "1925\n",
      "1960\n",
      "1995\n",
      "2030\n",
      "2065\n",
      "2100\n",
      "2135\n",
      "2170\n",
      "2205\n",
      "2240\n",
      "2275\n",
      "2310\n",
      "2345\n",
      "2380\n",
      "2415\n",
      "2450\n",
      "2485\n",
      "2520\n",
      "2555\n",
      "2590\n",
      "2625\n",
      "2660\n",
      "2695\n"
     ]
    }
   ],
   "source": [
    "for i in range(1500 , 2700):\n",
    "    if i%7==0 and i%5==0:\n",
    "        print(i)"
   ]
  },
  {
   "cell_type": "code",
   "execution_count": 3,
   "id": "92d5a07e",
   "metadata": {
    "ExecuteTime": {
     "end_time": "2022-08-08T23:20:05.414135Z",
     "start_time": "2022-08-08T23:20:05.396186Z"
    }
   },
   "outputs": [],
   "source": [
    "#2-Write a Python program to convert temperatures to and from celsius, fahrenheit.\n"
   ]
  },
  {
   "cell_type": "code",
   "execution_count": 4,
   "id": "4cc1c60b",
   "metadata": {
    "ExecuteTime": {
     "end_time": "2022-08-08T23:20:24.277622Z",
     "start_time": "2022-08-08T23:20:18.415440Z"
    }
   },
   "outputs": [
    {
     "name": "stdout",
     "output_type": "stream",
     "text": [
      "enter the degree: 55\n",
      "if you want to convert the temperature from celsius to fahrenheit press 1 if the opposite press 2: 2\n",
      "12.777777777777777\n"
     ]
    }
   ],
   "source": [
    "temp= float(input(\"enter the degree: \"))\n",
    "convertdegree= int(input(\"if you want to convert the temperature from celsius to fahrenheit press 1 if the opposite press 2: \"))\n",
    "if convertdegree==1:\n",
    "    print((temp * 9 / 5) + 32)\n",
    "elif convertdegree==2:\n",
    "    print((temp - 32) / 9 * 5)\n",
    "else:\n",
    "    print(\"sorry i didn't understand your choice\")"
   ]
  },
  {
   "cell_type": "code",
   "execution_count": 5,
   "id": "2a83b620",
   "metadata": {
    "ExecuteTime": {
     "end_time": "2022-08-08T23:20:40.516097Z",
     "start_time": "2022-08-08T23:20:40.506122Z"
    }
   },
   "outputs": [],
   "source": [
    "#3-Write a Python program to construct the following pattern, using a nested for loop.\n"
   ]
  },
  {
   "cell_type": "code",
   "execution_count": 6,
   "id": "5c49c865",
   "metadata": {
    "ExecuteTime": {
     "end_time": "2022-08-08T23:20:52.230680Z",
     "start_time": "2022-08-08T23:20:52.209738Z"
    }
   },
   "outputs": [
    {
     "name": "stdout",
     "output_type": "stream",
     "text": [
      "* \n",
      "* * \n",
      "* * * \n",
      "* * * * \n",
      "* * * * * \n",
      "* * * * \n",
      "* * * \n",
      "* * \n",
      "* \n"
     ]
    }
   ],
   "source": [
    "for i in range (1,6):\n",
    "    print(\"* \" * i)\n",
    "for i in range (4,0,-1):\n",
    "    print(\"* \" * i)"
   ]
  },
  {
   "cell_type": "code",
   "execution_count": 7,
   "id": "cbb2445b",
   "metadata": {
    "ExecuteTime": {
     "end_time": "2022-08-08T23:21:12.521174Z",
     "start_time": "2022-08-08T23:21:12.511198Z"
    }
   },
   "outputs": [],
   "source": [
    "#4-Write a Python program that accepts a word from the user and reverse it.\n"
   ]
  },
  {
   "cell_type": "code",
   "execution_count": 29,
   "id": "fadad885",
   "metadata": {
    "ExecuteTime": {
     "end_time": "2022-08-08T23:40:56.862545Z",
     "start_time": "2022-08-08T23:40:52.447359Z"
    }
   },
   "outputs": [
    {
     "name": "stdout",
     "output_type": "stream",
     "text": [
      "WRITE A WORD: menna reda\n",
      "ader annem\n"
     ]
    }
   ],
   "source": [
    "w= input(\"WRITE A WORD: \")\n",
    "reversed_w=w[len(w)::-1]\n",
    "print(reversed_w)"
   ]
  },
  {
   "cell_type": "code",
   "execution_count": 9,
   "id": "b8b4a79a",
   "metadata": {
    "ExecuteTime": {
     "end_time": "2022-08-08T23:21:52.625208Z",
     "start_time": "2022-08-08T23:21:52.613241Z"
    }
   },
   "outputs": [],
   "source": [
    "#5-Write a Python function to find the Max of three numbers\n"
   ]
  },
  {
   "cell_type": "code",
   "execution_count": 10,
   "id": "245b9334",
   "metadata": {
    "ExecuteTime": {
     "end_time": "2022-08-08T23:22:05.289610Z",
     "start_time": "2022-08-08T23:22:05.269639Z"
    }
   },
   "outputs": [
    {
     "name": "stdout",
     "output_type": "stream",
     "text": [
      "9\n"
     ]
    }
   ],
   "source": [
    "def max2(x,y):\n",
    "    if x>y:\n",
    "        return x\n",
    "    return y\n",
    "def max3(x,y,z):\n",
    "    return max2(x, max2(y,z))\n",
    "print(max3(4,6,9))"
   ]
  },
  {
   "cell_type": "code",
   "execution_count": 11,
   "id": "565e5310",
   "metadata": {
    "ExecuteTime": {
     "end_time": "2022-08-08T23:22:21.020192Z",
     "start_time": "2022-08-08T23:22:21.012212Z"
    }
   },
   "outputs": [],
   "source": [
    "#6-Write a Python function to sum all the numbers in a list.\n"
   ]
  },
  {
   "cell_type": "code",
   "execution_count": 12,
   "id": "fb7ba99f",
   "metadata": {
    "ExecuteTime": {
     "end_time": "2022-08-08T23:22:33.405027Z",
     "start_time": "2022-08-08T23:22:33.393058Z"
    }
   },
   "outputs": [
    {
     "name": "stdout",
     "output_type": "stream",
     "text": [
      "13\n"
     ]
    }
   ],
   "source": [
    "def sum(numbers):\n",
    "    total = 0\n",
    "    for x in numbers:\n",
    "        total += x\n",
    "    return total\n",
    "print(sum((3,4,6)))\n"
   ]
  },
  {
   "cell_type": "code",
   "execution_count": 13,
   "id": "b4875990",
   "metadata": {
    "ExecuteTime": {
     "end_time": "2022-08-08T23:22:45.347305Z",
     "start_time": "2022-08-08T23:22:45.329962Z"
    }
   },
   "outputs": [],
   "source": [
    "#7-Write a Python program that prints all the numbers from 0 to 6 except 3 and 6. Note : Use 'continue' statement.\n"
   ]
  },
  {
   "cell_type": "code",
   "execution_count": 25,
   "id": "7ebf6d6e",
   "metadata": {
    "ExecuteTime": {
     "end_time": "2022-08-08T23:30:31.552271Z",
     "start_time": "2022-08-08T23:30:31.532325Z"
    }
   },
   "outputs": [
    {
     "name": "stdout",
     "output_type": "stream",
     "text": [
      "0\n",
      "1\n",
      "2\n",
      "4\n",
      "5\n"
     ]
    }
   ],
   "source": [
    "for x in range(6):\n",
    "    if x == 3 or x==6:\n",
    "        continue\n",
    "    print(x)"
   ]
  },
  {
   "cell_type": "code",
   "execution_count": 15,
   "id": "92fb4b5c",
   "metadata": {
    "ExecuteTime": {
     "end_time": "2022-08-08T23:23:17.074167Z",
     "start_time": "2022-08-08T23:23:17.055218Z"
    }
   },
   "outputs": [],
   "source": [
    "#8-Write a Python function to calculate the factorial of a number (a non-negative integer). The function accepts the number as an argument.\n"
   ]
  },
  {
   "cell_type": "code",
   "execution_count": 16,
   "id": "bda3748d",
   "metadata": {
    "ExecuteTime": {
     "end_time": "2022-08-08T23:23:37.328342Z",
     "start_time": "2022-08-08T23:23:30.674180Z"
    }
   },
   "outputs": [
    {
     "name": "stdout",
     "output_type": "stream",
     "text": [
      "5\n",
      "120\n"
     ]
    }
   ],
   "source": [
    "def fact(num):\n",
    "    result = 1 \n",
    "    for i in range(num, 1, -1):\n",
    "        result = result * i\n",
    "    \n",
    "    print (result)\n",
    "\n",
    "num = int(input())\n",
    "fact(num)"
   ]
  },
  {
   "cell_type": "code",
   "execution_count": 17,
   "id": "0f8d83db",
   "metadata": {
    "ExecuteTime": {
     "end_time": "2022-08-08T23:23:54.763293Z",
     "start_time": "2022-08-08T23:23:54.758306Z"
    }
   },
   "outputs": [],
   "source": [
    "#9-Write a Python function that takes a list and returns a new list with unique elements of the first list.\n"
   ]
  },
  {
   "cell_type": "code",
   "execution_count": 24,
   "id": "68c06ef6",
   "metadata": {
    "ExecuteTime": {
     "end_time": "2022-08-08T23:29:56.555801Z",
     "start_time": "2022-08-08T23:29:56.541814Z"
    }
   },
   "outputs": [
    {
     "name": "stdout",
     "output_type": "stream",
     "text": [
      "[1, 2, 5, 3, 9, 66, 100]\n"
     ]
    }
   ],
   "source": [
    "def unique_list(l):\n",
    "  x = []\n",
    "  for a in l:\n",
    "    if a not in x:\n",
    "      x.append(a)\n",
    "  return x\n",
    "\n",
    "print(unique_list([1,2,1,5,3,9,66,100,5]))"
   ]
  },
  {
   "cell_type": "code",
   "execution_count": 20,
   "id": "ba97c53d",
   "metadata": {
    "ExecuteTime": {
     "end_time": "2022-08-08T23:24:42.942133Z",
     "start_time": "2022-08-08T23:24:42.935153Z"
    }
   },
   "outputs": [],
   "source": [
    "#10-Write a Python program to create a lambda function that adds 15 to a given number passed in as an argument, also create a lambda function that multiplies argument x with argument y and print the result.\n"
   ]
  },
  {
   "cell_type": "code",
   "execution_count": 22,
   "id": "f13f5520",
   "metadata": {
    "ExecuteTime": {
     "end_time": "2022-08-08T23:28:44.095857Z",
     "start_time": "2022-08-08T23:28:44.080898Z"
    }
   },
   "outputs": [
    {
     "name": "stdout",
     "output_type": "stream",
     "text": [
      "31\n",
      "77\n"
     ]
    }
   ],
   "source": [
    "SUM = lambda X : X + 15\n",
    "print(SUM(16))\n",
    "MULTI = lambda A, B : A * B\n",
    "print(MULTI(11, 7))"
   ]
  },
  {
   "cell_type": "code",
   "execution_count": null,
   "id": "12fe977a",
   "metadata": {},
   "outputs": [],
   "source": []
  }
 ],
 "metadata": {
  "kernelspec": {
   "display_name": "Python 3 (ipykernel)",
   "language": "python",
   "name": "python3"
  },
  "language_info": {
   "codemirror_mode": {
    "name": "ipython",
    "version": 3
   },
   "file_extension": ".py",
   "mimetype": "text/x-python",
   "name": "python",
   "nbconvert_exporter": "python",
   "pygments_lexer": "ipython3",
   "version": "3.9.12"
  },
  "toc": {
   "base_numbering": 1,
   "nav_menu": {},
   "number_sections": true,
   "sideBar": true,
   "skip_h1_title": false,
   "title_cell": "Table of Contents",
   "title_sidebar": "Contents",
   "toc_cell": false,
   "toc_position": {},
   "toc_section_display": true,
   "toc_window_display": false
  },
  "varInspector": {
   "cols": {
    "lenName": 16,
    "lenType": 16,
    "lenVar": 40
   },
   "kernels_config": {
    "python": {
     "delete_cmd_postfix": "",
     "delete_cmd_prefix": "del ",
     "library": "var_list.py",
     "varRefreshCmd": "print(var_dic_list())"
    },
    "r": {
     "delete_cmd_postfix": ") ",
     "delete_cmd_prefix": "rm(",
     "library": "var_list.r",
     "varRefreshCmd": "cat(var_dic_list()) "
    }
   },
   "types_to_exclude": [
    "module",
    "function",
    "builtin_function_or_method",
    "instance",
    "_Feature"
   ],
   "window_display": false
  }
 },
 "nbformat": 4,
 "nbformat_minor": 5
}
