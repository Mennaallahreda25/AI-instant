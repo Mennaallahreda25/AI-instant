{
 "cells": [
  {
   "cell_type": "code",
   "execution_count": 2,
   "id": "8d23cb15",
   "metadata": {
    "ExecuteTime": {
     "end_time": "2022-09-01T00:03:32.681843Z",
     "start_time": "2022-09-01T00:03:32.642948Z"
    }
   },
   "outputs": [
    {
     "data": {
      "text/plain": [
       "'conveys an image of a system, it is not an architecture. An architectural pattern is a concept that solves and delineates some \\nessential cohesive elements of a software architecture. Countless different architectures may implement the same pattern and\\nshare the related characteristics. Patterns are often defined as \"strictly described and commonly available'"
      ]
     },
     "execution_count": 2,
     "metadata": {},
     "output_type": "execute_result"
    }
   ],
   "source": [
    "#Architecture pattern\n",
    "'''conveys an image of a system, it is not an architecture. An architectural pattern is a concept that solves and delineates some \n",
    "essential cohesive elements of a software architecture. Countless different architectures may implement the same pattern and\n",
    "share the related characteristics. Patterns are often defined as \"strictly described and commonly available'''"
   ]
  },
  {
   "cell_type": "code",
   "execution_count": 3,
   "id": "9f6a4690",
   "metadata": {
    "ExecuteTime": {
     "end_time": "2022-09-01T00:11:56.441830Z",
     "start_time": "2022-09-01T00:11:56.421858Z"
    }
   },
   "outputs": [
    {
     "data": {
      "text/plain": [
       "'\\n1-Layered Pattern: As the name suggests, components(code) in this pattern are separated into layers of subtasks and they are \\narranged one above another.  \\nEach layer has unique tasks to do and all the layers are independent of one another. Since each layer is independent, one can\\nmodify the code inside a layer without affecting others.  \\n\\n2-Client-Server Pattern :The client-server pattern has two major entities. They are a server and multiple clients.  \\nHere the server has resources(data, files or services) and a client requests the server for a particular resource. \\nThen the server processes the request and responds back accordingly. \\n\\n3-Event-Driven Pattern : Event-Driven Architecture is an agile approach in which services (operations) of the software are triggered by events.  \\nWhen a user takes action in the application built using the EDA approach, a state change happens and a reaction is generated that is called an event.\\n\\n4-Microkernel Pattern : Microkernel pattern has two major components. They are a core system and plug-in modules. \\n*The core system handles the fundamental and minimal operations of the application.\\n*The plug-in modules handle the extended functionalities (like extra features) and customized processing.\\n\\n5-Microservices Pattern : The collection of small services that are combined to form the actual application is the concept of \\nmicroservices pattern. Instead of building a bigger application, small programs are built for every service (function)\\nof an application independently. And those small programs are bundled together to be a full-fledged application.  \\n'"
      ]
     },
     "execution_count": 3,
     "metadata": {},
     "output_type": "execute_result"
    }
   ],
   "source": [
    "#Different Software Architecture Patterns :\n",
    "'''\n",
    "1-Layered Pattern: As the name suggests, components(code) in this pattern are separated into layers of subtasks and they are \n",
    "arranged one above another.  \n",
    "Each layer has unique tasks to do and all the layers are independent of one another. Since each layer is independent, one can\n",
    "modify the code inside a layer without affecting others.  \n",
    "\n",
    "2-Client-Server Pattern :The client-server pattern has two major entities. They are a server and multiple clients.  \n",
    "Here the server has resources(data, files or services) and a client requests the server for a particular resource. \n",
    "Then the server processes the request and responds back accordingly. \n",
    "\n",
    "3-Event-Driven Pattern : Event-Driven Architecture is an agile approach in which services (operations) of the software are triggered by events.  \n",
    "When a user takes action in the application built using the EDA approach, a state change happens and a reaction is generated that is called an event.\n",
    "\n",
    "4-Microkernel Pattern : Microkernel pattern has two major components. They are a core system and plug-in modules. \n",
    "*The core system handles the fundamental and minimal operations of the application.\n",
    "*The plug-in modules handle the extended functionalities (like extra features) and customized processing.\n",
    "\n",
    "5-Microservices Pattern : The collection of small services that are combined to form the actual application is the concept of \n",
    "microservices pattern. Instead of building a bigger application, small programs are built for every service (function)\n",
    "of an application independently. And those small programs are bundled together to be a full-fledged application.  \n",
    "'''"
   ]
  },
  {
   "cell_type": "code",
   "execution_count": 4,
   "id": "22f0a612",
   "metadata": {
    "ExecuteTime": {
     "end_time": "2022-09-01T00:16:44.199030Z",
     "start_time": "2022-09-01T00:16:44.182910Z"
    }
   },
   "outputs": [
    {
     "data": {
      "text/plain": [
       "'\\nA cron job is a Linux command used for scheduling tasks to be executed sometime in the future. This is normally used to \\nschedule a job that is executed periodically – for example, to send out a notice every morning. Some scripts, such as Drupal \\nand WHMCS may require you to set up cron jobs to perform certain functions.\\n\\nFor most cron jobs, there are three components present:\\n1-The script that is to be called or executed.\\n2-The command that executes the script on a reoccurring basis. This is typically set in cPanel.\\n3-The action or output of the script, which depends on what the script being called does. Frequently, scripts called as cron \\njobs modify files or databases. However, they can perform other tasks that do not modify data on the server as well, such as \\nsending out email notifications.\\n\\nMost scripts that require the use of a cron job will give you specific instructions on what needs to be setup, frequently giving\\nexamples.'"
      ]
     },
     "execution_count": 4,
     "metadata": {},
     "output_type": "execute_result"
    }
   ],
   "source": [
    "#What is Cron Job?\n",
    "'''\n",
    "A cron job is a Linux command used for scheduling tasks to be executed sometime in the future. This is normally used to \n",
    "schedule a job that is executed periodically – for example, to send out a notice every morning. Some scripts, such as Drupal \n",
    "and WHMCS may require you to set up cron jobs to perform certain functions.\n",
    "\n",
    "For most cron jobs, there are three components present:\n",
    "1-The script that is to be called or executed.\n",
    "2-The command that executes the script on a reoccurring basis. This is typically set in cPanel.\n",
    "3-The action or output of the script, which depends on what the script being called does. Frequently, scripts called as cron \n",
    "jobs modify files or databases. However, they can perform other tasks that do not modify data on the server as well, such as \n",
    "sending out email notifications.\n",
    "\n",
    "Most scripts that require the use of a cron job will give you specific instructions on what needs to be setup, frequently giving\n",
    "examples.'''"
   ]
  },
  {
   "cell_type": "code",
   "execution_count": null,
   "id": "965d80f2",
   "metadata": {},
   "outputs": [],
   "source": []
  }
 ],
 "metadata": {
  "kernelspec": {
   "display_name": "Python 3 (ipykernel)",
   "language": "python",
   "name": "python3"
  },
  "language_info": {
   "codemirror_mode": {
    "name": "ipython",
    "version": 3
   },
   "file_extension": ".py",
   "mimetype": "text/x-python",
   "name": "python",
   "nbconvert_exporter": "python",
   "pygments_lexer": "ipython3",
   "version": "3.9.12"
  },
  "toc": {
   "base_numbering": 1,
   "nav_menu": {},
   "number_sections": true,
   "sideBar": true,
   "skip_h1_title": false,
   "title_cell": "Table of Contents",
   "title_sidebar": "Contents",
   "toc_cell": false,
   "toc_position": {},
   "toc_section_display": true,
   "toc_window_display": false
  },
  "varInspector": {
   "cols": {
    "lenName": 16,
    "lenType": 16,
    "lenVar": 40
   },
   "kernels_config": {
    "python": {
     "delete_cmd_postfix": "",
     "delete_cmd_prefix": "del ",
     "library": "var_list.py",
     "varRefreshCmd": "print(var_dic_list())"
    },
    "r": {
     "delete_cmd_postfix": ") ",
     "delete_cmd_prefix": "rm(",
     "library": "var_list.r",
     "varRefreshCmd": "cat(var_dic_list()) "
    }
   },
   "types_to_exclude": [
    "module",
    "function",
    "builtin_function_or_method",
    "instance",
    "_Feature"
   ],
   "window_display": false
  }
 },
 "nbformat": 4,
 "nbformat_minor": 5
}
