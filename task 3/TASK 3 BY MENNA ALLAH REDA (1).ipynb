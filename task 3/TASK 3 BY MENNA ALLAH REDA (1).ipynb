{
 "cells": [
  {
   "cell_type": "code",
   "execution_count": 1,
   "id": "d5c4fa88",
   "metadata": {
    "ExecuteTime": {
     "end_time": "2022-08-09T20:43:49.545604Z",
     "start_time": "2022-08-09T20:43:49.536587Z"
    }
   },
   "outputs": [],
   "source": [
    "#1-WRITE A FUNCTION IN RECURSION/ ITERATIVE WAY"
   ]
  },
  {
   "cell_type": "code",
   "execution_count": 3,
   "id": "6c7d4d9b",
   "metadata": {
    "ExecuteTime": {
     "end_time": "2022-08-09T20:44:51.480105Z",
     "start_time": "2022-08-09T20:44:51.461093Z"
    }
   },
   "outputs": [
    {
     "name": "stdout",
     "output_type": "stream",
     "text": [
      "0\n",
      "1\n",
      "2\n",
      "3\n",
      "4\n",
      "5\n",
      "6\n",
      "7\n",
      "8\n",
      "9\n",
      "10\n",
      "11\n",
      "12\n",
      "13\n",
      "14\n",
      "15\n",
      "16\n",
      "17\n",
      "18\n",
      "19\n",
      "20\n"
     ]
    }
   ],
   "source": [
    "#ITERATIVE WAY\n",
    "for i in range(0,21):\n",
    "    print(i)"
   ]
  },
  {
   "cell_type": "code",
   "execution_count": 6,
   "id": "0f3894b4",
   "metadata": {
    "ExecuteTime": {
     "end_time": "2022-08-09T20:48:04.179173Z",
     "start_time": "2022-08-09T20:48:04.172416Z"
    }
   },
   "outputs": [],
   "source": [
    "#RECURSIVE WAY\n",
    "def printnumbers(x):\n",
    "    if x == 21:\n",
    "        return\n",
    "    print(x)\n",
    "    printnumbers(x+1)"
   ]
  },
  {
   "cell_type": "code",
   "execution_count": 7,
   "id": "862f51cf",
   "metadata": {
    "ExecuteTime": {
     "end_time": "2022-08-09T20:48:22.585340Z",
     "start_time": "2022-08-09T20:48:22.572397Z"
    }
   },
   "outputs": [
    {
     "name": "stdout",
     "output_type": "stream",
     "text": [
      "0\n",
      "1\n",
      "2\n",
      "3\n",
      "4\n",
      "5\n",
      "6\n",
      "7\n",
      "8\n",
      "9\n",
      "10\n",
      "11\n",
      "12\n",
      "13\n",
      "14\n",
      "15\n",
      "16\n",
      "17\n",
      "18\n",
      "19\n",
      "20\n"
     ]
    }
   ],
   "source": [
    "printnumbers(0)"
   ]
  },
  {
   "cell_type": "code",
   "execution_count": 14,
   "id": "43ebad02",
   "metadata": {
    "ExecuteTime": {
     "end_time": "2022-08-09T22:38:16.643662Z",
     "start_time": "2022-08-09T22:38:16.630158Z"
    }
   },
   "outputs": [],
   "source": [
    "#///////////////////////////////////////////////////////////////////////////////////////////////////////////////////////////////"
   ]
  },
  {
   "cell_type": "code",
   "execution_count": 8,
   "id": "3e60936b",
   "metadata": {
    "ExecuteTime": {
     "end_time": "2022-08-09T20:49:21.957211Z",
     "start_time": "2022-08-09T20:49:21.948063Z"
    }
   },
   "outputs": [],
   "source": [
    "#2-CODE BINARY-SEARCH IN PYTHON\n",
    "#THERE ARE 2 BINARY-SEARCH ALGORITHMS"
   ]
  },
  {
   "cell_type": "code",
   "execution_count": 13,
   "id": "655bb7eb",
   "metadata": {
    "ExecuteTime": {
     "end_time": "2022-08-09T22:38:08.931129Z",
     "start_time": "2022-08-09T22:38:08.920172Z"
    }
   },
   "outputs": [
    {
     "ename": "SyntaxError",
     "evalue": "invalid syntax (1278185713.py, line 2)",
     "output_type": "error",
     "traceback": [
      "\u001b[1;36m  Input \u001b[1;32mIn [13]\u001b[1;36m\u001b[0m\n\u001b[1;33m    do until the pointers low and high meet each other.\u001b[0m\n\u001b[1;37m       ^\u001b[0m\n\u001b[1;31mSyntaxError\u001b[0m\u001b[1;31m:\u001b[0m invalid syntax\n"
     ]
    }
   ],
   "source": [
    "#1-ITERATIVE METHOD"
   ]
  },
  {
   "cell_type": "code",
   "execution_count": 4,
   "id": "d07d7ae2",
   "metadata": {
    "ExecuteTime": {
     "end_time": "2022-08-14T01:47:59.651076Z",
     "start_time": "2022-08-14T01:47:59.628164Z"
    }
   },
   "outputs": [
    {
     "name": "stdout",
     "output_type": "stream",
     "text": [
      "Element is present at index 1\n"
     ]
    }
   ],
   "source": [
    "# Binary Search in python\n",
    "\n",
    "\n",
    "def binarySearch(array, x, low, high):\n",
    "\n",
    "    # Repeat until the pointers low and high meet each other\n",
    "    while low <= high:\n",
    "\n",
    "        mid = low + (high - low)//2\n",
    "\n",
    "        if array[mid] == x:\n",
    "            return mid\n",
    "        elif array[mid] < x:\n",
    "            low = mid + 1\n",
    "        else:\n",
    "            high = mid - 1\n",
    "\n",
    "    return -1\n",
    "\n",
    "\n",
    "array = [3, 4, 5, 6, 7, 8, 9]\n",
    "x = 4\n",
    "\n",
    "result = binarySearch(array, x, 0, len(array)-1)\n",
    "\n",
    "if result != -1:\n",
    "    print(\"Element is present at index \" + str(result))\n",
    "else:\n",
    "    print(\"Not found\")"
   ]
  },
  {
   "cell_type": "code",
   "execution_count": 1,
   "id": "514e2054",
   "metadata": {
    "ExecuteTime": {
     "end_time": "2022-08-14T01:45:34.693941Z",
     "start_time": "2022-08-14T01:45:34.685961Z"
    }
   },
   "outputs": [],
   "source": [
    "#2-RECURSIVE METHOD"
   ]
  },
  {
   "cell_type": "code",
   "execution_count": 3,
   "id": "29e5bca3",
   "metadata": {
    "ExecuteTime": {
     "end_time": "2022-08-14T01:47:08.393679Z",
     "start_time": "2022-08-14T01:47:08.378721Z"
    }
   },
   "outputs": [
    {
     "name": "stdout",
     "output_type": "stream",
     "text": [
      "Element is present at index 1\n"
     ]
    }
   ],
   "source": [
    "# Binary Search in python\n",
    "\n",
    "\n",
    "def binarySearch(array, x, low, high):\n",
    "\n",
    "    if high >= low:\n",
    "\n",
    "        mid = low + (high - low)//2\n",
    "\n",
    "        if array[mid] == x:\n",
    "            return mid\n",
    "        elif array[mid] > x:\n",
    "            return binarySearch(array, x, low, mid-1)\n",
    "        else:\n",
    "            return binarySearch(array, x, mid + 1, high)\n",
    "\n",
    "    else:\n",
    "        return -1\n",
    "\n",
    "\n",
    "array = [3, 4, 5, 6, 7, 8, 9]\n",
    "x = 4\n",
    "result = binarySearch(array, x, 0, len(array)-1)\n",
    "\n",
    "if result != -1:\n",
    "    print(\"Element is present at index \" + str(result))\n",
    "else:\n",
    "    print(\"Not found\")"
   ]
  },
  {
   "cell_type": "code",
   "execution_count": null,
   "id": "5d961b19",
   "metadata": {},
   "outputs": [],
   "source": []
  }
 ],
 "metadata": {
  "kernelspec": {
   "display_name": "Python 3 (ipykernel)",
   "language": "python",
   "name": "python3"
  },
  "language_info": {
   "codemirror_mode": {
    "name": "ipython",
    "version": 3
   },
   "file_extension": ".py",
   "mimetype": "text/x-python",
   "name": "python",
   "nbconvert_exporter": "python",
   "pygments_lexer": "ipython3",
   "version": "3.9.12"
  },
  "toc": {
   "base_numbering": 1,
   "nav_menu": {},
   "number_sections": true,
   "sideBar": true,
   "skip_h1_title": false,
   "title_cell": "Table of Contents",
   "title_sidebar": "Contents",
   "toc_cell": false,
   "toc_position": {},
   "toc_section_display": true,
   "toc_window_display": false
  },
  "varInspector": {
   "cols": {
    "lenName": 16,
    "lenType": 16,
    "lenVar": 40
   },
   "kernels_config": {
    "python": {
     "delete_cmd_postfix": "",
     "delete_cmd_prefix": "del ",
     "library": "var_list.py",
     "varRefreshCmd": "print(var_dic_list())"
    },
    "r": {
     "delete_cmd_postfix": ") ",
     "delete_cmd_prefix": "rm(",
     "library": "var_list.r",
     "varRefreshCmd": "cat(var_dic_list()) "
    }
   },
   "types_to_exclude": [
    "module",
    "function",
    "builtin_function_or_method",
    "instance",
    "_Feature"
   ],
   "window_display": false
  }
 },
 "nbformat": 4,
 "nbformat_minor": 5
}
