{
 "cells": [
  {
   "cell_type": "code",
   "execution_count": 11,
   "id": "006c09f2",
   "metadata": {
    "ExecuteTime": {
     "end_time": "2022-10-22T02:00:33.662567Z",
     "start_time": "2022-10-22T02:00:33.643621Z"
    }
   },
   "outputs": [],
   "source": [
    "#how to append in csv file not override"
   ]
  },
  {
   "cell_type": "code",
   "execution_count": 26,
   "id": "08c66325",
   "metadata": {
    "ExecuteTime": {
     "end_time": "2022-10-22T02:20:42.555792Z",
     "start_time": "2022-10-22T02:20:42.044239Z"
    }
   },
   "outputs": [
    {
     "data": {
      "text/html": [
       "<div>\n",
       "<style scoped>\n",
       "    .dataframe tbody tr th:only-of-type {\n",
       "        vertical-align: middle;\n",
       "    }\n",
       "\n",
       "    .dataframe tbody tr th {\n",
       "        vertical-align: top;\n",
       "    }\n",
       "\n",
       "    .dataframe thead th {\n",
       "        text-align: right;\n",
       "    }\n",
       "</style>\n",
       "<table border=\"1\" class=\"dataframe\">\n",
       "  <thead>\n",
       "    <tr style=\"text-align: right;\">\n",
       "      <th></th>\n",
       "      <th></th>\n",
       "      <th></th>\n",
       "      <th></th>\n",
       "      <th></th>\n",
       "      <th></th>\n",
       "      <th></th>\n",
       "      <th></th>\n",
       "      <th></th>\n",
       "      <th></th>\n",
       "      <th>movie_rank</th>\n",
       "      <th>movie_name</th>\n",
       "      <th>year</th>\n",
       "      <th>rating</th>\n",
       "    </tr>\n",
       "  </thead>\n",
       "  <tbody>\n",
       "    <tr>\n",
       "      <th>('2', 'T', '1', '8')</th>\n",
       "      <th>('5', 'h', '9', '.')</th>\n",
       "      <th>('0', 'e', '9', '0')</th>\n",
       "      <th>(None, ' ', '9', None)</th>\n",
       "      <th>(None, 'I', None, None)</th>\n",
       "      <th>(None, 'r', None, None)</th>\n",
       "      <th>(None, 'o', None, None)</th>\n",
       "      <th>(None, 'n', None, None)</th>\n",
       "      <th>(None, ' ', None, None)</th>\n",
       "      <th>(None, 'G', None, None)</th>\n",
       "      <td>(None, 'i', None, None)</td>\n",
       "      <td>(None, 'a', None, None)</td>\n",
       "      <td>(None, 'n', None, None)</td>\n",
       "      <td>(None, 't', None, None)</td>\n",
       "    </tr>\n",
       "  </tbody>\n",
       "</table>\n",
       "</div>"
      ],
      "text/plain": [
       "                                                                                                                                                                                                                                                    movie_rank  \\\n",
       "('2', 'T', '1', '8') ('5', 'h', '9', '.') ('0', 'e', '9', '0') (None, ' ', '9', None) (None, 'I', None, None) (None, 'r', None, None) (None, 'o', None, None) (None, 'n', None, None) (None, ' ', None, None) (None, 'G', None, None)  (None, 'i', None, None)   \n",
       "\n",
       "                                                                                                                                                                                                                                                    movie_name  \\\n",
       "('2', 'T', '1', '8') ('5', 'h', '9', '.') ('0', 'e', '9', '0') (None, ' ', '9', None) (None, 'I', None, None) (None, 'r', None, None) (None, 'o', None, None) (None, 'n', None, None) (None, ' ', None, None) (None, 'G', None, None)  (None, 'a', None, None)   \n",
       "\n",
       "                                                                                                                                                                                                                                                          year  \\\n",
       "('2', 'T', '1', '8') ('5', 'h', '9', '.') ('0', 'e', '9', '0') (None, ' ', '9', None) (None, 'I', None, None) (None, 'r', None, None) (None, 'o', None, None) (None, 'n', None, None) (None, ' ', None, None) (None, 'G', None, None)  (None, 'n', None, None)   \n",
       "\n",
       "                                                                                                                                                                                                                                                        rating  \n",
       "('2', 'T', '1', '8') ('5', 'h', '9', '.') ('0', 'e', '9', '0') (None, ' ', '9', None) (None, 'I', None, None) (None, 'r', None, None) (None, 'o', None, None) (None, 'n', None, None) (None, ' ', None, None) (None, 'G', None, None)  (None, 't', None, None)  "
      ]
     },
     "execution_count": 26,
     "metadata": {},
     "output_type": "execute_result"
    }
   ],
   "source": [
    "import pandas as pd\n",
    "df = pd.read_csv(\"best250movie.csv\")\n",
    "df"
   ]
  },
  {
   "cell_type": "code",
   "execution_count": 28,
   "id": "2e1dc0d7",
   "metadata": {
    "ExecuteTime": {
     "end_time": "2022-10-22T02:21:38.742254Z",
     "start_time": "2022-10-22T02:21:38.732282Z"
    }
   },
   "outputs": [],
   "source": [
    "# Import writer class from csv module\n",
    "from csv import writer\n",
    "\n",
    "# List that we want to add as a new row\n",
    "List = [6, 'William', 5532, 1, 'UAE']\n",
    "\n",
    "# Open our existing CSV file in append mode\n",
    "# Create a file object for this file\n",
    "with open('best250movie.csv', 'a') as f_object:\n",
    "\n",
    "\t# Pass this file object to csv.writer()\n",
    "\t# and get a writer object\n",
    "\twriter_object = writer(f_object)\n",
    "\n",
    "\t# Pass the list as an argument into\n",
    "\t# the writerow()\n",
    "\twriter_object.writerow(List)\n",
    "\n",
    "\t# Close the file object\n",
    "\tf_object.close()\n"
   ]
  },
  {
   "cell_type": "code",
   "execution_count": 29,
   "id": "303d2a17",
   "metadata": {
    "ExecuteTime": {
     "end_time": "2022-10-22T02:22:42.179281Z",
     "start_time": "2022-10-22T02:22:42.159335Z"
    }
   },
   "outputs": [],
   "source": [
    "# Import DictWriter class from CSV module\n",
    "from csv import DictWriter\n",
    "\n",
    "# list of column names\n",
    "field_names = ['ID', 'NAME', 'RANK',\n",
    "\t\t\t'ARTICLE', 'COUNTRY']\n",
    "\n",
    "# Dictionary that we want to add as a new row\n",
    "dict = {'ID': 6, 'NAME': 'William', 'RANK': 5532,\n",
    "\t\t'ARTICLE': 1, 'COUNTRY': 'UAE'}\n",
    "\n",
    "# Open CSV file in append mode\n",
    "# Create a file object for this file\n",
    "with open('mychannels.csv', 'a') as f_object:\n",
    "\n",
    "\t# Pass the file object and a list\n",
    "\t# of column names to DictWriter()\n",
    "\t# You will get a object of DictWriter\n",
    "\tdictwriter_object = DictWriter(f_object, fieldnames=field_names)\n",
    "\n",
    "\t# Pass the dictionary as an argument to the Writerow()\n",
    "\tdictwriter_object.writerow(dict)\n",
    "\n",
    "\t# Close the file object\n",
    "\tf_object.close()\n"
   ]
  },
  {
   "cell_type": "code",
   "execution_count": null,
   "id": "8f01a695",
   "metadata": {},
   "outputs": [],
   "source": []
  }
 ],
 "metadata": {
  "kernelspec": {
   "display_name": "Python 3 (ipykernel)",
   "language": "python",
   "name": "python3"
  },
  "language_info": {
   "codemirror_mode": {
    "name": "ipython",
    "version": 3
   },
   "file_extension": ".py",
   "mimetype": "text/x-python",
   "name": "python",
   "nbconvert_exporter": "python",
   "pygments_lexer": "ipython3",
   "version": "3.9.12"
  },
  "toc": {
   "base_numbering": 1,
   "nav_menu": {},
   "number_sections": true,
   "sideBar": true,
   "skip_h1_title": false,
   "title_cell": "Table of Contents",
   "title_sidebar": "Contents",
   "toc_cell": false,
   "toc_position": {},
   "toc_section_display": true,
   "toc_window_display": false
  },
  "varInspector": {
   "cols": {
    "lenName": 16,
    "lenType": 16,
    "lenVar": 40
   },
   "kernels_config": {
    "python": {
     "delete_cmd_postfix": "",
     "delete_cmd_prefix": "del ",
     "library": "var_list.py",
     "varRefreshCmd": "print(var_dic_list())"
    },
    "r": {
     "delete_cmd_postfix": ") ",
     "delete_cmd_prefix": "rm(",
     "library": "var_list.r",
     "varRefreshCmd": "cat(var_dic_list()) "
    }
   },
   "types_to_exclude": [
    "module",
    "function",
    "builtin_function_or_method",
    "instance",
    "_Feature"
   ],
   "window_display": false
  }
 },
 "nbformat": 4,
 "nbformat_minor": 5
}
