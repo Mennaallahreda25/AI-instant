{
 "cells": [
  {
   "cell_type": "markdown",
   "id": "6a576a3d",
   "metadata": {},
   "source": [
    "### Question 1: \n",
    "\n",
    "What is AI? "
   ]
  },
  {
   "cell_type": "markdown",
   "id": "163aad5c",
   "metadata": {},
   "source": []
  },
  {
   "cell_type": "code",
   "execution_count": 1,
   "id": "474a1b3d",
   "metadata": {
    "ExecuteTime": {
     "end_time": "2022-11-16T20:38:29.257142Z",
     "start_time": "2022-11-16T20:38:29.244178Z"
    }
   },
   "outputs": [],
   "source": [
    "هو العلم عن تعليم الالة لتخاذ القرارات بدون عاطفة و بوقت سريع لتسهل على الانسان ,و هو مجال غير مستقل بذاته و يمكن تطبيقه بأى مجال"
   ]
  },
  {
   "cell_type": "markdown",
   "id": "d2d0fdf8",
   "metadata": {},
   "source": [
    "### Question 2: \n",
    "Why AI is used ? "
   ]
  },
  {
   "cell_type": "markdown",
   "id": "cc6832f9",
   "metadata": {},
   "source": []
  },
  {
   "cell_type": "code",
   "execution_count": null,
   "id": "09367835",
   "metadata": {
    "ExecuteTime": {
     "end_time": "2022-11-16T20:38:29.259139Z",
     "start_time": "2022-11-16T20:38:29.259139Z"
    }
   },
   "outputs": [],
   "source": [
    "نستخدمه ليقوم باتخاذ قرارات منطقية بشكل سريع بدون مشاعر و بأقل تكلفة و عام بمراعاة ال\n",
    "(generilization and optimization)\n",
    "و للتسهيل و ايجاد حلول عجز البشر عن معرفة حلول لها و ايجاد حلول رياضية صعبة"
   ]
  },
  {
   "cell_type": "markdown",
   "id": "218581f4",
   "metadata": {},
   "source": [
    "### Question 3:\n",
    "When to use AI ? "
   ]
  },
  {
   "cell_type": "markdown",
   "id": "1e7a0135",
   "metadata": {},
   "source": []
  },
  {
   "cell_type": "code",
   "execution_count": null,
   "id": "9ee20bfc",
   "metadata": {
    "ExecuteTime": {
     "end_time": "2022-11-16T20:38:29.262129Z",
     "start_time": "2022-11-16T20:38:29.262129Z"
    }
   },
   "outputs": [],
   "source": [
    "فيوجد بعض الامور التى تصعب على الانسان حلها و نحتاج لطرق لتسهل علينا نستخدمه و نلجأ لعلم الالة و بعض ايضا الامور التى تفشل علم الالة فى حلها نلجأ وقتها للتعلم العميق و بهم نجد حلول \n",
    "سهلة و سريعة\n",
    "و ايضا عندما نريد اتخاذ قرارات بدون الانحياز لأى عاطفة"
   ]
  },
  {
   "cell_type": "markdown",
   "id": "3a9ccfac",
   "metadata": {},
   "source": [
    "### Question 4:\n",
    "\n",
    "Define the AI pipeline"
   ]
  },
  {
   "cell_type": "code",
   "execution_count": null,
   "id": "fa39d490",
   "metadata": {
    "ExecuteTime": {
     "end_time": "2022-11-16T20:38:29.265123Z",
     "start_time": "2022-11-16T20:38:29.265123Z"
    }
   },
   "outputs": [],
   "source": [
    "هو خطوات حل المشكلة بال AI\n",
    "و الخطوات هى :\n",
    "Verify\n",
    "Data Gathering ( Data collection , Data Accquring )\n",
    "Data Preprocessing ( Organization )\n",
    "Feature Engineering\n",
    "Model Selection ( choose best algorithm )\n",
    "Fit data into the model\n",
    "Train\n",
    "Test\n",
    "Documentation\n",
    "Integrate\n",
    "Release\n",
    "Monitor\n",
    "Maintain"
   ]
  },
  {
   "cell_type": "markdown",
   "id": "accceeb3",
   "metadata": {},
   "source": [
    "### Question 5:\n",
    "\n",
    "Define the general sequence of Software Engineering..."
   ]
  },
  {
   "cell_type": "markdown",
   "id": "28bb2b7e",
   "metadata": {},
   "source": []
  },
  {
   "cell_type": "code",
   "execution_count": null,
   "id": "481fed74",
   "metadata": {
    "ExecuteTime": {
     "end_time": "2022-11-16T20:38:29.268114Z",
     "start_time": "2022-11-16T20:38:29.267117Z"
    }
   },
   "outputs": [],
   "source": [
    "planning\n",
    "analysis\n",
    "design by uml diagrams ( like ERD and class and activity diagrams)\n",
    "implementation \n",
    "testing and integration\n",
    "maintenance"
   ]
  },
  {
   "cell_type": "markdown",
   "id": "a293f056",
   "metadata": {},
   "source": [
    "### Question 6: \n",
    "\n",
    "Why DivOps is one of the most used cycles in software engineering?"
   ]
  },
  {
   "cell_type": "markdown",
   "id": "d6453ecf",
   "metadata": {},
   "source": []
  },
  {
   "cell_type": "code",
   "execution_count": 2,
   "id": "b8b448e6",
   "metadata": {
    "ExecuteTime": {
     "end_time": "2022-11-16T20:38:29.336930Z",
     "start_time": "2022-11-16T20:38:29.273101Z"
    }
   },
   "outputs": [],
   "source": [
    "فهو منهجية عمل تنظم عملية ال life cycle\n",
    "و ال devops مشهور لانه حسن بشكل كبير عملية تسليم المشاريع للعميل يكون بشكل افضل و بدون اخطاء \n",
    "و به ايضا مجموعة من الادوات يستخدمها عشان يتأكد من ان كل اللى يخلصه يربطه بالسيستم بشكل اسرع و يعمل testing بشكل اسرع \n",
    "و لانه بيقوم بعمله و يربطه بالسيستم على طول و يعمله مراجعة على طول لكل جزء ينهيه اصبح تسليم المشاريع اسرع"
   ]
  },
  {
   "cell_type": "markdown",
   "id": "ac346297",
   "metadata": {},
   "source": [
    "### Question 7\n",
    "What is software Engineering ?"
   ]
  },
  {
   "cell_type": "markdown",
   "id": "4af8cd8c",
   "metadata": {},
   "source": []
  },
  {
   "cell_type": "code",
   "execution_count": null,
   "id": "4bce629f",
   "metadata": {
    "ExecuteTime": {
     "end_time": "2022-11-16T20:38:29.339923Z",
     "start_time": "2022-11-16T20:38:29.339923Z"
    }
   },
   "outputs": [],
   "source": [
    "هو علم هندسة البرمجيات المسئول عن مشاريع السوفت وير و تسليمها و لها طرق للعمل على السوفت وير بالشركات منهجيات معينة \n",
    "software models :\n",
    "    like:\n",
    "waterfall\n",
    "agile\n",
    "vmodel\n",
    "devops\n",
    "mlops\n",
    "و هم عبارة عن منهجيات للعمل بالشركات و طرق لتسليم المشاريع من البداية للنهاية للعميل بشكل افضل بدون مشاكل و اخطاء"
   ]
  },
  {
   "cell_type": "markdown",
   "id": "1c2fb447",
   "metadata": {},
   "source": [
    "### Question 8\n",
    "\n",
    "Define MLOPS "
   ]
  },
  {
   "cell_type": "markdown",
   "id": "be247d87",
   "metadata": {},
   "source": []
  },
  {
   "cell_type": "code",
   "execution_count": null,
   "id": "f8149635",
   "metadata": {
    "ExecuteTime": {
     "end_time": "2022-11-16T20:38:29.341918Z",
     "start_time": "2022-11-16T20:38:29.341918Z"
    }
   },
   "outputs": [],
   "source": [
    "هو منهجية عمل تسهل ال life cycle  ايضا و تسليم المشاريع\n",
    "و يعمل بنفس منهجية devops , devsecops\n",
    "و لكن من ناحية ال machine learning بس به tools \n",
    "تساعدنا فى analysis لحد كبير "
   ]
  },
  {
   "cell_type": "markdown",
   "id": "bc99c5e6",
   "metadata": {},
   "source": [
    "### Question 9\n",
    "Define DataOps"
   ]
  },
  {
   "cell_type": "markdown",
   "id": "6c2e2d51",
   "metadata": {},
   "source": []
  },
  {
   "cell_type": "code",
   "execution_count": null,
   "id": "fe24b7df",
   "metadata": {
    "ExecuteTime": {
     "end_time": "2022-11-16T20:38:29.343911Z",
     "start_time": "2022-11-16T20:38:29.343911Z"
    }
   },
   "outputs": [],
   "source": [
    "هو منهجية عمل لل life cycle ايضا\n",
    "يعمل بنفس طريقة devops , devsecops ,mlop\n",
    "و لكن بالنسبة للداتا و فكرته يساعدنا فى التسريع"
   ]
  },
  {
   "cell_type": "markdown",
   "id": "02613a0f",
   "metadata": {},
   "source": [
    "### Question 10\n",
    "\n",
    "AI is ....% Data Operations , and ..... Model Creation "
   ]
  },
  {
   "cell_type": "code",
   "execution_count": null,
   "id": "ff37992c",
   "metadata": {
    "ExecuteTime": {
     "end_time": "2022-11-16T20:38:29.345915Z",
     "start_time": "2022-11-16T20:38:29.345915Z"
    }
   },
   "outputs": [],
   "source": [
    "AI is 80% Data Operations , and 20% Model Creation "
   ]
  },
  {
   "cell_type": "markdown",
   "id": "d4648503",
   "metadata": {},
   "source": []
  },
  {
   "cell_type": "markdown",
   "id": "a13df1ff",
   "metadata": {},
   "source": [
    "### Question 11\n",
    "\n",
    "Give 5 Examples of AI driven Companies in Egypt\n"
   ]
  },
  {
   "cell_type": "code",
   "execution_count": null,
   "id": "ab6b874f",
   "metadata": {
    "ExecuteTime": {
     "end_time": "2022-11-16T20:38:29.348901Z",
     "start_time": "2022-11-16T20:38:29.348901Z"
    }
   },
   "outputs": [],
   "source": [
    "ABM Egypt\n",
    "Adam.ai\n",
    "Advansy ESC\n",
    "Affectiva\n",
    "Agolo "
   ]
  },
  {
   "cell_type": "markdown",
   "id": "8db77a51",
   "metadata": {},
   "source": []
  },
  {
   "cell_type": "markdown",
   "id": "01dbf289",
   "metadata": {},
   "source": [
    "### Question 12\n",
    "What are the main fields of AI in Egypt?\n"
   ]
  },
  {
   "cell_type": "code",
   "execution_count": null,
   "id": "61c68710",
   "metadata": {
    "ExecuteTime": {
     "end_time": "2022-11-16T20:38:29.351897Z",
     "start_time": "2022-11-16T20:38:29.351897Z"
    }
   },
   "outputs": [],
   "source": [
    "machine learning و deep learning و NLP و computer vision و data science"
   ]
  },
  {
   "cell_type": "markdown",
   "id": "c5e470bd",
   "metadata": {},
   "source": []
  },
  {
   "cell_type": "markdown",
   "id": "c6395f95",
   "metadata": {},
   "source": [
    "### Question 13\n",
    "Define Data Science"
   ]
  },
  {
   "cell_type": "code",
   "execution_count": null,
   "id": "7db222f1",
   "metadata": {
    "ExecuteTime": {
     "end_time": "2022-11-16T20:38:29.353885Z",
     "start_time": "2022-11-16T20:38:29.353885Z"
    }
   },
   "outputs": [],
   "source": [
    "هو العلم المسئول عن الداتا بتجميعها و تنظيمها و cleaning للداتا\n",
    "و فهم الداتا بشكل افضل عمل تحليلات احصائية و رياضية بها و عمل visualization لها"
   ]
  },
  {
   "cell_type": "markdown",
   "id": "d00e59fb",
   "metadata": {},
   "source": []
  },
  {
   "cell_type": "markdown",
   "id": "73bba650",
   "metadata": {},
   "source": [
    "### Question 14 \n",
    "What is the difference between Data Engineer, Data Analyst and Data Scientist "
   ]
  },
  {
   "cell_type": "code",
   "execution_count": null,
   "id": "b45ca357",
   "metadata": {
    "ExecuteTime": {
     "end_time": "2022-11-16T20:38:29.355880Z",
     "start_time": "2022-11-16T20:38:29.355880Z"
    }
   },
   "outputs": [],
   "source": [
    "Data Engineer:\n",
    "    و هو المسئول عن هندسة البيانات و هو الشخص المسئول و فوق data analysis , data scientist \n",
    "    و هو له خبرات اعلى و اكبر منهم و مسئول عنهم \n",
    "Data Analyst :\n",
    "    هو شخص خبراته اقل من data engineer , data scientist\n",
    "    و هو مسئول عن عمل تحليلات احصائية للداتا\n",
    "Data Scientist:\n",
    "    هو العلم المسئول عن الداتا بتجميعها و تنظيمها و cleaning للداتا\n",
    "و فهم الداتا بشكل افضل عمل تحليلات احصائية و رياضية بها و عمل visualization \n",
    "و هو خبراته اقل منData Engineer و اكثر من data analysis "
   ]
  },
  {
   "cell_type": "markdown",
   "id": "0f491cb9",
   "metadata": {},
   "source": []
  },
  {
   "cell_type": "markdown",
   "id": "1d334500",
   "metadata": {},
   "source": [
    "### Question 15\n",
    "What are the most important skills an AI Engineer must have? "
   ]
  },
  {
   "cell_type": "code",
   "execution_count": null,
   "id": "a2384067",
   "metadata": {
    "ExecuteTime": {
     "end_time": "2022-11-16T20:38:29.357876Z",
     "start_time": "2022-11-16T20:38:29.357876Z"
    }
   },
   "outputs": [],
   "source": [
    " هو العلم المسئول عن الداتا بتجميعها و تنظيمها و cleaning للداتا\n",
    "و فهم الداتا بشكل افضل عمل تحليلات احصائية و رياضية بها و عمل visualization\n",
    "ب pandas , sql , powerBi , tableau , excel , matplotlib , seaborn \n",
    "و عمل modeling لها باختيار الخوارزمية المناسبة \n",
    ",testing , monitoring للداتا بالاخر , documentation"
   ]
  },
  {
   "cell_type": "markdown",
   "id": "4a1bec93",
   "metadata": {},
   "source": []
  },
  {
   "cell_type": "markdown",
   "id": "af356a7e",
   "metadata": {},
   "source": [
    "### Question 16: ( Bonus ) \n",
    "Who is my favorite Character in My favoirte Show "
   ]
  },
  {
   "cell_type": "code",
   "execution_count": null,
   "id": "a1bd57e6",
   "metadata": {
    "ExecuteTime": {
     "end_time": "2022-11-16T20:38:29.360867Z",
     "start_time": "2022-11-16T20:38:29.360867Z"
    }
   },
   "outputs": [],
   "source": [
    "the favorite show is the 100 \n",
    "the character bellamy"
   ]
  },
  {
   "cell_type": "markdown",
   "id": "c8036275",
   "metadata": {},
   "source": []
  },
  {
   "cell_type": "markdown",
   "id": "3f5f4f84",
   "metadata": {},
   "source": [
    "### Question 17: ( Bonus )\n",
    "What is my favorite TV Show"
   ]
  },
  {
   "cell_type": "code",
   "execution_count": null,
   "id": "0d941c6b",
   "metadata": {
    "ExecuteTime": {
     "end_time": "2022-11-16T20:38:29.364856Z",
     "start_time": "2022-11-16T20:38:29.364856Z"
    }
   },
   "outputs": [],
   "source": [
    "the 100"
   ]
  },
  {
   "cell_type": "markdown",
   "id": "63b63b6e",
   "metadata": {},
   "source": []
  },
  {
   "cell_type": "markdown",
   "id": "9b32666b",
   "metadata": {},
   "source": [
    "### Question 18: \n",
    "What are the possible methods to collect our data? "
   ]
  },
  {
   "cell_type": "code",
   "execution_count": null,
   "id": "a689e0e2",
   "metadata": {
    "ExecuteTime": {
     "end_time": "2022-11-16T20:38:29.366852Z",
     "start_time": "2022-11-16T20:38:29.366852Z"
    }
   },
   "outputs": [],
   "source": [
    "Available ( Direct Access ) نجيبها على طول من اى مكان هى متوفرة بدون شروط\n",
    "Available ( free ) --> Download  متوفرة و مجانا و بنحملها بس\n",
    "Available ( not for free ) --> buy  متوفرة و لكن مش مجانا بنشتريها \n",
    "Not available ( request )  مش متاحة و بنضطر نطلبها من الجهة اللى عايزنها\n",
    "Not available but exists ( Scrapping )  بناخد المعلومات بعمل سكراب للمواقع ب selenium , beautifulsoup\n",
    "Not available ( create)  مش متوفرة بأى مكان بنعملها احنا و نجمعها بنفسنا و ده بيتم بطريقين\n",
    "How to create data:\n",
    "1- Surveys\n",
    "2- Data Entery"
   ]
  },
  {
   "cell_type": "markdown",
   "id": "e4cd67ab",
   "metadata": {},
   "source": []
  },
  {
   "cell_type": "markdown",
   "id": "bf7d6a7d",
   "metadata": {},
   "source": [
    "### Question 19: \n",
    "What is Feature Engineering? "
   ]
  },
  {
   "cell_type": "code",
   "execution_count": null,
   "id": "6c311338",
   "metadata": {
    "ExecuteTime": {
     "end_time": "2022-11-16T20:38:29.368845Z",
     "start_time": "2022-11-16T20:38:29.368845Z"
    }
   },
   "outputs": [],
   "source": [
    "Feature engineering is the holy grail of data science and the most critical step that determines the quality of AI/ML outcomes. Irrespective of the algorithm used, feature engineering drives model performance, governs the ability of machine learning to generate meaningful insights, and ultimately solve business problems.\n",
    "Feature engineering is the process of applying domain knowledge to extract analytical representations from raw data, making it ready for machine learning. It is the first step in developing a machine learning model for prediction.\n",
    "\n",
    "Feature engineering involves the application of business knowledge, mathematics, and statistics to transform data into a format that can be directly consumed by machine learning models. It starts from many tables spread across disparate databases that are then joined, aggregated, and combined into a single flat table using statistical transformations and relational operations."
   ]
  },
  {
   "cell_type": "markdown",
   "id": "afbe1895",
   "metadata": {},
   "source": []
  },
  {
   "cell_type": "markdown",
   "id": "aa1e2ea5",
   "metadata": {},
   "source": [
    "### Question 20: \n",
    "What are the main fields of mathematics used in AI? "
   ]
  },
  {
   "cell_type": "code",
   "execution_count": 3,
   "id": "2d05b460",
   "metadata": {
    "ExecuteTime": {
     "end_time": "2022-11-16T20:38:29.414721Z",
     "start_time": "2022-11-16T20:38:29.371837Z"
    }
   },
   "outputs": [],
   "source": [
    "نستخدم التفاضل و التكامل و معرفة معدل التغير بالداتا و بالتالى توقع المستقبل و كمان يستخدم فى  deep learning"
   ]
  },
  {
   "cell_type": "markdown",
   "id": "d13086b5",
   "metadata": {},
   "source": []
  },
  {
   "cell_type": "markdown",
   "id": "419d022b",
   "metadata": {},
   "source": [
    "### Question 21:\n",
    "What is Data Sampling ?"
   ]
  },
  {
   "cell_type": "code",
   "execution_count": null,
   "id": "6addaf09",
   "metadata": {
    "ExecuteTime": {
     "end_time": "2022-11-16T20:38:29.416718Z",
     "start_time": "2022-11-16T20:38:29.416718Z"
    }
   },
   "outputs": [],
   "source": [
    "هو اولا عملية تجميع الداتا من الاماكن المختلفة و بعد تنظيمها و تنضيفها ناخد عينة منها لعمل التحليلات الاحصائية عليها و جعل تلك العينة عشوائية و هتكون تمثل المجتمع كله"
   ]
  },
  {
   "cell_type": "markdown",
   "id": "a0d37480",
   "metadata": {},
   "source": []
  },
  {
   "cell_type": "markdown",
   "id": "458d8ee3",
   "metadata": {},
   "source": [
    "### Question 22: \n",
    "What is Sample Size ?"
   ]
  },
  {
   "cell_type": "code",
   "execution_count": null,
   "id": "de3b506d",
   "metadata": {
    "ExecuteTime": {
     "end_time": "2022-11-16T20:38:29.419710Z",
     "start_time": "2022-11-16T20:38:29.419710Z"
    }
   },
   "outputs": [],
   "source": [
    "حجمها تكون من\n",
    "30% for 40%"
   ]
  },
  {
   "cell_type": "code",
   "execution_count": null,
   "id": "a990b3dd",
   "metadata": {
    "ExecuteTime": {
     "end_time": "2022-11-16T20:38:29.422702Z",
     "start_time": "2022-11-16T20:38:29.422702Z"
    }
   },
   "outputs": [],
   "source": [
    "و هو اختيار عينة عشوائية تمثل المجتمع كله"
   ]
  },
  {
   "cell_type": "markdown",
   "id": "1ee986dd",
   "metadata": {},
   "source": []
  },
  {
   "cell_type": "markdown",
   "id": "cfe6048a",
   "metadata": {},
   "source": [
    "### Question 23: \n",
    "How to avoid bad Sampling"
   ]
  },
  {
   "cell_type": "code",
   "execution_count": null,
   "id": "03bb162f",
   "metadata": {
    "ExecuteTime": {
     "end_time": "2022-11-16T20:38:29.424697Z",
     "start_time": "2022-11-16T20:38:29.424697Z"
    }
   },
   "outputs": [],
   "source": [
    "اخد العينة بناء على فهم لها للمجال اولا اللى شغالة عليه لافهمها بكشل افضل و فهم اختلافات البشر و اقدر اختارها صح و مراعاة الهعينة تكون عشوائية حتى تمثل المجتمع كله ليس جزء منه "
   ]
  },
  {
   "cell_type": "markdown",
   "id": "c77f569a",
   "metadata": {},
   "source": []
  },
  {
   "cell_type": "markdown",
   "id": "c8608601",
   "metadata": {},
   "source": [
    "### Question 24:\n",
    "What are the acceptable range of sampling ?"
   ]
  },
  {
   "cell_type": "code",
   "execution_count": null,
   "id": "c15bf59f",
   "metadata": {
    "ExecuteTime": {
     "end_time": "2022-11-16T20:38:29.426691Z",
     "start_time": "2022-11-16T20:38:29.426691Z"
    }
   },
   "outputs": [],
   "source": [
    "30% for 40%"
   ]
  },
  {
   "cell_type": "markdown",
   "id": "65ee8f45",
   "metadata": {},
   "source": []
  },
  {
   "cell_type": "markdown",
   "id": "1061c6a1",
   "metadata": {},
   "source": [
    "### Question 25:\n",
    "What AI is trying to find when working with data? \n"
   ]
  },
  {
   "cell_type": "code",
   "execution_count": null,
   "id": "0f3724aa",
   "metadata": {
    "ExecuteTime": {
     "end_time": "2022-11-16T20:38:29.429683Z",
     "start_time": "2022-11-16T20:38:29.429683Z"
    }
   },
   "outputs": [],
   "source": [
    "يحاول يفهمها بشكل كويس و ينضفها و يشوف اى nan بها\n",
    "يحاول ينضفه او ان يملاه بما هو مناسب و كمان يحللها بطريقة تساعده على فهم الداتا يعن مثلا يعرف متوسط بشىء ما او اقل او اعلى القيم و مدى انشار بنقطة ما و بعدها عن جزء محدد ب \n",
    "std و\n",
    "عمل visualization بعد كدة \n",
    "بتساعد من لا يفهم بالاكواد و اى حد بشكل عام القاء نظة و فهم الداتا من خلال الرسومات البيانية"
   ]
  },
  {
   "cell_type": "markdown",
   "id": "5d8494d5",
   "metadata": {},
   "source": []
  },
  {
   "cell_type": "markdown",
   "id": "8cd6d2c8",
   "metadata": {},
   "source": [
    "### Question 26:\n",
    "What are the problem of generalizing a result obtained by a sample into the whole data ? "
   ]
  },
  {
   "cell_type": "code",
   "execution_count": null,
   "id": "4338d489",
   "metadata": {
    "ExecuteTime": {
     "end_time": "2022-11-16T20:38:29.431677Z",
     "start_time": "2022-11-16T20:38:29.431677Z"
    }
   },
   "outputs": [],
   "source": [
    "نحن بنأخذ عينة صغيرة من الداتا و نعمم النتائج و نشملها على كل المجتمع لذا يجب اختيار العينة بعينة لتكون النتيجة سليمة "
   ]
  },
  {
   "cell_type": "markdown",
   "id": "edde924c",
   "metadata": {},
   "source": []
  },
  {
   "cell_type": "markdown",
   "id": "d4a32a06",
   "metadata": {},
   "source": [
    "### Question 27:\n",
    "Why do we do Sampling?\n"
   ]
  },
  {
   "cell_type": "code",
   "execution_count": null,
   "id": "f98b20ed",
   "metadata": {
    "ExecuteTime": {
     "end_time": "2022-11-16T20:38:29.435667Z",
     "start_time": "2022-11-16T20:38:29.435667Z"
    }
   },
   "outputs": [],
   "source": [
    "لان صعب بشكل عام عمل تحليل احصائى لمجتمع كله و يعنى مثلا لو عايزين نعرف نتائج معينة لكل الطلاب بمدرسة صعب الف على الطلاب بالجامعة لاعمل تحليل احصائى ده هياخد وقت طويل اوى \n",
    "و فى الاخر بسبب الوقت مش هتكون النتايج سليمة لان ممكن تكون اتغيرت بوقت معين بالنص و فكرة العينة و التحليل هو اخذ عينة و تحليلها بوقت ما محدد لذا نأخذ عينة عشوائية \n",
    "بشكل صحيح و عمل تحليل احصائى عليها"
   ]
  },
  {
   "cell_type": "markdown",
   "id": "8c6fbb2e",
   "metadata": {},
   "source": []
  },
  {
   "cell_type": "markdown",
   "id": "f0f9f79b",
   "metadata": {},
   "source": [
    "### Question 28: \n",
    "Define Statistical Test"
   ]
  },
  {
   "cell_type": "code",
   "execution_count": null,
   "id": "f21098ff",
   "metadata": {
    "ExecuteTime": {
     "end_time": "2022-11-16T20:38:29.437662Z",
     "start_time": "2022-11-16T20:38:29.437662Z"
    }
   },
   "outputs": [],
   "source": [
    "هى الاختبارات الاحصائية التى نقوم بها لاختبار صحة الفرضيات\n",
    "و هى ايضا ما نقوم به من خلال تكرار التجربة مع عينات مختلفة من الداتا و المتوقع ظهور نفس النتايج"
   ]
  },
  {
   "cell_type": "markdown",
   "id": "ca302926",
   "metadata": {},
   "source": []
  },
  {
   "cell_type": "markdown",
   "id": "8f393944",
   "metadata": {},
   "source": [
    "### Question 29: \n",
    "Suggest methods to work with small data "
   ]
  },
  {
   "cell_type": "code",
   "execution_count": 4,
   "id": "368fdd6f",
   "metadata": {
    "ExecuteTime": {
     "end_time": "2022-11-16T20:38:29.494510Z",
     "start_time": "2022-11-16T20:38:29.443645Z"
    }
   },
   "outputs": [],
   "source": [
    "اختيار عينة عشوائية بشكل صحيح من الداتا تمثل المجتمع كله و تكون من 30 ل 40 بالمية من الداتا بس لا اكثر \n",
    "و تكون بعدد من الطرق و فى برامج ايضا تساعدنا على اختيار الداتا مثل spss"
   ]
  },
  {
   "cell_type": "markdown",
   "id": "e8836363",
   "metadata": {},
   "source": []
  },
  {
   "cell_type": "markdown",
   "id": "d53bbd87",
   "metadata": {},
   "source": [
    "### Question 30: \n",
    "What are the types of data?"
   ]
  },
  {
   "cell_type": "code",
   "execution_count": null,
   "id": "7fdcf674",
   "metadata": {
    "ExecuteTime": {
     "end_time": "2022-11-16T20:38:29.496505Z",
     "start_time": "2022-11-16T20:38:29.496505Z"
    }
   },
   "outputs": [],
   "source": [
    "numeric مثل : \n",
    "    int , float \n",
    "string \n",
    "unicode \n",
    "bool"
   ]
  },
  {
   "cell_type": "markdown",
   "id": "fc32175b",
   "metadata": {},
   "source": []
  },
  {
   "cell_type": "markdown",
   "id": "beb6efae",
   "metadata": {},
   "source": [
    "### Question 31: \n",
    "What is a programming language?"
   ]
  },
  {
   "cell_type": "code",
   "execution_count": null,
   "id": "4583ca5a",
   "metadata": {
    "ExecuteTime": {
     "end_time": "2022-11-16T20:38:29.499497Z",
     "start_time": "2022-11-16T20:38:29.499497Z"
    }
   },
   "outputs": [],
   "source": [
    "هى اللغة اللى بتدى الالة التاسكات \n",
    "فاللغات هى التى تحول الاكواد التى نكتبها و الاوامر و تفهمها و ثم تحولها للغة تفهمها الالة لتقوم بعملها (لغة ال machine)"
   ]
  },
  {
   "cell_type": "markdown",
   "id": "806caea0",
   "metadata": {},
   "source": []
  },
  {
   "cell_type": "markdown",
   "id": "1896fdad",
   "metadata": {},
   "source": [
    "### Question 32: \n",
    "Give 2 examples of low level programming languages:"
   ]
  },
  {
   "cell_type": "code",
   "execution_count": null,
   "id": "034a2bc4",
   "metadata": {
    "ExecuteTime": {
     "end_time": "2022-11-16T20:38:29.501491Z",
     "start_time": "2022-11-16T20:38:29.501491Z"
    }
   },
   "outputs": [],
   "source": [
    "c++ , machine code , assembly"
   ]
  },
  {
   "cell_type": "markdown",
   "id": "9c9c369c",
   "metadata": {},
   "source": []
  },
  {
   "cell_type": "markdown",
   "id": "b525bbc3",
   "metadata": {},
   "source": [
    "### Question 33: ( Bonus ) \n",
    "What is the difference between java and JavaScript ?"
   ]
  },
  {
   "cell_type": "code",
   "execution_count": null,
   "id": "96ab6467",
   "metadata": {
    "ExecuteTime": {
     "end_time": "2022-11-16T20:38:29.503485Z",
     "start_time": "2022-11-16T20:38:29.503485Z"
    }
   },
   "outputs": [],
   "source": [
    "java : هى اللغة التى تستخدم فى عمل تطبيقات الموبيل الاندرويد و ios\n",
    "javascript: هى لغة البرمجة التى تستخدم فى عمل مواقع الويب"
   ]
  },
  {
   "cell_type": "markdown",
   "id": "fed2831b",
   "metadata": {},
   "source": []
  },
  {
   "cell_type": "markdown",
   "id": "ed01110b",
   "metadata": {},
   "source": [
    "### Question 34: \n",
    "Give a complete definition for python as a programming language"
   ]
  },
  {
   "cell_type": "code",
   "execution_count": null,
   "id": "f30e39e2",
   "metadata": {
    "ExecuteTime": {
     "end_time": "2022-11-16T20:38:29.506503Z",
     "start_time": "2022-11-16T20:38:29.506503Z"
    }
   },
   "outputs": [],
   "source": [
    "هى لغة برمجة سهلة الاستخدام لها ادوار كتير بالمجالات المختلفة تدخل بالعديد منها زى الويب و الذكاء الاصطناعى و الالعاب و التطبيقات \n",
    "و هى ligh level language , interpreted , open source , general purpose , support oop , not typed"
   ]
  },
  {
   "cell_type": "markdown",
   "id": "f711f301",
   "metadata": {},
   "source": []
  },
  {
   "cell_type": "markdown",
   "id": "34fde1d4",
   "metadata": {},
   "source": [
    "### Question 35:\n",
    "Why do we use python for AI ?"
   ]
  },
  {
   "cell_type": "code",
   "execution_count": null,
   "id": "9e6cf759",
   "metadata": {
    "ExecuteTime": {
     "end_time": "2022-11-16T20:38:29.508475Z",
     "start_time": "2022-11-16T20:38:29.508475Z"
    }
   },
   "outputs": [],
   "source": [
    "تستخدم الشركات البايثون لامتلاكها العديد من المكتبات التى تخد مجال الذكاء الاصطناعى \n",
    "و لكن الشركات الكبيرة تستخدم ال c++ \n",
    "لان البايثون untyped و بتاخد مساحة كبيرة و ده مختلف عن ال c++\n",
    "c++ اسرع و مش بتاخد مساحة زى بايثون "
   ]
  },
  {
   "cell_type": "markdown",
   "id": "1d1ee1f3",
   "metadata": {},
   "source": []
  },
  {
   "cell_type": "markdown",
   "id": "a2eb7f45",
   "metadata": {
    "ExecuteTime": {
     "end_time": "2021-06-28T09:06:12.936819Z",
     "start_time": "2021-06-28T09:06:12.930836Z"
    }
   },
   "source": [
    "### Question 36\n",
    "What are the most used programming languages for AI in business? and Why ?  ( State only 3 )"
   ]
  },
  {
   "cell_type": "raw",
   "id": "91099d65",
   "metadata": {},
   "source": [
    "نستخدم البايثون لاحتواءها على العديد من المكتبات التى تساعد فى عمل تحليلات بشكل اسرع \n",
    "رغم ان الاعمال تخاف ايضا استخدام الذكاء الاصطناعى فى اتخاذ القرارات لها"
   ]
  },
  {
   "cell_type": "markdown",
   "id": "5fca80d3",
   "metadata": {},
   "source": []
  },
  {
   "cell_type": "markdown",
   "id": "123a198c",
   "metadata": {},
   "source": [
    "### Question 37: \n",
    "Can we use Simple Machine learning with image data ? and why / why not ? "
   ]
  },
  {
   "cell_type": "code",
   "execution_count": 5,
   "id": "bff8fffd",
   "metadata": {
    "ExecuteTime": {
     "end_time": "2022-11-16T20:38:29.590255Z",
     "start_time": "2022-11-16T20:38:29.561332Z"
    }
   },
   "outputs": [
    {
     "ename": "SyntaxError",
     "evalue": "invalid syntax (1654363357.py, line 1)",
     "output_type": "error",
     "traceback": [
      "\u001b[1;36m  Input \u001b[1;32mIn [5]\u001b[1;36m\u001b[0m\n\u001b[1;33m    yes , فال ML يقدر يعمل الموديل على معادلة واحدة عكس ال DL يحتوى على العديد من المعادلات\u001b[0m\n\u001b[1;37m                                                                                            ^\u001b[0m\n\u001b[1;31mSyntaxError\u001b[0m\u001b[1;31m:\u001b[0m invalid syntax\n"
     ]
    }
   ],
   "source": [
    "yes , فال ML يقدر يعمل الموديل على معادلة واحدة عكس ال DL يحتوى على العديد من المعادلات \n",
    "و يوجد بالبايثون مكاتب تعمل على الصور\n",
    "و الML يعمل على \n",
    "2D , 3D arrays\n",
    "و يقوم بعمل كمان بقدرته image processing on images \n",
    "من المكاتب التى تدعم ذلك opencv"
   ]
  },
  {
   "cell_type": "markdown",
   "id": "00eabdf2",
   "metadata": {},
   "source": []
  },
  {
   "cell_type": "markdown",
   "id": "fac70cf7",
   "metadata": {},
   "source": [
    "### Question 38: \n",
    "What are the basic data types of python ? "
   ]
  },
  {
   "cell_type": "code",
   "execution_count": null,
   "id": "0ddea37f",
   "metadata": {
    "ExecuteTime": {
     "end_time": "2022-11-16T20:38:29.593246Z",
     "start_time": "2022-11-16T20:38:29.593246Z"
    }
   },
   "outputs": [],
   "source": [
    "int , float , string , bool"
   ]
  },
  {
   "cell_type": "markdown",
   "id": "9b68e0d6",
   "metadata": {},
   "source": [
    "### Question 39: \n",
    "What are the basic containers in python ( Data Structure Elements )"
   ]
  },
  {
   "cell_type": "code",
   "execution_count": null,
   "id": "fbbdb3d7",
   "metadata": {
    "ExecuteTime": {
     "end_time": "2022-11-16T20:38:29.596239Z",
     "start_time": "2022-11-16T20:38:29.596239Z"
    }
   },
   "outputs": [],
   "source": [
    " (dictionary , tuples, lists )\n",
    "arrays , linked lists , douply and circular linked list , stack , map , set tree , graph , queue"
   ]
  },
  {
   "cell_type": "markdown",
   "id": "0af292b2",
   "metadata": {},
   "source": []
  },
  {
   "cell_type": "markdown",
   "id": "5091503f",
   "metadata": {},
   "source": [
    "### Question 40: \n",
    "What are the most important packages for python to work with AI ? ( give at least 6 )"
   ]
  },
  {
   "cell_type": "code",
   "execution_count": null,
   "id": "e74d73b2",
   "metadata": {
    "ExecuteTime": {
     "end_time": "2022-11-16T20:38:29.600228Z",
     "start_time": "2022-11-16T20:38:29.600228Z"
    }
   },
   "outputs": [],
   "source": [
    "pandas , numpy , matplotlib , seaborn , opencv , io , requests , Beautiful soup , selenium , TensorFlow"
   ]
  },
  {
   "cell_type": "markdown",
   "id": "3f2afcb7",
   "metadata": {},
   "source": []
  },
  {
   "cell_type": "markdown",
   "id": "04f6103a",
   "metadata": {},
   "source": [
    "### Question 41: \n",
    "What is knowledge domain in data science? "
   ]
  },
  {
   "cell_type": "code",
   "execution_count": 6,
   "id": "4f17f256",
   "metadata": {
    "ExecuteTime": {
     "end_time": "2022-11-16T20:38:29.777766Z",
     "start_time": "2022-11-16T20:38:29.682008Z"
    }
   },
   "outputs": [
    {
     "ename": "SyntaxError",
     "evalue": "invalid syntax (154648303.py, line 1)",
     "output_type": "error",
     "traceback": [
      "\u001b[1;36m  Input \u001b[1;32mIn [6]\u001b[1;36m\u001b[0m\n\u001b[1;33m    فمجال الذكاء الاصطناعى او علم البيانات هو ليس بمجال مستقل بذاته ليس لمجال معين فيمكن ان يكون باى مجال فيوجد العديد من المجالات و الصناعات تستخدمهم لذا اى مجال ستعمل به فهم عنه لاجل\u001b[0m\n\u001b[1;37m          ^\u001b[0m\n\u001b[1;31mSyntaxError\u001b[0m\u001b[1;31m:\u001b[0m invalid syntax\n"
     ]
    }
   ],
   "source": [
    "فمجال الذكاء الاصطناعى او علم البيانات هو ليس بمجال مستقل بذاته ليس لمجال معين فيمكن ان يكون باى مجال فيوجد العديد من المجالات و الصناعات تستخدمهم لذا اى مجال ستعمل به فهم عنه لاجل \n",
    "ذلك يساعد فهم الداتا بشكل افضل و التعامل معاها بشكل صحيح"
   ]
  },
  {
   "cell_type": "markdown",
   "id": "de1b2143",
   "metadata": {},
   "source": []
  },
  {
   "cell_type": "markdown",
   "id": "f1b27f6b",
   "metadata": {},
   "source": [
    "### Question 42: \n",
    "Create a list of theses elements : 1,3,4,16,17,20, \"Ahmed\", \"Mazen\", True"
   ]
  },
  {
   "cell_type": "code",
   "execution_count": 31,
   "id": "2d021853",
   "metadata": {
    "ExecuteTime": {
     "end_time": "2022-11-16T20:58:59.719508Z",
     "start_time": "2022-11-16T20:58:59.711500Z"
    }
   },
   "outputs": [],
   "source": [
    "elements=[1,3,4,16,17,20,\"Ahmed\", \"Mazen\", True ]"
   ]
  },
  {
   "cell_type": "markdown",
   "id": "2e9e357c",
   "metadata": {},
   "source": []
  },
  {
   "cell_type": "markdown",
   "id": "78f460ea",
   "metadata": {},
   "source": [
    "### Question 43: \n",
    "add 7 to the list "
   ]
  },
  {
   "cell_type": "code",
   "execution_count": 32,
   "id": "44555841",
   "metadata": {
    "ExecuteTime": {
     "end_time": "2022-11-16T20:59:01.224701Z",
     "start_time": "2022-11-16T20:59:01.213732Z"
    }
   },
   "outputs": [],
   "source": [
    "elements.append(7) "
   ]
  },
  {
   "cell_type": "markdown",
   "id": "55792eb4",
   "metadata": {},
   "source": []
  },
  {
   "cell_type": "code",
   "execution_count": 33,
   "id": "c0c54329",
   "metadata": {
    "ExecuteTime": {
     "end_time": "2022-11-16T20:59:02.616385Z",
     "start_time": "2022-11-16T20:59:02.599431Z"
    }
   },
   "outputs": [
    {
     "data": {
      "text/plain": [
       "[1, 3, 4, 16, 17, 20, 'Ahmed', 'Mazen', True, 7]"
      ]
     },
     "execution_count": 33,
     "metadata": {},
     "output_type": "execute_result"
    }
   ],
   "source": [
    "elements"
   ]
  },
  {
   "cell_type": "markdown",
   "id": "4a7ff235",
   "metadata": {},
   "source": [
    "### Question 44: \n",
    "remove 3 from the list "
   ]
  },
  {
   "cell_type": "code",
   "execution_count": 34,
   "id": "88adf65c",
   "metadata": {
    "ExecuteTime": {
     "end_time": "2022-11-16T20:59:04.157038Z",
     "start_time": "2022-11-16T20:59:04.138065Z"
    }
   },
   "outputs": [],
   "source": [
    "elements.remove(3) "
   ]
  },
  {
   "cell_type": "code",
   "execution_count": 35,
   "id": "a21004b3",
   "metadata": {
    "ExecuteTime": {
     "end_time": "2022-11-16T20:59:04.686432Z",
     "start_time": "2022-11-16T20:59:04.671785Z"
    }
   },
   "outputs": [
    {
     "data": {
      "text/plain": [
       "[1, 4, 16, 17, 20, 'Ahmed', 'Mazen', True, 7]"
      ]
     },
     "execution_count": 35,
     "metadata": {},
     "output_type": "execute_result"
    }
   ],
   "source": [
    "elements"
   ]
  },
  {
   "cell_type": "markdown",
   "id": "2883ba26",
   "metadata": {},
   "source": []
  },
  {
   "cell_type": "markdown",
   "id": "dff97409",
   "metadata": {},
   "source": [
    "### Question 45: \n",
    "Search for \"Ahmed\" in the list "
   ]
  },
  {
   "cell_type": "code",
   "execution_count": 36,
   "id": "bc9e5403",
   "metadata": {
    "ExecuteTime": {
     "end_time": "2022-11-16T20:59:06.312497Z",
     "start_time": "2022-11-16T20:59:06.293545Z"
    }
   },
   "outputs": [
    {
     "name": "stdout",
     "output_type": "stream",
     "text": [
      "5\n"
     ]
    }
   ],
   "source": [
    "find_item = elements.index('Ahmed')\n",
    "print(find_item)"
   ]
  },
  {
   "cell_type": "markdown",
   "id": "51bac2ab",
   "metadata": {},
   "source": [
    "### Question 46: \n",
    "Count how many numbers 4 has occured"
   ]
  },
  {
   "cell_type": "code",
   "execution_count": 37,
   "id": "1c3c5b94",
   "metadata": {
    "ExecuteTime": {
     "end_time": "2022-11-16T20:59:07.233669Z",
     "start_time": "2022-11-16T20:59:07.218744Z"
    }
   },
   "outputs": [
    {
     "data": {
      "text/plain": [
       "1"
      ]
     },
     "execution_count": 37,
     "metadata": {},
     "output_type": "execute_result"
    }
   ],
   "source": [
    "elements.count(4) "
   ]
  },
  {
   "cell_type": "markdown",
   "id": "79c2ab72",
   "metadata": {},
   "source": []
  },
  {
   "cell_type": "markdown",
   "id": "668b4e21",
   "metadata": {},
   "source": [
    "### Question 47:\n",
    "print only the even numbers in the list"
   ]
  },
  {
   "cell_type": "code",
   "execution_count": 38,
   "id": "c3cb6abe",
   "metadata": {
    "ExecuteTime": {
     "end_time": "2022-11-16T20:59:08.953240Z",
     "start_time": "2022-11-16T20:59:08.941250Z"
    }
   },
   "outputs": [
    {
     "name": "stdout",
     "output_type": "stream",
     "text": [
      "4\n",
      "16\n",
      "20\n"
     ]
    }
   ],
   "source": [
    "res = filter(lambda i: isinstance(i, int), elements)\n",
    "for i in res:\n",
    "    if(i %2 ==0):\n",
    "        print(i) "
   ]
  },
  {
   "cell_type": "markdown",
   "id": "8d3dc713",
   "metadata": {},
   "source": []
  },
  {
   "cell_type": "markdown",
   "id": "8c7c3000",
   "metadata": {},
   "source": [
    "### Question 48: \n",
    "Sum only the numeric elements in the list"
   ]
  },
  {
   "cell_type": "code",
   "execution_count": 39,
   "id": "ed5fe114",
   "metadata": {
    "ExecuteTime": {
     "end_time": "2022-11-16T20:59:10.519744Z",
     "start_time": "2022-11-16T20:59:10.507775Z"
    }
   },
   "outputs": [
    {
     "name": "stdout",
     "output_type": "stream",
     "text": [
      "initial list [1, 4, 16, 17, 20, 'Ahmed', 'Mazen', True, 7]\n",
      "resultant sum 65\n"
     ]
    }
   ],
   "source": [
    "print (\"initial list\", str(elements))\n",
    "res=0\n",
    "for i in elements:\n",
    "    p=str(type(i))\n",
    "    if(p.find('int')!=-1):\n",
    "        res+=int(i)\n",
    "print (\"resultant sum\", res)"
   ]
  },
  {
   "cell_type": "markdown",
   "id": "e12846fa",
   "metadata": {},
   "source": []
  },
  {
   "cell_type": "markdown",
   "id": "54dd5ba3",
   "metadata": {},
   "source": [
    "### Question 49: \n",
    "convert the list into a set "
   ]
  },
  {
   "cell_type": "code",
   "execution_count": 40,
   "id": "36265fdb",
   "metadata": {
    "ExecuteTime": {
     "end_time": "2022-11-16T20:59:11.860727Z",
     "start_time": "2022-11-16T20:59:11.848760Z"
    }
   },
   "outputs": [
    {
     "name": "stdout",
     "output_type": "stream",
     "text": [
      "{1, 4, 7, 'Mazen', 'Ahmed', 16, 17, 20}\n"
     ]
    }
   ],
   "source": [
    "sample_set  = set(elements)\n",
    "print(sample_set)"
   ]
  },
  {
   "cell_type": "markdown",
   "id": "5d1818e5",
   "metadata": {},
   "source": []
  },
  {
   "cell_type": "markdown",
   "id": "8d10f249",
   "metadata": {},
   "source": [
    "### Question 50:\n",
    "change the first element to be 25 then print the new list"
   ]
  },
  {
   "cell_type": "code",
   "execution_count": 41,
   "id": "cb1fb618",
   "metadata": {
    "ExecuteTime": {
     "end_time": "2022-11-16T20:59:14.215991Z",
     "start_time": "2022-11-16T20:59:14.199013Z"
    }
   },
   "outputs": [
    {
     "data": {
      "text/plain": [
       "[25, 1, 4, 16, 17, 20, 'Ahmed', 'Mazen', True, 7]"
      ]
     },
     "execution_count": 41,
     "metadata": {},
     "output_type": "execute_result"
    }
   ],
   "source": [
    "elements.insert(0,25)\n",
    "elements"
   ]
  },
  {
   "cell_type": "markdown",
   "id": "2d0621dc",
   "metadata": {},
   "source": []
  },
  {
   "cell_type": "markdown",
   "id": "7aa6a342",
   "metadata": {},
   "source": [
    "### Question 51: \n",
    "Assign only the first 5 values of the list into a new list called AI "
   ]
  },
  {
   "cell_type": "code",
   "execution_count": 42,
   "id": "838e6669",
   "metadata": {
    "ExecuteTime": {
     "end_time": "2022-11-16T20:59:15.854040Z",
     "start_time": "2022-11-16T20:59:15.840049Z"
    }
   },
   "outputs": [
    {
     "data": {
      "text/plain": [
       "[25, 1, 4, 16, 17]"
      ]
     },
     "execution_count": 42,
     "metadata": {},
     "output_type": "execute_result"
    }
   ],
   "source": [
    "AI=elements[ :5]\n",
    "AI"
   ]
  },
  {
   "cell_type": "markdown",
   "id": "27bf1df9",
   "metadata": {},
   "source": []
  },
  {
   "cell_type": "markdown",
   "id": "37e50846",
   "metadata": {},
   "source": [
    "### Question 52: \n",
    "Print the type of each element ( Hint: Use for loop )"
   ]
  },
  {
   "cell_type": "code",
   "execution_count": 43,
   "id": "d40f1f0e",
   "metadata": {
    "ExecuteTime": {
     "end_time": "2022-11-16T20:59:17.581643Z",
     "start_time": "2022-11-16T20:59:17.571673Z"
    }
   },
   "outputs": [
    {
     "name": "stdout",
     "output_type": "stream",
     "text": [
      "25\n",
      "<class 'int'>\n",
      "1\n",
      "<class 'int'>\n",
      "4\n",
      "<class 'int'>\n",
      "16\n",
      "<class 'int'>\n",
      "17\n",
      "<class 'int'>\n",
      "20\n",
      "<class 'int'>\n",
      "Ahmed\n",
      "<class 'str'>\n",
      "Mazen\n",
      "<class 'str'>\n",
      "True\n",
      "<class 'bool'>\n",
      "7\n",
      "<class 'int'>\n"
     ]
    }
   ],
   "source": [
    "for i in elements:\n",
    "    print(i)\n",
    "    print(type(i)) "
   ]
  },
  {
   "cell_type": "markdown",
   "id": "d3597880",
   "metadata": {},
   "source": []
  },
  {
   "cell_type": "markdown",
   "id": "9d5e2d6b",
   "metadata": {},
   "source": [
    "### Question 53: \n",
    "Suppose you have a file called new data.csv , write the python code to read this data "
   ]
  },
  {
   "cell_type": "code",
   "execution_count": null,
   "id": "c5c63573",
   "metadata": {
    "ExecuteTime": {
     "end_time": "2022-11-16T20:38:29.814655Z",
     "start_time": "2022-11-16T20:38:29.814655Z"
    }
   },
   "outputs": [],
   "source": [
    "import csv\n",
    "with open (\"data.csv\") as file: \n",
    "    y = file.readlines()"
   ]
  },
  {
   "cell_type": "code",
   "execution_count": null,
   "id": "46c4246b",
   "metadata": {
    "ExecuteTime": {
     "end_time": "2022-11-16T20:38:29.816649Z",
     "start_time": "2022-11-16T20:38:29.816649Z"
    }
   },
   "outputs": [],
   "source": [
    "import csv\n",
    "\n",
    "# opening the CSV file \n",
    "with open('data.csv', mode ='r')as file: \n",
    "      \n",
    "  # reading the CSV file \n",
    "csvFile = csv.reader(file) "
   ]
  },
  {
   "cell_type": "code",
   "execution_count": null,
   "id": "6391d059",
   "metadata": {
    "ExecuteTime": {
     "end_time": "2022-11-16T20:38:29.819641Z",
     "start_time": "2022-11-16T20:38:29.819641Z"
    }
   },
   "outputs": [],
   "source": [
    "#if i will put in dataFrame\n",
    "df=pd.read_csv(\"data.csv\")"
   ]
  },
  {
   "cell_type": "markdown",
   "id": "8e8d9a78",
   "metadata": {},
   "source": []
  },
  {
   "cell_type": "markdown",
   "id": "078cd393",
   "metadata": {},
   "source": [
    "### Question 54: \n",
    "print its columns "
   ]
  },
  {
   "cell_type": "code",
   "execution_count": null,
   "id": "e8245bcb",
   "metadata": {
    "ExecuteTime": {
     "end_time": "2022-11-16T20:38:29.821636Z",
     "start_time": "2022-11-16T20:38:29.821636Z"
    }
   },
   "outputs": [],
   "source": [
    "df.columns"
   ]
  },
  {
   "cell_type": "markdown",
   "id": "ccd82ce2",
   "metadata": {},
   "source": []
  },
  {
   "cell_type": "markdown",
   "id": "f8403a85",
   "metadata": {},
   "source": [
    "### Question 55: \n",
    "What are the packages used for web scrapping? "
   ]
  },
  {
   "cell_type": "code",
   "execution_count": null,
   "id": "a4ee4b06",
   "metadata": {
    "ExecuteTime": {
     "end_time": "2022-11-16T20:38:29.823631Z",
     "start_time": "2022-11-16T20:38:29.823631Z"
    }
   },
   "outputs": [],
   "source": [
    "requests\n",
    "BeautifulSoup\n",
    "csv\n",
    "selenium\n",
    "webdriver #for selenium"
   ]
  },
  {
   "cell_type": "markdown",
   "id": "391a035a",
   "metadata": {},
   "source": []
  },
  {
   "cell_type": "markdown",
   "id": "282338c7",
   "metadata": {},
   "source": [
    "### Question 56: \n",
    "What are the types of learning ?"
   ]
  },
  {
   "cell_type": "code",
   "execution_count": null,
   "id": "8837ce21",
   "metadata": {
    "ExecuteTime": {
     "end_time": "2022-11-16T20:38:29.826623Z",
     "start_time": "2022-11-16T20:38:29.826623Z"
    }
   },
   "outputs": [],
   "source": [
    "machine learning and deep learning"
   ]
  },
  {
   "cell_type": "markdown",
   "id": "98214c9e",
   "metadata": {},
   "source": []
  },
  {
   "cell_type": "markdown",
   "id": "73e5ac27",
   "metadata": {},
   "source": [
    "### Question 57: \n",
    "What are the types of problems AI Can solve ? "
   ]
  },
  {
   "cell_type": "code",
   "execution_count": null,
   "id": "cd9426c4",
   "metadata": {
    "ExecuteTime": {
     "end_time": "2022-11-16T20:38:29.828617Z",
     "start_time": "2022-11-16T20:38:29.828617Z"
    }
   },
   "outputs": [],
   "source": [
    "mathematical or statistical \n",
    "اى مشكلة بالمجتمع يقدر ال AI يتدخل لحلها\n",
    "بأى مجال و علم و يحول المشاكل لمعادلات رياضية ليحلها"
   ]
  },
  {
   "cell_type": "markdown",
   "id": "986332a0",
   "metadata": {},
   "source": []
  },
  {
   "cell_type": "markdown",
   "id": "b7c14eff",
   "metadata": {
    "ExecuteTime": {
     "end_time": "2021-06-28T09:20:22.730948Z",
     "start_time": "2021-06-28T09:20:22.715963Z"
    }
   },
   "source": [
    "### Question 58:\n",
    "What is Data Augmentation?"
   ]
  },
  {
   "cell_type": "code",
   "execution_count": null,
   "id": "deea40cd",
   "metadata": {
    "ExecuteTime": {
     "end_time": "2022-11-16T20:38:29.830611Z",
     "start_time": "2022-11-16T20:38:29.830611Z"
    }
   },
   "outputs": [],
   "source": [
    "Data Augmentation is a technique to artificially increase the volume of a dataset by adding certain variations to the existing\n",
    "dataset and adding it to the original dataset to generate ‘slightly modified and multiplied’ data. You can take all the samples\n",
    "available in the dataset and modify them several times in a different way to get the larger dataset."
   ]
  },
  {
   "cell_type": "markdown",
   "id": "feba92a5",
   "metadata": {},
   "source": []
  },
  {
   "cell_type": "markdown",
   "id": "071e6ccc",
   "metadata": {},
   "source": [
    "### Question 59  (Bonus) : \n",
    "What are the types of medical image files?  "
   ]
  },
  {
   "cell_type": "code",
   "execution_count": null,
   "id": "8863b69d",
   "metadata": {
    "ExecuteTime": {
     "end_time": "2022-11-16T20:38:29.833604Z",
     "start_time": "2022-11-16T20:38:29.833604Z"
    }
   },
   "outputs": [],
   "source": [
    "ITK MetaImage (.mha/.raw, .mhd)\n",
    "Neuroimaging Informatics Technology Initiative (NIfTI) (.nia, .nii, .nii.gz, .hdr, .img, .img.gz)\n",
    "Analyze (plain, SPM99, SPM2) (.hdr/.img, .img.gz)\n",
    "Digital Imaging and Communications in Medicine (DICOM) (.dcm, .dicom)\n",
    "Digital Imaging and Communications in Medicine (DICOM) series (<directory>/)\n",
    "Nearly Raw Raster Data (Nrrd) (.nrrd, .nhdr)\n",
    "Medical Imaging NetCDF (MINC) (.mnc, .MNC)\n",
    "Guys Image Processing Lab (GIPL) (.gipl, .gipl.gz)"
   ]
  },
  {
   "cell_type": "markdown",
   "id": "b3b8de34",
   "metadata": {},
   "source": []
  },
  {
   "cell_type": "markdown",
   "id": "63bb465f",
   "metadata": {},
   "source": [
    "### Question 60: ( Bonus ) \n",
    "What are the 7Vs of Big Data? "
   ]
  },
  {
   "cell_type": "code",
   "execution_count": null,
   "id": "2d83d7fd",
   "metadata": {
    "ExecuteTime": {
     "end_time": "2022-11-16T20:38:29.836596Z",
     "start_time": "2022-11-16T20:38:29.836596Z"
    }
   },
   "outputs": [],
   "source": [
    "Volume\n",
    "Videos\n",
    "Velocity\n",
    "Variability\n",
    "Veracity\n",
    "Visualization\n",
    "Value"
   ]
  },
  {
   "cell_type": "markdown",
   "id": "4ce8c875",
   "metadata": {},
   "source": []
  },
  {
   "cell_type": "markdown",
   "id": "fc343b99",
   "metadata": {},
   "source": [
    "### Question 61:\n",
    "What is Dimensionality reduction"
   ]
  },
  {
   "cell_type": "code",
   "execution_count": null,
   "id": "95aeacaf",
   "metadata": {
    "ExecuteTime": {
     "end_time": "2022-11-16T20:38:29.838590Z",
     "start_time": "2022-11-16T20:38:29.838590Z"
    }
   },
   "outputs": [],
   "source": [
    "There are always too many variables in machine learning classification problems based on which the final classification is\n",
    "performed. These factors are variables called features. The greater the number of characteristics, the harder it becomes to\n",
    "imagine and then work on the training package. Most of these characteristics are often correlated, and thus redundant. This is \n",
    "where algorithms for dimensionality reduction come into play. Dimensionality reduction is the method of reducing, by having\n",
    "a set of key variables, the number of random variables under consideration. It can be divided into feature discovery and\n",
    "extraction of features."
   ]
  },
  {
   "cell_type": "code",
   "execution_count": null,
   "id": "1ce035f8",
   "metadata": {
    "ExecuteTime": {
     "end_time": "2022-11-16T20:38:29.840585Z",
     "start_time": "2022-11-16T20:38:29.840585Z"
    }
   },
   "outputs": [],
   "source": [
    "their is 2D and 3D \n",
    "و فى اكتر من 3 كمان و لكن الانسان يعجز عينه ان يشوف اكتر من 3"
   ]
  },
  {
   "cell_type": "markdown",
   "id": "eb206638",
   "metadata": {},
   "source": [
    "### Question 62:\n",
    "What are the main features of Time Seires Analysis"
   ]
  },
  {
   "cell_type": "code",
   "execution_count": null,
   "id": "167530d0",
   "metadata": {
    "ExecuteTime": {
     "end_time": "2022-11-16T20:38:29.842580Z",
     "start_time": "2022-11-16T20:38:29.842580Z"
    }
   },
   "outputs": [],
   "source": [
    "Time series analysis is a specific way of analyzing a sequence of data points collected over an interval of time. In time series analysis, analysts record data points at consistent intervals over a set period of time rather than just recording the data points intermittently or randomly. However, this type of analysis is not merely the act of collecting data over time. \n",
    "Time series analysis typically requires a large number of data points to ensure consistency and reliability. An extensive data set ensures you have a representative sample size and that analysis can cut through noisy data. It also ensures that any trends or patterns discovered are not outliers and can account for seasonal variance. Additionally, time series data can be used for forecasting—predicting future data based on historical data."
   ]
  },
  {
   "cell_type": "markdown",
   "id": "140948c5",
   "metadata": {},
   "source": [
    "### Question 62:\n",
    "you're given X,y and  \n",
    "x = [1,3,4,5,6,7,9]\n",
    "y =[1,3,2,2,3,7,9]\n",
    "z = [\"A\" , \"B\",  \"C\" , \"D\", \"E\" , \"F\" , \"G\"] \n",
    "\n",
    "create: \n",
    "1. plot chart \n",
    "2. bar chart\n",
    "3. pie chart\n"
   ]
  },
  {
   "cell_type": "code",
   "execution_count": 8,
   "id": "907ebe38",
   "metadata": {
    "ExecuteTime": {
     "end_time": "2022-11-16T20:41:16.953734Z",
     "start_time": "2022-11-16T20:41:16.937789Z"
    }
   },
   "outputs": [],
   "source": [
    "x = [1,3,4,5,6,7,9]\n",
    "y =[1,3,2,2,3,7,9] \n",
    "z = [\"A\" , \"B\", \"C\" , \"D\", \"E\" , \"F\" , \"G\"]"
   ]
  },
  {
   "cell_type": "code",
   "execution_count": 9,
   "id": "48bd3784",
   "metadata": {
    "ExecuteTime": {
     "end_time": "2022-11-16T20:41:19.946160Z",
     "start_time": "2022-11-16T20:41:18.090099Z"
    }
   },
   "outputs": [],
   "source": [
    "import pandas as pd # Pandas\n",
    "import numpy as np # Numpy\n",
    "import matplotlib.pyplot as plt # Matplotlibrary\n",
    "import seaborn as sns # Seaborn Library\n",
    "%matplotlib inline"
   ]
  },
  {
   "cell_type": "code",
   "execution_count": 10,
   "id": "1fe86a9f",
   "metadata": {
    "ExecuteTime": {
     "end_time": "2022-11-16T20:41:20.322738Z",
     "start_time": "2022-11-16T20:41:20.106319Z"
    }
   },
   "outputs": [
    {
     "data": {
      "image/png": "[encoded data removed]",
      "text/plain": [
       "<Figure size 432x288 with 1 Axes>"
      ]
     },
     "metadata": {
      "needs_background": "light"
     },
     "output_type": "display_data"
    }
   ],
   "source": [
    "plt.xlabel('x')\n",
    "plt.ylabel('y')\n",
    "plt.title('the plot chart')\n",
    "plt.plot(x,y,color='green',linewidth=3)\n",
    "plt.show()"
   ]
  },
  {
   "cell_type": "code",
   "execution_count": 11,
   "id": "e6443f3c",
   "metadata": {
    "ExecuteTime": {
     "end_time": "2022-11-16T20:41:21.457460Z",
     "start_time": "2022-11-16T20:41:21.311822Z"
    }
   },
   "outputs": [
    {
     "data": {
      "image/png": "[encoded data removed]",
      "text/plain": [
       "<Figure size 432x288 with 1 Axes>"
      ]
     },
     "metadata": {
      "needs_background": "light"
     },
     "output_type": "display_data"
    }
   ],
   "source": [
    "plt.bar(x,y) \n",
    "plt.xlabel('x')\n",
    "plt.ylabel('y')\n",
    "plt.title('the bar chart')\n",
    "plt.show()"
   ]
  },
  {
   "cell_type": "code",
   "execution_count": 12,
   "id": "176bb3cd",
   "metadata": {
    "ExecuteTime": {
     "end_time": "2022-11-16T20:41:22.465611Z",
     "start_time": "2022-11-16T20:41:22.354907Z"
    }
   },
   "outputs": [
    {
     "data": {
      "image/png": "[encoded data removed]",
      "text/plain": [
       "<Figure size 432x288 with 1 Axes>"
      ]
     },
     "metadata": {},
     "output_type": "display_data"
    }
   ],
   "source": [
    "plt.pie(x,labels=z)\n",
    "plt.show()"
   ]
  },
  {
   "cell_type": "markdown",
   "id": "fa480f3c",
   "metadata": {},
   "source": [
    "### Question 63: \n",
    "Read image from your directory and display it here "
   ]
  },
  {
   "cell_type": "code",
   "execution_count": null,
   "id": "61be9558",
   "metadata": {
    "ExecuteTime": {
     "end_time": "2022-11-16T20:38:29.855545Z",
     "start_time": "2022-11-16T20:38:29.855545Z"
    }
   },
   "outputs": [],
   "source": [
    "!pip install opencv-python"
   ]
  },
  {
   "cell_type": "code",
   "execution_count": 59,
   "id": "36a758e9",
   "metadata": {
    "ExecuteTime": {
     "end_time": "2022-11-16T21:09:14.283154Z",
     "start_time": "2022-11-16T21:09:13.950207Z"
    }
   },
   "outputs": [],
   "source": [
    "import cv2"
   ]
  },
  {
   "cell_type": "code",
   "execution_count": 60,
   "id": "9d986a93",
   "metadata": {
    "ExecuteTime": {
     "end_time": "2022-11-16T21:09:14.536112Z",
     "start_time": "2022-11-16T21:09:14.459319Z"
    }
   },
   "outputs": [],
   "source": [
    "img = cv2.imread('piechart.png')"
   ]
  },
  {
   "cell_type": "code",
   "execution_count": null,
   "id": "67067133",
   "metadata": {
    "ExecuteTime": {
     "start_time": "2022-11-16T21:09:16.123Z"
    }
   },
   "outputs": [],
   "source": [
    "cv2.imshow('image',img)\n",
    "cv2.waitKey(0)\n",
    "cv2.destroyAllWindows()"
   ]
  },
  {
   "cell_type": "markdown",
   "id": "f32912df",
   "metadata": {},
   "source": [
    "### Question 64:\n",
    "Explain Gradient Descent ( with Details ) "
   ]
  },
  {
   "cell_type": "code",
   "execution_count": null,
   "id": "bd96e858",
   "metadata": {
    "ExecuteTime": {
     "end_time": "2022-11-16T20:38:29.867514Z",
     "start_time": "2022-11-16T20:38:29.867514Z"
    }
   },
   "outputs": [],
   "source": [
    "Gradient descent is a first-order optimization algorithm. It is dependent on the first order derivative of a loss function. It calculates that which way the weights should be altered so that the function can reach a minima. Through back propagation, the loss is transferred from one layer to another and the model’s parameters also known as weights are modified depending on the losses so that the loss can be minimized."
   ]
  },
  {
   "cell_type": "markdown",
   "id": "de6c7409",
   "metadata": {},
   "source": [
    "### Question 65:\n",
    "Create pandas dataframe as input from users\n",
    "\n",
    "name, \n",
    "age,\n",
    "id, \n",
    "gender,\n",
    "email, \n",
    "phone number, \n",
    "city,\n",
    "\n",
    "then \n",
    "\n",
    "a. group by city                       \n",
    "b. which city has the most students              \n",
    "c. get all the mails ending with @gmail.com\n",
    "d. get all vodafone phone numbers             \n",
    "e. get the average of ages for each gender               \n",
    "f. plot the relation between number of males to females           \n",
    "g. plot the relation between age and gender             "
   ]
  },
  {
   "cell_type": "code",
   "execution_count": 7,
   "id": "c0aab540",
   "metadata": {
    "ExecuteTime": {
     "end_time": "2022-11-16T20:41:05.411401Z",
     "start_time": "2022-11-16T20:38:33.664470Z"
    },
    "scrolled": true
   },
   "outputs": [
    {
     "name": "stdout",
     "output_type": "stream",
     "text": [
      "please enter the number of columns7\n",
      "please enter the column name: name\n",
      "please enter the column name: id\n",
      "please enter the column name: age\n",
      "please enter the column name: phone\n",
      "please enter the column name: gender\n",
      "please enter the column name: city\n",
      "please enter the column name: email\n",
      "please enter the number of rows: 3\n",
      "please enter the value of name: sara\n",
      "please enter the value of id: 111\n",
      "please enter the value of age: 22\n",
      "please enter the value of phone: 0113344\n",
      "please enter the value of gender: F\n",
      "please enter the value of city: cairo\n",
      "please enter the value of email: sara.gmail.com\n",
      "please enter the value of name: menna\n",
      "please enter the value of id: 222\n",
      "please enter the value of age: 13\n",
      "please enter the value of phone: 0223388\n",
      "please enter the value of gender: F\n",
      "please enter the value of city: giza\n",
      "please enter the value of email: menna.gmail.com\n",
      "please enter the value of name: samy\n",
      "please enter the value of id: 333\n",
      "please enter the value of age: 33\n",
      "please enter the value of phone: 0224499\n",
      "please enter the value of gender: M\n",
      "please enter the value of city: cairo\n",
      "please enter the value of email: samy.gmail.com\n"
     ]
    },
    {
     "data": {
      "text/html": [
       "<div>\n",
       "<style scoped>\n",
       "    .dataframe tbody tr th:only-of-type {\n",
       "        vertical-align: middle;\n",
       "    }\n",
       "\n",
       "    .dataframe tbody tr th {\n",
       "        vertical-align: top;\n",
       "    }\n",
       "\n",
       "    .dataframe thead th {\n",
       "        text-align: right;\n",
       "    }\n",
       "</style>\n",
       "<table border=\"1\" class=\"dataframe\">\n",
       "  <thead>\n",
       "    <tr style=\"text-align: right;\">\n",
       "      <th></th>\n",
       "      <th>name</th>\n",
       "      <th>id</th>\n",
       "      <th>age</th>\n",
       "      <th>phone</th>\n",
       "      <th>gender</th>\n",
       "      <th>city</th>\n",
       "      <th>email</th>\n",
       "    </tr>\n",
       "  </thead>\n",
       "  <tbody>\n",
       "    <tr>\n",
       "      <th>0</th>\n",
       "      <td>sara</td>\n",
       "      <td>111</td>\n",
       "      <td>22</td>\n",
       "      <td>0113344</td>\n",
       "      <td>F</td>\n",
       "      <td>cairo</td>\n",
       "      <td>sara.gmail.com</td>\n",
       "    </tr>\n",
       "    <tr>\n",
       "      <th>1</th>\n",
       "      <td>menna</td>\n",
       "      <td>222</td>\n",
       "      <td>13</td>\n",
       "      <td>0223388</td>\n",
       "      <td>F</td>\n",
       "      <td>giza</td>\n",
       "      <td>menna.gmail.com</td>\n",
       "    </tr>\n",
       "    <tr>\n",
       "      <th>2</th>\n",
       "      <td>samy</td>\n",
       "      <td>333</td>\n",
       "      <td>33</td>\n",
       "      <td>0224499</td>\n",
       "      <td>M</td>\n",
       "      <td>cairo</td>\n",
       "      <td>samy.gmail.com</td>\n",
       "    </tr>\n",
       "  </tbody>\n",
       "</table>\n",
       "</div>"
      ],
      "text/plain": [
       "    name   id age    phone gender   city            email\n",
       "0   sara  111  22  0113344      F  cairo   sara.gmail.com\n",
       "1  menna  222  13  0223388      F   giza  menna.gmail.com\n",
       "2   samy  333  33  0224499      M  cairo   samy.gmail.com"
      ]
     },
     "execution_count": 7,
     "metadata": {},
     "output_type": "execute_result"
    }
   ],
   "source": [
    "import pandas as pd\n",
    "columns = []\n",
    "data = dict()\n",
    "\n",
    "num = int(input(\"please enter the number of columns\"))\n",
    "while(num > 0):\n",
    "    columns.append(input(\"please enter the column name: \"))\n",
    "    num -=1\n",
    "\n",
    "for i in columns:\n",
    "    data[i] = []\n",
    "\n",
    "rows = int(input(\"please enter the number of rows: \"))\n",
    "while(rows > 0):\n",
    "    for i in data:\n",
    "        value = input(f\"please enter the value of {i}: \")\n",
    "        data[i].append(value)\n",
    "\n",
    "    rows-=1\n",
    "dataframe = pd.DataFrame(data)\n",
    "dataframe "
   ]
  },
  {
   "cell_type": "code",
   "execution_count": 13,
   "id": "19a679b2",
   "metadata": {
    "ExecuteTime": {
     "end_time": "2022-11-16T20:42:39.593407Z",
     "start_time": "2022-11-16T20:42:39.580442Z"
    }
   },
   "outputs": [
    {
     "data": {
      "text/plain": [
       "<pandas.core.groupby.generic.DataFrameGroupBy object at 0x0000019B764F9EB0>"
      ]
     },
     "execution_count": 13,
     "metadata": {},
     "output_type": "execute_result"
    }
   ],
   "source": [
    "x=dataframe.groupby(\"city\")\n",
    "x "
   ]
  },
  {
   "cell_type": "code",
   "execution_count": 15,
   "id": "9aaddecb",
   "metadata": {
    "ExecuteTime": {
     "end_time": "2022-11-16T20:47:26.495842Z",
     "start_time": "2022-11-16T20:47:26.479885Z"
    },
    "scrolled": false
   },
   "outputs": [
    {
     "name": "stdout",
     "output_type": "stream",
     "text": [
      "[' the gender Fthe mean is 73777.66666666667'\n",
      " ' the gender Mthe mean is 73777.66666666667']\n",
      "[' the gender Fthe mean is 73777.66666666667'\n",
      " ' the gender Mthe mean is 73777.66666666667']\n",
      "[' the gender Fthe mean is 73777.66666666667'\n",
      " ' the gender Mthe mean is 73777.66666666667']\n",
      "[' the gender Fthe mean is 73777.66666666667'\n",
      " ' the gender Mthe mean is 73777.66666666667']\n",
      "[' the gender Fthe mean is 73777.66666666667'\n",
      " ' the gender Mthe mean is 73777.66666666667']\n",
      "[' the gender Fthe mean is 73777.66666666667'\n",
      " ' the gender Mthe mean is 73777.66666666667']\n",
      "[' the gender Fthe mean is 73777.66666666667'\n",
      " ' the gender Mthe mean is 73777.66666666667']\n"
     ]
    }
   ],
   "source": [
    "for i in dataframe:\n",
    "    print(\" the gender \"+ dataframe[\"gender\"].unique() +\"the mean is \" +str(dataframe[\"age\"].mean()))"
   ]
  },
  {
   "cell_type": "code",
   "execution_count": 19,
   "id": "e9b5bd14",
   "metadata": {
    "ExecuteTime": {
     "end_time": "2022-11-16T20:51:24.046514Z",
     "start_time": "2022-11-16T20:51:24.040534Z"
    }
   },
   "outputs": [],
   "source": [
    "import re "
   ]
  },
  {
   "cell_type": "code",
   "execution_count": 26,
   "id": "b99e2bbf",
   "metadata": {
    "ExecuteTime": {
     "end_time": "2022-11-16T20:55:55.224672Z",
     "start_time": "2022-11-16T20:55:55.207746Z"
    }
   },
   "outputs": [
    {
     "data": {
      "text/plain": [
       "\"pattern = re.compile(r'[a-zA-Z.-]+[a-zA-Z-]+\\\\.(com|edu|net)')\\nmatches = pattern.finditer(dataframe)\\n\\nfor match in matches:\\n    print(match)\""
      ]
     },
     "execution_count": 26,
     "metadata": {},
     "output_type": "execute_result"
    }
   ],
   "source": [
    "pattern = re.compile(r'[a-zA-Z.-]+[a-zA-Z-]+\\.(com|edu|net)')\n",
    "matches = pattern.finditer(dataframe)\n",
    "\n",
    "for match in matches:\n",
    "    print(match)"
   ]
  },
  {
   "cell_type": "code",
   "execution_count": 25,
   "id": "321e28bd",
   "metadata": {
    "ExecuteTime": {
     "end_time": "2022-11-16T20:55:29.386003Z",
     "start_time": "2022-11-16T20:55:29.364036Z"
    }
   },
   "outputs": [
    {
     "data": {
      "text/plain": [
       "\"pattern = re.compile(r'\\\\d+')\\nmatches = pattern.finditer(dataframe)\\n\\nfor match in matches:\\n    print(match)\""
      ]
     },
     "execution_count": 25,
     "metadata": {},
     "output_type": "execute_result"
    }
   ],
   "source": [
    "pattern = re.compile(r'\\d+')\n",
    "matches = pattern.finditer(dataframe)\n",
    "\n",
    "for match in matches:\n",
    "    print(match)"
   ]
  },
  {
   "cell_type": "code",
   "execution_count": 54,
   "id": "ca6354a3",
   "metadata": {
    "ExecuteTime": {
     "end_time": "2022-11-16T21:07:05.490095Z",
     "start_time": "2022-11-16T21:07:05.485110Z"
    }
   },
   "outputs": [],
   "source": [
    "tips = sns.load_dataset(\"dataframe\") "
   ]
  },
  {
   "cell_type": "code",
   "execution_count": 55,
   "id": "1387173f",
   "metadata": {
    "ExecuteTime": {
     "end_time": "2022-11-16T21:07:07.690456Z",
     "start_time": "2022-11-16T21:07:07.683447Z"
    }
   },
   "outputs": [],
   "source": [
    "sns.barplot(x = \"gender\", y = \"age\", data =tips)"
   ]
  },
  {
   "cell_type": "code",
   "execution_count": 58,
   "id": "71fb335f",
   "metadata": {
    "ExecuteTime": {
     "end_time": "2022-11-16T21:08:58.754390Z",
     "start_time": "2022-11-16T21:08:58.744401Z"
    }
   },
   "outputs": [],
   "source": [
    "sns.distplot(tips[\"gender\"],  color=\"purple\")"
   ]
  },
  {
   "attachments": {
    "images.jpg": {
     "image/jpeg": "[encoded data removed]"
    }
   },
   "cell_type": "markdown",
   "id": "2c124077",
   "metadata": {},
   "source": [
    "### Best Wishes \n",
    "![images.jpg](attachment:images.jpg)"
   ]
  },
  {
   "cell_type": "code",
   "execution_count": null,
   "id": "61269543",
   "metadata": {},
   "outputs": [],
   "source": []
  }
 ],
 "metadata": {
  "kernelspec": {
   "display_name": "Python 3 (ipykernel)",
   "language": "python",
   "name": "python3"
  },
  "language_info": {
   "codemirror_mode": {
    "name": "ipython",
    "version": 3
   },
   "file_extension": ".py",
   "mimetype": "text/x-python",
   "name": "python",
   "nbconvert_exporter": "python",
   "pygments_lexer": "ipython3",
   "version": "3.9.12"
  },
  "toc": {
   "base_numbering": 1,
   "nav_menu": {},
   "number_sections": false,
   "sideBar": true,
   "skip_h1_title": false,
   "title_cell": "Table of Contents",
   "title_sidebar": "Contents",
   "toc_cell": false,
   "toc_position": {
    "height": "calc(100% - 180px)",
    "left": "10px",
    "top": "150px",
    "width": "165px"
   },
   "toc_section_display": true,
   "toc_window_display": false
  },
  "varInspector": {
   "cols": {
    "lenName": 16,
    "lenType": 16,
    "lenVar": 40
   },
   "kernels_config": {
    "python": {
     "delete_cmd_postfix": "",
     "delete_cmd_prefix": "del ",
     "library": "var_list.py",
     "varRefreshCmd": "print(var_dic_list())"
    },
    "r": {
     "delete_cmd_postfix": ") ",
     "delete_cmd_prefix": "rm(",
     "library": "var_list.r",
     "varRefreshCmd": "cat(var_dic_list()) "
    }
   },
   "types_to_exclude": [
    "module",
    "function",
    "builtin_function_or_method",
    "instance",
    "_Feature"
   ],
   "window_display": false
  }
 },
 "nbformat": 4,
 "nbformat_minor": 5
}
