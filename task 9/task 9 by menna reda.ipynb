{
 "cells": [
  {
   "cell_type": "code",
   "execution_count": 1,
   "id": "6f725bcf",
   "metadata": {
    "ExecuteTime": {
     "end_time": "2022-08-31T04:29:58.208846Z",
     "start_time": "2022-08-31T04:29:58.181920Z"
    }
   },
   "outputs": [],
   "source": [
    "import information_f"
   ]
  },
  {
   "cell_type": "code",
   "execution_count": 2,
   "id": "e3ebfe42",
   "metadata": {
    "ExecuteTime": {
     "end_time": "2022-08-31T04:30:36.651410Z",
     "start_time": "2022-08-31T04:30:36.644629Z"
    }
   },
   "outputs": [],
   "source": [
    "import re"
   ]
  },
  {
   "cell_type": "code",
   "execution_count": 11,
   "id": "4e950160",
   "metadata": {
    "ExecuteTime": {
     "end_time": "2022-08-31T04:53:21.105429Z",
     "start_time": "2022-08-31T04:53:21.080571Z"
    }
   },
   "outputs": [
    {
     "name": "stdout",
     "output_type": "stream",
     "text": [
      "numbers of names:  20\n"
     ]
    },
    {
     "data": {
      "text/plain": [
       "['Ahmed Mohamed Sabaan ',\n",
       " 'Bassant Sayed Hasaan ',\n",
       " 'Amira Hassan Mostafa ',\n",
       " 'Menna Allah Reda ',\n",
       " 'Radwa Mohamed Samy ',\n",
       " 'Mariam Hussan Samy ',\n",
       " 'Mahmoud Mohamed Samy ',\n",
       " 'Donia Samy Mohamed ',\n",
       " 'Sara Mohamed Elshamy ',\n",
       " 'Eslam Zenhom Gamel ',\n",
       " 'Gamal Samy ZEnhom ',\n",
       " 'Ahmed Samy Mostafa ',\n",
       " 'Ahmed Mohamed Gamel ',\n",
       " 'Ahmed Fayez Sabaan ',\n",
       " 'Ahmed Lotfy Samy ',\n",
       " 'Ahmed Mahoud Raby ',\n",
       " 'Mohamed Hussan Sayed ',\n",
       " 'Mohamed Mohamed Elshamy ',\n",
       " 'Donia Sayed Mahfoz ',\n",
       " 'Sara Hafez Shawky ']"
      ]
     },
     "execution_count": 11,
     "metadata": {},
     "output_type": "execute_result"
    }
   ],
   "source": [
    "pattern=re.compile(r\"[a-zA-Z]+\\s[a-zA-Z]+\\s[a-zA-Z]+\\s\")\n",
    "matches=pattern.finditer(information_f.clientinfo)\n",
    "client_names=[]\n",
    "counter=0\n",
    "for match in matches:\n",
    "    client_names.append(information_f.clientinfo[match.span()[0]:match.span()[1]])\n",
    "    counter+=1\n",
    "print(\"numbers of names: \", counter)\n",
    "client_names"
   ]
  },
  {
   "cell_type": "code",
   "execution_count": 12,
   "id": "ab99f700",
   "metadata": {
    "ExecuteTime": {
     "end_time": "2022-08-31T04:53:30.873124Z",
     "start_time": "2022-08-31T04:53:30.857168Z"
    }
   },
   "outputs": [
    {
     "name": "stdout",
     "output_type": "stream",
     "text": [
      "numbers of mails:  20\n"
     ]
    },
    {
     "data": {
      "text/plain": [
       "['Ahmed123@yahoo.com',\n",
       " 'Bassant-2@mywork.net',\n",
       " 'Amira4@uni.edu',\n",
       " 'Menna239@gmail.com',\n",
       " 'Radwa@gmail.com',\n",
       " 'Mariam66@universty.edu',\n",
       " 'Mahmoud.2@yahoo.com',\n",
       " 'Doniasamy@uni.org',\n",
       " 'Sara77@uni.org',\n",
       " 'Esalm@gmail.com',\n",
       " 'Gamal.222@up.net',\n",
       " 'Ahmed@gmail.com',\n",
       " 'AH345@gmail.com',\n",
       " 'AHF.2@yahoo.com',\n",
       " 'lot@up.net',\n",
       " 'Raby88@kids.net',\n",
       " 'Mohamed.h@yahoo.com',\n",
       " 'Mohamed222@yahoo.com',\n",
       " 'Donia@mywork.org',\n",
       " 'Sara22.2@yahoo.com']"
      ]
     },
     "execution_count": 12,
     "metadata": {},
     "output_type": "execute_result"
    }
   ],
   "source": [
    "pattern=re.compile(r\"[a-zA-Z0-9_.+-]+@[a-zA-Z0-9_]+\\.[a-zA-Z0-9_.]+\")\n",
    "matches=pattern.finditer(information_f.clientinfo)\n",
    "client_mails=[]\n",
    "counter=0\n",
    "for match in matches:\n",
    "    client_mails.append(information_f.clientinfo[match.span()[0]:match.span()[1]])\n",
    "    counter+=1\n",
    "print(\"numbers of mails: \", counter)\n",
    "client_mails"
   ]
  },
  {
   "cell_type": "code",
   "execution_count": 13,
   "id": "808cf69d",
   "metadata": {
    "ExecuteTime": {
     "end_time": "2022-08-31T04:56:43.978288Z",
     "start_time": "2022-08-31T04:56:43.959264Z"
    }
   },
   "outputs": [
    {
     "name": "stdout",
     "output_type": "stream",
     "text": [
      "numbers of phonenums:  20\n"
     ]
    },
    {
     "data": {
      "text/plain": [
       "['01122727762',\n",
       " '01033484420',\n",
       " '01222789906',\n",
       " '01002292778',\n",
       " '01003893664',\n",
       " '01522865543',\n",
       " '01122334455',\n",
       " '01003355663',\n",
       " '01244228899',\n",
       " '01133448899',\n",
       " '01099863328',\n",
       " '01133223322',\n",
       " '01001122334',\n",
       " '01122927765',\n",
       " '01122990077',\n",
       " '01566778899',\n",
       " '01244556677',\n",
       " '01244779900',\n",
       " '01522334455',\n",
       " '01255448899']"
      ]
     },
     "execution_count": 13,
     "metadata": {},
     "output_type": "execute_result"
    }
   ],
   "source": [
    "pattern=re.compile(r\"(010|011|012|015)\\d{8}\")\n",
    "matches=pattern.finditer(information_f.clientinfo)\n",
    "client_nums=[]\n",
    "counter=0\n",
    "for match in matches:\n",
    "    client_nums.append(information_f.clientinfo[match.span()[0]:match.span()[1]])\n",
    "    counter+=1\n",
    "print(\"numbers of phonenums: \", counter)\n",
    "client_nums"
   ]
  },
  {
   "cell_type": "code",
   "execution_count": null,
   "id": "daa4f13a",
   "metadata": {},
   "outputs": [],
   "source": []
  }
 ],
 "metadata": {
  "kernelspec": {
   "display_name": "Python 3 (ipykernel)",
   "language": "python",
   "name": "python3"
  },
  "language_info": {
   "codemirror_mode": {
    "name": "ipython",
    "version": 3
   },
   "file_extension": ".py",
   "mimetype": "text/x-python",
   "name": "python",
   "nbconvert_exporter": "python",
   "pygments_lexer": "ipython3",
   "version": "3.9.12"
  },
  "toc": {
   "base_numbering": 1,
   "nav_menu": {},
   "number_sections": true,
   "sideBar": true,
   "skip_h1_title": false,
   "title_cell": "Table of Contents",
   "title_sidebar": "Contents",
   "toc_cell": false,
   "toc_position": {},
   "toc_section_display": true,
   "toc_window_display": false
  },
  "varInspector": {
   "cols": {
    "lenName": 16,
    "lenType": 16,
    "lenVar": 40
   },
   "kernels_config": {
    "python": {
     "delete_cmd_postfix": "",
     "delete_cmd_prefix": "del ",
     "library": "var_list.py",
     "varRefreshCmd": "print(var_dic_list())"
    },
    "r": {
     "delete_cmd_postfix": ") ",
     "delete_cmd_prefix": "rm(",
     "library": "var_list.r",
     "varRefreshCmd": "cat(var_dic_list()) "
    }
   },
   "types_to_exclude": [
    "module",
    "function",
    "builtin_function_or_method",
    "instance",
    "_Feature"
   ],
   "window_display": false
  }
 },
 "nbformat": 4,
 "nbformat_minor": 5
}
