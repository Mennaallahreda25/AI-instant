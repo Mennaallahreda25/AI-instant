{
 "cells": [
  {
   "cell_type": "code",
   "execution_count": 1,
   "id": "dc9de7bc",
   "metadata": {
    "ExecuteTime": {
     "end_time": "2022-10-02T00:10:52.408691Z",
     "start_time": "2022-10-02T00:10:47.597074Z"
    }
   },
   "outputs": [],
   "source": [
    "#statistical tests"
   ]
  },
  {
   "cell_type": "code",
   "execution_count": null,
   "id": "70e12833",
   "metadata": {},
   "outputs": [],
   "source": [
    "Statistical tests are tests that are used to analyse data from experiments.\n",
    "There are two types of tests; parametric and non-parametric tests. Parametric tests are used on normally distributed data, and non-parametric tests on data that is not normally distributed.\n",
    "The sign test is non-parametric.\n",
    "The sign test is used for within-group studies (only one group of participants). However, two groups of participants could be used under a ‘matched-pairs’ design. The sign test assesses the difference between two conditions used on categorical data."
   ]
  },
  {
   "cell_type": "code",
   "execution_count": null,
   "id": "2cc561c9",
   "metadata": {},
   "outputs": [],
   "source": [
    "Significance tests provide researchers with a statistical value used to measure how likely the results from research are due to chance. If the value is lower than .05, then the results are statistically significant. "
   ]
  },
  {
   "cell_type": "code",
   "execution_count": null,
   "id": "7c247bbe",
   "metadata": {},
   "outputs": [],
   "source": [
    "The type of statistical test used depends on: \n",
    "\n",
    "Whether the assumptions are met or violated of parametric and non-parametric tests\n",
    "What the hypothesis aims to measure, e.g., a correlation when the research aims to measure the association between sunlight exposure and growth of plants."
   ]
  },
  {
   "cell_type": "code",
   "execution_count": null,
   "id": "331de9cd",
   "metadata": {},
   "outputs": [],
   "source": [
    "#Parametric tests\n",
    "Parametric tests are a type of statistical test used to test hypotheses. A criterion for the data needs to be met to use parametric tests. The criteria are:\n",
    "\n",
    "Data must be normally distributed.\n",
    "\n",
    "Homogeneity of variance – the amount of ‘noise’ (potential experimental errors) should be similar in each variable and between groups.\n",
    "\n",
    "There should be no extreme outliers.\n",
    "\n",
    "Independence – the data from each participant in each variable should not be correlated. Measurements from a participant should not be influenced or associated with other participants."
   ]
  },
  {
   "cell_type": "code",
   "execution_count": null,
   "id": "baf8c72f",
   "metadata": {},
   "outputs": [],
   "source": [
    "#Parametric test==> What it measures==> Example research scenario\n",
    "1) Correlation==> The relationship (strength and direction) between two variables==> The relationship between fitness test scores and the number of hours spent exercising\n",
    "2) Paired t-test==> Compares the mean value of two variables obtained from the same participants==> The difference in depression scores in a group of patients before and after treatment\n",
    "3) Unpaired t-test==> Compares the mean value of a variable measured from two independent (different groups)==> The difference between depression symptom severity in a placebo and drug therapy group\n",
    "4) One-way Analysis of Variance (ANOVA)==> Compares the mean of two or more independent groups (uses a between-subject design and the independent variable needs to have three or more levels)==> The difference in average fitness test scores of individuals who exercise frequently, moderately, or do not exercise\n",
    "5) One-way Repeated Measures (ANOVA)==> Compares the mean of three or more conditions when the participants are the same in each group (uses a within-subject design and the independent variable needs to have three or more levels)==> The difference in average fitness test scores during the morning, afternoon and evening"
   ]
  },
  {
   "cell_type": "code",
   "execution_count": null,
   "id": "f46a3df4",
   "metadata": {},
   "outputs": [],
   "source": [
    "#Non-parametric tests\n",
    "Non-parametric tests can be used when data is not normally distributed. There are several non-parametric tests. One we will be looking at here is the sign test.\n",
    "\n",
    "#Sign test\n",
    "The sign test is used for within-group studies (only one group of participants). However, two groups of participants could be used under a ‘matched-pairs’ design. The sign test assesses the difference between two conditions used on categorical data.\n",
    "#example\n",
    "A researcher aims to identify a difference between patients’ anxiety scores before and after 12 weeks of cognitive behavioural therapy (CBT)."
   ]
  },
  {
   "cell_type": "code",
   "execution_count": null,
   "id": "c07224cc",
   "metadata": {},
   "outputs": [],
   "source": [
    "#Types of errors in hypothesis testing\n",
    "Researchers can sometimes make a Type 1 or Type 2 error when carrying out research. When either error occurs in research, then it lacks validity.\n",
    "\n",
    "Type 1 error: rejecting the null hypothesis when it is true (false positive), which happens when the researcher identifies that their data is significant when it is not.\n",
    "\n",
    "Type 2 error: mistakenly accepting the null hypothesis and rejecting the alternative hypothesis when it is true."
   ]
  }
 ],
 "metadata": {
  "kernelspec": {
   "display_name": "Python 3 (ipykernel)",
   "language": "python",
   "name": "python3"
  },
  "language_info": {
   "codemirror_mode": {
    "name": "ipython",
    "version": 3
   },
   "file_extension": ".py",
   "mimetype": "text/x-python",
   "name": "python",
   "nbconvert_exporter": "python",
   "pygments_lexer": "ipython3",
   "version": "3.9.12"
  },
  "toc": {
   "base_numbering": 1,
   "nav_menu": {},
   "number_sections": true,
   "sideBar": true,
   "skip_h1_title": false,
   "title_cell": "Table of Contents",
   "title_sidebar": "Contents",
   "toc_cell": false,
   "toc_position": {},
   "toc_section_display": true,
   "toc_window_display": false
  },
  "varInspector": {
   "cols": {
    "lenName": 16,
    "lenType": 16,
    "lenVar": 40
   },
   "kernels_config": {
    "python": {
     "delete_cmd_postfix": "",
     "delete_cmd_prefix": "del ",
     "library": "var_list.py",
     "varRefreshCmd": "print(var_dic_list())"
    },
    "r": {
     "delete_cmd_postfix": ") ",
     "delete_cmd_prefix": "rm(",
     "library": "var_list.r",
     "varRefreshCmd": "cat(var_dic_list()) "
    }
   },
   "types_to_exclude": [
    "module",
    "function",
    "builtin_function_or_method",
    "instance",
    "_Feature"
   ],
   "window_display": false
  }
 },
 "nbformat": 4,
 "nbformat_minor": 5
}
