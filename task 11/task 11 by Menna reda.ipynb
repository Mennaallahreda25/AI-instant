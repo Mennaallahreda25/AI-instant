{
 "cells": [
  {
   "cell_type": "code",
   "execution_count": 1,
   "id": "d4e5bf6e",
   "metadata": {
    "ExecuteTime": {
     "end_time": "2022-09-10T01:50:23.039111Z",
     "start_time": "2022-09-10T01:50:23.020163Z"
    }
   },
   "outputs": [],
   "source": [
    "#image scraping"
   ]
  },
  {
   "cell_type": "code",
   "execution_count": 2,
   "id": "5f2d7215",
   "metadata": {
    "ExecuteTime": {
     "end_time": "2022-09-10T01:50:24.792606Z",
     "start_time": "2022-09-10T01:50:23.047478Z"
    }
   },
   "outputs": [
    {
     "name": "stdout",
     "output_type": "stream",
     "text": [
      "https://media.geeksforgeeks.org/gfg-gg-logo.svg\n",
      "https://media.geeksforgeeks.org/wp-content/cdn-uploads/write_ndi_20210312.svg\n",
      "https://media.geeksforgeeks.org/wp-content/cdn-uploads/practice_ndi_20210312.svg\n",
      "https://media.geeksforgeeks.org/wp-content/cdn-uploads/premium_ndi_20210312.svg\n",
      "https://media.geeksforgeeks.org/wp-content/cdn-uploads/jobs_ndi_20210312.svg\n",
      "https://media.geeksforgeeks.org/wp-content/cdn-uploads/20220805183149/image16.png\n",
      "https://videocdn.geeksforgeeks.org/geeksforgeeks/PythonprogramtoappendStringtoList/AppendStringtoListPythonProgram20220909183200-small.png\n",
      "https://videocdn.geeksforgeeks.org/geeksforgeeks/GeneratingrandomnumbersusingCprogram/GeneratingrandomnumbersusingCprogram20220909170257-small.png\n",
      "https://videocdn.geeksforgeeks.org/geeksforgeeks/CprogramtocalculatethenCr/CprogramtocalculatethenCr20220909135106-small.png\n",
      "https://videocdn.geeksforgeeks.org/geeksforgeeks/SyntaxDirectedTranslationSDTinCompilerDesign/SDTincompilerdesign20220909123819-small.png\n",
      "https://videocdn.geeksforgeeks.org/geeksforgeeks/Pythonprogramtofindareaofcircle/Pythonprogramtofindareaofcircle20220909130047-small.png\n",
      "https://videocdn.geeksforgeeks.org/geeksforgeeks/Javascriptprogramtofindlargestof3numbers/Javascriptprogramtofindlargestof3numbers20220908151636-small.png\n",
      "https://videocdn.geeksforgeeks.org/geeksforgeeks/CProgramtoMultiplyTwoNumbers/CProgramtoMultiplyTwoNumbers20220908150144-small.png\n",
      "https://videocdn.geeksforgeeks.org/geeksforgeeks/GettingJSONDatainTableau/611GettingJSONDatainTableau20220908140315-small.png\n",
      "https://videocdn.geeksforgeeks.org/geeksforgeeks/Pythonprogramtofinddifferencebetweentwodatesinminutes/Pythonprogramtofinddifferencebetweentwodates20220907173010-small.png\n",
      "https://videocdn.geeksforgeeks.org/geeksforgeeks/Javascriptprogramtoreverseastring/JSprogramtoreverseastring20220907172641-small.png\n",
      "https://media.geeksforgeeks.org/wp-content/post-ads-banner/2021-12-29-11-18-16-DSA_Ad_icon (1).png\n",
      "https://media.geeksforgeeks.org/wp-content/post-ads-banner/2021-12-29-16-30-50-CIP_Icon.png\n",
      "https://media.geeksforgeeks.org/wp-content/post-ads-banner/2022-07-27-23-40-15-image.png\n",
      "\n"
     ]
    }
   ],
   "source": [
    "import requests\n",
    "from bs4 import BeautifulSoup\n",
    "\t\n",
    "def getdata(url):\n",
    "\tr = requests.get(url)\n",
    "\treturn r.text\n",
    "\t\n",
    "htmldata = getdata(\"https://www.geeksforgeeks.org/\")\n",
    "soup = BeautifulSoup(htmldata, 'html.parser')\n",
    "for item in soup.find_all('img'):\n",
    "\tprint(item['src'])\n"
   ]
  },
  {
   "cell_type": "code",
   "execution_count": 3,
   "id": "c1e3ecdb",
   "metadata": {
    "ExecuteTime": {
     "end_time": "2022-09-10T01:50:25.508865Z",
     "start_time": "2022-09-10T01:50:24.796629Z"
    }
   },
   "outputs": [
    {
     "name": "stdout",
     "output_type": "stream",
     "text": [
      "https://media.geeksforgeeks.org/gfg-gg-logo.svg\n",
      "https://media.geeksforgeeks.org/wp-content/cdn-uploads/write_ndi_20210312.svg\n",
      "https://media.geeksforgeeks.org/wp-content/cdn-uploads/practice_ndi_20210312.svg\n",
      "https://media.geeksforgeeks.org/wp-content/cdn-uploads/premium_ndi_20210312.svg\n",
      "https://media.geeksforgeeks.org/wp-content/cdn-uploads/jobs_ndi_20210312.svg\n",
      "https://media.geeksforgeeks.org/wp-content/cdn-uploads/20220805183149/image16.png\n",
      "https://videocdn.geeksforgeeks.org/geeksforgeeks/PythonprogramtoappendStringtoList/AppendStringtoListPythonProgram20220909183200-small.png\n",
      "https://videocdn.geeksforgeeks.org/geeksforgeeks/GeneratingrandomnumbersusingCprogram/GeneratingrandomnumbersusingCprogram20220909170257-small.png\n",
      "https://videocdn.geeksforgeeks.org/geeksforgeeks/CprogramtocalculatethenCr/CprogramtocalculatethenCr20220909135106-small.png\n",
      "https://videocdn.geeksforgeeks.org/geeksforgeeks/SyntaxDirectedTranslationSDTinCompilerDesign/SDTincompilerdesign20220909123819-small.png\n",
      "https://videocdn.geeksforgeeks.org/geeksforgeeks/Pythonprogramtofindareaofcircle/Pythonprogramtofindareaofcircle20220909130047-small.png\n",
      "https://videocdn.geeksforgeeks.org/geeksforgeeks/Javascriptprogramtofindlargestof3numbers/Javascriptprogramtofindlargestof3numbers20220908151636-small.png\n",
      "https://videocdn.geeksforgeeks.org/geeksforgeeks/CProgramtoMultiplyTwoNumbers/CProgramtoMultiplyTwoNumbers20220908150144-small.png\n",
      "https://videocdn.geeksforgeeks.org/geeksforgeeks/GettingJSONDatainTableau/611GettingJSONDatainTableau20220908140315-small.png\n",
      "https://videocdn.geeksforgeeks.org/geeksforgeeks/Pythonprogramtofinddifferencebetweentwodatesinminutes/Pythonprogramtofinddifferencebetweentwodates20220907173010-small.png\n",
      "https://videocdn.geeksforgeeks.org/geeksforgeeks/Javascriptprogramtoreverseastring/JSprogramtoreverseastring20220907172641-small.png\n",
      "https://media.geeksforgeeks.org/wp-content/post-ads-banner/2021-12-29-11-18-16-DSA_Ad_icon (1).png\n",
      "https://media.geeksforgeeks.org/wp-content/post-ads-banner/2021-12-29-16-30-50-CIP_Icon.png\n",
      "https://media.geeksforgeeks.org/wp-content/post-ads-banner/2022-07-27-23-40-15-image.png\n",
      "\n"
     ]
    }
   ],
   "source": [
    "from urllib.request import urlopen\n",
    "from bs4 import BeautifulSoup\n",
    "\n",
    "htmldata = urlopen('https://www.geeksforgeeks.org/')\n",
    "soup = BeautifulSoup(htmldata, 'html.parser')\n",
    "images = soup.find_all('img')\n",
    "\n",
    "for item in images:\n",
    "\tprint(item['src'])\n"
   ]
  },
  {
   "cell_type": "code",
   "execution_count": 4,
   "id": "ed42eab6",
   "metadata": {
    "ExecuteTime": {
     "end_time": "2022-09-10T01:50:25.585842Z",
     "start_time": "2022-09-10T01:50:25.511843Z"
    }
   },
   "outputs": [],
   "source": [
    "#DOWNLOAD IMAGES FROM WEB"
   ]
  },
  {
   "cell_type": "code",
   "execution_count": 5,
   "id": "5c3b1418",
   "metadata": {
    "ExecuteTime": {
     "end_time": "2022-09-10T01:50:58.821730Z",
     "start_time": "2022-09-10T01:50:25.592684Z"
    }
   },
   "outputs": [
    {
     "name": "stdout",
     "output_type": "stream",
     "text": [
      "Enter URL:- https://www.nationalgeographic.com/animals/mammals/facts/domestic-cat\n",
      "Enter Folder Name:- b-cats\n",
      "Total 6 Image Found!\n",
      "Total 2 Images Downloaded Out of 6\n"
     ]
    }
   ],
   "source": [
    "from bs4 import *\n",
    "import requests\n",
    "import os\n",
    "\n",
    "# CREATE FOLDER\n",
    "def folder_create(images):\n",
    "\ttry:\n",
    "\t\tfolder_name = input(\"Enter Folder Name:- \")\n",
    "\t\t# folder creation\n",
    "\t\tos.mkdir(folder_name)\n",
    "\n",
    "\t# if folder exists with that name, ask another name\n",
    "\texcept:\n",
    "\t\tprint(\"Folder Exist with that name!\")\n",
    "\t\tfolder_create()\n",
    "\n",
    "\t# image downloading start\n",
    "\tdownload_images(images, folder_name)\n",
    "\n",
    "\n",
    "# DOWNLOAD ALL IMAGES FROM THAT URL\n",
    "def download_images(images, folder_name):\n",
    "\n",
    "\t# initial count is zero\n",
    "\tcount = 0\n",
    "\n",
    "\t# print total images found in URL\n",
    "\tprint(f\"Total {len(images)} Image Found!\")\n",
    "\n",
    "\t# checking if images is not zero\n",
    "\tif len(images) != 0:\n",
    "\t\tfor i, image in enumerate(images):\n",
    "\t\t\t# From image tag ,Fetch image Source URL\n",
    "\n",
    "\t\t\t\t\t\t# 1.data-srcset\n",
    "\t\t\t\t\t\t# 2.data-src\n",
    "\t\t\t\t\t\t# 3.data-fallback-src\n",
    "\t\t\t\t\t\t# 4.src\n",
    "\n",
    "\t\t\t# Here we will use exception handling\n",
    "\n",
    "\t\t\t# first we will search for \"data-srcset\" in img tag\n",
    "\t\t\ttry:\n",
    "\t\t\t\t# In image tag ,searching for \"data-srcset\"\n",
    "\t\t\t\timage_link = image[\"data-srcset\"]\n",
    "\t\t\t\t\n",
    "\t\t\t# then we will search for \"data-src\" in img\n",
    "\t\t\t# tag and so on..\n",
    "\t\t\texcept:\n",
    "\t\t\t\ttry:\n",
    "\t\t\t\t\t# In image tag ,searching for \"data-src\"\n",
    "\t\t\t\t\timage_link = image[\"data-src\"]\n",
    "\t\t\t\texcept:\n",
    "\t\t\t\t\ttry:\n",
    "\t\t\t\t\t\t# In image tag ,searching for \"data-fallback-src\"\n",
    "\t\t\t\t\t\timage_link = image[\"data-fallback-src\"]\n",
    "\t\t\t\t\texcept:\n",
    "\t\t\t\t\t\ttry:\n",
    "\t\t\t\t\t\t\t# In image tag ,searching for \"src\"\n",
    "\t\t\t\t\t\t\timage_link = image[\"src\"]\n",
    "\n",
    "\t\t\t\t\t\t# if no Source URL found\n",
    "\t\t\t\t\t\texcept:\n",
    "\t\t\t\t\t\t\tpass\n",
    "\n",
    "\t\t\t# After getting Image Source URL\n",
    "\t\t\t# We will try to get the content of image\n",
    "\t\t\ttry:\n",
    "\t\t\t\tr = requests.get(image_link).content\n",
    "\t\t\t\ttry:\n",
    "\n",
    "\t\t\t\t\t# possibility of decode\n",
    "\t\t\t\t\tr = str(r, 'utf-8')\n",
    "\n",
    "\t\t\t\texcept UnicodeDecodeError:\n",
    "\n",
    "\t\t\t\t\t# After checking above condition, Image Download start\n",
    "\t\t\t\t\twith open(f\"{folder_name}/images{i+1}.jpg\", \"wb+\") as f:\n",
    "\t\t\t\t\t\tf.write(r)\n",
    "\n",
    "\t\t\t\t\t# counting number of image downloaded\n",
    "\t\t\t\t\tcount += 1\n",
    "\t\t\texcept:\n",
    "\t\t\t\tpass\n",
    "\n",
    "\t\t# There might be possible, that all\n",
    "\t\t# images not download\n",
    "\t\t# if all images download\n",
    "\t\tif count == len(images):\n",
    "\t\t\tprint(\"All Images Downloaded!\")\n",
    "\t\t\t\n",
    "\t\t# if all images not download\n",
    "\t\telse:\n",
    "\t\t\tprint(f\"Total {count} Images Downloaded Out of {len(images)}\")\n",
    "\n",
    "# MAIN FUNCTION START\n",
    "def main(url):\n",
    "\n",
    "\t# content of URL\n",
    "\tr = requests.get(url)\n",
    "\n",
    "\t# Parse HTML Code\n",
    "\tsoup = BeautifulSoup(r.text, 'html.parser')\n",
    "\n",
    "\t# find all images in URL\n",
    "\timages = soup.findAll('img')\n",
    "\n",
    "\t# Call folder create function\n",
    "\tfolder_create(images)\n",
    "\n",
    "\n",
    "# take url\n",
    "url = input(\"Enter URL:- \")\n",
    "\n",
    "# CALL MAIN FUNCTION\n",
    "main(url)\n"
   ]
  },
  {
   "cell_type": "code",
   "execution_count": 6,
   "id": "e8e6e25d",
   "metadata": {
    "ExecuteTime": {
     "end_time": "2022-09-10T01:50:58.837525Z",
     "start_time": "2022-09-10T01:50:58.828875Z"
    }
   },
   "outputs": [],
   "source": [
    "#video download from youtube"
   ]
  },
  {
   "cell_type": "code",
   "execution_count": 5,
   "id": "b24f8965",
   "metadata": {
    "ExecuteTime": {
     "end_time": "2022-09-10T02:16:57.433069Z",
     "start_time": "2022-09-10T02:16:57.394190Z"
    }
   },
   "outputs": [],
   "source": [
    "from pytube import YouTube"
   ]
  },
  {
   "cell_type": "code",
   "execution_count": 6,
   "id": "7aa25c44",
   "metadata": {
    "ExecuteTime": {
     "end_time": "2022-09-10T02:16:59.792169Z",
     "start_time": "2022-09-10T02:16:59.779202Z"
    }
   },
   "outputs": [],
   "source": [
    "video_url = 'https://youtu.be/WsLrpCPGu-Q'\n",
    "video_name = ''     # Optional\n",
    "download_path = ''  # Optional"
   ]
  },
  {
   "cell_type": "code",
   "execution_count": 7,
   "id": "af8d046a",
   "metadata": {
    "ExecuteTime": {
     "end_time": "2022-09-10T02:17:07.253331Z",
     "start_time": "2022-09-10T02:17:02.285740Z"
    }
   },
   "outputs": [
    {
     "ename": "HTTPError",
     "evalue": "HTTP Error 410: Gone",
     "output_type": "error",
     "traceback": [
      "\u001b[1;31m---------------------------------------------------------------------------\u001b[0m",
      "\u001b[1;31mHTTPError\u001b[0m                                 Traceback (most recent call last)",
      "Input \u001b[1;32mIn [7]\u001b[0m, in \u001b[0;36m<cell line: 1>\u001b[1;34m()\u001b[0m\n\u001b[1;32m----> 1\u001b[0m src \u001b[38;5;241m=\u001b[39m \u001b[43mYouTube\u001b[49m\u001b[43m(\u001b[49m\u001b[43mvideo_url\u001b[49m\u001b[43m)\u001b[49m\n\u001b[0;32m      2\u001b[0m \u001b[38;5;66;03m# Select resolution\u001b[39;00m\n\u001b[0;32m      3\u001b[0m stream \u001b[38;5;241m=\u001b[39m src\u001b[38;5;241m.\u001b[39mstreams\u001b[38;5;241m.\u001b[39mfilter(res\u001b[38;5;241m=\u001b[39m\u001b[38;5;124m'\u001b[39m\u001b[38;5;124m720p\u001b[39m\u001b[38;5;124m'\u001b[39m)\n",
      "File \u001b[1;32m~\\anaconda3\\lib\\site-packages\\pytube\\__main__.py:91\u001b[0m, in \u001b[0;36mYouTube.__init__\u001b[1;34m(self, url, defer_prefetch_init, on_progress_callback, on_complete_callback, proxies)\u001b[0m\n\u001b[0;32m     88\u001b[0m     install_proxy(proxies)\n\u001b[0;32m     90\u001b[0m \u001b[38;5;28;01mif\u001b[39;00m \u001b[38;5;129;01mnot\u001b[39;00m defer_prefetch_init:\n\u001b[1;32m---> 91\u001b[0m     \u001b[38;5;28;43mself\u001b[39;49m\u001b[38;5;241;43m.\u001b[39;49m\u001b[43mprefetch\u001b[49m\u001b[43m(\u001b[49m\u001b[43m)\u001b[49m\n\u001b[0;32m     92\u001b[0m     \u001b[38;5;28mself\u001b[39m\u001b[38;5;241m.\u001b[39mdescramble()\n",
      "File \u001b[1;32m~\\anaconda3\\lib\\site-packages\\pytube\\__main__.py:181\u001b[0m, in \u001b[0;36mYouTube.prefetch\u001b[1;34m(self)\u001b[0m\n\u001b[0;32m    176\u001b[0m \u001b[38;5;28;01melse\u001b[39;00m:\n\u001b[0;32m    177\u001b[0m     \u001b[38;5;28mself\u001b[39m\u001b[38;5;241m.\u001b[39mvid_info_url \u001b[38;5;241m=\u001b[39m extract\u001b[38;5;241m.\u001b[39mvideo_info_url(\n\u001b[0;32m    178\u001b[0m         video_id\u001b[38;5;241m=\u001b[39m\u001b[38;5;28mself\u001b[39m\u001b[38;5;241m.\u001b[39mvideo_id, watch_url\u001b[38;5;241m=\u001b[39m\u001b[38;5;28mself\u001b[39m\u001b[38;5;241m.\u001b[39mwatch_url\n\u001b[0;32m    179\u001b[0m     )\n\u001b[1;32m--> 181\u001b[0m \u001b[38;5;28mself\u001b[39m\u001b[38;5;241m.\u001b[39mvid_info_raw \u001b[38;5;241m=\u001b[39m \u001b[43mrequest\u001b[49m\u001b[38;5;241;43m.\u001b[39;49m\u001b[43mget\u001b[49m\u001b[43m(\u001b[49m\u001b[38;5;28;43mself\u001b[39;49m\u001b[38;5;241;43m.\u001b[39;49m\u001b[43mvid_info_url\u001b[49m\u001b[43m)\u001b[49m\n\u001b[0;32m    182\u001b[0m \u001b[38;5;28;01mif\u001b[39;00m \u001b[38;5;129;01mnot\u001b[39;00m \u001b[38;5;28mself\u001b[39m\u001b[38;5;241m.\u001b[39mage_restricted:\n\u001b[0;32m    183\u001b[0m     \u001b[38;5;28mself\u001b[39m\u001b[38;5;241m.\u001b[39mjs_url \u001b[38;5;241m=\u001b[39m extract\u001b[38;5;241m.\u001b[39mjs_url(\u001b[38;5;28mself\u001b[39m\u001b[38;5;241m.\u001b[39mwatch_html)\n",
      "File \u001b[1;32m~\\anaconda3\\lib\\site-packages\\pytube\\request.py:36\u001b[0m, in \u001b[0;36mget\u001b[1;34m(url)\u001b[0m\n\u001b[0;32m     27\u001b[0m \u001b[38;5;28;01mdef\u001b[39;00m \u001b[38;5;21mget\u001b[39m(url) \u001b[38;5;241m-\u001b[39m\u001b[38;5;241m>\u001b[39m \u001b[38;5;28mstr\u001b[39m:\n\u001b[0;32m     28\u001b[0m     \u001b[38;5;124;03m\"\"\"Send an http GET request.\u001b[39;00m\n\u001b[0;32m     29\u001b[0m \n\u001b[0;32m     30\u001b[0m \u001b[38;5;124;03m    :param str url:\u001b[39;00m\n\u001b[1;32m   (...)\u001b[0m\n\u001b[0;32m     34\u001b[0m \u001b[38;5;124;03m        UTF-8 encoded string of response\u001b[39;00m\n\u001b[0;32m     35\u001b[0m \u001b[38;5;124;03m    \"\"\"\u001b[39;00m\n\u001b[1;32m---> 36\u001b[0m     \u001b[38;5;28;01mreturn\u001b[39;00m \u001b[43m_execute_request\u001b[49m\u001b[43m(\u001b[49m\u001b[43murl\u001b[49m\u001b[43m)\u001b[49m\u001b[38;5;241m.\u001b[39mread()\u001b[38;5;241m.\u001b[39mdecode(\u001b[38;5;124m\"\u001b[39m\u001b[38;5;124mutf-8\u001b[39m\u001b[38;5;124m\"\u001b[39m)\n",
      "File \u001b[1;32m~\\anaconda3\\lib\\site-packages\\pytube\\request.py:24\u001b[0m, in \u001b[0;36m_execute_request\u001b[1;34m(url, method, headers)\u001b[0m\n\u001b[0;32m     22\u001b[0m \u001b[38;5;28;01melse\u001b[39;00m:\n\u001b[0;32m     23\u001b[0m     \u001b[38;5;28;01mraise\u001b[39;00m \u001b[38;5;167;01mValueError\u001b[39;00m(\u001b[38;5;124m\"\u001b[39m\u001b[38;5;124mInvalid URL\u001b[39m\u001b[38;5;124m\"\u001b[39m)\n\u001b[1;32m---> 24\u001b[0m \u001b[38;5;28;01mreturn\u001b[39;00m \u001b[43murlopen\u001b[49m\u001b[43m(\u001b[49m\u001b[43mrequest\u001b[49m\u001b[43m)\u001b[49m\n",
      "File \u001b[1;32m~\\anaconda3\\lib\\urllib\\request.py:214\u001b[0m, in \u001b[0;36murlopen\u001b[1;34m(url, data, timeout, cafile, capath, cadefault, context)\u001b[0m\n\u001b[0;32m    212\u001b[0m \u001b[38;5;28;01melse\u001b[39;00m:\n\u001b[0;32m    213\u001b[0m     opener \u001b[38;5;241m=\u001b[39m _opener\n\u001b[1;32m--> 214\u001b[0m \u001b[38;5;28;01mreturn\u001b[39;00m \u001b[43mopener\u001b[49m\u001b[38;5;241;43m.\u001b[39;49m\u001b[43mopen\u001b[49m\u001b[43m(\u001b[49m\u001b[43murl\u001b[49m\u001b[43m,\u001b[49m\u001b[43m \u001b[49m\u001b[43mdata\u001b[49m\u001b[43m,\u001b[49m\u001b[43m \u001b[49m\u001b[43mtimeout\u001b[49m\u001b[43m)\u001b[49m\n",
      "File \u001b[1;32m~\\anaconda3\\lib\\urllib\\request.py:523\u001b[0m, in \u001b[0;36mOpenerDirector.open\u001b[1;34m(self, fullurl, data, timeout)\u001b[0m\n\u001b[0;32m    521\u001b[0m \u001b[38;5;28;01mfor\u001b[39;00m processor \u001b[38;5;129;01min\u001b[39;00m \u001b[38;5;28mself\u001b[39m\u001b[38;5;241m.\u001b[39mprocess_response\u001b[38;5;241m.\u001b[39mget(protocol, []):\n\u001b[0;32m    522\u001b[0m     meth \u001b[38;5;241m=\u001b[39m \u001b[38;5;28mgetattr\u001b[39m(processor, meth_name)\n\u001b[1;32m--> 523\u001b[0m     response \u001b[38;5;241m=\u001b[39m \u001b[43mmeth\u001b[49m\u001b[43m(\u001b[49m\u001b[43mreq\u001b[49m\u001b[43m,\u001b[49m\u001b[43m \u001b[49m\u001b[43mresponse\u001b[49m\u001b[43m)\u001b[49m\n\u001b[0;32m    525\u001b[0m \u001b[38;5;28;01mreturn\u001b[39;00m response\n",
      "File \u001b[1;32m~\\anaconda3\\lib\\urllib\\request.py:632\u001b[0m, in \u001b[0;36mHTTPErrorProcessor.http_response\u001b[1;34m(self, request, response)\u001b[0m\n\u001b[0;32m    629\u001b[0m \u001b[38;5;66;03m# According to RFC 2616, \"2xx\" code indicates that the client's\u001b[39;00m\n\u001b[0;32m    630\u001b[0m \u001b[38;5;66;03m# request was successfully received, understood, and accepted.\u001b[39;00m\n\u001b[0;32m    631\u001b[0m \u001b[38;5;28;01mif\u001b[39;00m \u001b[38;5;129;01mnot\u001b[39;00m (\u001b[38;5;241m200\u001b[39m \u001b[38;5;241m<\u001b[39m\u001b[38;5;241m=\u001b[39m code \u001b[38;5;241m<\u001b[39m \u001b[38;5;241m300\u001b[39m):\n\u001b[1;32m--> 632\u001b[0m     response \u001b[38;5;241m=\u001b[39m \u001b[38;5;28;43mself\u001b[39;49m\u001b[38;5;241;43m.\u001b[39;49m\u001b[43mparent\u001b[49m\u001b[38;5;241;43m.\u001b[39;49m\u001b[43merror\u001b[49m\u001b[43m(\u001b[49m\n\u001b[0;32m    633\u001b[0m \u001b[43m        \u001b[49m\u001b[38;5;124;43m'\u001b[39;49m\u001b[38;5;124;43mhttp\u001b[39;49m\u001b[38;5;124;43m'\u001b[39;49m\u001b[43m,\u001b[49m\u001b[43m \u001b[49m\u001b[43mrequest\u001b[49m\u001b[43m,\u001b[49m\u001b[43m \u001b[49m\u001b[43mresponse\u001b[49m\u001b[43m,\u001b[49m\u001b[43m \u001b[49m\u001b[43mcode\u001b[49m\u001b[43m,\u001b[49m\u001b[43m \u001b[49m\u001b[43mmsg\u001b[49m\u001b[43m,\u001b[49m\u001b[43m \u001b[49m\u001b[43mhdrs\u001b[49m\u001b[43m)\u001b[49m\n\u001b[0;32m    635\u001b[0m \u001b[38;5;28;01mreturn\u001b[39;00m response\n",
      "File \u001b[1;32m~\\anaconda3\\lib\\urllib\\request.py:555\u001b[0m, in \u001b[0;36mOpenerDirector.error\u001b[1;34m(self, proto, *args)\u001b[0m\n\u001b[0;32m    553\u001b[0m     http_err \u001b[38;5;241m=\u001b[39m \u001b[38;5;241m0\u001b[39m\n\u001b[0;32m    554\u001b[0m args \u001b[38;5;241m=\u001b[39m (\u001b[38;5;28mdict\u001b[39m, proto, meth_name) \u001b[38;5;241m+\u001b[39m args\n\u001b[1;32m--> 555\u001b[0m result \u001b[38;5;241m=\u001b[39m \u001b[38;5;28;43mself\u001b[39;49m\u001b[38;5;241;43m.\u001b[39;49m\u001b[43m_call_chain\u001b[49m\u001b[43m(\u001b[49m\u001b[38;5;241;43m*\u001b[39;49m\u001b[43margs\u001b[49m\u001b[43m)\u001b[49m\n\u001b[0;32m    556\u001b[0m \u001b[38;5;28;01mif\u001b[39;00m result:\n\u001b[0;32m    557\u001b[0m     \u001b[38;5;28;01mreturn\u001b[39;00m result\n",
      "File \u001b[1;32m~\\anaconda3\\lib\\urllib\\request.py:494\u001b[0m, in \u001b[0;36mOpenerDirector._call_chain\u001b[1;34m(self, chain, kind, meth_name, *args)\u001b[0m\n\u001b[0;32m    492\u001b[0m \u001b[38;5;28;01mfor\u001b[39;00m handler \u001b[38;5;129;01min\u001b[39;00m handlers:\n\u001b[0;32m    493\u001b[0m     func \u001b[38;5;241m=\u001b[39m \u001b[38;5;28mgetattr\u001b[39m(handler, meth_name)\n\u001b[1;32m--> 494\u001b[0m     result \u001b[38;5;241m=\u001b[39m \u001b[43mfunc\u001b[49m\u001b[43m(\u001b[49m\u001b[38;5;241;43m*\u001b[39;49m\u001b[43margs\u001b[49m\u001b[43m)\u001b[49m\n\u001b[0;32m    495\u001b[0m     \u001b[38;5;28;01mif\u001b[39;00m result \u001b[38;5;129;01mis\u001b[39;00m \u001b[38;5;129;01mnot\u001b[39;00m \u001b[38;5;28;01mNone\u001b[39;00m:\n\u001b[0;32m    496\u001b[0m         \u001b[38;5;28;01mreturn\u001b[39;00m result\n",
      "File \u001b[1;32m~\\anaconda3\\lib\\urllib\\request.py:747\u001b[0m, in \u001b[0;36mHTTPRedirectHandler.http_error_302\u001b[1;34m(self, req, fp, code, msg, headers)\u001b[0m\n\u001b[0;32m    744\u001b[0m fp\u001b[38;5;241m.\u001b[39mread()\n\u001b[0;32m    745\u001b[0m fp\u001b[38;5;241m.\u001b[39mclose()\n\u001b[1;32m--> 747\u001b[0m \u001b[38;5;28;01mreturn\u001b[39;00m \u001b[38;5;28;43mself\u001b[39;49m\u001b[38;5;241;43m.\u001b[39;49m\u001b[43mparent\u001b[49m\u001b[38;5;241;43m.\u001b[39;49m\u001b[43mopen\u001b[49m\u001b[43m(\u001b[49m\u001b[43mnew\u001b[49m\u001b[43m,\u001b[49m\u001b[43m \u001b[49m\u001b[43mtimeout\u001b[49m\u001b[38;5;241;43m=\u001b[39;49m\u001b[43mreq\u001b[49m\u001b[38;5;241;43m.\u001b[39;49m\u001b[43mtimeout\u001b[49m\u001b[43m)\u001b[49m\n",
      "File \u001b[1;32m~\\anaconda3\\lib\\urllib\\request.py:523\u001b[0m, in \u001b[0;36mOpenerDirector.open\u001b[1;34m(self, fullurl, data, timeout)\u001b[0m\n\u001b[0;32m    521\u001b[0m \u001b[38;5;28;01mfor\u001b[39;00m processor \u001b[38;5;129;01min\u001b[39;00m \u001b[38;5;28mself\u001b[39m\u001b[38;5;241m.\u001b[39mprocess_response\u001b[38;5;241m.\u001b[39mget(protocol, []):\n\u001b[0;32m    522\u001b[0m     meth \u001b[38;5;241m=\u001b[39m \u001b[38;5;28mgetattr\u001b[39m(processor, meth_name)\n\u001b[1;32m--> 523\u001b[0m     response \u001b[38;5;241m=\u001b[39m \u001b[43mmeth\u001b[49m\u001b[43m(\u001b[49m\u001b[43mreq\u001b[49m\u001b[43m,\u001b[49m\u001b[43m \u001b[49m\u001b[43mresponse\u001b[49m\u001b[43m)\u001b[49m\n\u001b[0;32m    525\u001b[0m \u001b[38;5;28;01mreturn\u001b[39;00m response\n",
      "File \u001b[1;32m~\\anaconda3\\lib\\urllib\\request.py:632\u001b[0m, in \u001b[0;36mHTTPErrorProcessor.http_response\u001b[1;34m(self, request, response)\u001b[0m\n\u001b[0;32m    629\u001b[0m \u001b[38;5;66;03m# According to RFC 2616, \"2xx\" code indicates that the client's\u001b[39;00m\n\u001b[0;32m    630\u001b[0m \u001b[38;5;66;03m# request was successfully received, understood, and accepted.\u001b[39;00m\n\u001b[0;32m    631\u001b[0m \u001b[38;5;28;01mif\u001b[39;00m \u001b[38;5;129;01mnot\u001b[39;00m (\u001b[38;5;241m200\u001b[39m \u001b[38;5;241m<\u001b[39m\u001b[38;5;241m=\u001b[39m code \u001b[38;5;241m<\u001b[39m \u001b[38;5;241m300\u001b[39m):\n\u001b[1;32m--> 632\u001b[0m     response \u001b[38;5;241m=\u001b[39m \u001b[38;5;28;43mself\u001b[39;49m\u001b[38;5;241;43m.\u001b[39;49m\u001b[43mparent\u001b[49m\u001b[38;5;241;43m.\u001b[39;49m\u001b[43merror\u001b[49m\u001b[43m(\u001b[49m\n\u001b[0;32m    633\u001b[0m \u001b[43m        \u001b[49m\u001b[38;5;124;43m'\u001b[39;49m\u001b[38;5;124;43mhttp\u001b[39;49m\u001b[38;5;124;43m'\u001b[39;49m\u001b[43m,\u001b[49m\u001b[43m \u001b[49m\u001b[43mrequest\u001b[49m\u001b[43m,\u001b[49m\u001b[43m \u001b[49m\u001b[43mresponse\u001b[49m\u001b[43m,\u001b[49m\u001b[43m \u001b[49m\u001b[43mcode\u001b[49m\u001b[43m,\u001b[49m\u001b[43m \u001b[49m\u001b[43mmsg\u001b[49m\u001b[43m,\u001b[49m\u001b[43m \u001b[49m\u001b[43mhdrs\u001b[49m\u001b[43m)\u001b[49m\n\u001b[0;32m    635\u001b[0m \u001b[38;5;28;01mreturn\u001b[39;00m response\n",
      "File \u001b[1;32m~\\anaconda3\\lib\\urllib\\request.py:561\u001b[0m, in \u001b[0;36mOpenerDirector.error\u001b[1;34m(self, proto, *args)\u001b[0m\n\u001b[0;32m    559\u001b[0m \u001b[38;5;28;01mif\u001b[39;00m http_err:\n\u001b[0;32m    560\u001b[0m     args \u001b[38;5;241m=\u001b[39m (\u001b[38;5;28mdict\u001b[39m, \u001b[38;5;124m'\u001b[39m\u001b[38;5;124mdefault\u001b[39m\u001b[38;5;124m'\u001b[39m, \u001b[38;5;124m'\u001b[39m\u001b[38;5;124mhttp_error_default\u001b[39m\u001b[38;5;124m'\u001b[39m) \u001b[38;5;241m+\u001b[39m orig_args\n\u001b[1;32m--> 561\u001b[0m     \u001b[38;5;28;01mreturn\u001b[39;00m \u001b[38;5;28;43mself\u001b[39;49m\u001b[38;5;241;43m.\u001b[39;49m\u001b[43m_call_chain\u001b[49m\u001b[43m(\u001b[49m\u001b[38;5;241;43m*\u001b[39;49m\u001b[43margs\u001b[49m\u001b[43m)\u001b[49m\n",
      "File \u001b[1;32m~\\anaconda3\\lib\\urllib\\request.py:494\u001b[0m, in \u001b[0;36mOpenerDirector._call_chain\u001b[1;34m(self, chain, kind, meth_name, *args)\u001b[0m\n\u001b[0;32m    492\u001b[0m \u001b[38;5;28;01mfor\u001b[39;00m handler \u001b[38;5;129;01min\u001b[39;00m handlers:\n\u001b[0;32m    493\u001b[0m     func \u001b[38;5;241m=\u001b[39m \u001b[38;5;28mgetattr\u001b[39m(handler, meth_name)\n\u001b[1;32m--> 494\u001b[0m     result \u001b[38;5;241m=\u001b[39m \u001b[43mfunc\u001b[49m\u001b[43m(\u001b[49m\u001b[38;5;241;43m*\u001b[39;49m\u001b[43margs\u001b[49m\u001b[43m)\u001b[49m\n\u001b[0;32m    495\u001b[0m     \u001b[38;5;28;01mif\u001b[39;00m result \u001b[38;5;129;01mis\u001b[39;00m \u001b[38;5;129;01mnot\u001b[39;00m \u001b[38;5;28;01mNone\u001b[39;00m:\n\u001b[0;32m    496\u001b[0m         \u001b[38;5;28;01mreturn\u001b[39;00m result\n",
      "File \u001b[1;32m~\\anaconda3\\lib\\urllib\\request.py:641\u001b[0m, in \u001b[0;36mHTTPDefaultErrorHandler.http_error_default\u001b[1;34m(self, req, fp, code, msg, hdrs)\u001b[0m\n\u001b[0;32m    640\u001b[0m \u001b[38;5;28;01mdef\u001b[39;00m \u001b[38;5;21mhttp_error_default\u001b[39m(\u001b[38;5;28mself\u001b[39m, req, fp, code, msg, hdrs):\n\u001b[1;32m--> 641\u001b[0m     \u001b[38;5;28;01mraise\u001b[39;00m HTTPError(req\u001b[38;5;241m.\u001b[39mfull_url, code, msg, hdrs, fp)\n",
      "\u001b[1;31mHTTPError\u001b[0m: HTTP Error 410: Gone"
     ]
    }
   ],
   "source": [
    "src = YouTube(video_url)\n",
    "# Select resolution\n",
    "stream = src.streams.filter(res='720p')\n",
    "# Or get the highest available resolution\n",
    "stream = src.streams.get_highest_resolution()\n",
    "# Select path or download in current one\n",
    "stream.download(output_path=download_path)\n",
    "stream.download()\n",
    "# Select video name or download default name used on YouTube\n",
    "stream.download(filename=video_name)\n",
    "stream.download()"
   ]
  },
  {
   "cell_type": "code",
   "execution_count": 8,
   "id": "b9f5aa3c",
   "metadata": {
    "ExecuteTime": {
     "end_time": "2022-09-10T02:18:32.279749Z",
     "start_time": "2022-09-10T02:18:32.224859Z"
    }
   },
   "outputs": [
    {
     "ename": "ImportError",
     "evalue": "attempted relative import with no known parent package",
     "output_type": "error",
     "traceback": [
      "\u001b[1;31m---------------------------------------------------------------------------\u001b[0m",
      "\u001b[1;31mImportError\u001b[0m                               Traceback (most recent call last)",
      "Input \u001b[1;32mIn [8]\u001b[0m, in \u001b[0;36m<cell line: 3>\u001b[1;34m()\u001b[0m\n\u001b[0;32m      1\u001b[0m \u001b[38;5;28;01mimport\u001b[39;00m \u001b[38;5;21;01mpafy\u001b[39;00m\n\u001b[0;32m      2\u001b[0m \u001b[38;5;28;01mimport\u001b[39;00m \u001b[38;5;21;01myoutube_dl\u001b[39;00m\n\u001b[1;32m----> 3\u001b[0m \u001b[38;5;28;01mfrom\u001b[39;00m \u001b[38;5;21;01m.\u001b[39;00m\u001b[38;5;21;01mbackend_youtube_dl\u001b[39;00m \u001b[38;5;28;01mimport\u001b[39;00m YtdlPafy \u001b[38;5;28;01mas\u001b[39;00m Pafy\n\u001b[0;32m      4\u001b[0m link \u001b[38;5;241m=\u001b[39m\u001b[38;5;124m\"\u001b[39m\u001b[38;5;124mhttps://www.youtube.com/watch?v=w_jUkFFaobQ&list=PLhTjy8cBISEqkN-5Ku_kXG4QW33sxQo0t&index=3\u001b[39m\u001b[38;5;124m\"\u001b[39m\n\u001b[0;32m      5\u001b[0m video \u001b[38;5;241m=\u001b[39m pafy\u001b[38;5;241m.\u001b[39mnew(link)\n",
      "\u001b[1;31mImportError\u001b[0m: attempted relative import with no known parent package"
     ]
    }
   ],
   "source": [
    "import pafy\n",
    "import youtube_dl\n",
    "from .backend_youtube_dl import YtdlPafy as Pafy\n",
    "link =\"https://www.youtube.com/watch?v=w_jUkFFaobQ&list=PLhTjy8cBISEqkN-5Ku_kXG4QW33sxQo0t&index=3\"\n",
    "video = pafy.new(link)\n",
    "best = video.getbest()\n",
    "print(best.resolution, best.extension)\n",
    "best.download()"
   ]
  },
  {
   "cell_type": "code",
   "execution_count": null,
   "id": "6c81f422",
   "metadata": {
    "ExecuteTime": {
     "end_time": "2022-09-10T01:51:00.913685Z",
     "start_time": "2022-09-10T01:51:00.913685Z"
    }
   },
   "outputs": [],
   "source": [
    "#scrap 5 articles"
   ]
  },
  {
   "cell_type": "code",
   "execution_count": null,
   "id": "2f1ee7b6",
   "metadata": {
    "ExecuteTime": {
     "end_time": "2022-09-10T01:51:00.917671Z",
     "start_time": "2022-09-10T01:51:00.916675Z"
    }
   },
   "outputs": [],
   "source": [
    "import requests\n",
    "from bs4 import BeautifulSoup\n",
    "import csv\n",
    "from itertools import zip_longest"
   ]
  },
  {
   "cell_type": "code",
   "execution_count": null,
   "id": "240682b0",
   "metadata": {
    "ExecuteTime": {
     "end_time": "2022-09-10T01:51:00.920663Z",
     "start_time": "2022-09-10T01:51:00.920663Z"
    }
   },
   "outputs": [],
   "source": [
    "result= requests.get(\"https://coreyms.com/\")\n",
    "src= result.content\n",
    "print(src)"
   ]
  },
  {
   "cell_type": "code",
   "execution_count": null,
   "id": "5c0ad5a9",
   "metadata": {
    "ExecuteTime": {
     "end_time": "2022-09-10T01:51:00.924968Z",
     "start_time": "2022-09-10T01:51:00.924662Z"
    }
   },
   "outputs": [],
   "source": [
    "soup =BeautifulSoup(src,\"lxml\")\n",
    "print(soup.prettify()) "
   ]
  },
  {
   "cell_type": "code",
   "execution_count": null,
   "id": "4f842a49",
   "metadata": {
    "ExecuteTime": {
     "end_time": "2022-09-10T01:51:00.927646Z",
     "start_time": "2022-09-10T01:51:00.927646Z"
    }
   },
   "outputs": [],
   "source": [
    "articles=soup.find_all('article')\n",
    "print(articles)"
   ]
  },
  {
   "cell_type": "code",
   "execution_count": null,
   "id": "64181cfd",
   "metadata": {
    "ExecuteTime": {
     "end_time": "2022-09-10T01:51:00.930638Z",
     "start_time": "2022-09-10T01:51:00.930638Z"
    }
   },
   "outputs": [],
   "source": [
    "csvfile=open('scrapearticle1.csv','w',encoding='utf8')\n",
    "writer=csv.writer(csvfile)\n",
    "writer.writerow([\"headlines\"])\n",
    "for article in articles :\n",
    "    headline = article.text\n",
    "    print(headline)\n",
    "    writer.writerow([headline])\n",
    "    \n",
    "    print('\\n')\n",
    "csvfile.close()"
   ]
  },
  {
   "cell_type": "code",
   "execution_count": null,
   "id": "570e70b6",
   "metadata": {
    "ExecuteTime": {
     "end_time": "2022-09-10T01:51:00.933631Z",
     "start_time": "2022-09-10T01:51:00.933631Z"
    }
   },
   "outputs": [],
   "source": [
    "#scrap youtube channels"
   ]
  },
  {
   "cell_type": "code",
   "execution_count": 55,
   "id": "c4730140",
   "metadata": {
    "ExecuteTime": {
     "end_time": "2022-09-10T03:07:55.571069Z",
     "start_time": "2022-09-10T03:07:55.556111Z"
    }
   },
   "outputs": [],
   "source": [
    "import requests\n",
    "from bs4 import BeautifulSoup\n",
    "import csv\n",
    "from itertools import zip_longest"
   ]
  },
  {
   "cell_type": "code",
   "execution_count": 56,
   "id": "b07f08f0",
   "metadata": {
    "ExecuteTime": {
     "end_time": "2022-09-10T03:07:57.904642Z",
     "start_time": "2022-09-10T03:07:57.898903Z"
    }
   },
   "outputs": [],
   "source": [
    "channels=[]\n",
    "summary=[]"
   ]
  },
  {
   "cell_type": "code",
   "execution_count": 57,
   "id": "3b2268b1",
   "metadata": {
    "ExecuteTime": {
     "end_time": "2022-09-10T03:08:02.339609Z",
     "start_time": "2022-09-10T03:08:01.101623Z"
    }
   },
   "outputs": [
    {
     "name": "stdout",
     "output_type": "stream",
     "text": [
      "<!doctype html><html lang=\"ar\" dir=\"rtl\"><head><base href=\"https://accounts.google.com/v3/signin/\"><meta name=\"referrer\" content=\"origin\"><link rel=\"canonical\" href=\"https://accounts.google.com/v3/signin/identifier\"><meta name=\"viewport\" content=\"width=device-width, initial-scale=1\"><style data-href=\"https://www.gstatic.com/_/mss/boq-identity/_/ss/k=boq-identity.AccountsSignInUi.bcuYQ76_hAY.R.W.O/am=PAEUIAAQEAAAAAAAAAAABCARAQ/d=1/ed=1/rs=AOaEmlEQBhHPTdX4El0uSlOZT0O3VbvEuA/m=identifierview,_b,_tp,_r\" nonce=\"DMqEJ9tjtqQMKkKEXgi9UA\">c-wiz{contain:style}c-wiz>c-data{display:none}c-wiz.rETSD{contain:none}c-wiz.Ubi8Z{contain:layout style}.BrpTO{margin:auto;max-width:380px;overflow:hidden;position:relative}.BrpTO .Q8ElWe{position:relative;text-align:center}.viAgtf{-webkit-border-radius:50%;border-radius:50%;color:#5f6368;overflow:hidden}.eCirAf{line-height:1.4286}.cABCAe{width:100%}.cABCAe .viAgtf{-webkit-box-flex:none;-webkit-flex:none;flex:none;height:28px;margin-left:12px;width:28px}.cABCAe .Q8ElWe,.TPmpLe .Q8ElWe{display:-webkit-box;display:-webkit-flex;display:flex;-webkit-align-items:center;align-items:center}.cABCAe .Q8ElWe{-webkit-justify-content:center;justify-content:center}.BrpTO .viAgtf{height:64px;margin:0 auto 8px;width:64px}.rs3gSb{-webkit-border-radius:50%;border-radius:50%;display:block}.cABCAe .rs3gSb,.cABCAe .hZUije,.cABCAe .kHluYc{max-height:100%;max-width:100%}.BrpTO .rs3gSb,.BrpTO .hZUije,.BrpTO .kHluYc{height:64px;width:64px}.TPmpLe{height:20px}.TPmpLe .viAgtf{margin-left:8px;height:20px;min-width:20px}.TPmpLe .rs3gSb,.TPmpLe .hZUije,.TPmpLe .kHluYc{color:#3c4043;height:20px;width:20px}.TPmpLe .kk39Eb{overflow:hidden}.TPmpLe .yavlK{overflow:hidden;text-overflow:ellipsis;white-space:nowrap}.cABCAe .kk39Eb{-webkit-box-flex:1;box-flex:1;-webkit-flex-grow:1;flex-grow:1}.cABCAe .eCirAf{color:#3c4043;font-size:15px;font-weight:500}.BrpTO .eCirAf{color:#202124;font-size:16px}.yavlK{direction:ltr;font-size:13px;text-align:right;line-height:1.3333;word-break:break-all}.FzDwd{direction:ltr;font-size:13px;text-align:right;line-height:1.3333;word-break:break-all;color:#5f6368}.TPmpLe .yavlK{color:#3c4043}.cABCAe .yavlK{color:#5f6368}.BrpTO .yavlK{color:#5f6368;text-align:center}.BtUzhd{color:#5f6368;font-size:13px}.cABCAe .BtUzhd{-webkit-align-self:flex-start;align-self:flex-start;-webkit-box-flex:none;-webkit-flex:none;flex:none;line-height:1.3333}.JnOM6e{background-color:transparent;border:none;-webkit-border-radius:4px;border-radius:4px;-webkit-box-sizing:border-box;box-sizing:border-box;display:inline-block;font-size:14px;height:36px;letter-spacing:.15px;line-height:34px;padding:0 24px;position:relative;text-align:center}.JnOM6e:focus-visible{outline:none;position:relative}.JnOM6e:focus-visible::after{border:2px solid #185abc;border-radius:6px;bottom:-4px;box-shadow:0 0 0 2px #e8f0fe;content:\"\";right:-4px;position:absolute;left:-4px;top:-4px}.rDisVe:focus:not(:focus-visible),.GjFdVe:focus:not(:focus-visible){box-shadow:0 1px 1px 0 rgba(66,133,244,.3),0 1px 3px 1px rgba(66,133,244,.15)}.rDisVe:hover:not(:focus-visible),.GjFdVe:hover:not(:focus-visible){box-shadow:0 1px 1px 0 rgba(66,133,244,.45),0 1px 3px 1px rgba(66,133,244,.3)}.JnOM6e:hover{cursor:pointer}.JnOM6e.kTeh9{line-height:36px;text-decoration:none}.JnOM6e.eLNT1d{display:none}.rDisVe{background-color:#1a73e8;color:#fff}.rDisVe:focus,.rDisVe:hover{background-color:#185abc}.GjFdVe{border:1px solid #dadce0;color:#1a73e8}.GjFdVe:active{background-color:#aecbfa;color:#174ea6}.GjFdVe:focus{background-color:#e8f0fe;border-color:#185abc;color:#174ea6}.GjFdVe:hover{background-color:#e8f0fe;color:#174ea6}.KXbQ4b{color:#1a73e8;min-width:0;padding-right:8px;padding-left:8px}.KXbQ4b:active,.KXbQ4b:hover{color:#185abc}.KXbQ4b:active{background-color:rgba(26,115,232,0.122)}.KXbQ4b:focus,.KXbQ4b:hover{background-color:rgba(26,115,232,0.039)}.aN1Vld{margin:16px 0;outline:none}.aN1Vld+.aN1Vld{margin-top:24px}.aN1Vld:first-child{margin-top:0}.aN1Vld:last-child{margin-bottom:0}.fegW5d{-webkit-border-radius:8px;border-radius:8px;padding:16px}.fegW5d>:first-child{margin-top:0}.fegW5d>:last-child{margin-bottom:0}.fegW5d .cySqRb{color:#202124}.fegW5d .yOnVIb{color:#202124}.fegW5d.YFdWic .yOnVIb{color:#5f6368;margin-top:4px;padding:0}.fegW5d.YFdWic .wSQNd,.fegW5d.YFdWic .yOnVIb{margin-right:64px;width:-webkit-calc(100% - 64px);width:calc(100% - 64px)}.fegW5d.YFdWic:not(.S7S4N) .wSQNd{margin-right:0;width:0}.fegW5d:not(.S7S4N)>.yOnVIb{margin-top:0}.fegW5d.sj692e{background:#e8f0fe}.fegW5d.Xq8bDe{background:#fce8e6}.fegW5d.rNe0id{background:#fef7e0}.fegW5d.YFdWic{border:1px solid #dadce0;min-height:80px;position:relative}.fegW5d:not(.S7S4N){display:-webkit-box;display:-webkit-flex;display:flex}.aN1Vld.eLNT1d{display:none}.wlrzMe{border:1px solid #dadce0;-webkit-border-radius:8px;border-radius:8px;padding:16px}.wlrzMe .EEiyWe{display:-webkit-box;display:-webkit-flex;display:flex;-webkit-justify-content:flex-end;justify-content:flex-end;margin-top:16px}.wlrzMe .EEiyWe .GjFdVe{margin-bottom:0;margin-top:0}.wSQNd:empty{display:none}.wSQNd>:first-child{margin-top:0;padding-top:0}.wSQNd>:last-child{margin-bottom:0;padding-bottom:0}.cySqRb{-webkit-align-items:center;align-items:center;color:#202124;display:-webkit-box;display:-webkit-flex;display:flex;font-size:16px;font-weight:500;letter-spacing:0.1px;line-height:1.4286;margin-bottom:0;margin-top:0;padding:0}.zlrrr{color:#5f6368;-webkit-flex-shrink:0;flex-shrink:0;height:20px;margin-left:16px;width:20px}.zlrrr .GxLRef{height:100%;width:100%}.fegW5d .zlrrr{margin-top:0}.fegW5d.sj692e .zlrrr{color:#1967d2}.fegW5d.Xq8bDe .zlrrr{color:#c5221f}.fegW5d.rNe0id .zlrrr{color:#ea8600}.fegW5d.YFdWic .zlrrr{height:48px;right:16px;position:absolute;top:16px;width:48px}.yOnVIb{margin:auto -24px;padding-right:24px;padding-left:24px;margin-bottom:16px;margin-top:10px}.wlrzMe .yOnVIb{margin-bottom:0;margin-top:16px}.yOnVIb>:first-child:not(section){margin-top:0;padding-top:0}.yOnVIb>:last-child:not(section){margin-bottom:0;padding-bottom:0}.wSQNd:empty+.yOnVIb{margin-top:0}.yOnVIb:only-child{margin-bottom:0;margin-top:0}.hZUije{border:0}.hZUije.WS4XDd{max-height:1.3333em;padding:0 2px;vertical-align:middle;width:auto}.kHluYc{border:0;object-fit:contain}.kHluYc.WS4XDd{max-height:1.3333em;padding:0 2px;vertical-align:middle;width:auto}.vOZun{padding-bottom:3px;padding-top:9px;margin-bottom:0;margin-top:0}.gomQac{padding-bottom:3px;padding-top:9px;margin:0}.vOZun:empty{display:none}*,*:before,*:after{-webkit-box-sizing:inherit;box-sizing:inherit}html{-webkit-box-sizing:border-box;box-sizing:border-box;-webkit-tap-highlight-color:transparent}body,input,textarea,select,button{color:#202124;font-family:arial,sans-serif}body{background:#fff;direction:rtl;display:-webkit-box;display:-webkit-flex;display:flex;-webkit-flex-direction:column;flex-direction:column;font-size:15px;line-height:1.4286;margin:0;min-height:100vh;padding:0;position:relative}@media all and (min-width:601px){body{-webkit-justify-content:center;justify-content:center}}[data-style=\"heading\"],.BDEI9 h2:not(.TrZEUc){color:#202124;font-size:16px;font-weight:500;letter-spacing:0.1px;line-height:1.4286}.BDEI9 a{text-decoration:none}.BDEI9 a:not(.TrZEUc){-webkit-border-radius:4px;border-radius:4px;color:#1a73e8;display:inline-block;font-weight:500;letter-spacing:.25px;outline:0;position:relative;z-index:1}.BDEI9 button:not(.TrZEUc){-webkit-border-radius:4px;border-radius:4px;color:#1a73e8;display:inline-block;font-weight:500;letter-spacing:.25px;outline:0;position:relative;z-index:1;background-color:transparent;cursor:pointer;padding:0;text-align:right;border:0}.BDEI9 button::-moz-focus-inner{border:0}.BDEI9 a:not(.TrZEUc):focus::after,.BDEI9 a:not(.TrZEUc):active::after,.BDEI9 button:not(.TrZEUc):focus::after,.BDEI9 button:not(.TrZEUc):active::after{background-color:rgba(26,115,232,0.149);-webkit-border-radius:2px;border-radius:2px;bottom:-2px;content:\"\";right:-3px;position:absolute;left:-3px;top:-2px;z-index:-1}.BDEI9 img:not(.TrZEUc){border:0;max-height:1.3em;vertical-align:middle}@media all and (min-width:601px){.BDEI9{display:-webkit-box;display:-webkit-flex;display:flex;-webkit-flex-direction:column;flex-direction:column;min-height:100vh;position:relative}.BDEI9:before,.BDEI9:after{-webkit-box-flex:1;box-flex:1;-webkit-flex-grow:1;flex-grow:1;content:\"\";height:24px}.BDEI9:before{min-height:30px}.BDEI9:after{min-height:24px}.BDEI9.LZgQXe:after{min-height:65.3329px}}.gEc4r{display:-webkit-box;display:-webkit-flex;display:flex;height:24px;-webkit-justify-content:center;justify-content:center}.HUYFt{display:-webkit-box;display:-webkit-flex;display:flex;-webkit-flex-wrap:wrap;flex-wrap:wrap;font-size:13px;-webkit-justify-content:space-between;justify-content:space-between;padding:0 24px 14px}.HUYFt .hXs2T,.HUYFt .M2nKge{line-height:48px}@media all and (min-width:601px){.HUYFt{padding-right:0;padding-left:0;position:absolute;width:100%}}.hXs2T .pUP0Nd{color:#5f6368}.hXs2T{margin-right:-16px;margin-left:16px}.N158t{-webkit-appearance:none;-webkit-appearance:none;appearance:none;background-color:transparent;background-image:url(\"data:image/svg+xml;base64,PHN2ZyB4bWxucz0iaHR0cDovL3d3dy53My5vcmcvMjAwMC9zdmciIGhlaWdodD0iMjRweCIgdmlld0JveD0iMCAwIDI0IDI0IiB3aWR0aD0iMjRweCIgZmlsbD0iIzQ1NUE2NCI+PHBhdGggZD0iTTAgMGgyNHYyNEgwVjB6IiBmaWxsPSJub25lIi8+PHBhdGggZD0iTTcgMTBsNSA1IDUtNUg3eiIvPjwvc3ZnPg==\");background-position:left;background-repeat:no-repeat;border:none;-webkit-border-radius:4px;border-radius:4px;color:#5f6368;cursor:pointer;font-size:13px;outline:none;padding:15.33355px 16px 15.33355px 24px;-webkit-transition:background;transition:background}.N158t:focus{background-color:#e8eaed}.M2nKge{list-style:none;margin:0 -16px;padding:0}.vomtoe{display:inline-block;margin:0}.pUP0Nd{-webkit-border-radius:4px;border-radius:4px;color:#5f6368;display:inline-block;outline:none;z-index:1}.pUP0Nd .UskCyf{background-color:transparent;padding:6px 16px;-webkit-transition:background;transition:background}.pUP0Nd:focus .UskCyf{background-color:#e8eaed;-webkit-border-radius:4px;border-radius:4px}.Ha17qf{background:#fff;display:-webkit-box;display:-webkit-flex;display:flex;-webkit-flex-direction:column;flex-direction:column;max-width:100%;min-height:100vh;position:relative}@media all and (min-width:601px){.Ha17qf{background:#fff;border:1px solid #dadce0;-webkit-border-radius:8px;border-radius:8px;display:block;-webkit-flex-shrink:0;flex-shrink:0;margin:0 auto;min-height:0;width:450px}.Ha17qf.qmmlRd{width:450px}.Ha17qf.qmmlRd .Or16q{height:auto;min-height:500px}}.Or16q{-webkit-box-flex:1;box-flex:1;-webkit-flex-grow:1;flex-grow:1;overflow:hidden;padding:24px 24px 36px}@media all and (min-width:601px){.Or16q{height:auto;min-height:500px;overflow-y:auto}}@media all and (min-width:450px){.Or16q{padding:48px 40px 36px}}.iEhbme{padding:24px 0 0}.iEhbme.RDPZE{opacity:.5;pointer-events:none}.HDuqac{background:transparent;border:none;color:#3c4043;cursor:pointer;display:-webkit-inline-box;display:-webkit-inline-flex;display:inline-flex;font-size:15px;letter-spacing:0.25px;max-width:100%}.BOs5fd{-webkit-align-items:center;align-items:center;background:#fff;border:1px solid #dadce0;display:-webkit-inline-box;display:-webkit-inline-flex;display:inline-flex;max-width:100%;position:relative}.HDuqac:focus-visible{outline:none}.HDuqac:focus-visible .BOs5fd{outline:none;position:relative;background:rgba(60,64,67,0.122)}.HDuqac:focus-visible .BOs5fd::after{border:2px solid #185abc;border-radius:20px;bottom:-5px;box-shadow:0 0 0 2px #e8f0fe;content:\"\";right:-5px;position:absolute;left:-5px;top:-5px}.HDuqac:focus:not(:focus-visible) .BOs5fd{box-shadow:0 1px 1px 0 rgba(66,133,244,.3),0 1px 3px 1px rgba(66,133,244,.15);border-color:#dadce0;-webkit-box-shadow:none;box-shadow:none}.HDuqac:hover:not(:focus-visible) .BOs5fd{background:rgba(60,64,67,0.039)}.HDuqac:focus .BOs5fd,.HDuqac:hover .BOs5fd{border-color:#dadce0}.HDuqac:active:focus .BOs5fd{background:rgba(60,64,67,0.122);border-color:#3c4043;color:#3c4043}.EI77qf{line-height:30px;margin:-8px 0;padding:8px 0}.EI77qf.DbQnIe{color:#1a73e8;font-size:13px;line-height:22px}.EI77qf .BOs5fd{-webkit-border-radius:16px;border-radius:16px;padding:0 15px 0 15px}.EI77qf.DbQnIe .BOs5fd{-webkit-border-radius:12px;border-radius:12px;padding:0 10px 0 10px}.EI77qf.iiFyne .BOs5fd{padding-left:7px}.EI77qf.cd29Sd .BOs5fd{padding-right:5px}.EI77qf.DbQnIe.cd29Sd .BOs5fd{padding-right:2px}.EI77qf.DbQnIe.iiFyne .BOs5fd{padding-left:7px}.hMeYtd{-webkit-border-radius:10px;border-radius:10px;height:20px;margin-left:8px}.hMeYtd .rs3gSb,.hMeYtd .hZUije,.hMeYtd .kHluYc{-webkit-border-radius:50%;border-radius:50%;color:#3c4043;display:block;height:20px;width:20px}.wJxLsd{direction:ltr;overflow:hidden;text-align:right;text-overflow:ellipsis;white-space:nowrap}.znpTjf{color:#3c4043;-webkit-flex-shrink:0;flex-shrink:0;height:18px;margin-right:4px;width:18px}.HDuqac.DbQnIe .znpTjf{height:16px;width:16px}.JC0zZc{display:block;height:100%;width:100%}.aMfydd{text-align:center}.aMfydd .Tn0LBd{padding-bottom:0;padding-top:16px;color:#202124;font-size:24px;font-weight:400;line-height:1.3333;margin-bottom:0;margin-top:0}.a2CQh{margin-bottom:0;margin-top:0;font-size:16px;font-weight:400;letter-spacing:0.1px;line-height:1.5;padding-bottom:0;padding-top:8px}.a2CQh:empty{display:none}.n868rf{display:-webkit-inline-box;display:-webkit-inline-flex;display:inline-flex;letter-spacing:.25px;min-height:24px;padding-bottom:0;padding-top:8px}.C7uRJc{margin-top:8px}.NveWz{-webkit-box-flex:1;box-flex:1;-webkit-flex-grow:1;flex-grow:1}.i2knIc{display:-webkit-box;display:-webkit-flex;display:flex;-webkit-box-flex:0;box-flex:0;-webkit-flex-grow:0;flex-grow:0;-webkit-flex-wrap:wrap;flex-wrap:wrap;margin-right:-8px;margin-top:32px;min-height:48px;padding-bottom:20px}.i2knIc.fXx9Lc{margin:0;min-height:0;padding:0}.sXlxWd{margin-bottom:32px;width:100%}.wg0fFb{display:-webkit-box;display:-webkit-flex;display:flex;-webkit-flex-direction:row-reverse;flex-direction:row-reverse;-webkit-flex-wrap:wrap;flex-wrap:wrap;width:100%}.RhTxBf,.tmMcIf{-webkit-box-flex:1;box-flex:1;-webkit-flex-grow:1;flex-grow:1}.i2knIc.NNItQ:not(.F8PBrb) .RhTxBf,.i2knIc.NNItQ:not(.F8PBrb) .tmMcIf{text-align:center}.RhTxBf{text-align:left}.i2knIc.F8PBrb .wg0fFb{margin:0 -2px;margin-right:8px;width:-webkit-calc(100% + 4px);width:calc(100% + 4px)}.i2knIc.F8PBrb .RhTxBf{display:-webkit-box;display:-webkit-flex;display:flex;-webkit-flex-wrap:wrap;flex-wrap:wrap;width:100%}.i2knIc.F8PBrb .tmMcIf{margin:0 2px}.xOs3Jc{-webkit-box-flex:1;box-flex:1;-webkit-flex-grow:1;flex-grow:1;margin:0 2px;min-width:-webkit-calc(50% - 4px);min-width:calc(50% - 4px)}.Cokknd{margin-bottom:6px;margin-top:6px;white-space:nowrap;width:100%}.D4rY0b{color:#5f6368;font-size:15px;line-height:1.4286;margin-top:32px}.TRuRhd{margin-top:24px;position:relative}.Fu5aXd:first-child .TRuRhd{margin-top:8px}.xyezD{background-color:transparent;border:none;-webkit-box-sizing:border-box;box-sizing:border-box;color:#202124;font-size:17px;height:56px;outline:none;padding:0 14px;width:100%}.TRuRhd.YKooDc .xyezD{direction:ltr;text-align:right}.Yr2OOb{line-height:1.4286;margin:14px;padding:0;resize:vertical}.LBj8vb{background-color:transparent;border:none;font-size:17px;height:56px;padding:0 14px;outline:none;width:100%}.dXXNOd{display:-webkit-box;display:-webkit-flex;display:flex;width:100%}.xMpNCd:not(:empty){line-height:56px;padding-right:14px}.pkBWge:not(:empty){line-height:56px;padding-left:14px}.TRuRhd[data-has-domain-suffix] .pkBWge{display:-webkit-box;display:-webkit-flex;display:flex;white-space:nowrap}.TRuRhd[data-has-domain-suffix][data-has-at-sign] .pkBWge{display:none}.fjpXlc{display:-webkit-box;display:-webkit-flex;display:flex;height:100%}.nWPx2e{-webkit-align-items:stretch;align-items:stretch;display:-webkit-box;display:-webkit-flex;display:flex;-webkit-flex-direction:row;flex-direction:row;height:100%;-webkit-justify-content:flex-start;justify-content:flex-start;right:0;max-width:100%;pointer-events:none;position:absolute;top:0;width:100%}.YhhY8,.CCQ94b,.tNASEf{border:1px solid #dadce0}.YhhY8{border-bottom-right-radius:4px;border-left:none;border-top-right-radius:4px;width:8px}.CCQ94b{border-right:none;border-left:none;border-top:none;color:#5f6368;font-size:12.75px;margin:-6.375px 0 0;padding:0 6px}.tNASEf{border-bottom-left-radius:4px;border-right:none;border-top-left-radius:4px;-webkit-box-flex:1;box-flex:1;-webkit-flex-grow:1;flex-grow:1}.Fu5aXd:not(.Jj6Lae) .xyezD:focus+.nWPx2e .CCQ94b,.Fu5aXd:not(.Jj6Lae) .LBj8vb:focus+.nWPx2e .CCQ94b{color:#1a73e8}.xyezD:focus+.nWPx2e .YhhY8,.xyezD:focus+.nWPx2e .CCQ94b,.xyezD:focus+.nWPx2e .tNASEf,.LBj8vb:focus+.nWPx2e .YhhY8,.LBj8vb:focus+.nWPx2e .CCQ94b,.LBj8vb:focus+.nWPx2e .tNASEf{border-color:#1a73e8;border-width:2px}.F3wxlc{-webkit-align-items:flex-start;align-items:flex-start;color:#5f6368;display:-webkit-box;display:-webkit-flex;display:flex;font-size:13px;line-height:normal;margin-top:4px}.EllNBf{margin-left:8px;margin-top:-2px}.SnjiRb{height:16px;width:16px}.F3wxlc:empty,.NHVGlc:empty{display:none}.Fu5aXd.Jj6Lae .F3wxlc{color:#d93025}.Fu5aXd .azsAwf{margin-right:16px}.Fu5aXd.Jj6Lae .nWPx2e .YhhY8,.Fu5aXd.Jj6Lae .nWPx2e .CCQ94b,.Fu5aXd.Jj6Lae .nWPx2e .tNASEf{border-color:#d93025}.Fu5aXd.Jj6Lae .nWPx2e .CCQ94b{color:#d93025}.ZWssT{margin-top:26px}.vopC4e{background:transparent;border:none;-webkit-box-sizing:border-box;box-sizing:border-box;color:#202124;cursor:pointer;margin-bottom:-15px;margin-top:-15px;outline:inherit;padding-bottom:15px;padding-top:15px;position:relative;z-index:1}.vopC4e:focus::after{background-color:rgba(26,115,232,0.149);-webkit-border-radius:2px;border-radius:2px;bottom:0;content:\"\";right:0;position:absolute;left:0;top:0;z-index:-1}.JVMrYb{display:block}.hJIRO{display:none}.sQecwc{display:hidden}sentinel{}\n",
      "/*# sourceURL=/_/mss/boq-identity/_/ss/k=boq-identity.AccountsSignInUi.bcuYQ76_hAY.R.W.O/am=PAEUIAAQEAAAAAAAAAAABCARAQ/d=1/ed=1/rs=AOaEmlEQBhHPTdX4El0uSlOZT0O3VbvEuA/m=identifierview,_b,_tp,_r */</style><style nonce=\"DMqEJ9tjtqQMKkKEXgi9UA\">@font-face{font-family:'Product Sans';font-style:normal;font-weight:400;src:url(//fonts.gstatic.com/s/productsans/v9/pxiDypQkot1TnFhsFMOfGShVF9eL.ttf)format('truetype');}</style><noscript><meta http-equiv=\"refresh\" content=\"0; url=/ServiceLogin?continue=https://www.youtube.com/signin?action_handle_signin%3Dtrue%26app%3Ddesktop%26hl%3Dar%26next%3Dhttps%253A%252F%252Fwww.youtube.com%252Ffeed%252Fchannels%26feature%3Dredirect_login&amp;dsh=S772651868:1662779283531668&amp;flowEntry=ServiceLogin&amp;hl=ar&amp;ifkv=AQDHYWrPBNhSbxSpU-MR-EhMsCllLGe_rBkQZRbriD8qiQLoxqkeb5C50H3sg3I3qWD305p9xqdQ5g&amp;nojavascript=1&amp;service=youtube\"><style nonce=\"DMqEJ9tjtqQMKkKEXgi9UA\">body{opacity:0;}</style></noscript><title>YouTube</title></head><body><div class=\"BDEI9 LZgQXe\"><div class=\"Ha17qf\" data-auto-init=\"Card\"><div class=\"Or16q\"><div data-view-id=\"hm18Ec\" data-locale=\"ar\" data-allow-sign-up-types=\"true\"><c-wiz jsrenderer=\"OTcFib\" jsshadow jsdata=\"deferred-i2\" data-p=\"%.@.]\" data-node-index=\"2;0\" jsmodel=\"hc6Ubd\" c-wiz><div class=\"gEc4r\"><img src=\"//ssl.gstatic.com/images/branding/googlelogo/2x/googlelogo_color_74x24dp.png\" class=\"TrZEUc\" alt=\"Google\" width=\"74\" height=\"24\"></div><c-data id=\"i2\" jsdata=\" eCjdDd;_;2\"></c-data></c-wiz><div class=\"EQIoSc\" jsname=\"bN97Pc\"><div jsname=\"paFcre\"><div class=\"aMfydd\" jsname=\"tJHJj\"><h1 class=\"Tn0LBd\" jsname=\"r4nke\">تسجيل الدخول</h1><p class=\"a2CQh\" jsname=\"VdSJob\">المتابعة إلى YouTube</p></div></div><form action=\"/v3/signin/identifier?continue=https://www.youtube.com/signin?action_handle_signin%3Dtrue%26app%3Ddesktop%26hl%3Dar%26next%3Dhttps%253A%252F%252Fwww.youtube.com%252Ffeed%252Fchannels%26feature%3Dredirect_login&amp;dsh=S772651868:1662779283531668&amp;flowEntry=ServiceLogin&amp;flowName=WebLiteSignIn&amp;hl=ar&amp;ifkv=AQDHYWrPBNhSbxSpU-MR-EhMsCllLGe_rBkQZRbriD8qiQLoxqkeb5C50H3sg3I3qWD305p9xqdQ5g&amp;service=youtube\" method=\"POST\" novalidate><div class=\"iEhbme\" jsname=\"rEuO1b\"><section class=\"aN1Vld \"><div class=\"yOnVIb\" jsname=\"MZArnb\"><div class=\"Fu5aXd\" jsname=\"dWPKW\"><div class=\"Flfooc\"><div class=\"TRuRhd  YKooDc\"><div class=\"fjpXlc\"><label class=\"dXXNOd\"><input class=\"xyezD\" jsname=\"Ufn6O\" type=\"email\" name=\"identifier\" id=\"identifierId\" autofocus autocapitalize=\"none\" autocomplete=\"username\" dir=\"ltr\"/><div class=\"nWPx2e\"><div class=\"YhhY8\"></div><div class=\"CCQ94b\">البريد الإلكتروني أو الهاتف</div><div class=\"tNASEf\"></div></div></label></div></div></div><div class=\"F3wxlc\" jsname=\"h9d3hd\" aria-live=\"assertive\"></div><div class=\"NHVGlc\" jsname=\"JIbuQc\"></div></div><p class=\"vOZun\" jsname=\"OZNMeb\" aria-live=\"assertive\"></p><p class=\"vOZun\"><a href=\"/signin/usernamerecovery?continue=https://www.youtube.com/signin?action_handle_signin%3Dtrue%26app%3Ddesktop%26hl%3Dar%26next%3Dhttps%253A%252F%252Fwww.youtube.com%252Ffeed%252Fchannels%26feature%3Dredirect_login&amp;dsh=S772651868:1662779283531668&amp;flowEntry=ServiceLogin&amp;flowName=WebLiteSignIn&amp;hl=ar&amp;ifkv=AQDHYWrPBNhSbxSpU-MR-EhMsCllLGe_rBkQZRbriD8qiQLoxqkeb5C50H3sg3I3qWD305p9xqdQ5g&amp;service=youtube\" jsname=\"Cuz2Ue\">هل نسيت البريد الإلكتروني؟</a></p><input type=\"password\" name=\"hiddenPassword\" class=\"hJIRO\" tabindex=\"-1\" aria-hidden=\"true\" spellcheck=\"false\" jsname=\"RHeR4d\"><input type=\"hidden\" name=\"usi\" value=\"S772651868:1662779283531668\"><input type=\"hidden\" name=\"domain\" value=\"\"><input type=\"hidden\" name=\"region\" value=\"EG\"><span jsname=\"xdJtEf\"><script nonce=\"AtkodZf68OZMYyrwErnEoA\">//# sourceMappingURL=data:application/json;charset=utf-8;base64,eyJ2ZXJzaW9uIjogMywic291cmNlcyI6WyIiXSwic291cmNlc0NvbnRlbnQiOlsiICJdLCJuYW1lcyI6WyJjbG9zdXJlRHluYW1pY0J1dHRvbiJdLCJtYXBwaW5ncyI6IkFBQUE7QUFBQTtBQUFBO0FBQUE7QUFBQTtBQUFBO0FBQUEifQ==\n",
      "(function(){var J=function(m,l,t,p,N,d,Z,x,c,Y){return(d|(5<=(d+5&m)&&4>((d^37)&8)&&(c=B,c[N]||D(18,t,\"load\",p,l,Z,c),c[N](x)),40))==d&&(Y=(x=w(t,p,\"bg\"))&&1===Z.eval(x.createScript(N))?function(O){return x.createScript(O)}:function(O){return l+O}),d+5>>1<d&&(d-9^27)>=d&&(Y=(t=B[p.substring(0,3)+\"_\"])?t(p.substring(3),N,l):D(26,N,p)),Y},D=function(m,l,t,p,N,d,Z,x,c,Y,O,G,P,T,E,q,C,e,S,W,h,L){return 4==(((14<=((m^56)&19)&&27>(m|3)&&(S=function(){},N=void 0,p=u(l,function(X){S&&(t&&n(t),N=X,S(),S=void 0)},!!t)[0],e={invoke:function(X,K,k,V,f){function U(){N(function(M){n(function(){X(M)})},k)}if(!K)return V=p(k),X&&X(V),V;N?U():(f=S,S=function(){f(),n(U)})}}),m)+6&15||(l(function(X){X(t)}),e=[function(){return t}]),m>>1&19||(e=l),1==m-7>>3&&(h=function(){},C=function(){try{return T.contentWindow.location.href.match(/^h/)?null:!1}catch(X){return\"\"+X}},L=function(){h=(E.push(60,+new Date-c),clearInterval(Y),Z.f=void 0,h(),void 0)},W=function(X,K){K=+new Date,E.push(82,K-c,X),5<X?(E.push(35,K-c),L()):(G=K,x=X,T=document.createElement(\"iframe\"),D(28,!1,function(k){X===x&&(k=C(),null===k?(E.push(15,+new Date-c),O=T.contentWindow,x=0,T=N,clearInterval(Y),h(),h=void 0):(E.push(29,K-c,k),q(),W(X+l)))},t,T),D(30,!1,function(){X===x&&(E.push(64,K-c),q(),W(X+l))},\"error\",T),T.style.display=\"none\",T.src=d,P.appendChild(T))},q=function(){P.removeChild(T),T=N,x=0},x=0,E=[],T=N,Z.f=function(X,K){h?(K=h,h=function(){(K(),setTimeout)(function(){X(O,E)},0)}):X(O,E)},c=+new Date,P=document.body||document.documentElement.lastChild,Y=setInterval(function(X,K,k){T&&(k=x,K=+new Date,2E4<K-c?(E.push(66,K-c),q(),L()):(X=C())?(E.push(93,K-c,X),q(),W(k+l)):6E3<K-G&&(E.push(87,K-c),q(),W(k+l)))},p),W(l)),m)+8&13)&&N.addEventListener(p,t,l),e},r=function(m){return D.call(this,24,m)},u=function(m,l,t,p){return J.call(this,15,t,p,m,l,9)},B,Q=this||self,y=function(m,l,t,p){return D.call(this,3,m,l,t,p)},w=function(m,l,t,p,N){if((N=(p=Q.trustedTypes,m),!p)||!p.createPolicy)return N;try{N=p.createPolicy(t,{createHTML:r,createScript:r,createScriptURL:r})}catch(d){if(Q.console)Q.console[l](d.message)}return N},n=Q.requestIdleCallback?function(m){requestIdleCallback(function(){m()},{timeout:4})}:Q.setImmediate?function(m){setImmediate(m)}:function(m){setTimeout(m,0)};((B=Q.botguard||(Q.botguard={}),40)<B.m||(B.m=41,B.bg=y,B.a=u),B).gBK_=function(m,l,t,p,N,d){return J(15,null,1,512,\"f\",(p=(N=m.lastIndexOf(\"//\"),atob(m.substr(N+2))),3),p,function(Z,x,c){if(c=\"FNL\"+x,Z)try{d=Z.eval(J(15,\"\",null,\"error\",\"1\",40,Z)(Array(7824*Math.random()|0).join(\"\\n\")+['//# sourceMappingURL=data:application/json;charset=utf-8;base64,eyJ2ZXJzaW9uIjogMywic291cmNlcyI6WyIiXSwic291cmNlc0NvbnRlbnQiOlsiICJdLCJuYW1lcyI6WyJjbG9zdXJlRHluYW1pY0J1dHRvbiJdLCJtYXBwaW5ncyI6IkFBQUE7QUFBQTtBQUFBO0FBQUE7QUFBQTtBQUFBO0FBQUEifQ==',\n",
      "'(function(){var NS=function(l,X,m,p,t,c,N,K,d,x){if(!(X-l>>3))a:{for(K=m;K<N.length;++K)if(d=N[K],!d.F&&d.listener==p&&d.capture==!!t&&d.gT==c){x=K;break a}x=-1}return x},S=function(l,X,m,p,t,c,N,K,d){if((l|(3==l-(l>>1&15||(X.classList?Array.prototype.forEach.call(m,function(x){k(9,\"string\",0,\" \",\"class\",X,x)}):h(65,\"class\",Array.prototype.filter.call(D(32,\"string\",X),function(x){return!(0<=O(0,3,1,x,m))}).join(\" \"),X)),1)>>3&&(m.F=X,m.listener=null,m.proxy=null,m.src=null,m.gT=null),1==(l+6&11)&&(d=Object.prototype.hasOwnProperty.call(X,$v)&&X[$v]||(X[$v]=++Xl)),72))==l)for(N=t.length,c=\"string\"===typeof t?t.split(X):t,K=m;K<N;K++)K in c&&p.call(void 0,c[K],K,t);return 0<=(l^1)&&14>(l|9)&&(p=typeof m,d=\"object\"==p&&m!=X||\"function\"==p),d},P=function(l,X,m,p,t,c,N,K,d,x){if((((l^81)>>3||W.call(this,X,m||li.Jj(),p),l-4)>>4||(x=!!(t=p.Wo,~(t&m)- -1-X*~t+X*(~t|m))),l&56)==l)if(p&&p.once)k(74,X,true,t,c,K,p,N);else if(Array.isArray(K))for(d=0;d<K.length;d++)P(24,null,false,p,t,c,N,K[d]);else N=C(44,N,8),t&&t[pY]?t.m.add(String(K),N,m,S(5,X,p)?!!p.capture:!!p,c):L(6,false,null,K,c,p,m,t,N);return 2<=l-9>>3&&18>(l^28)&&(x=P(5,2,t,m)&&u(t,0,68,m)!=p&&(!(m.gv&t)||m.dispatchEvent(V(X,12,2,64,16,p,t)))&&!m.kW),x},n=function(l,X,m,p,t,c,N,K,d,x,T,Z,E){if(3<=(X|8)>>4&&4>(X<<1&12)&&(E=l),(X|24)==X&&(t=O(0,34,l,p,m),(c=0<=t)&&Array.prototype.splice.call(m,t,l),E=c),X-7<<1<X&&(X+1^28)>=X)if(K=m.m.W[String(t)]){for(N=(K=K.concat(),l),Z=0;Z<K.length;++Z)(T=K[Z])&&!T.F&&T.capture==p&&(d=T.gT||T.src,x=T.listener,T.U&&tr(7,3,0,T,m.m),N=false!==x.call(d,c)&&N);E=N&&!c.defaultPrevented}else E=l;if((X+2^18)<X&&(X-3|5)>=X)if(p=m.length,p>l){for(c=Array(p),t=l;t<p;t++)c[t]=m[t];E=c}else E=[];return E},KY=function(l,X,m,p,t,c,N,K,d,x){return(((X&59)==((X-4^8)>=X&&(X+6&31)<X&&(c.classList?N=c.classList.contains(t):(K=D(34,\"string\",c),N=O(0,l,p,t,K)>=m),x=N),X)&&(d=function(T){return m.call(d.src,d.listener,T)},m=cU,x=d),X)+l&27)>=X&&X+3>>2<X&&(x=m&&m.parentNode?m.parentNode.removeChild(m):null),x},ii=function(l,X,m,p,t,c,N,K,d,x){if(((m&23)==m&&(this.src=X,this.K=0,this.W={}),m|64)==m)for(N in K=X,t.W){for(d=X,c=t.W[N];d<c.length;d++)++K,S(29,p,c[d]);delete (t.K--,t).W[N]}if(16<=m+3&&21>m>>1){if(c=window.btoa){for(N=(t=\"\",0);N<X.length;N+=8192)t+=String.fromCharCode.apply(null,X.slice(N,N+8192));p=c(t).replace(/\\\\+/g,\"-\").replace(/\\\\//g,\"_\").replace(/=/g,\"\")}else p=void 0;x=p}return(m+7&l)<m&&(m-2|66)>=m&&(x=typeof t.className==X?t.className:t.getAttribute&&t.getAttribute(\"class\")||p),x},D=function(l,X,m,p,t,c,N,K,d,x){if((l-2^((l&46)==l&&(x=m.classList?m.classList:ii(40,X,10,\"\",m).match(/\\\\S+/g)||[]),24))>=l&&(l+5^18)<l&&(Array.isArray(t)&&(t=t.join(\" \")),K=\"aria-\"+c,\"\"===t||void 0==t?(d7||(N={},d7=(N.atomic=X,N.autocomplete=\"none\",N.dropeffect=\"none\",N.haspopup=X,N.live=\"off\",N.multiline=X,N.multiselectable=X,N.orientation=\"vertical\",N.readonly=X,N.relevant=\"additions text\",N.required=X,N.sort=\"none\",N.busy=X,N.disabled=X,N.hidden=X,N.invalid=m,N)),d=d7,c in d?p.setAttribute(K,d[c]):p.removeAttribute(K)):p.setAttribute(K,t)),(l|72)==l){if(!(xv.call(this,p),d=m)){for(t=this.constructor;t;){if(c=(K=S(43,t),Tb[K]))break;t=(N=Object.getPrototypeOf(t.prototype))&&N.constructor}d=c?\"function\"===typeof c.Jj?c.Jj():new c:null}this.R=d}return(l+3&28)>=l&&(l+2&43)<l&&(x=Math.floor(this.B())),x},C=function(l,X,m,p,t,c,N,K){return(m-9<<2>=m&&(m+6&50)<m&&(this.listener=t,this.proxy=null,this.src=X,this.type=N,this.capture=!!p,this.gT=c,this.key=++Zx,this.F=this.U=false),(m&57)==m&&(\"function\"===typeof X?K=X:(X[E3]||(X[E3]=function(d){return X.handleEvent(d)}),K=X[E3])),(m^l)>>3)||(X.Jj=function(){return X.tj?X.tj:X.tj=new X},X.tj=void 0),K},G=function(l,X,m,p,t,c,N,K,d,x,T,Z){if(14<=((X^56)&19)&&27>(X|3))if(t=\"array\"===kv(\"null\",p,\"array\")?p:[p],this.X)l(this.X);else try{c=!this.l.length,N=[],L(74,0,this,[Yv,N,t]),L(8,0,this,[BU,l,N]),m&&!c||hr(null,0,true,this,m)}catch(E){V(this,11,0,E),l(this.X)}return 1==X-7>>(X>>(X+6&15||(K=s3,p=[49,79,-26,88,16,-93,p,-81,-37,-89],T=t&7,d=Dx[N.D](N.yr),d[N.D]=function(E){T+=6+(x=E,7*t),T&=7},d.concat=function(E,Y,B,w,q){return(w=c%m+1,E=-w*x+(K()|0)*w+p[T+67&7]*c*w+2*c*c*w- -4424*x+56*x*x+T-112*c*c*x-4424*c*x,q=p[E],x=void 0,p)[Y=T+53&7,B=t&2,-2*~(Y&B)-2*(Y&~B)+l*(Y^B)+2*(Y|~B)]=q,p[T+(2*(t|0)-(t|2)-(t|-3)+(~t|2))]=79,q},Z=d),1)&19||(l.A?Z=O3(l.h,l):(p=w7(true,0,l,8),p&128&&(p^=128,m=w7(true,0,l,2),p=(p<<2)+(m|0)),Z=p)),3)&&(Z=(c=(N=(K=t[p]<<24,d=t[(p|0)+1]<<l,-~(K&d)+-2-(~K^d)),x=t[(p|0)+2]<<m,(x|0)+(N^x)+(~N^x)-(~N|x)),T=t[(p|0)+3],-~c+2*(~c&T)+(c|~T))),4==(X+8&13)&&(p=Dx[m.D](m.j9),p[m.D]=function(){return l},p.concat=function(E){l=E},Z=p),Z},u=function(l,X,m,p,t,c,N,K,d){return(((m+9^18)>=m&&(m-9|65)<m&&(d=Dx[X](Dx.prototype,{console:l,splice:l,call:l,document:l,length:l,floor:l,propertyIsEnumerable:l,replace:l,pop:l,stack:l,parent:l,prototype:l})),2==(m<<1&14))&&(t=l,t^=t<<13,t^=t>>17,t=(c=t<<5,(c|0)-(t&c)+(t&~c)),(t=-~(t&p)- -1+2*(t&~p)+2*(~t|p))||(t=1),d=X^t),4==(m^7)>>4&&(d=!!(t=p.s,(t|X)+(l|X)-(t|l))),(m|2)>>4)||(d=l in qS?qS[l]:qS[l]=X+l),(m&58)==m&&\"number\"!==typeof p&&p&&!p.F&&((t=p.src)&&t[pY]?tr(7,5,0,p,t.m):(K=p.type,N=p.proxy,t.removeEventListener?t.removeEventListener(K,N,p.capture):t.detachEvent?t.detachEvent(u(K,l,7),N):t.addListener&&t.removeListener&&t.removeListener(N),SZ--,(c=h(18,t))?(tr(7,6,0,p,c),0==c.K&&(c.src=null,t[eZ]=null)):S(28,X,p))),d},tr=function(l,X,m,p,t,c,N){return(X+l&26)<(X+4>>4||(c=p.type,c in t.W&&n(1,24,t.W[c],p)&&(S(26,true,p),t.W[c].length==m&&(delete t.W[c],t.K--))),X)&&X-8<<2>=X&&(this.J=m),N},k=function(l,X,m,p,t,c,N,K,d,x,T){if((l&90)==l)if(Array.isArray(c))for(d=0;d<c.length;d++)k(72,null,true,p,t,c[d],N,K);else K=C(44,K,16),p&&p[pY]?p.m.add(String(c),K,m,S(8,X,N)?!!N.capture:!!N,t):L(7,false,null,c,t,N,m,p,K);return l>>2&(27>l>>((l-5|((l&27)==l&&(c.classList?c.classList.remove(N):KY(5,37,m,1,N,c)&&h(66,t,Array.prototype.filter.call(D(6,X,c),function(Z){return Z!=N}).join(p),c)),6))>=l&&(l+3^24)<l&&(T=function(){},T.prototype=p.prototype,m.v=p.prototype,m.prototype=new T,m.prototype.constructor=m,m.YK=function(Z,E,Y){for(var B=Array(arguments.length-X),w=X;w<arguments.length;w++)B[w-X]=arguments[w];return p.prototype[E].apply(Z,B)}),1)&&24<=l>>1&&(Jr.call(this),this.m=new PU(this),this.Ko=this,this.Lo=null),7)||(p=new r(m,X),x=[function(Z){return L(33,false,p,Z)}]),x},CY=function(l,X,m,p,t,c,N,K,d,x,T){if(((p+7^9)>=p&&(p-5|7)<p&&X.Aj&&X.Aj.forEach(m,void 0),14<=(p^31))&&22>p>>l){for(N=c=0;N<m.length;N++)c+=m.charCodeAt(N),c+=c<<10,c^=c>>6;d=new Number((c=(x=(c+=c<<3,c>>11),(c|0)-(c&x)+(~c&x)),K=c+(c<<15)>>>0,K&(l<<X)-l)),d[0]=(K>>>X)%t,T=d}return T},nY=function(l,X,m,p,t,c,N,K){if(!(X<<l&15))a:{for(N in t)if(c.call(void 0,t[N],N,t)){K=p;break a}K=m}return 2==(X+6&6)&&(LY.call(this,m?m.type:\"\"),this.relatedTarget=this.currentTarget=this.target=null,this.button=this.screenY=this.screenX=this.clientY=this.clientX=this.offsetY=this.offsetX=0,this.key=\"\",this.charCode=this.keyCode=0,this.metaKey=this.shiftKey=this.altKey=this.ctrlKey=false,this.state=null,this.pointerId=0,this.pointerType=\"\",this.G=null,m&&(c=this.type=m.type,t=m.changedTouches&&m.changedTouches.length?m.changedTouches[0]:null,this.target=m.target||m.srcElement,this.currentTarget=p,N=m.relatedTarget,N||(\"mouseover\"==c?N=m.fromElement:\"mouseout\"==c&&(N=m.toElement)),this.relatedTarget=N,t?(this.clientX=void 0!==t.clientX?t.clientX:t.pageX,this.clientY=void 0!==t.clientY?t.clientY:t.pageY,this.screenX=t.screenX||0,this.screenY=t.screenY||0):(this.offsetX=m.offsetX,this.offsetY=m.offsetY,this.clientX=void 0!==m.clientX?m.clientX:m.pageX,this.clientY=void 0!==m.clientY?m.clientY:m.pageY,this.screenX=m.screenX||0,this.screenY=m.screenY||0),this.button=m.button,this.keyCode=m.keyCode||0,this.key=m.key||\"\",this.charCode=m.charCode||(\"keypress\"==c?m.keyCode:0),this.ctrlKey=m.ctrlKey,this.altKey=m.altKey,this.shiftKey=m.shiftKey,this.metaKey=m.metaKey,this.pointerId=m.pointerId||0,this.pointerType=\"string\"===typeof m.pointerType?m.pointerType:ui[m.pointerType]||\"\",this.state=m.state,this.G=m,m.defaultPrevented&&VP.v.preventDefault.call(this))),(X|48)==X&&(K=Math.floor(this.po+(this.B()-this.S))),K},L=function(l,X,m,p,t,c,N,K,d,x,T,Z,E,Y){if((4==(l+3&15)&&(m.rT(function(B){t=B},X,p),Y=t),1)==l-9>>3)if(X.classList)Array.prototype.forEach.call(m,function(B,w){X.classList?X.classList.add(B):KY(5,36,0,1,B,X)||(w=ii(40,\"string\",9,\"\",X),h(67,\"class\",w+(0<w.length?\" \"+B:B),X))});else{for(c in p=(((t={},Array).prototype.forEach.call(D(8,\"string\",X),function(B){t[B]=true}),Array.prototype).forEach.call(m,function(B){t[B]=true}),\"\"),t)p+=0<p.length?\" \"+c:c;h(64,\"class\",p,X)}if(3==((2==(l>>2&15)&&m.l.splice(X,X,p),l)>>1&23)){if(!p)throw Error(\"Invalid event type\");if(E=((x=h(19,(T=S(3,m,c)?!!c.capture:!!c,K)))||(K[eZ]=x=new PU(K)),x.add(p,d,N,T,t)),!E.proxy){if(((Z=KY(5,32),E.proxy=Z,Z.src=K,Z).listener=E,K).addEventListener)jZ||(c=T),void 0===c&&(c=X),K.addEventListener(p.toString(),Z,c);else if(K.attachEvent)K.attachEvent(u(p.toString(),\"on\",11),Z);else if(K.addListener&&K.removeListener)K.addListener(Z);else throw Error(\"addEventListener and attachEvent are unavailable.\");SZ++}}return 4==((l^75)&15)&&(this.j=y.document||document),Y},b=function(l,X,m,p,t,c,N,K,d,x,T,Z){if(4>((m^37)&8)&&5<=(m+5&15)){for(N=G(X,80),K=p;t>p;t--)K=(d=K<<8,c=g(0,X,true),-(d&c)-2*~d+(d^c)+2*(~d|c));R(X,N,K)}return m+5>>1<((m|40)==m&&(t=g(0,X,true),t&p&&(t=127-~t+~(t|127)|g(0,X,true)<<l),T=t),m)&&(m-9^27)>=m&&(T=Z=function(){if(K.J==K){if(K.g){var E=[Gb,c,N,void 0,d,x,arguments];if(t==X)var Y=hr(null,0,(L(75,0,K,E),p),K,p);else if(1==t){var B=!K.l.length;(L(73,0,K,E),B)&&hr(null,0,p,K,p)}else Y=r7(25,E,412,K);return Y}d&&x&&d.removeEventListener(x,Z,fY)}}),T},h=function(l,X,m,p,t,c,N,K,d,x,T,Z,E,Y,B,w){if(!((20>l>>1&&7<=(l<<2&15)&&(m=X[eZ],w=m instanceof PU?m:null),l|3)>>4)){if((((d=(x=(N=(Y=(E=c?255:t?5:2,0<p.IT&&p.l6&&p.Ec)&&1>=p.Wt&&!p.A&&!p.O&&(!t||1<p.xW-m)&&0==document.hidden,t||p.ct++,p.ct)==X)||Y?p.B():p.P,Z=x-p.P,Z)>>14,p).Y&&(p.Y=(K=p.Y,T=d*(Z<<2),(K|T)+~T-(K|~T))),p).J=d||p.J,p.wT+=d,N)||Y)p.ct=0,p.P=x;!Y||x-p.S<p.IT-E?w=false:(p.xW=m,B=a(t?103:273,p),R(p,273,p.L),p.l.push([U3,B,t?m+1:m]),p.O=QP,w=true)}return(l^72)>>4||(\"string\"==typeof p.className?p.className=m:p.setAttribute&&p.setAttribute(X,m)),w},O=function(l,X,m,p,t,c,N,K,d){if(7>((X|4)&16)&&9<=(X-7&14))a:if(\"string\"===typeof t)d=\"string\"!==typeof p||p.length!=m?-1:t.indexOf(p,l);else{for(c=l;c<t.length;c++)if(c in t&&t[c]===p){d=c;break a}d=-1}if((X-6>>(2==(X<<1&15)&&(this.kW=this.kW),4)||(m.F?t=true:(N=new VP(p,this),K=m.listener,c=m.gT||m.src,m.U&&u(\"on\",true,18,m),t=K.call(c,N)),d=t),1)==(X-5&11)){if(!p)throw Error(\"Invalid class name \"+p);if(\"function\"!==typeof m)throw Error(\"Invalid decorator function \"+m);}return d},V=function(l,X,m,p,t,c,N,K,d,x,T,Z,E){if(((4==(X+9&15)&&(l.X=((l.X?l.X+\"~\":\"E:\")+p.message+\":\"+p.stack).slice(m,2048)),X)-3|13)>=X&&(X-7|57)<X)if(Array.isArray(N))for(d=m;d<N.length;d++)V(l,5,0,null,t,c,N[d],K);else T=S(12,p,c)?!!c.capture:!!c,t=C(44,t,9),K&&K[pY]?K.m.remove(String(N),t,T,l):K&&(x=h(22,K))&&(Z=x.DB(t,N,T,l))&&u(\"on\",true,16,Z);if(4==(X-8&14))a:{switch(N){case 1:E=c?\"disable\":\"enable\";break a;case m:E=c?\"highlight\":\"unhighlight\";break a;case l:E=c?\"activate\":\"deactivate\";break a;case 8:E=c?\"select\":\"unselect\";break a;case t:E=c?\"check\":\"uncheck\";break a;case 32:E=c?\"focus\":\"blur\";break a;case p:E=c?\"open\":\"close\";break a}throw Error(\"Invalid component state\");}if(4==(X>>(1==(X+3&13)&&(c=typeof t,N=c!=p?c:t?Array.isArray(t)?\"array\":c:\"null\",E=N==l||N==p&&typeof t.length==m),2)&15)){for(l=t=(c=[],0);t<m.length;t++)for(N=N<<p|m[t],l+=p;7<l;)l-=8,c.push(N>>l&255);E=c}return E},Ia=function(l,X,m,p,t,c){return 0<=((p^((p&107)==p&&(MS.call(this),m||yP||(yP=new vU),this.Qr=void 0,this.ZB=X,this.Aj=this.XC=this.Co=this.Gb=this.u6=null),l))&3)&&1>(p-9&3)&&(this.type=m,this.currentTarget=this.target=t,this.defaultPrevented=this.o=X),c},r=function(l,X,m){m=this;try{g7(l,X,this)}catch(p){V(this,27,0,p),l(function(t){t(m.X)})}},Ra=function(l,X){for(X=[];l--;)X.push(255*Math.random()|0);return X},bi=function(l,X,m,p,t,c,N,K,d,x,T,Z,E,Y,B){for(E=(K=l.replace(/\\\\r\\\\n/g,\"\\\\n\"),c=d=0,[]);c<K.length;c++)N=K.charCodeAt(c),128>N?E[d++]=N:(2048>N?E[d++]=(T=N>>6,(T|0)+192-(T&192)):(55296==(N|0)- -1+(~N|64512)&&c+1<K.length&&56320==(p=K.charCodeAt(c+1),(p|0)- -1+(~p|64512))?(N=(m=(N|1023)-~(N&1023)+~(N|1023)<<10,2*(65536&m)+-65537+~m-2*~(65536|m))+(B=K.charCodeAt(++c),(B|0)- -1+(~B|1023)),E[d++]=(Y=N>>18,242+3*(Y&-241)+2*(~Y|240)),E[d++]=(t=N>>12&63,-~t+2*(~t&128)+(t|-129))):E[d++]=(x=N>>12,-~(x&X)-1+(x^X)),E[d++]=(Z=N>>6&63,-2-~Z-(Z|-129))),E[d++]=N&63|128);return E},MS=function(){return k.call(this,48)},Ar=function(l,X,m,p,t){return C.call(this,44,p,18,m,t,l,X)},aa=function(l,X,m,p){F((p=G(X,(m=G(X,65),88)),p),H(a(m,X),l),X)},a=function(l,X,m){if(void 0===(m=X.g[l],m))throw[Fl,30,l];if(m.value)return m.create();return(m.create(2*l*l+79*l+-79),m).prototype},g=function(l,X,m){return X.A?O3(X.h,X):w7(m,l,X,8)},LY=function(l,X){return Ia.call(this,36,false,l,5,X)},zb=function(l,X,m,p,t,c,N,K,d,x){for(x=(c=(K=((d=G(p,(N=p[HU]||{},80)),N).FC=G(p,65),N.V=[],p.J==p)?(g(X,p,m)|X)-t:1,G)(p,81),X);x<K;x++)N.V.push(G(p,l));for(;K--;)N.V[K]=a(N.V[K],p);return N.oT=a(c,p),N.hj=a(d,p),N},mf=function(l,X,m){return P.call(this,80,l,X,m)},NA=function(){return D.call(this,50)},W=function(l,X,m,p,t,c,N,K){return D.call(this,72,l,X,m,p,t,c,N,K)},hr=function(l,X,m,p,t,c,N,K){if(p.l.length){p.Ec=(p.l6=(p.l6&&X(),true),t);try{K=p.B(),p.ct=X,p.P=K,p.S=K,N=$M(25,true,0,l,t,412,p),c=p.B()-p.S,p.po+=c,c<(m?0:10)||p.Oc--<=X||(c=Math.floor(c),p.qG.push(254>=c?c:254))}finally{p.l6=false}return N}},PU=function(l){return ii.call(this,40,l,3)},XG=function(l,X,m,p,t,c,N,K,d,x,T,Z,E,Y){(X.push((c=(T=l[0]<<24,m=l[1]<<16,(T&m)+~(T&m)-~(T|m)),Y=l[2]<<8,-~Y+2*(c^Y)-2*(~c&Y)+(~c|Y))|l[3]),X).push((E=(p=l[4]<<24|l[5]<<16,t=l[6]<<8,(t|0)-1-(~p|t)),Z=l[7],-~(E&Z)+2*(E^Z)-(~E&Z)+(~E|Z))),X.push((N=(x=l[8]<<24,K=l[9]<<16,(x|0)+~(x&K)-~K),d=l[10]<<8,(N|0)+(N&d)+~N-(~N^d))|l[11])},w7=function(l,X,m,p,t,c,N,K,d,x,T,Z,E,Y,B,w,q){if((E=a(273,m),E)>=m.L)throw[Fl,31];for(w=(N=E,c=(B=p,X),m.X3).length;B>X;)d=N%8,q=8-(d|X),x=q<B?q:B,Z=N>>3,K=m.Z[Z],l&&(Y=m,Y.i!=N>>6&&(Y.i=N>>6,T=a(340,Y),Y.Vr=l8(8,29,306,Y.Y,2,[0,0,T[1],T[2]],Y.i)),K^=m.Vr[Z&w]),c|=(K>>8-(d|X)-(x|X)&(1<<x)-1)<<(B|X)-(x|X),B-=x,N+=x;return R(m,273,(E|X)+(t=c,p|X)),t},tw=function(l,X,m,p,t,c){return a(l,(R(m,(pu(\":\",((c=a(273,m),m.Z)&&c<m.L?(R(m,273,m.L),o3(273,m,t)):R(m,273,t),X),m,p),273),c),m))},cm=function(){return NS.call(this,5,16)},Ku=function(l){return n.call(this,l,48)},i8=function(l,X,m,p,t,c,N,K,d,x){function T(Z){Z&&m.appendChild(\"string\"===typeof Z?N.createTextNode(Z):Z)}for(x=p;x<X.length;x++)if(d=X[x],!V(t,14,\"number\",l,d)||S(9,null,d)&&0<d.nodeType)T(d);else{a:{if(d&&\"number\"==typeof d.length){if(S(10,null,d)){K=\"function\"==typeof d.item||\"string\"==typeof d.item;break a}if(\"function\"===typeof d){K=\"function\"==typeof d.item;break a}}K=c}S(72,\"\",0,T,K?n(0,14,d):d)}},dp=function(l,X,m,p,t,c){try{c=l[(-2-2*~X-(X^2)+2*(~X&2))%3],l[X]=(p=l[X],t=l[(-2*~(X&1)+-2+(X^1))%3],-~(p&t)+~(p|t)+2*(p&~t))-(c|0)^(1==X?c<<m:c>>>m)}catch(N){throw N;}},F=function(l,X,m,p,t,c,N,K,d){if(m.J==m)for(c=a(l,m),248==l?(N=function(x,T,Z,E,Y,B){if(c.Uc!=(Z=-(B=c.length,3)*~B+3*~(B|4)-(B&-5)+2*(B^4)>>3,Z)){Y=[0,0,t[1],t[2]],E=(T=Z<<3,-1-2*~(c.Uc=Z,T)+2*~(T|4)-(~T^4));try{c.fo=l8(8,29,306,G(16,18,8,E,c),2,Y,G(16,19,8,(E|0)+4,c))}catch(w){throw w;}}c.push(c.fo[-~(B&7)+(~B&7)+(B|-8)]^x)},t=a(287,m)):N=function(x){c.push(x)},p&&N(p&255),d=X.length,K=0;K<d;K++)N(X[K])},l8=function(l,X,m,p,t,c,N,K,d,x){for(K=c[t]|(x=c[3]|0,0),d=0;14>d;d++)x=x>>>l|x<<24,x+=K|0,N=N>>>l|N<<24,x^=d+m,N+=p|0,p=p<<3|p>>>X,N^=K+m,p^=N,K=K<<3|K>>>X,K^=x;return[p>>>24&255,p>>>16&255,p>>>l&255,p>>>0&255,N>>>24&255,N>>>16&255,N>>>l&255,N>>>0&255]},H=function(l,X,m,p){for(m=(X|0)-(p=[],1);0<=m;m--)p[-1+(~X^1)-2*(~X|1)-(m|0)]=l>>8*m&255;return p},$M=function(l,X,m,p,t,c,N,K,d,x){for(;N.l.length;){x=(N.O=p,N.l).pop();try{K=r7(l,x,c,N)}catch(T){V(N,43,m,T)}if(t&&N.O){(d=N.O,d)(function(){hr(null,m,X,N,X)});break}}return K},z,kv=function(l,X,m,p,t){if(t=typeof X,\"object\"==t)if(X){if(X instanceof Array)return m;if(X instanceof Object)return t;if((p=Object.prototype.toString.call(X),\"[object Window]\")==p)return\"object\";if(\"[object Array]\"==p||\"number\"==typeof X.length&&\"undefined\"!=typeof X.splice&&\"undefined\"!=typeof X.propertyIsEnumerable&&!X.propertyIsEnumerable(\"splice\"))return m;if(\"[object Function]\"==p||\"undefined\"!=typeof X.call&&\"undefined\"!=typeof X.propertyIsEnumerable&&!X.propertyIsEnumerable(\"call\"))return\"function\"}else return l;else if(\"function\"==t&&\"undefined\"==typeof X.call)return\"object\";return t},xM=function(l){return KY.call(this,5,5,l)},o3=function(l,X,m){R(X,l,((X.sc.push(X.g.slice()),X.g)[l]=void 0,m))},Tx=function(l,X,m,p,t,c,N,K,d,x,T,Z){if(!X.NG){if((c=a(160,((N=(0==(Z=a(491,(K=void 0,l&&l[0]===Fl&&(m=l[1],K=l[2],l=void 0),X)),Z.length)&&(d=a(103,X)>>3,Z.push(m,(x=d>>8,(x|0)- -1+(~x|255)),d&255),void 0!=K&&Z.push(K&255)),\"\"),l)&&(l.message&&(N+=l.message),l.stack&&(N+=p+l.stack)),X)),3)<c){(N=bi((N=N.slice(0,(c|0)-3),c-=(T=N.length,2*(T&3)+~T- -4+2*(T&-4)),N),224),t=X.J,X).J=X;try{F(248,H(N.length,2).concat(N),X,12)}finally{X.J=t}}R(X,160,c)}},EO=function(l,X,m,p,t){return L.call(this,18,l,X,m,p,t)},ZP=function(l,X,m){return k.call(this,32,l,X,m)},kM=function(l,X,m,p,t,c,N){F(((c=(p=G((N=(X|4)-~X+-5-2*(t=X&3,X&-5),l),80),G)(l,72),m=a(p,l),N&&(m=bi(\"\"+m,224)),t)&&F(c,H(m.length,2),l),c),m,l)},r7=function(l,X,m,p,t,c,N,K,d,x,T){if(N=X[0],N==Yv)p.Oc=l,p.N(X);else if(N==BU){t=X[1];try{d=p.X||p.N(X)}catch(Z){V(p,75,0,Z),d=p.X}t(d)}else if(N==U3)p.N(X);else if(N==YM)p.N(X);else if(N==Bm){try{for(c=0;c<p.b6.length;c++)try{x=p.b6[c],x[0][x[1]](x[2])}catch(Z){}}catch(Z){}(0,X[p.b6=[],1])(function(Z,E){p.rT(Z,true,E)},function(Z){L(11,0,(Z=!p.l.length,p),[hw]),Z&&hr(null,0,false,p,true)})}else{if(N==Gb)return K=X[2],R(p,m,X[6]),R(p,473,K),p.N(X);N==hw?(p.g=null,p.qG=[],p.Z=[]):N==sO&&(T=y.parent,\"loading\"===T.document.readyState&&(p.O=function(Z,E){function Y(){E||(E=true,Z())}(T.document.addEventListener(\"DOMContentLoaded\",Y,(E=false,fY)),T).addEventListener(\"load\",Y,fY)}))}},DP=function(l,X){return S.call(this,33,l,X)},g7=function(l,X,m,p,t,c){for((m.yr=u({get:function(){return this.concat()}},m.D,((m.Ct=wp,m.X3=m[BU],m).vo=OO,88)),m).j9=Dx[m.D](m.yr,{value:{value:{}}}),t=[],c=0;128>c;c++)t[c]=String.fromCharCode(c);hr(null,(L(9,0,m,(L(10,(L((R(m,(R((R(m,206,(R(m,(R(m,(R(m,100,(((R(m,(R(m,248,(R(m,187,(R(m,(R(m,(R(m,355,(R(m,(R(m,165,(R(m,(R(m,(R(m,(R(m,159,(R(m,((R(m,(R(m,(R(m,37,(m.Bo=(R(m,247,(R(m,358,(R(m,500,(R(m,(new (R(m,71,(R(m,((R((R((R(m,49,[165,0,(R(m,160,(R(m,(R((R(m,287,[0,0,(R(m,(R(m,103,(m.Tb=(m.IT=(m.b6=(m.DA=0,(m.Ec=(m.Y=void 0,false),m.Oc=25,m).J=m,m.S=0,m.h=void 0,m.O=(m.A=void 0,null),(m.xW=(m.X=void 0,8001),(m.l6=false,m).P=0,(m.sc=[],m).Z=[],m).Vr=(m.i=void 0,m.Wt=0,void 0),m.qG=[],m.wT=(m.L=(m.ct=void 0,m.l=[],m.MG=(m.g=[],function(N){return tr.call(this,7,25,N)}),0),1),p=window.performance||{},m.NG=false,m.po=0,[]),0),p.timeOrigin||(p.timing||{}).navigationStart)||0,R(m,273,0),0)),373),function(N,K,d,x,T,Z){R(N,(x=(Z=G(N,(d=G(N,(K=G(N,81),89)),73)),T=a(d,N),a(K,N)==T),Z),+x)}),0)]),m),34,function(N,K,d,x,T,Z,E){for(x=(d=(T=a(316,(K=(Z=(E=G(N,73),b(7,N,56,128)),\"\"),N)),T).length,0);Z--;)x=((x|0)+(b(7,N,57,128)|0))%d,K+=t[T[x]];R(N,E,K)}),359),function(N){b(7,N,6,0,4)}),2048)),0)]),m),91,function(N,K,d,x){(d=G(N,(x=(K=G(N,89),g(0,N,true)),89)),R)(N,d,a(K,N)>>>x)}),m),284,function(N,K,d,x,T){for(K=(T=(d=b(7,N,40,(x=G(N,89),128)),0),[]);T<d;T++)K.push(g(0,N,true));R(N,x,K)}),m).kK=0,142),function(N,K,d,x){h(13,4,K,N,true,false)||(x=G(N,72),d=G(N,64),R(N,d,function(T){return eval(T)}(qA(a(x,N.J)))))}),344)),mf)(\"Submit\"),491),[]),function(N,K,d){R(N,(d=G(N,(K=G(N,25),73)),d),\"\"+a(K,N))})),function(N,K,d,x){if(x=N.sc.pop()){for(d=g(0,N,true);0<d;d--)K=G(N,64),x[K]=N.g[K];N.g=(x[x[491]=N.g[491],160]=N.g[160],x)}else R(N,273,N.L)})),function(N,K,d,x,T,Z){R(N,(T=(Z=a((d=G(N,(K=(x=G(N,65),G(N,24)),24)),x),N),a(K,N)),d),Z in T|0)})),0),function(N,K,d,x,T,Z,E){(K=G(N,(E=(Z=G(N,25),G)(N,24),88)),N.J==N)&&(d=a(Z,N),x=a(E,N),T=a(K,N),d[x]=T,340==Z&&(N.i=void 0,2==x&&(N.Y=w7(false,0,N,32),N.i=void 0)))})),393),function(N,K){o3(273,(K=a(G(N,72),N),N.J),K)}),1),function(N,K,d,x,T,Z,E,Y,B,w,q,f,v,mZ,I,U,Q){function A(e,M){for(;d<e;)K|=g(0,N,true)<<d,d+=8;return K>>=(M=K&(1<<(d-=e,e))-1,e),M}for(I=(d=(T=G(N,81),K=0),v=(U=A(3),4+2*(U&-2)+(U|-2)+(~U|1)),A(5)),q=[],E=w=0;E<I;E++)Y=A(1),q.push(Y),w+=Y?0:1;for(Q=(Z=(mZ=(-2*~w+-4-(w|-2)+(~w|1)).toString(2).length,[]),0);Q<I;Q++)q[Q]||(Z[Q]=A(mZ));for(B=0;B<I;B++)q[B]&&(Z[B]=G(N,88));for(f=(x=v,[]);x--;)f.push(a(G(N,25),N));R(N,T,function(e,M,J,oa,WU){for(WU=(M=0,[]),J=[];M<I;M++){if(!(oa=Z[M],q[M])){for(;oa>=WU.length;)WU.push(G(e,24));oa=WU[oa]}J.push(oa)}e.h=G((e.A=G(f.slice(),30,e),J),28,e)})}),R)(m,378,function(N){aa(4,N)}),116),function(){}),function(N){kM(N,3)})),141),function(N,K,d,x,T){R(N,(d=(x=a((T=(K=G(N,72),G)(N,80),T),N),a)(K,N),T),x+d)}),366),function(N){aa(1,N)}),480),y),function(N,K,d,x,T,Z,E,Y){R(N,(E=(T=(x=(K=G(N,(Z=(d=G(N,(Y=G(N,65),81)),G)(N,65),65)),a)(Z,N),a(K,N)),a)(d,N),Y),b(7,2,10,false,T,E,x,N))})),135),function(N,K,d,x,T,Z,E,Y,B,w,q,f,v,mZ){if(!h(5,4,K,N,true,true)){if(\"object\"==kv(\"null\",(q=(T=a((f=(x=(v=G((B=G(N,(Y=G(N,(d=G(N,25),73)),89)),N),80),a(B,N)),a)(v,N),Y),N),a(d,N)),q),\"array\")){for(mZ in Z=[],q)Z.push(mZ);q=Z}for(w=(x=0<x?x:1,q.length),E=0;E<w;E+=x)T(q.slice(E,(E|0)+(x|0)),f)}}),function(N,K,d,x,T){T=kv(\"null\",(K=a((x=(d=G(N,64),G(N,24)),d),N),K),\"array\"),R(N,x,T)})),341),function(N){kM(N,4)}),R(m,376,function(N,K,d){(d=a((K=G(N,64),K),N.J),d)[0].removeEventListener(d[1],d[2],fY)}),477),function(N,K,d,x,T,Z){(Z=(x=(d=G(N,(T=G(N,(K=G(N,89),88)),64)),a(T,N)),a(K,N)),R)(N,d,Z[x])}),function(N,K,d,x){0!=(K=(d=(x=G(N,80),G)(N,64),a)(d,N),a(x,N))&&R(N,273,K)})),Ra(4))),381),function(N,K,d,x,T,Z,E,Y,B){h(12,4,K,N,true,false)||(T=zb(72,0,true,N.J,1),E=T.V,x=T.FC,Y=T.hj,d=E.length,B=T.oT,Z=0==d?new B[Y]:1==d?new B[Y](E[0]):2==d?new B[Y](E[0],E[1]):3==d?new B[Y](E[0],E[1],E[2]):4==d?new B[Y](E[0],E[1],E[2],E[3]):2(),R(N,x,Z))}),m).Lt=0,R(m,181,function(N,K,d,x,T,Z,E,Y,B,w){0!==(T=(w=(K=(Y=(x=(Z=G(N,25),B=G(N,88),d=G(N,24),G(N,88)),a(x,N)),a(B,N)),a(d,N)),a(Z,N.J)),T)&&(E=b(7,2,9,false,1,w,Y,N,T,K),T.addEventListener(K,E,fY),R(N,206,[T,K,E]))}),R)(m,323,function(N,K,d,x,T){!h(9,4,K,N,true,false)&&(x=zb(72,0,true,N,1),T=x.hj,d=x.oT,N.J==N||T==N.MG&&d==N)&&(R(N,x.FC,T.apply(d,x.V)),N.P=N.B())}),0)),297),function(N,K,d,x){R(N,(K=G(N,(x=G(N,(d=G(N,25),72)),81)),K),a(d,N)||a(x,N))}),511),m),0)),m),473,{}),52),[]),72),0,m,[sO]),0),m,[YM,X]),[Bm,l])),0),true,m,true)},So=function(){return h.call(this,48)},O3=function(l,X,m){return(m=l.create().shift(),X.A.create()).length||X.h.create().length||(X.h=void 0,X.A=void 0),m},VP=function(l,X,m,p,t){return nY.call(this,1,5,l,X,m,p,t)},Jr=function(){return O.call(this,0,25)},xv=function(l){return Ia.call(this,36,false,l,3)},li=function(){return P.call(this,34)},eo=function(l,X){for(var m,p=1,t;p<arguments.length;p++){for(m in t=arguments[p],t)l[m]=t[m];for(var c=0;c<Wm.length;c++)m=Wm[c],Object.prototype.hasOwnProperty.call(t,m)&&(l[m]=t[m])}},y=this||self,Jw=function(l,X,m,p,t){if(3==l.length){for(m=0;3>m;m++)X[m]+=l[m];for(t=0,p=[13,8,13,12,16,5,3,10,15];9>t;t++)X[3](X,t%3,p[t])}},R=function(l,X,m){if(273==X||103==X)l.g[X]?l.g[X].concat(m):l.g[X]=G(m,44,l);else{if(l.NG&&340!=X)return;49==X||248==X||52==X||491==X||287==X?l.g[X]||(l.g[X]=G(3,26,16,m,102,X,l)):l.g[X]=G(3,42,16,m,9,X,l)}340==X&&(l.Y=w7(false,0,l,32),l.i=void 0)},pu=function(l,X,m,p,t,c,N,K){if(!m.X){m.Wt++;try{for(c=(N=(K=0,m.L),void 0);--p;)try{if((t=void 0,m).A)c=O3(m.A,m);else{if((K=a(273,m),K)>=N)break;c=(t=G(m,(R(m,103,K),81)),a)(t,m)}h(8,(c&&c.call?c(m,p):Tx([Fl,21,t],m,0,l),4),p,m,false,false)}catch(d){a(71,m)?Tx(d,m,X,l):R(m,71,d)}if(!p){if(m.S9){pu(\":\",22,(m.Wt--,m),111812526819);return}Tx([Fl,33],m,0,l)}}catch(d){try{Tx(d,m,X,l)}catch(x){V(m,59,0,x)}}m.Wt--}},cU=function(l,X,m,p,t,c){return O.call(this,0,7,l,X,m,p,t,c)},Pm=function(l,X,m,p,t){if(!(t=y.trustedTypes,p=l,t)||!t.createPolicy)return p;try{p=t.createPolicy(m,{createHTML:Ku,createScript:Ku,createScriptURL:Ku})}catch(c){if(y.console)y.console[X](c.message)}return p},vU=function(){return L.call(this,15)},$v=\"closure_uid_\"+(1E9*Math.random()>>>0),yP,Xl=0,jZ=function(l,X){if(!y.addEventListener||!Object.defineProperty)return false;X=Object.defineProperty({},\"passive\",{get:(l=false,function(){l=true})});try{y.addEventListener(\"test\",function(){},X),y.removeEventListener(\"test\",function(){},X)}catch(m){}return l}(),ui={2:\"touch\",3:(k(13,2,VP,(LY.prototype.preventDefault=((LY.prototype.stopPropagation=function(){this.o=true},Jr).prototype.kW=false,function(){this.defaultPrevented=true}),LY)),\"pen\"),4:\"mouse\"},pY=\"closure_listenable_\"+(1E6*(VP.prototype.preventDefault=(VP.prototype.stopPropagation=function(){(VP.v.stopPropagation.call(this),this.G.stopPropagation)?this.G.stopPropagation():this.G.cancelBubble=true},function(l){l=(VP.v.preventDefault.call(this),this.G),l.preventDefault?l.preventDefault():l.returnValue=false}),Math).random()|0),Wm=\"constructor hasOwnProperty isPrototypeOf propertyIsEnumerable toLocaleString toString valueOf\".split(\" \"),Zx=0,eZ=\"closure_lm_\"+(1E6*((PU.prototype.hasListener=function(l,X,m,p,t){return nY(1,8,(t=(p=(m=void 0!==X,void 0!==l))?l.toString():\"\",false),true,this.W,function(c,N){for(N=0;N<c.length;++N)if(!(p&&c[N].type!=t||m&&c[N].capture!=X))return true;return false})},(PU.prototype.add=function(l,X,m,p,t,c,N,K,d){return-1<(N=NS(5,7,((d=this.W[K=l.toString(),K],d)||(d=this.W[K]=[],this.K++),0),X,p,t,d),N)?(c=d[N],m||(c.U=false)):(c=new Ar(t,K,!!p,this.src,X),c.U=m,d.push(c)),c},PU).prototype).remove=(PU.prototype.DB=function(l,X,m,p,t,c){return-((c=(t=-1,this).W[X.toString()],c)&&(t=NS(5,6,0,l,m,p,c)),1)<t?c[t]:null},function(l,X,m,p,t,c,N){if(N=l.toString(),!(N in this.W))return false;return t=NS(5,5,(c=this.W[N],0),X,m,p,c),-1<t?(S(25,true,c[t]),Array.prototype.splice.call(c,t,1),0==c.length&&(delete this.W[N],this.K--),true):false}),Math).random()|0),qS={},SZ=0,E3=\"__closure_events_fn_\"+(1E9*Math.random()>>>0);((((k(54,2,MS,Jr),MS.prototype)[pY]=true,z=MS.prototype,z.i6=function(l){this.Lo=l},z).addEventListener=function(l,X,m,p){P(32,null,false,m,this,p,X,l)},z).removeEventListener=function(l,X,m,p){V(p,3,0,null,X,m,l,this)},z).dispatchEvent=function(l,X,m,p,t,c,N,K,d,x,T){if(t=this.Lo)for(T=[];t;t=t.Lo)T.push(t);if(p=!((c=(d=T,l),K=this.Ko,X=c.type||c,\"string\"===typeof c)?c=new LY(c,K):c instanceof LY?c.target=c.target||K:(m=c,c=new LY(X,K),eo(c,m)),0),d)for(N=d.length-1;!c.o&&0<=N;N--)x=c.currentTarget=d[N],p=n(true,3,x,true,X,c)&&p;if(c.o||(x=c.currentTarget=K,p=n(true,6,x,true,X,c)&&p,c.o||(p=n(true,7,x,false,X,c)&&p)),d)for(N=0;!c.o&&N<d.length;N++)x=c.currentTarget=d[N],p=n(true,5,x,false,X,c)&&p;return p},z.DB=function(l,X,m,p){return this.m.DB(l,String(X),m,p)},z.hasListener=function(l,X){return this.m.hasListener(void 0!==l?String(l):void 0,X)};var d7;(((z=(k(14,2,(((C(44,(((((((z=vU.prototype,z).I=function(l){return\"string\"===typeof l?this.j.getElementById(l):l},z).getElementsByTagName=function(l,X){return(X||this.j).getElementsByTagName(String(l))},z).createElement=function(l,X,m){return m=(X=this.j,String(l)),\"application/xhtml+xml\"===X.contentType&&(m=m.toLowerCase()),X.createElement(m)},z).createTextNode=function(l){return this.j.createTextNode(String(l))},z.appendChild=function(l,X){l.appendChild(X)},z).append=function(l,X){i8(\"object\",arguments,l,1,\"array\",false,9==l.nodeType?l:l.ownerDocument||l.document)},z.canHaveChildren=function(l){if(1!=l.nodeType)return false;switch(l.tagName){case \"APPLET\":case \"AREA\":case \"BASE\":case \"BR\":case \"COL\":case \"COMMAND\":case \"EMBED\":case \"FRAME\":case \"HR\":case \"IMG\":case \"INPUT\":case \"IFRAME\":case \"ISINDEX\":case \"KEYGEN\":case \"LINK\":case \"NOFRAMES\":case \"NOSCRIPT\":case \"META\":case \"OBJECT\":case \"PARAM\":case \"SCRIPT\":case \"SOURCE\":case \"STYLE\":case \"TRACK\":case \"WBR\":return false}return true},z.removeNode=xM,z).contains=function(l,X){if(!l||!X)return false;if(l.contains&&1==X.nodeType)return l==X||l.contains(X);if(\"undefined\"!=typeof l.compareDocumentPosition)return l==X||!!(l.compareDocumentPosition(X)&16);for(;X&&l!=X;)X=X.parentNode;return X==l},cm),43),cm).prototype.zb=\"\",cm).prototype.Jx=0,xv),MS),xv.prototype),z.dT=cm.Jj(),z).I=function(){return this.Co},z.getParent=function(){return this.XC},z).T=function(){((CY(1,this,function(l){l.ZB&&l.T()},19),this.Qr)&&ii(40,0,68,true,this.Qr),this).ZB=false},z).i6=function(l){if(this.XC&&this.XC!=l)throw Error(\"Method not supported\");xv.v.i6.call(this,l)},z.removeChild=function(l,X,m,p,t,c,N,K,d,x,T,Z){if(l&&(\"string\"===typeof l?T=l:((d=l.Gb)||(m=l,K=l.dT,c=K.zb+\":\"+(K.Jx++).toString(36),d=m.Gb=c),T=d),p=T,this.u6&&p?(N=this.u6,x=(null!==N&&p in N?N[p]:void 0)||null):x=null,l=x,p&&l)){if(((n(1,(Z=this.u6,p in Z&&delete Z[p],25),this.Aj,l),X)&&(l.T(),l.Co&&xM(l.Co)),t=l,null)==t)throw Error(\"Unable to set parent component\");xv.v.i6.call((t.XC=null,t),null)}if(!l)throw Error(\"Child is not in parent component\");return l};var Cu,Lu=((((((z=(C(44,So,45),So.prototype),z).H=function(l,X,m,p){(p=X.I?X.I():X)&&(m?EO:DP)(p,[l])},z.C=function(l,X,m,p,t,c){if(p=l.I())this.aT||(c=this.no(),c.replace(/\\\\xa0|\\\\s/g,\" \"),this.aT={1:c+\"-disabled\",2:c+\"-hover\",4:c+\"-active\",8:c+\"-selected\",16:c+\"-checked\",32:c+\"-focused\",64:c+\"-open\"}),(t=this.aT[X])&&this.H(t,l,m),this.m$(p,X,m)},z).vt=function(l){return l.I()},z).no=function(){return\"goog-control\"},z).Bt=function(l,X,m,p,t,c){if(P(6,2,32,l)&&(t=l.vt())){if(!X&&u(32,0,70,l)){try{t.blur()}catch(N){}u(32,0,67,l)&&(l.RT&4&&P(10,2,4,l)&&l.setActive(false),l.RT&32&&P(7,2,32,l)&&P(28,4,l,false,32)&&l.C(32,false))}if(p=t.hasAttribute(\"tabindex\"))c=t.tabIndex,p=\"number\"===typeof c&&0<=c&&32768>c;p!=X&&(m=t,X?m.tabIndex=0:(m.tabIndex=-1,m.removeAttribute(\"tabIndex\")))}},z).m$=function(l,X,m,p,t,c,N){(p=l.getAttribute((t=(Cu||(Cu={1:\"disabled\",8:\"selected\",16:\"checked\",64:\"expanded\"}),Cu[X]),\"role\"))||null)?(N=Lu[p]||t,c=\"checked\"==t||\"selected\"==t?N:t):c=t,c&&D(45,false,\"false\",l,m,c)},{button:\"pressed\",checkbox:\"checked\",menuitem:\"selected\",menuitemcheckbox:\"checked\",menuitemradio:\"checked\",radio:\"checked\",tab:\"selected\",treeitem:\"selected\"}),Tb=((C(44,NA,(k(45,2,NA,So),42)),NA).prototype.m$=function(l,X,m){switch(X){case 8:case 16:D(43,false,\"false\",l,m,\"pressed\");break;default:case 64:case 1:NA.v.m$.call(this,l,X,m)}},{});if(\"function\"!==(((((((((z=(k(46,2,(NA.prototype.no=function(){return\"goog-button\"},W),xv),W).prototype,z.s=0,z).u=null,z).H=function(l,X){l?X&&(this.u?0<=O(0,35,1,X,this.u)||this.u.push(X):this.u=[X],this.R.H(X,this,true)):X&&this.u&&n(1,26,this.u,X)&&(0==this.u.length&&(this.u=null),this.R.H(X,this,false))},z).lC=true,z.Wo=39,z.RT=255,z.T=function(){(W.v.T.call(this),this.Ht&&this.Ht.detach(),this.isVisible()&&this.isEnabled())&&this.R.Bt(this,false)},z).gv=0,z).vt=function(){return this.R.vt(this)},z).isVisible=function(){return this.lC},z.isEnabled=function(){return!u(1,0,69,this)},z.isActive=function(){return u(4,0,66,this)},z).setActive=function(l){P(27,4,this,l,4)&&this.C(4,l)},z).getState=function(){return this.s},z.C=function(l,X,m,p,t,c,N){m||1!=l?P(9,2,l,this)&&X!=u(l,0,64,this)&&(this.R.C(this,l,X),this.s=X?(c=this.s,2*(c&l)+~(c&l)-(~c^l)):(p=this.s,2*(p|0)+~p-(p^~l)-(p|~~l))):(t=!X,N=this.getParent(),N&&\"function\"==typeof N.isEnabled&&!N.isEnabled()||!P(26,4,this,!t,1)||(t||(this.setActive(false),P(25,4,this,false,2)&&this.C(2,false)),this.isVisible()&&this.R.Bt(this,t),this.C(1,!t,true)))},typeof W))throw Error(\"Invalid component class \"+W);if(\"function\"!==typeof So)throw Error(\"Invalid renderer class \"+So);var u8=S(15,W),fY={passive:true,capture:(k(22,2,(((C(44,li,(k(21,2,li,(O(0,26,function(){return new W(null)},(Tb[u8]=So,\"goog-control\")),NA)),44)),li).prototype.m$=function(){},li.prototype.Bt=function(){},li).prototype.C=function(l,X,m,p){(p=(li.v.C.call(this,l,X,m),l.I()))&&1==X&&(p.disabled=m)},mf),W),O(0,22,function(){return new mf(null)},\"goog-button\"),true)},QP=y.requestIdleCallback?function(l){requestIdleCallback(function(){l()},{timeout:4})}:y.setImmediate?function(l){setImmediate(l)}:function(l){setTimeout(l,0)},HU=String.fromCharCode(105,110,116,101,103,67,104,101,99,107,66,121,112,97,115,115),U3=[],sO=[],hw=[],Yv=[],Gb=(r.prototype.iC=void 0,r.prototype.bC=void 0,[]),Bm=(r.prototype.S9=false,[]),YM=(r.prototype.YW=\"toString\",[]),BU=[],Fl={},Dx=(((XG,function(){})(Ra),function(){})(dp),Jw,Fl).constructor,s3=(((z=(r.prototype.D=\"create\",r.prototype),z).uC=function(){return nY.call(this,1,49)},z).rT=function(l,X,m,p,t,c){return G.call(this,l,3,X,m,p,t,c)},void 0);((((z.co=function(l,X,m,p,t){return u.call(this,X,l,17,m,p,t)},z).B=(z.Ax=function(){return D.call(this,3)},(window.performance||{}).now?function(){return this.Tb+window.performance.now()}:function(){return+new Date}),z).wv=function(l,X,m,p,t,c,N,K){return CY.call(this,1,X,l,5,m,p,t,c,N,K)},z).tx=function(l,X,m,p,t,c){return V.call(this,m,17,l,X,p,t,c)},r.prototype).N=function(l,X){return X=(l=(s3=function(){return l==X?-79:-91},{}),{}),function(m,p,t,c,N,K,d,x,T,Z,E,Y,B,w,q,f,v,mZ,I,U,Q,A,e,M,J){l=(mZ=l,X);try{if(U=m[0],U==YM){Z=m[1];try{for(p=(e=atob(Z),t=T=0,[]);t<e.length;t++)x=e.charCodeAt(t),255<x&&(p[T++]=255-~(x&255)+~(x|255)+(x&-256),x>>=8),p[T++]=x;(this.L=(this.Z=p,this).Z.length<<3,R)(this,340,[0,0,0])}catch(oa){Tx(oa,this,17,\":\");return}pu(\":\",22,this,8001)}else if(U==Yv)m[1].push(a(52,this).length,a(160,this),a(49,this).length,a(248,this).length),R(this,473,m[2]),this.g[302]&&tw(473,22,this,8001,a(302,this));else{if(U==BU){(Y=(K=H((a(49,(Q=m[2],this)).length|0)+2,2),this.J),this).J=this;try{I=a(491,this),0<I.length&&F(49,H(I.length,2).concat(I),this,15),F(49,H(this.wT,1),this,104),F(49,H(this[BU].length,1),this),c=0,c-=(f=a(49,this).length,-2*~f+(f&-6)-(~f^5)+3*(~f|5)),d=a(248,this),c+=(A=a(100,this),-~(A&2047)+(A&-2048)+(~A|2047)),4<d.length&&(c-=(w=d.length,-~(w&3)+-2-~(w|3))),0<c&&F(49,H(c,2).concat(Ra(c)),this,10),4<d.length&&F(49,H(d.length,2).concat(d),this,153)}finally{this.J=Y}if(N=((J=Ra(2).concat(a(49,this)),J)[1]=J[0]^3,J[3]=J[1]^K[0],J[4]=(q=J[1],v=K[1],2*(q&~v)-(q|~v)+(~q|v)),this).e9(J))N=\"!\"+N;else for(N=\"\",E=0;E<J.length;E++)B=J[E][this.YW](16),1==B.length&&(B=\"0\"+B),N+=B;return a(248,(a((R(this,(a(52,(M=N,this)).length=Q.shift(),160),Q.shift()),49),this).length=Q.shift(),this)).length=Q.shift(),M}if(U==U3)tw(473,22,this,m[2],m[1]);else if(U==Gb)return tw(473,22,this,8001,m[1])}}finally{l=mZ}}}();var wp,OO=(r.prototype[Bm]=[0,0,1,1,0,1,1],r.prototype.m0=0,r.prototype.pt=0,r.prototype.e9=function(l,X,m,p,t){return ii.call(this,40,l,25,X,m,p,t)},/./),Vk=YM.pop.bind(r.prototype[Yv]),qA=((wp=u({get:Vk},(OO[r.prototype.YW]=Vk,r.prototype.D),87),r.prototype).Pt=void 0,function(l,X){return(X=Pm(null,\"error\",\"bg\"))&&1===l.eval(X.createScript(\"1\"))?function(m){return X.createScript(m)}:function(m){return\"\"+m}}(y));return(function(l){return r.prototype.Pt=l,ZP});}).call(this);'].join('\\n')))(x)(m.substr(0,N),l,t)[0];return}catch(Y){c=\"FNL\"+Y}d=D(42,l,c)[0]}),[function(Z){return d?d(Z):\"FNL~\"}]};}).call(this);</script><div id=\"program\" program-data=\"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\"></div><input type=\"hidden\" name=\"bgresponse\" value=\"js_disabled\" id=\"bgresponse\" style=\"display:none\"><script nonce=\"AtkodZf68OZMYyrwErnEoA\">(function(){/*\n",
      "\n",
      " Copyright The Closure Library Authors.\n",
      " SPDX-License-Identifier: Apache-2.0\n",
      "*/\n",
      "'use strict';var d=function(a){var b=0;return function(){return b<a.length?{done:!1,value:a[b++]}:{done:!0}}},f=function(){var a=document.querySelectorAll('div[data-button-type=\"multipleChoiceIdentifier\"]'),b=\"undefined\"!=typeof Symbol&&Symbol.iterator&&a[Symbol.iterator];return b?b.call(a):{next:d(a)}};var l=function(){this.i=new window.botguard.bg(k,function(){});this.h=this.g=null;this.i&&window.addEventListener(\"load\",this.j.bind(this))};l.prototype.j=function(){var a=this;this.g=document.getElementById(\"hiddenMultipleChoiceIdentifier\");this.h=function(){a.i.invoke(a.l)};this.g?m(this):document.addEventListener(\"submit\",this.h.bind(this))};l.prototype.l=function(a){var b=document.getElementById(\"bgresponse\");b&&(b.value=a)};\n",
      "var m=function(a){for(var b=function(e){a.g&&(a.g.value=e);a.h()},q=function(e,p){13===p.keyCode&&(a.g&&(a.g.value=e),a.h())},g=f(),c=g.next();!c.done;c=g.next()){c=c.value.getElementsByTagName(\"button\")[0];var h=c.value;c.addEventListener(\"click\",b.bind(a,h));c.addEventListener(\"keydown\",q.bind(a,h))}},n=document.getElementById(\"program\");if(n){var k=n.getAttribute(\"program-data\");k&&new l};}).call(this);\n",
      "</script></span><span jsname=\"ZVfTqd\"></span><c-wiz jsshadow jsdata=\"deferred-i3\" jsmodel=\"hc6Ubd\" c-wiz><script nonce=\"AtkodZf68OZMYyrwErnEoA\">(function(){/*\n",
      "\n",
      " Copyright The Closure Library Authors.\n",
      " SPDX-License-Identifier: Apache-2.0\n",
      "*/\n",
      "'use strict';var aa=function(a){var b=0;return function(){return b<a.length?{done:!1,value:a[b++]}:{done:!0}}},n=\"function\"==typeof Object.defineProperties?Object.defineProperty:function(a,b,c){if(a==Array.prototype||a==Object.prototype)return a;a[b]=c.value;return a},ba=function(a){a=[\"object\"==typeof globalThis&&globalThis,a,\"object\"==typeof window&&window,\"object\"==typeof self&&self,\"object\"==typeof global&&global];for(var b=0;b<a.length;++b){var c=a[b];if(c&&c.Math==Math)return c}throw Error(\"Cannot find global object\");\n",
      "},ca=ba(this),p=function(a,b){if(b)a:{var c=ca;a=a.split(\".\");for(var d=0;d<a.length-1;d++){var e=a[d];if(!(e in c))break a;c=c[e]}a=a[a.length-1];d=c[a];b=b(d);b!=d&&null!=b&&n(c,a,{configurable:!0,writable:!0,value:b})}};\n",
      "p(\"Symbol\",function(a){if(a)return a;var b=function(f,h){this.g=f;n(this,\"description\",{configurable:!0,writable:!0,value:h})};b.prototype.toString=function(){return this.g};var c=\"jscomp_symbol_\"+(1E9*Math.random()>>>0)+\"_\",d=0,e=function(f){if(this instanceof e)throw new TypeError(\"Symbol is not a constructor\");return new b(c+(f||\"\")+\"_\"+d++,f)};return e});\n",
      "p(\"Symbol.iterator\",function(a){if(a)return a;a=Symbol(\"Symbol.iterator\");for(var b=\"Array Int8Array Uint8Array Uint8ClampedArray Int16Array Uint16Array Int32Array Uint32Array Float32Array Float64Array\".split(\" \"),c=0;c<b.length;c++){var d=ca[b[c]];\"function\"===typeof d&&\"function\"!=typeof d.prototype[a]&&n(d.prototype,a,{configurable:!0,writable:!0,value:function(){return da(aa(this))}})}return a});\n",
      "var da=function(a){a={next:a};a[Symbol.iterator]=function(){return this};return a},q=function(a){var b=\"undefined\"!=typeof Symbol&&Symbol.iterator&&a[Symbol.iterator];return b?b.call(a):{next:aa(a)}},r=function(a,b){return Object.prototype.hasOwnProperty.call(a,b)};\n",
      "p(\"WeakMap\",function(a){function b(){}function c(k){var l=typeof k;return\"object\"===l&&null!==k||\"function\"===l}function d(k){if(!r(k,f)){var l=new b;n(k,f,{value:l})}}function e(k){var l=Object[k];l&&(Object[k]=function(m){if(m instanceof b)return m;Object.isExtensible(m)&&d(m);return l(m)})}if(function(){if(!a||!Object.seal)return!1;try{var k=Object.seal({}),l=Object.seal({}),m=new a([[k,2],[l,3]]);if(2!=m.get(k)||3!=m.get(l))return!1;m.delete(k);m.set(l,4);return!m.has(k)&&4==m.get(l)}catch(E){return!1}}())return a;\n",
      "var f=\"$jscomp_hidden_\"+Math.random();e(\"freeze\");e(\"preventExtensions\");e(\"seal\");var h=0,g=function(k){this.g=(h+=Math.random()+1).toString();if(k){k=q(k);for(var l;!(l=k.next()).done;)l=l.value,this.set(l[0],l[1])}};g.prototype.set=function(k,l){if(!c(k))throw Error(\"Invalid WeakMap key\");d(k);if(!r(k,f))throw Error(\"WeakMap key fail: \"+k);k[f][this.g]=l;return this};g.prototype.get=function(k){return c(k)&&r(k,f)?k[f][this.g]:void 0};g.prototype.has=function(k){return c(k)&&r(k,f)&&r(k[f],this.g)};\n",
      "g.prototype.delete=function(k){return c(k)&&r(k,f)&&r(k[f],this.g)?delete k[f][this.g]:!1};return g});\n",
      "p(\"Map\",function(a){if(function(){if(!a||\"function\"!=typeof a||!a.prototype.entries||\"function\"!=typeof Object.seal)return!1;try{var g=Object.seal({x:4}),k=new a(q([[g,\"s\"]]));if(\"s\"!=k.get(g)||1!=k.size||k.get({x:4})||k.set({x:4},\"t\")!=k||2!=k.size)return!1;var l=k.entries(),m=l.next();if(m.done||m.value[0]!=g||\"s\"!=m.value[1])return!1;m=l.next();return m.done||4!=m.value[0].x||\"t\"!=m.value[1]||!l.next().done?!1:!0}catch(E){return!1}}())return a;var b=new WeakMap,c=function(g){this.h={};this.g=f();\n",
      "this.size=0;if(g){g=q(g);for(var k;!(k=g.next()).done;)k=k.value,this.set(k[0],k[1])}};c.prototype.set=function(g,k){g=0===g?0:g;var l=d(this,g);l.list||(l.list=this.h[l.id]=[]);l.m?l.m.value=k:(l.m={next:this.g,v:this.g.v,head:this.g,key:g,value:k},l.list.push(l.m),this.g.v.next=l.m,this.g.v=l.m,this.size++);return this};c.prototype.delete=function(g){g=d(this,g);return g.m&&g.list?(g.list.splice(g.index,1),g.list.length||delete this.h[g.id],g.m.v.next=g.m.next,g.m.next.v=g.m.v,g.m.head=null,this.size--,\n",
      "!0):!1};c.prototype.clear=function(){this.h={};this.g=this.g.v=f();this.size=0};c.prototype.has=function(g){return!!d(this,g).m};c.prototype.get=function(g){return(g=d(this,g).m)&&g.value};c.prototype.entries=function(){return e(this,function(g){return[g.key,g.value]})};c.prototype.keys=function(){return e(this,function(g){return g.key})};c.prototype.values=function(){return e(this,function(g){return g.value})};c.prototype.forEach=function(g,k){for(var l=this.entries(),m;!(m=l.next()).done;)m=m.value,\n",
      "g.call(k,m[1],m[0],this)};c.prototype[Symbol.iterator]=c.prototype.entries;var d=function(g,k){var l=k&&typeof k;\"object\"==l||\"function\"==l?b.has(k)?l=b.get(k):(l=\"\"+ ++h,b.set(k,l)):l=\"p_\"+k;var m=g.h[l];if(m&&r(g.h,l))for(g=0;g<m.length;g++){var E=m[g];if(k!==k&&E.key!==E.key||k===E.key)return{id:l,list:m,index:g,m:E}}return{id:l,list:m,index:-1,m:void 0}},e=function(g,k){var l=g.g;return da(function(){if(l){for(;l.head!=g.g;)l=l.v;for(;l.next!=l.head;)return l=l.next,{done:!1,value:k(l)};l=null}return{done:!0,\n",
      "value:void 0}})},f=function(){var g={};return g.v=g.next=g.head=g},h=0;return c});var ea=function(a,b){a instanceof String&&(a+=\"\");var c=0,d=!1,e={next:function(){if(!d&&c<a.length){var f=c++;return{value:b(f,a[f]),done:!1}}d=!0;return{done:!0,value:void 0}}};e[Symbol.iterator]=function(){return e};return e};p(\"Array.prototype.entries\",function(a){return a?a:function(){return ea(this,function(b,c){return[b,c]})}});p(\"Array.prototype.keys\",function(a){return a?a:function(){return ea(this,function(b){return b})}});\n",
      "p(\"Array.prototype.find\",function(a){return a?a:function(b,c){a:{var d=this;d instanceof String&&(d=String(d));for(var e=d.length,f=0;f<e;f++){var h=d[f];if(b.call(c,h,f,d)){b=h;break a}}b=void 0}return b}});p(\"Array.prototype.values\",function(a){return a?a:function(){return ea(this,function(b,c){return c})}});\n",
      "p(\"Array.from\",function(a){return a?a:function(b,c,d){c=null!=c?c:function(g){return g};var e=[],f=\"undefined\"!=typeof Symbol&&Symbol.iterator&&b[Symbol.iterator];if(\"function\"==typeof f){b=f.call(b);for(var h=0;!(f=b.next()).done;)e.push(c.call(d,f.value,h++))}else for(f=b.length,h=0;h<f;h++)e.push(c.call(d,b[h],h));return e}});\n",
      "var fa=fa||{},t=this||self,ha=function(a){var b=typeof a;return\"object\"!=b?b:a?Array.isArray(a)?\"array\":b:\"null\"},u=function(a){var b=typeof a;return\"object\"==b&&null!=a||\"function\"==b},ia=function(a,b,c){return a.call.apply(a.bind,arguments)},ja=function(a,b,c){if(!a)throw Error();if(2<arguments.length){var d=Array.prototype.slice.call(arguments,2);return function(){var e=Array.prototype.slice.call(arguments);Array.prototype.unshift.apply(e,d);return a.apply(b,e)}}return function(){return a.apply(b,\n",
      "arguments)}},v=function(a,b,c){Function.prototype.bind&&-1!=Function.prototype.bind.toString().indexOf(\"native code\")?v=ia:v=ja;return v.apply(null,arguments)},w=function(a,b){function c(){}c.prototype=b.prototype;a.P=b.prototype;a.prototype=new c;a.prototype.constructor=a;a.ia=function(d,e,f){for(var h=Array(arguments.length-2),g=2;g<arguments.length;g++)h[g-2]=arguments[g];return b.prototype[e].apply(d,h)}};function x(a,b){if(Error.captureStackTrace)Error.captureStackTrace(this,x);else{var c=Error().stack;c&&(this.stack=c)}a&&(this.message=String(a));void 0!==b&&(this.cause=b)}w(x,Error);x.prototype.name=\"CustomError\";function y(a,b){a=a.split(\"%s\");for(var c=\"\",d=a.length-1,e=0;e<d;e++)c+=a[e]+(e<b.length?b[e]:\"%s\");x.call(this,c+a[d])}w(y,x);y.prototype.name=\"AssertionError\";function ka(a,b,c,d){var e=\"Assertion failed\";if(c){e+=\": \"+c;var f=d}else a&&(e+=\": \"+a,f=b);throw new y(\"\"+e,f||[]);}\n",
      "var z=function(a,b,c){a||ka(\"\",null,b,Array.prototype.slice.call(arguments,2))},la=function(a,b){throw new y(\"Failure\"+(a?\": \"+a:\"\"),Array.prototype.slice.call(arguments,1));},A=function(a,b,c){\"number\"!==typeof a&&ka(\"Expected number but got %s: %s.\",[ha(a),a],b,Array.prototype.slice.call(arguments,2));return a};var ma=Array.prototype.indexOf?function(a,b){z(null!=a.length);return Array.prototype.indexOf.call(a,b,void 0)}:function(a,b){if(\"string\"===typeof a)return\"string\"!==typeof b||1!=b.length?-1:a.indexOf(b,0);for(var c=0;c<a.length;c++)if(c in a&&a[c]===b)return c;return-1};function na(a,b){b=ma(a,b);var c;if(c=0<=b)z(null!=a.length),Array.prototype.splice.call(a,b,1);return c};var oa=Object.freeze||function(a){return a};var B=function(a,b){this.name=a;this.value=b};B.prototype.toString=function(){return this.name};var C=new B(\"OFF\",Infinity),pa=new B(\"SEVERE\",1E3),qa=new B(\"WARNING\",900),ra=new B(\"CONFIG\",700),sa=new B(\"FINE\",500),ta=function(){},ua,va=function(a,b,c){this.reset(a||C,b,c,void 0,void 0)};va.prototype.reset=function(){};\n",
      "var wa=function(a,b){this.g=null;this.o=[];this.h=(void 0===b?null:b)||null;this.l=[];this.j={g:function(){return a}}},xa=function(a){if(a.g)return a.g;if(a.h)return xa(a.h);la(\"Root logger has no level set.\");return C},ya=function(a,b){for(;a;)a.o.forEach(function(c){c(b)}),a=a.h},za=function(){this.entries={};var a=new wa(\"\");a.g=ra;this.entries[\"\"]=a},Aa,D=function(a,b){var c=a.entries[b];if(c)return c;c=D(a,b.slice(0,Math.max(b.lastIndexOf(\".\"),0)));var d=new wa(b,c);a.entries[b]=d;c.l.push(d);\n",
      "return d},F=function(){Aa||(Aa=new za);return Aa},Ba=function(a,b,c){var d;if(d=a)if(d=a&&b){d=b.value;var e=a?xa(D(F(),a.g())):C;d=d>=e.value}d&&(b=b||C,d=D(F(),a.g()),\"function\"===typeof c&&(c=c()),ua||(ua=new ta),a=new va(b,c,a.g()),ya(d,a))},Ca=function(a,b){a&&Ba(a,pa,b)},G=function(a,b){a&&Ba(a,sa,b)};/*\n",
      "\n",
      " SPDX-License-Identifier: Apache-2.0\n",
      "*/\n",
      "var Da=\"constructor hasOwnProperty isPrototypeOf propertyIsEnumerable toLocaleString toString valueOf\".split(\" \");function Ea(a,b){for(var c,d,e=1;e<arguments.length;e++){d=arguments[e];for(c in d)a[c]=d[c];for(var f=0;f<Da.length;f++)c=Da[f],Object.prototype.hasOwnProperty.call(d,c)&&(a[c]=d[c])}};var H=String.prototype.trim?function(a){return a.trim()}:function(a){return/^[\\s\\xa0]*([\\s\\S]*?)[\\s\\xa0]*$/.exec(a)[1]},Fa=function(a,b){return a<b?-1:a>b?1:0};var I=function(a,b){this.g=b===Ga?a:\"\"};I.prototype.toString=function(){return this.g.toString()};var Ga={},Ha=new I(\"about:invalid#zClosurez\",Ga);function J(){var a=t.navigator;return a&&(a=a.userAgent)?a:\"\"}function K(a){return-1!=J().indexOf(a)};var Ia;try{new URL(\"s://g\"),Ia=!0}catch(a){Ia=!1}var Ja=Ia,Ka=[],La=function(){};Ma(function(a){var b=D(F(),\"safevalues\").j;b&&Ba(b,qa,\"A URL with content '\"+a+\"' was sanitized away.\")});function Ma(a){-1===Ka.indexOf(a)&&Ka.push(a);La=function(b){Ka.forEach(function(c){c(b)})}};var Na=function(a){this.fa=a};function L(a){return new Na(function(b){return b.substr(0,a.length+1).toLowerCase()===a+\":\"})}var Oa=[L(\"data\"),L(\"http\"),L(\"https\"),L(\"mailto\"),L(\"ftp\"),new Na(function(a){return/^[^:]*([/?#]|$)/.test(a)})];var M=function(){this.g=(\"undefined\"==typeof document?null:document)||{cookie:\"\"}};\n",
      "M.prototype.set=function(a,b,c){var d=!1;if(\"object\"===typeof c){var e=c.ka;d=c.la||!1;var f=c.domain||void 0;var h=c.path||void 0;var g=c.ja}if(/[;=\\s]/.test(a))throw Error('Invalid cookie name \"'+a+'\"');if(/[;\\r\\n]/.test(b))throw Error('Invalid cookie value \"'+b+'\"');void 0===g&&(g=-1);this.g.cookie=a+\"=\"+b+(f?\";domain=\"+f:\"\")+(h?\";path=\"+h:\"\")+(0>g?\"\":0==g?\";expires=\"+(new Date(1970,1,1)).toUTCString():\";expires=\"+(new Date(Date.now()+1E3*g)).toUTCString())+(d?\";secure\":\"\")+(null!=e?\";samesite=\"+\n",
      "e:\"\")};M.prototype.get=function(a,b){for(var c=a+\"=\",d=(this.g.cookie||\"\").split(\";\"),e=0,f;e<d.length;e++){f=H(d[e]);if(0==f.lastIndexOf(c,0))return f.slice(c.length);if(f==a)return\"\"}return b};M.prototype.o=function(){for(var a=(this.g.cookie||\"\").split(\";\"),b=[],c=[],d,e,f=0;f<a.length;f++)e=H(a[f]),d=e.indexOf(\"=\"),-1==d?(b.push(\"\"),c.push(e)):(b.push(e.substring(0,d)),c.push(e.substring(d+1)));return c};var Pa=new M;var Qa=function(){this.H=this.H;this.g=this.g};Qa.prototype.H=!1;Qa.prototype.G=function(){if(this.g)for(;this.g.length;)this.g.shift()()};var N=function(a,b){this.type=a;this.g=this.target=b;this.defaultPrevented=!1};N.prototype.h=function(){this.defaultPrevented=!0};var Ra=function(){if(!t.addEventListener||!Object.defineProperty)return!1;var a=!1,b=Object.defineProperty({},\"passive\",{get:function(){a=!0}});try{t.addEventListener(\"test\",function(){},b),t.removeEventListener(\"test\",function(){},b)}catch(c){}return a}();var Sa=function(a){Sa[\" \"](a);return a};Sa[\" \"]=function(){};var Ua=function(a){var b=Ta;return Object.prototype.hasOwnProperty.call(b,9)?b[9]:b[9]=a(9)};var Va=K(\"Opera\"),Wa=K(\"Trident\")||K(\"MSIE\"),Xa=K(\"Edge\"),Ya=K(\"Gecko\")&&!(-1!=J().toLowerCase().indexOf(\"webkit\")&&!K(\"Edge\"))&&!(K(\"Trident\")||K(\"MSIE\"))&&!K(\"Edge\"),Za=-1!=J().toLowerCase().indexOf(\"webkit\")&&!K(\"Edge\"),$a;\n",
      "a:{var ab=\"\",bb=function(){var a=J();if(Ya)return/rv:([^\\);]+)(\\)|;)/.exec(a);if(Xa)return/Edge\\/([\\d\\.]+)/.exec(a);if(Wa)return/\\b(?:MSIE|rv)[: ]([^\\);]+)(\\)|;)/.exec(a);if(Za)return/WebKit\\/(\\S+)/.exec(a);if(Va)return/(?:Version)[ \\/]?(\\S+)/.exec(a)}();bb&&(ab=bb?bb[1]:\"\");if(Wa){var cb,db=t.document;cb=db?db.documentMode:void 0;if(null!=cb&&cb>parseFloat(ab)){$a=String(cb);break a}}$a=ab}\n",
      "var eb=$a,Ta={},fb=function(){return Ua(function(){for(var a=0,b=H(String(eb)).split(\".\"),c=H(\"9\").split(\".\"),d=Math.max(b.length,c.length),e=0;0==a&&e<d;e++){var f=b[e]||\"\",h=c[e]||\"\";do{f=/(\\d*)(\\D*)(.*)/.exec(f)||[\"\",\"\",\"\",\"\"];h=/(\\d*)(\\D*)(.*)/.exec(h)||[\"\",\"\",\"\",\"\"];if(0==f[0].length&&0==h[0].length)break;a=Fa(0==f[1].length?0:parseInt(f[1],10),0==h[1].length?0:parseInt(h[1],10))||Fa(0==f[2].length,0==h[2].length)||Fa(f[2],h[2]);f=f[3];h=h[3]}while(0==a)}return 0<=a})};var O=function(a,b){N.call(this,a?a.type:\"\");this.relatedTarget=this.g=this.target=null;this.button=this.screenY=this.screenX=this.clientY=this.clientX=0;this.key=\"\";this.metaKey=this.shiftKey=this.altKey=this.ctrlKey=!1;this.state=null;this.pointerId=0;this.pointerType=\"\";this.j=null;if(a){var c=this.type=a.type,d=a.changedTouches&&a.changedTouches.length?a.changedTouches[0]:null;this.target=a.target||a.srcElement;this.g=b;if(b=a.relatedTarget){if(Ya){a:{try{Sa(b.nodeName);var e=!0;break a}catch(f){}e=\n",
      "!1}e||(b=null)}}else\"mouseover\"==c?b=a.fromElement:\"mouseout\"==c&&(b=a.toElement);this.relatedTarget=b;d?(this.clientX=void 0!==d.clientX?d.clientX:d.pageX,this.clientY=void 0!==d.clientY?d.clientY:d.pageY,this.screenX=d.screenX||0,this.screenY=d.screenY||0):(this.clientX=void 0!==a.clientX?a.clientX:a.pageX,this.clientY=void 0!==a.clientY?a.clientY:a.pageY,this.screenX=a.screenX||0,this.screenY=a.screenY||0);this.button=a.button;this.key=a.key||\"\";this.ctrlKey=a.ctrlKey;this.altKey=a.altKey;this.shiftKey=\n",
      "a.shiftKey;this.metaKey=a.metaKey;this.pointerId=a.pointerId||0;this.pointerType=\"string\"===typeof a.pointerType?a.pointerType:gb[a.pointerType]||\"\";this.state=a.state;this.j=a;a.defaultPrevented&&O.P.h.call(this)}};w(O,N);var gb=oa({2:\"touch\",3:\"pen\",4:\"mouse\"});O.prototype.h=function(){O.P.h.call(this);var a=this.j;a.preventDefault?a.preventDefault():a.returnValue=!1};var P=\"closure_listenable_\"+(1E6*Math.random()|0);var hb=0;var ib=function(a,b,c,d,e){this.listener=a;this.proxy=null;this.src=b;this.type=c;this.capture=!!d;this.M=e;this.key=++hb;this.J=this.L=!1},jb=function(a){a.J=!0;a.listener=null;a.proxy=null;a.src=null;a.M=null};var kb=function(a){this.src=a;this.g={};this.h=0};kb.prototype.add=function(a,b,c,d,e){var f=a.toString();a=this.g[f];a||(a=this.g[f]=[],this.h++);var h=lb(a,b,d,e);-1<h?(b=a[h],c||(b.L=!1)):(b=new ib(b,this.src,f,!!d,e),b.L=c,a.push(b));return b};var mb=function(a,b){var c=b.type;c in a.g&&na(a.g[c],b)&&(jb(b),0==a.g[c].length&&(delete a.g[c],a.h--))},lb=function(a,b,c,d){for(var e=0;e<a.length;++e){var f=a[e];if(!f.J&&f.listener==b&&f.capture==!!c&&f.M==d)return e}return-1};var nb=\"closure_lm_\"+(1E6*Math.random()|0),ob={},pb=0,rb=function(a,b,c,d,e){if(d&&d.once)qb(a,b,c,d,e);else if(Array.isArray(b))for(var f=0;f<b.length;f++)rb(a,b[f],c,d,e);else c=sb(c),a&&a[P]?(d=u(d)?!!d.capture:!!d,tb(a),a.u.add(String(b),c,!1,d,e)):ub(a,b,c,!1,d,e)},ub=function(a,b,c,d,e,f){if(!b)throw Error(\"Invalid event type\");var h=u(e)?!!e.capture:!!e,g=vb(a);g||(a[nb]=g=new kb(a));c=g.add(b,c,d,h,f);if(!c.proxy){d=wb();c.proxy=d;d.src=a;d.listener=c;if(a.addEventListener)Ra||(e=h),void 0===\n",
      "e&&(e=!1),a.addEventListener(b.toString(),d,e);else if(a.attachEvent)a.attachEvent(xb(b.toString()),d);else if(a.addListener&&a.removeListener)z(\"change\"===b,\"MediaQueryList only has a change event\"),a.addListener(d);else throw Error(\"addEventListener and attachEvent are unavailable.\");pb++}},wb=function(){var a=yb,b=function(c){return a.call(b.src,b.listener,c)};return b},qb=function(a,b,c,d,e){if(Array.isArray(b))for(var f=0;f<b.length;f++)qb(a,b[f],c,d,e);else c=sb(c),a&&a[P]?a.u.add(String(b),\n",
      "c,!0,u(d)?!!d.capture:!!d,e):ub(a,b,c,!0,d,e)},zb=function(a,b,c,d,e){if(Array.isArray(b))for(var f=0;f<b.length;f++)zb(a,b[f],c,d,e);else(d=u(d)?!!d.capture:!!d,c=sb(c),a&&a[P])?(a=a.u,b=String(b).toString(),b in a.g&&(f=a.g[b],c=lb(f,c,d,e),-1<c&&(jb(f[c]),z(null!=f.length),Array.prototype.splice.call(f,c,1),0==f.length&&(delete a.g[b],a.h--)))):a&&(a=vb(a))&&(b=a.g[b.toString()],a=-1,b&&(a=lb(b,c,d,e)),(c=-1<a?b[a]:null)&&Ab(c))},Ab=function(a){if(\"number\"!==typeof a&&a&&!a.J){var b=a.src;if(b&&\n",
      "b[P])mb(b.u,a);else{var c=a.type,d=a.proxy;b.removeEventListener?b.removeEventListener(c,d,a.capture):b.detachEvent?b.detachEvent(xb(c),d):b.addListener&&b.removeListener&&b.removeListener(d);pb--;(c=vb(b))?(mb(c,a),0==c.h&&(c.src=null,b[nb]=null)):jb(a)}}},xb=function(a){return a in ob?ob[a]:ob[a]=\"on\"+a},yb=function(a,b){if(a.J)a=!0;else{b=new O(b,this);var c=a.listener,d=a.M||a.src;a.L&&Ab(a);a=c.call(d,b)}return a},vb=function(a){a=a[nb];return a instanceof kb?a:null},Bb=\"__closure_events_fn_\"+\n",
      "(1E9*Math.random()>>>0),sb=function(a){z(a,\"Listener can not be null.\");if(\"function\"===typeof a)return a;z(a.handleEvent,\"An object listener must have handleEvent method.\");a[Bb]||(a[Bb]=function(b){return a.handleEvent(b)});return a[Bb]};var Q=function(){Qa.call(this);this.u=new kb(this);this.j=this;this.h=null};w(Q,Qa);Q.prototype[P]=!0;Q.prototype.addEventListener=function(a,b,c,d){rb(this,a,b,c,d)};Q.prototype.removeEventListener=function(a,b,c,d){zb(this,a,b,c,d)};\n",
      "Q.prototype.dispatchEvent=function(a){tb(this);var b=this.h;if(b){var c=[];for(var d=1;b;b=b.h)c.push(b),z(1E3>++d,\"infinite loop\")}b=this.j;d=a.type||a;if(\"string\"===typeof a)a=new N(a,b);else if(a instanceof N)a.target=a.target||b;else{var e=a;a=new N(d,b);Ea(a,e)}e=!0;if(c)for(var f=c.length-1;0<=f;f--){var h=a.g=c[f];e=Cb(h,d,!0,a)&&e}h=a.g=b;e=Cb(h,d,!0,a)&&e;e=Cb(h,d,!1,a)&&e;if(c)for(f=0;f<c.length;f++)h=a.g=c[f],e=Cb(h,d,!1,a)&&e;return e};\n",
      "Q.prototype.G=function(){Q.P.G.call(this);if(this.u){var a=this.u,b=0,c;for(c in a.g){for(var d=a.g[c],e=0;e<d.length;e++)++b,jb(d[e]);delete a.g[c];a.h--}}this.h=null};var Cb=function(a,b,c,d){b=a.u.g[String(b)];if(!b)return!0;b=b.concat();for(var e=!0,f=0;f<b.length;++f){var h=b[f];if(h&&!h.J&&h.capture==c){var g=h.listener,k=h.M||h.src;h.L&&mb(a.u,h);e=!1!==g.call(k,d)&&e}}return e&&!d.defaultPrevented},tb=function(a){z(a.u,\"Event target is not initialized. Did you call the superclass (goog.events.EventTarget) constructor?\")};var Db=function(){};Db.prototype.g=null;var Fb=function(a){var b;(b=a.g)||(b={},Eb(a)&&(b[0]=!0,b[1]=!0),b=a.g=b);return b};var Gb,Hb=function(){};w(Hb,Db);var Ib=function(a){return(a=Eb(a))?new ActiveXObject(a):new XMLHttpRequest},Eb=function(a){if(!a.h&&\"undefined\"==typeof XMLHttpRequest&&\"undefined\"!=typeof ActiveXObject){for(var b=[\"MSXML2.XMLHTTP.6.0\",\"MSXML2.XMLHTTP.3.0\",\"MSXML2.XMLHTTP\",\"Microsoft.XMLHTTP\"],c=0;c<b.length;c++){var d=b[c];try{return new ActiveXObject(d),a.h=d}catch(e){}}throw Error(\"Could not create ActiveXObject. ActiveX might be disabled, or MSXML might not be installed\");}return a.h};Gb=new Hb;var Jb=function(a,b,c){if(\"function\"===typeof a)c&&(a=v(a,c));else if(a&&\"function\"==typeof a.handleEvent)a=v(a.handleEvent,a);else throw Error(\"Invalid listener argument\");return 2147483647<Number(b)?-1:t.setTimeout(a,b||0)};var Kb=RegExp(\"^(?:([^:/?#.]+):)?(?://(?:([^\\\\\\\\/?#]*)@)?([^\\\\\\\\/?#]*?)(?::([0-9]+))?(?=[\\\\\\\\/?#]|$))?([^?#]+)?(?:\\\\?([^#]*))?(?:#([\\\\s\\\\S]*))?$\"),Lb=function(a,b){if(a){a=a.split(\"&\");for(var c=0;c<a.length;c++){var d=a[c].indexOf(\"=\"),e=null;if(0<=d){var f=a[c].substring(0,d);e=a[c].substring(d+1)}else f=a[c];b(f,e?decodeURIComponent(e.replace(/\\+/g,\" \")):\"\")}}};var R=function(a){Q.call(this);this.headers=new Map;this.U=a||null;this.A=!1;this.T=this.i=null;this.I=this.Y=this.O=\"\";this.B=this.W=this.N=this.V=!1;this.K=0;this.R=null;this.ba=\"\";this.S=this.ha=this.da=!1;this.X=null};w(R,Q);R.prototype.s=D(F(),\"goog.net.XhrIo\").j;var Mb=/^https?$/i,Nb=[\"POST\",\"PUT\"],Ob=[];R.prototype.ea=function(){this.H||(this.H=!0,this.G());na(Ob,this)};R.prototype.setTrustToken=function(a){this.X=a};\n",
      "R.prototype.send=function(a,b,c,d){if(this.i)throw Error(\"[goog.net.XhrIo] Object is active with another request=\"+this.O+\"; newUri=\"+a);b=b?b.toUpperCase():\"GET\";this.O=a;this.I=\"\";this.Y=b;this.V=!1;this.A=!0;this.i=this.U?Ib(this.U):Ib(Gb);this.T=this.U?Fb(this.U):Fb(Gb);this.i.onreadystatechange=v(this.aa,this);this.ha&&\"onprogress\"in this.i&&(this.i.onprogress=v(function(h){this.Z(h,!0)},this),this.i.upload&&(this.i.upload.onprogress=v(this.Z,this)));try{G(this.s,S(this,\"Opening Xhr\")),this.W=\n",
      "!0,this.i.open(b,String(a),!0),this.W=!1}catch(h){G(this.s,S(this,\"Error opening Xhr: \"+h.message));Pb(this,h);return}a=c||\"\";c=new Map(this.headers);if(d)if(Object.getPrototypeOf(d)===Object.prototype)for(var e in d)c.set(e,d[e]);else if(\"function\"===typeof d.keys&&\"function\"===typeof d.get){e=q(d.keys());for(var f=e.next();!f.done;f=e.next())f=f.value,c.set(f,d.get(f))}else throw Error(\"Unknown input type for opt_headers: \"+String(d));d=Array.from(c.keys()).find(function(h){return\"content-type\"==\n",
      "h.toLowerCase()});e=t.FormData&&a instanceof t.FormData;!(0<=ma(Nb,b))||d||e||c.set(\"Content-Type\",\"application/x-www-form-urlencoded;charset=utf-8\");b=q(c);for(d=b.next();!d.done;d=b.next())c=q(d.value),d=c.next().value,c=c.next().value,this.i.setRequestHeader(d,c);this.ba&&(this.i.responseType=this.ba);\"withCredentials\"in this.i&&this.i.withCredentials!==this.da&&(this.i.withCredentials=this.da);if(\"setTrustToken\"in this.i&&this.X)try{this.i.setTrustToken(this.X)}catch(h){G(this.s,S(this,\"Error SetTrustToken: \"+\n",
      "h.message))}try{Qb(this),0<this.K&&(this.S=Rb(this.i),G(this.s,S(this,\"Will abort after \"+this.K+\"ms if incomplete, xhr2 \"+this.S)),this.S?(this.i.timeout=this.K,this.i.ontimeout=v(this.ca,this)):this.R=Jb(this.ca,this.K,this)),G(this.s,S(this,\"Sending request\")),this.N=!0,this.i.send(a),this.N=!1}catch(h){G(this.s,S(this,\"Send error: \"+h.message)),Pb(this,h)}};var Rb=function(a){return Wa&&fb()&&\"number\"===typeof a.timeout&&void 0!==a.ontimeout};\n",
      "R.prototype.ca=function(){\"undefined\"!=typeof fa&&this.i&&(this.I=\"Timed out after \"+this.K+\"ms, aborting\",G(this.s,S(this,this.I)),this.dispatchEvent(\"timeout\"),this.abort(8))};var Pb=function(a,b){a.A=!1;a.i&&(a.B=!0,a.i.abort(),a.B=!1);a.I=b;Sb(a);Tb(a)},Sb=function(a){a.V||(a.V=!0,a.dispatchEvent(\"complete\"),a.dispatchEvent(\"error\"))};\n",
      "R.prototype.abort=function(){this.i&&this.A&&(G(this.s,S(this,\"Aborting\")),this.A=!1,this.B=!0,this.i.abort(),this.B=!1,this.dispatchEvent(\"complete\"),this.dispatchEvent(\"abort\"),Tb(this))};R.prototype.G=function(){this.i&&(this.A&&(this.A=!1,this.B=!0,this.i.abort(),this.B=!1),Tb(this,!0));R.P.G.call(this)};R.prototype.aa=function(){this.H||(this.W||this.N||this.B?Ub(this):this.ga())};R.prototype.ga=function(){Ub(this)};\n",
      "var Ub=function(a){if(a.A&&\"undefined\"!=typeof fa)if(a.T[1]&&4==T(a)&&2==Vb(a))G(a.s,S(a,\"Local request error detected and ignored\"));else if(a.N&&4==T(a))Jb(a.aa,0,a);else if(a.dispatchEvent(\"readystatechange\"),4==T(a)){G(a.s,S(a,\"Request complete\"));a.A=!1;try{if(Wb(a))a.dispatchEvent(\"complete\"),a.dispatchEvent(\"success\");else{try{var b=2<T(a)?a.i.statusText:\"\"}catch(c){G(a.s,\"Can not get status: \"+c.message),b=\"\"}a.I=b+\" [\"+Vb(a)+\"]\";Sb(a)}}finally{Tb(a)}}};\n",
      "R.prototype.Z=function(a,b){z(\"progress\"===a.type,\"goog.net.EventType.PROGRESS is of the same type as raw XHR progress.\");this.dispatchEvent(Xb(a,\"progress\"));this.dispatchEvent(Xb(a,b?\"downloadprogress\":\"uploadprogress\"))};\n",
      "var Xb=function(a,b){return{type:b,lengthComputable:a.lengthComputable,loaded:a.loaded,total:a.total}},Tb=function(a,b){if(a.i){Qb(a);var c=a.i,d=a.T[0]?function(){}:null;a.i=null;a.T=null;b||a.dispatchEvent(\"ready\");try{c.onreadystatechange=d}catch(e){Ca(a.s,\"Problem encountered resetting onreadystatechange: \"+e.message)}}},Qb=function(a){a.i&&a.S&&(a.i.ontimeout=null);a.R&&(t.clearTimeout(a.R),a.R=null)};R.prototype.isActive=function(){return!!this.i};\n",
      "var Wb=function(a){var b=Vb(a);a:switch(b){case 200:case 201:case 202:case 204:case 206:case 304:case 1223:var c=!0;break a;default:c=!1}if(!c){if(b=0===b)a=String(a.O).match(Kb)[1]||null,!a&&t.self&&t.self.location&&(a=t.self.location.protocol.slice(0,-1)),b=!Mb.test(a?a.toLowerCase():\"\");c=b}return c},T=function(a){return a.i?a.i.readyState:0},Vb=function(a){try{return 2<T(a)?a.i.status:-1}catch(b){return-1}};\n",
      "R.prototype.getResponseHeader=function(a){if(this.i&&4==T(this))return a=this.i.getResponseHeader(a),null===a?void 0:a};R.prototype.getAllResponseHeaders=function(){return this.i&&2<=T(this)?this.i.getAllResponseHeaders()||\"\":\"\"};var S=function(a,b){return b+\" [\"+a.Y+\" \"+a.O+\" \"+Vb(a)+\"]\"};var U=function(a){this.g=this.D=this.l=\"\";this.F=null;this.C=this.h=\"\";this.o=!1;var b;a instanceof U?(this.o=a.o,Yb(this,a.l),this.D=a.D,this.g=a.g,Zb(this,a.F),$b(this,a.h),ac(this,bc(a.j)),this.C=a.C):a&&(b=String(a).match(Kb))?(this.o=!1,Yb(this,b[1]||\"\",!0),this.D=V(b[2]||\"\"),this.g=V(b[3]||\"\",!0),Zb(this,b[4]),$b(this,b[5]||\"\",!0),ac(this,b[6]||\"\",!0),this.C=V(b[7]||\"\")):(this.o=!1,this.j=new W(null,this.o))};\n",
      "U.prototype.toString=function(){var a=[],b=this.l;b&&a.push(X(b,cc,!0),\":\");var c=this.g;if(c||\"file\"==b)a.push(\"//\"),(b=this.D)&&a.push(X(b,cc,!0),\"@\"),a.push(encodeURIComponent(String(c)).replace(/%25([0-9a-fA-F]{2})/g,\"%$1\")),c=this.F,null!=c&&a.push(\":\",String(c));if(c=this.h)this.g&&\"/\"!=c.charAt(0)&&a.push(\"/\"),a.push(X(c,\"/\"==c.charAt(0)?dc:ec,!0));(c=this.j.toString())&&a.push(\"?\",c);(c=this.C)&&a.push(\"#\",X(c,fc));return a.join(\"\")};\n",
      "U.prototype.resolve=function(a){var b=new U(this),c=!!a.l;c?Yb(b,a.l):c=!!a.D;c?b.D=a.D:c=!!a.g;c?b.g=a.g:c=null!=a.F;var d=a.h;if(c)Zb(b,a.F);else if(c=!!a.h){if(\"/\"!=d.charAt(0))if(this.g&&!this.h)d=\"/\"+d;else{var e=b.h.lastIndexOf(\"/\");-1!=e&&(d=b.h.slice(0,e+1)+d)}e=d;if(\"..\"==e||\".\"==e)d=\"\";else if(-1!=e.indexOf(\"./\")||-1!=e.indexOf(\"/.\")){d=0==e.lastIndexOf(\"/\",0);e=e.split(\"/\");for(var f=[],h=0;h<e.length;){var g=e[h++];\".\"==g?d&&h==e.length&&f.push(\"\"):\"..\"==g?((1<f.length||1==f.length&&\"\"!=\n",
      "f[0])&&f.pop(),d&&h==e.length&&f.push(\"\")):(f.push(g),d=!0)}d=f.join(\"/\")}else d=e}c?$b(b,d):c=\"\"!==a.j.toString();c?ac(b,bc(a.j)):c=!!a.C;c&&(b.C=a.C);return b};\n",
      "var Yb=function(a,b,c){a.l=c?V(b,!0):b;a.l&&(a.l=a.l.replace(/:$/,\"\"))},Zb=function(a,b){if(b){b=Number(b);if(isNaN(b)||0>b)throw Error(\"Bad port number \"+b);a.F=b}else a.F=null},$b=function(a,b,c){a.h=c?V(b,!0):b;return a},ac=function(a,b,c){b instanceof W?(a.j=b,gc(a.j,a.o)):(c||(b=X(b,hc)),a.j=new W(b,a.o));return a},V=function(a,b){return a?b?decodeURI(a.replace(/%25/g,\"%2525\")):decodeURIComponent(a):\"\"},X=function(a,b,c){return\"string\"===typeof a?(a=encodeURI(a).replace(b,ic),c&&(a=a.replace(/%25([0-9a-fA-F]{2})/g,\n",
      "\"%$1\")),a):null},ic=function(a){a=a.charCodeAt(0);return\"%\"+(a>>4&15).toString(16)+(a&15).toString(16)},cc=/[#\\/\\?@]/g,ec=/[#\\?:]/g,dc=/[#\\?]/g,hc=/[#\\?@]/g,fc=/#/g,W=function(a,b){this.h=this.g=null;this.j=a||null;this.l=!!b},Y=function(a){a.g||(a.g=new Map,a.h=0,a.j&&Lb(a.j,function(b,c){a.add(decodeURIComponent(b.replace(/\\+/g,\" \")),c)}))};W.prototype.add=function(a,b){Y(this);this.j=null;a=Z(this,a);var c=this.g.get(a);c||this.g.set(a,c=[]);c.push(b);this.h=A(this.h)+1;return this};\n",
      "var jc=function(a,b){Y(a);b=Z(a,b);a.g.has(b)&&(a.j=null,a.h=A(a.h)-a.g.get(b).length,a.g.delete(b))},kc=function(a,b){Y(a);b=Z(a,b);return a.g.has(b)};W.prototype.forEach=function(a,b){Y(this);this.g.forEach(function(c,d){c.forEach(function(e){a.call(b,e,d,this)},this)},this)};W.prototype.o=function(a){Y(this);var b=[];if(\"string\"===typeof a)kc(this,a)&&(b=b.concat(this.g.get(Z(this,a))));else{a=Array.from(this.g.values());for(var c=0;c<a.length;c++)b=b.concat(a[c])}return b};\n",
      "W.prototype.set=function(a,b){Y(this);this.j=null;a=Z(this,a);kc(this,a)&&(this.h=A(this.h)-this.g.get(a).length);this.g.set(a,[b]);this.h=A(this.h)+1;return this};W.prototype.get=function(a,b){if(!a)return b;a=this.o(a);return 0<a.length?String(a[0]):b};\n",
      "W.prototype.toString=function(){if(this.j)return this.j;if(!this.g)return\"\";for(var a=[],b=Array.from(this.g.keys()),c=0;c<b.length;c++){var d=b[c],e=encodeURIComponent(String(d));d=this.o(d);for(var f=0;f<d.length;f++){var h=e;\"\"!==d[f]&&(h+=\"=\"+encodeURIComponent(String(d[f])));a.push(h)}}return this.j=a.join(\"&\")};\n",
      "var bc=function(a){var b=new W;b.j=a.j;a.g&&(b.g=new Map(a.g),b.h=a.h);return b},Z=function(a,b){b=String(b);a.l&&(b=b.toLowerCase());return b},gc=function(a,b){b&&!a.l&&(Y(a),a.j=null,a.g.forEach(function(c,d){var e=d.toLowerCase();if(d!=e&&(jc(this,d),jc(this,e),0<c.length)){this.j=null;d=this.g;var f=d.set;e=Z(this,e);var h=c.length;if(0<h){for(var g=Array(h),k=0;k<h;k++)g[k]=c[k];h=g}else h=[];f.call(d,e,h);this.h=A(this.h)+c.length}},a));a.l=b};var mc=function(){this.h=Pa.get(\"APISID\",\"\");this.g=null;lc(this);window.addEventListener(\"load\",this.o.bind(this))};\n",
      "mc.prototype.l=function(a){if(this.g){a=a.target;var b;if(b=Wb(a)){try{var c=a.i?a.i.responseText:\"\"}catch(h){G(a.s,\"Can not get responseText: \"+h.message),c=\"\"}b=\"OK\"==c}if(b){this.j();c=window.location;a=$b(new U(window.location),\"/ServiceLogin\").toString();var d=void 0===d?Oa:d;a:{d=void 0===d?Oa:d;for(b=0;b<d.length;++b){var e=d[b];if(e instanceof Na&&e.fa(a)){d=new I(a,Ga);break a}}d=void 0}d=d||Ha;if(d instanceof I)if(d instanceof I&&d.constructor===I)var f=d.g;else la(\"expected object of type SafeUrl, got '\"+\n",
      "d+\"' of type \"+ha(d)),f=\"type_error:SafeUrl\";else{b:if(Ja){try{f=new URL(d)}catch(h){f=\"https:\";break b}f=f.protocol}else c:{f=document.createElement(\"a\");try{f.href=d}catch(h){f=void 0;break c}f=f.protocol;f=\":\"===f||\"\"===f?\"https:\":f}\"javascript:\"===f?(La(d),f=void 0):f=d}void 0!==f&&(c.href=f)}else lc(this)}};\n",
      "var lc=function(a){a.g=setTimeout(function(){if(a.g){var b=Pa.get(\"APISID\",\"\");if(b==a.h)lc(a);else{a.h=b;b=new U(\"/PassiveLoginProber\");var c=(new U(window.location)).j;b=ac(b,c).toString();c=a.l.bind(a);var d=new R;Ob.push(d);c&&(tb(d),d.u.add(\"complete\",c,!1,void 0,void 0));d.u.add(\"ready\",d.ea,!0,void 0,void 0);d.send(b,void 0,void 0,void 0)}}},5E3)};mc.prototype.o=function(){document.addEventListener(\"submit\",this.j.bind(this))};\n",
      "mc.prototype.j=function(){this.g&&(clearTimeout(this.g),this.g=null)};new mc;}).call(this);\n",
      "</script><c-data id=\"i3\"></c-data></c-wiz></div></section></div><span jsslot><div class=\"D4rY0b\"><p class=\"vOZun\">ألا تمتلك هذا الكمبيوتر؟ استخدِم نافذة التصفّح بخصوصية تامّة لتسجيل الدخول. <a href=\"https://support.google.com/accounts?p=signin_privatebrowsing&amp;hl=ar\" jsname=\"JFyozc\" target=\"_blank\">مزيد من المعلومات</a></p></div></span><div class=\"i2knIc\" jsname=\"DH6Rkf\"><div class=\"wg0fFb\" jsname=\"DhK0U\"><div class=\"RhTxBf\" jsname=\"k77Iif\"><button name=\"action\" class=\"JnOM6e TrZEUc rDisVe\" value=\"1\" jsname=\"Njthtb\" id=\"identifierNext\">التالي</button></div><div class=\"tmMcIf\" jsname=\"QkNstf\"><a href=\"/SignUpWithoutGmail?cc=EG&amp;continue=https://www.youtube.com/signin?action_handle_signin%3Dtrue%26app%3Ddesktop%26hl%3Dar%26next%3Dhttps%253A%252F%252Fwww.youtube.com%252Ffeed%252Fchannels%26feature%3Dredirect_login&amp;dsh=S772651868:1662779283531668&amp;flowEntry=ServiceLogin&amp;flowName=WebLiteSignIn&amp;hl=ar&amp;ifkv=AQDHYWrPBNhSbxSpU-MR-EhMsCllLGe_rBkQZRbriD8qiQLoxqkeb5C50H3sg3I3qWD305p9xqdQ5g&amp;service=youtube\" class=\"JnOM6e TrZEUc kTeh9 KXbQ4b\">إنشاء حساب</a></div></div></div><input type=\"hidden\" name=\"at\" value=\"AP0wHZajAJXFqHzIeQ4yV7sMA1ED:1662779283714\"></form></div></div><script aria-hidden=\"true\" nonce=\"AtkodZf68OZMYyrwErnEoA\">window.wiz_progress&&window.wiz_progress();window.wiz_tick&&window.wiz_tick('chA7fe');</script></body></html></div><c-wiz jsrenderer=\"ZdRp7e\" jsshadow jsdata=\"deferred-i1\" data-node-index=\"0;0\" jsmodel=\"hc6Ubd\" c-wiz><footer class=\"HUYFt\" data-auto-init=\"Footer\"><div class=\"hXs2T\"><form autocomplete=\"off\"><select name=\"hl\" class=\"N158t\" data-language-selector-select jsname=\"mdLqXe\"><option value=\"ur\">اردو</option><option value=\"ar\" selected>العربية</option><option value=\"fa\">فارسی</option><option value=\"af\">‪Afrikaans‬‏</option><option value=\"az\">‪azərbaycan‬‏</option><option value=\"bs\">‪bosanski‬‏</option><option value=\"ca\">‪català‬‏</option><option value=\"cs\">‪Čeština‬‏</option><option value=\"cy\">‪Cymraeg‬‏</option><option value=\"da\">‪Dansk‬‏</option><option value=\"de\">‪Deutsch‬‏</option><option value=\"et\">‪eesti‬‏</option><option value=\"en-GB\">‪English (United Kingdom)‬‏</option><option value=\"en-US\">‪English (United States)‬‏</option><option value=\"es-ES\">‪Español (España)‬‏</option><option value=\"es-419\">‪Español (Latinoamérica)‬‏</option><option value=\"eu\">‪euskara‬‏</option><option value=\"fil\">‪Filipino‬‏</option><option value=\"fr-CA\">‪Français (Canada)‬‏</option><option value=\"fr-FR\">‪Français (France)‬‏</option><option value=\"ga\">‪Gaeilge‬‏</option><option value=\"gl\">‪galego‬‏</option><option value=\"hr\">‪Hrvatski‬‏</option><option value=\"id\">‪Indonesia‬‏</option><option value=\"zu\">‪isiZulu‬‏</option><option value=\"is\">‪íslenska‬‏</option><option value=\"it\">‪Italiano‬‏</option><option value=\"sw\">‪Kiswahili‬‏</option><option value=\"lv\">‪latviešu‬‏</option><option value=\"lt\">‪lietuvių‬‏</option><option value=\"hu\">‪magyar‬‏</option><option value=\"ms\">‪Melayu‬‏</option><option value=\"nl\">‪Nederlands‬‏</option><option value=\"no\">‪norsk‬‏</option><option value=\"uz\">‪o‘zbek‬‏</option><option value=\"pl\">‪polski‬‏</option><option value=\"pt-BR\">‪Português (Brasil)‬‏</option><option value=\"pt-PT\">‪Português (Portugal)‬‏</option><option value=\"ro\">‪română‬‏</option><option value=\"sq\">‪shqip‬‏</option><option value=\"sk\">‪Slovenčina‬‏</option><option value=\"sl\">‪slovenščina‬‏</option><option value=\"sr-Latn\">‪srpski (latinica)‬‏</option><option value=\"fi\">‪Suomi‬‏</option><option value=\"sv\">‪Svenska‬‏</option><option value=\"vi\">‪Tiếng Việt‬‏</option><option value=\"tr\">‪Türkçe‬‏</option><option value=\"el\">‪Ελληνικά‬‏</option><option value=\"be\">‪беларуская‬‏</option><option value=\"bg\">‪български‬‏</option><option value=\"ky\">‪кыргызча‬‏</option><option value=\"kk\">‪қазақ тілі‬‏</option><option value=\"mk\">‪македонски‬‏</option><option value=\"mn\">‪монгол‬‏</option><option value=\"ru\">‪Русский‬‏</option><option value=\"sr-Cyrl\">‪српски (ћирилица)‬‏</option><option value=\"uk\">‪Українська‬‏</option><option value=\"ka\">‪ქართული‬‏</option><option value=\"hy\">‪հայերեն‬‏</option><option value=\"iw\">עברית</option><option value=\"am\">‪አማርኛ‬‏</option><option value=\"ne\">‪नेपाली‬‏</option><option value=\"mr\">‪मराठी‬‏</option><option value=\"hi\">‪हिन्दी‬‏</option><option value=\"as\">‪অসমীয়া‬‏</option><option value=\"bn\">‪বাংলা‬‏</option><option value=\"pa\">‪ਪੰਜਾਬੀ‬‏</option><option value=\"gu\">‪ગુજરાતી‬‏</option><option value=\"or\">‪ଓଡ଼ିଆ‬‏</option><option value=\"ta\">‪தமிழ்‬‏</option><option value=\"te\">‪తెలుగు‬‏</option><option value=\"kn\">‪ಕನ್ನಡ‬‏</option><option value=\"ml\">‪മലയാളം‬‏</option><option value=\"si\">‪සිංහල‬‏</option><option value=\"th\">‪ไทย‬‏</option><option value=\"lo\">‪ລາວ‬‏</option><option value=\"my\">‪မြန်မာ‬‏</option><option value=\"km\">‪ខ្មែរ‬‏</option><option value=\"ko\">‪한국어‬‏</option><option value=\"zh-HK\">‪中文（香港）‬‏</option><option value=\"ja\">‪日本語‬‏</option><option value=\"zh-CN\">‪简体中文‬‏</option><option value=\"zh-TW\">‪繁體中文‬‏</option></select></form></div><ul class=\"M2nKge\"><li class=\"vomtoe\"><a class=\"pUP0Nd TrZEUc\" href=\"https://support.google.com/accounts?hl=ar&amp;p=account_iph\" target=\"_blank\"><span class=\"UskCyf\">المساعدة</span></a></li><li class=\"vomtoe\"><a class=\"pUP0Nd TrZEUc\" href=\"https://accounts.google.com/TOS?loc=EG&amp;hl=ar&amp;privacy=true\" target=\"_blank\"><span class=\"UskCyf\">الخصوصية</span></a></li><li class=\"vomtoe\"><a class=\"pUP0Nd TrZEUc\" href=\"https://accounts.google.com/TOS?loc=EG&amp;hl=ar\" target=\"_blank\"><span class=\"UskCyf\">البنود</span></a></li></ul></footer><c-data id=\"i1\" jsdata=\" OsjLy;_;1\"></c-data></c-wiz><script aria-hidden=\"true\" nonce=\"AtkodZf68OZMYyrwErnEoA\">window.wiz_progress&&window.wiz_progress();window.wiz_tick&&window.wiz_tick('ZdRp7e');</script><script nonce=\"AtkodZf68OZMYyrwErnEoA\">(function(){/*\n",
      "\n",
      " Copyright The Closure Library Authors.\n",
      " SPDX-License-Identifier: Apache-2.0\n",
      "*/\n",
      "'use strict';var h=function(a){var b=0;return function(){return b<a.length?{done:!1,value:a[b++]}:{done:!0}}},l=\"function\"==typeof Object.defineProperties?Object.defineProperty:function(a,b,c){if(a==Array.prototype||a==Object.prototype)return a;a[b]=c.value;return a},aa=function(a){a=[\"object\"==typeof globalThis&&globalThis,a,\"object\"==typeof window&&window,\"object\"==typeof self&&self,\"object\"==typeof global&&global];for(var b=0;b<a.length;++b){var c=a[b];if(c&&c.Math==Math)return c}throw Error(\"Cannot find global object\");\n",
      "},m=aa(this),n=function(a,b){if(b)a:{var c=m;a=a.split(\".\");for(var d=0;d<a.length-1;d++){var f=a[d];if(!(f in c))break a;c=c[f]}a=a[a.length-1];d=c[a];b=b(d);b!=d&&null!=b&&l(c,a,{configurable:!0,writable:!0,value:b})}};\n",
      "n(\"Symbol\",function(a){if(a)return a;var b=function(g,e){this.g=g;l(this,\"description\",{configurable:!0,writable:!0,value:e})};b.prototype.toString=function(){return this.g};var c=\"jscomp_symbol_\"+(1E9*Math.random()>>>0)+\"_\",d=0,f=function(g){if(this instanceof f)throw new TypeError(\"Symbol is not a constructor\");return new b(c+(g||\"\")+\"_\"+d++,g)};return f});\n",
      "n(\"Symbol.iterator\",function(a){if(a)return a;a=Symbol(\"Symbol.iterator\");for(var b=\"Array Int8Array Uint8Array Uint8ClampedArray Int16Array Uint16Array Int32Array Uint32Array Float32Array Float64Array\".split(\" \"),c=0;c<b.length;c++){var d=m[b[c]];\"function\"===typeof d&&\"function\"!=typeof d.prototype[a]&&l(d.prototype,a,{configurable:!0,writable:!0,value:function(){return ba(h(this))}})}return a});\n",
      "var ba=function(a){a={next:a};a[Symbol.iterator]=function(){return this};return a},ca=\"function\"==typeof Object.create?Object.create:function(a){var b=function(){};b.prototype=a;return new b},p;if(\"function\"==typeof Object.setPrototypeOf)p=Object.setPrototypeOf;else{var q;a:{var da={a:!0},r={};try{r.__proto__=da;q=r.a;break a}catch(a){}q=!1}p=q?function(a,b){a.__proto__=b;if(a.__proto__!==b)throw new TypeError(a+\" is not extensible\");return a}:null}\n",
      "var t=p,u=function(a,b){a.prototype=ca(b.prototype);a.prototype.constructor=a;if(t)t(a,b);else for(var c in b)if(\"prototype\"!=c)if(Object.defineProperties){var d=Object.getOwnPropertyDescriptor(b,c);d&&Object.defineProperty(a,c,d)}else a[c]=b[c];a.o=b.prototype},ea=function(a,b){a instanceof String&&(a+=\"\");var c=0,d=!1,f={next:function(){if(!d&&c<a.length){var g=c++;return{value:b(g,a[g]),done:!1}}d=!0;return{done:!0,value:void 0}}};f[Symbol.iterator]=function(){return f};return f};\n",
      "n(\"Array.prototype.entries\",function(a){return a?a:function(){return ea(this,function(b,c){return[b,c]})}});var v=function(a,b){function c(){}c.prototype=b.prototype;a.o=b.prototype;a.prototype=new c;a.prototype.constructor=a;a.s=function(d,f,g){for(var e=Array(arguments.length-2),k=2;k<arguments.length;k++)e[k-2]=arguments[k];return b.prototype[f].apply(d,e)}};var w=function(a){this.g=a;this.h()};function x(a,b){if(Error.captureStackTrace)Error.captureStackTrace(this,x);else{var c=Error().stack;c&&(this.stack=c)}a&&(this.message=String(a));void 0!==b&&(this.cause=b)}v(x,Error);x.prototype.name=\"CustomError\";function y(a,b){a=a.split(\"%s\");for(var c=\"\",d=a.length-1,f=0;f<d;f++)c+=a[f]+(f<b.length?b[f]:\"%s\");x.call(this,c+a[d])}v(y,x);y.prototype.name=\"AssertionError\";var z=function(a,b){throw new y(\"Failure\"+(a?\": \"+a:\"\"),Array.prototype.slice.call(arguments,1));};var A=function(){w.apply(this,arguments)};u(A,w);A.prototype.h=function(){var a=this.g.querySelector(\"form\");a&&this.g.addEventListener(\"submit\",function(b){\"true\"===a.getAttribute(\"data-is-submitted\")?b.preventDefault():a.setAttribute(\"data-is-submitted\",!0)})};var B=function(a,b){this.name=a;this.value=b};B.prototype.toString=function(){return this.name};\n",
      "var C=new B(\"OFF\",Infinity),D=new B(\"WARNING\",900),fa=new B(\"CONFIG\",700),ha=function(){},E,ia=function(){},F=function(a,b){this.g=null;this.l=[];this.h=(void 0===b?null:b)||null;this.i=[];this.m={g:function(){return a}}},ja=function(a){if(a.g)return a.g;if(a.h)return ja(a.h);z(\"Root logger has no level set.\");return C},ka=function(a){for(var b=new ia;a;)a.l.forEach(function(c){c(b)}),a=a.h},la=function(){this.entries={};var a=new F(\"\");a.g=fa;this.entries[\"\"]=a},G,H=function(a,b){var c=a.entries[b];\n",
      "if(c)return c;c=H(a,b.slice(0,Math.max(b.lastIndexOf(\".\"),0)));var d=new F(b,c);a.entries[b]=d;c.i.push(d);return d},I=function(){G||(G=new la);return G};/*\n",
      "\n",
      " SPDX-License-Identifier: Apache-2.0\n",
      "*/\n",
      "var K=function(a,b){this.g=b===J?a:\"\"};K.prototype.toString=function(){return this.g.toString()};var J={},ma=new K(\"about:invalid#zClosurez\",J);var L;try{new URL(\"s://g\"),L=!0}catch(a){L=!1}var na=L,M=[],oa=function(){};pa(function(a){var b;if(b=H(I(),\"safevalues\").m){a=\"A URL with content '\"+a+\"' was sanitized away.\";var c;if(c=b)if(c=b&&D){c=D.value;var d=b?ja(H(I(),b.g())):C;c=c>=d.value}c&&(b=H(I(),b.g()),\"function\"===typeof a&&a(),E||(E=new ha),ka(b))}});function pa(a){-1===M.indexOf(a)&&M.push(a);oa=function(b){M.forEach(function(c){c(b)})}};var N=function(a){this.j=a};function O(a){return new N(function(b){return b.substr(0,a.length+1).toLowerCase()===a+\":\"})}var qa=[O(\"data\"),O(\"http\"),O(\"https\"),O(\"mailto\"),O(\"ftp\"),new N(function(a){return/^[^:]*([/?#]|$)/.test(a)})];var P=function(){w.apply(this,arguments)};u(P,w);P.prototype.h=function(){var a=this.g.querySelector(\"[data-language-selector-select]\");a&&ra(a)};\n",
      "var ra=function(a){a.addEventListener(\"change\",function(b){b=b.target;if(b.value){var c=new URL(document.location.toString());c.searchParams.set(\"hl\",b.value);b=window.location;var d=void 0===d?qa:d;a:{c=c.toString();d=void 0===d?qa:d;for(var f=0;f<d.length;++f){var g=d[f];if(g instanceof N&&g.j(c)){d=new K(c,J);break a}}d=void 0}d=d||ma;if(d instanceof K)if(d instanceof K&&d.constructor===K)var e=d.g;else e=typeof d,z(\"expected object of type SafeUrl, got '\"+d+\"' of type \"+(\"object\"!=e?e:d?Array.isArray(d)?\n",
      "\"array\":e:\"null\")),e=\"type_error:SafeUrl\";else{b:if(na){try{e=new URL(d)}catch(k){e=\"https:\";break b}e=e.protocol}else c:{e=document.createElement(\"a\");try{e.href=d}catch(k){e=void 0;break c}e=e.protocol;e=\":\"===e||\"\"===e?\"https:\":e}\"javascript:\"===e?(oa(d),e=void 0):e=d}void 0!==e&&(b.href=e)}})};var Q=Object.create(null);function R(a,b){Q[a]||(Q[a]=b)};var S=function(){w.apply(this,arguments)};u(S,w);S.prototype.h=function(){var a=this.g.querySelector(\"#playCaptchaButton\"),b=this.g.querySelector(\"#captchaAudio\"),c=this.g.querySelector(\"input[name=ca]\");a&&b&&c&&a.addEventListener(\"click\",function(d){d.preventDefault();b.readyState===HTMLMediaElement.HAVE_NOTHING?b.load():b.paused&&b.play();c.value=\"\";c.focus()})};var T=function(){w.apply(this,arguments)};u(T,w);T.prototype.h=function(){var a=this.g;void 0!==a.dataset.hasDomainSuffix&&(sa(a),ta(a))};var ta=function(a){a.addEventListener(\"keyup\",function(){sa(a)})},sa=function(a){0<a.getElementsByTagName(\"INPUT\".toString()).item(0).value.indexOf(\"@\")?a.dataset.hasAtSign=\"\":delete a.dataset.hasAtSign};var U=function(){w.apply(this,arguments)};u(U,w);U.prototype.h=function(){var a=this.g;void 0!==a.dataset.hasDomainSuffix&&(ua(a),va(a))};var va=function(a){a.addEventListener(\"keyup\",function(){ua(a)})},ua=function(a){0<a.getElementsByTagName(\"INPUT\".toString()).item(0).value.indexOf(\"@\")?a.dataset.hasAtSign=\"\":delete a.dataset.hasAtSign};R(\"CaptchaInput\",S);R(\"Card\",A);R(\"EmailInput\",T);R(\"Footer\",P);R(\"IdentifierInput\",U);var wa=[],V,W=[].slice.call(document.querySelectorAll(\"[data-auto-init]\")),xa=\"undefined\"!=typeof Symbol&&Symbol.iterator&&W[Symbol.iterator],X;xa?X=xa.call(W):X={next:h(W)};V=X;for(var Y=V.next();!Y.done;Y=V.next()){var Z=Y.value,ya=Z.getAttribute(\"data-auto-init\");if(!ya)throw Error(\"auto-init attribute requires a value.\");var za=new Q[ya](Z);wa.push(za);Z.removeAttribute(\"data-auto-init\")};}).call(this);\n",
      "</script></div></div></body>\n"
     ]
    }
   ],
   "source": [
    "result= requests.get(\"https://www.youtube.com/feed/channels\")\n",
    "src= result.text\n",
    "print(src)"
   ]
  },
  {
   "cell_type": "code",
   "execution_count": 58,
   "id": "a7dbcb5e",
   "metadata": {
    "ExecuteTime": {
     "end_time": "2022-09-10T03:08:08.682548Z",
     "start_time": "2022-09-10T03:08:08.661570Z"
    }
   },
   "outputs": [],
   "source": [
    "soup =BeautifulSoup(src,\"lxml\")"
   ]
  },
  {
   "cell_type": "code",
   "execution_count": 65,
   "id": "dcc00311",
   "metadata": {
    "ExecuteTime": {
     "end_time": "2022-09-10T03:11:01.345232Z",
     "start_time": "2022-09-10T03:11:01.339250Z"
    }
   },
   "outputs": [],
   "source": [
    "channels=soup.find_all(\"yt-formatted-string\",{\"class\":\"style-scope ytd-channel-name\"})"
   ]
  },
  {
   "cell_type": "code",
   "execution_count": 66,
   "id": "6563395d",
   "metadata": {
    "ExecuteTime": {
     "end_time": "2022-09-10T03:11:14.907003Z",
     "start_time": "2022-09-10T03:11:14.893042Z"
    }
   },
   "outputs": [
    {
     "name": "stdout",
     "output_type": "stream",
     "text": [
      "[]\n"
     ]
    }
   ],
   "source": [
    "print(channels)"
   ]
  },
  {
   "cell_type": "code",
   "execution_count": 67,
   "id": "8b4bb44c",
   "metadata": {
    "ExecuteTime": {
     "end_time": "2022-09-10T03:11:36.481506Z",
     "start_time": "2022-09-10T03:11:36.468345Z"
    }
   },
   "outputs": [],
   "source": [
    "summary=soup.find_all(\"yt-formatted-string\", class_=\"style-scope ytd-channel-renderer\")"
   ]
  },
  {
   "cell_type": "code",
   "execution_count": 68,
   "id": "07bbb1d5",
   "metadata": {
    "ExecuteTime": {
     "end_time": "2022-09-10T03:11:39.540553Z",
     "start_time": "2022-09-10T03:11:39.520727Z"
    }
   },
   "outputs": [
    {
     "data": {
      "text/plain": [
       "[]"
      ]
     },
     "execution_count": 68,
     "metadata": {},
     "output_type": "execute_result"
    }
   ],
   "source": [
    "summary"
   ]
  },
  {
   "cell_type": "code",
   "execution_count": 69,
   "id": "4e24ca03",
   "metadata": {
    "ExecuteTime": {
     "end_time": "2022-09-10T03:18:32.247381Z",
     "start_time": "2022-09-10T03:18:32.228434Z"
    }
   },
   "outputs": [],
   "source": [
    "for i in range(len(channels)):\n",
    "    channels.append(channels[i].text)\n",
    "    summary.append(summary[i].text)\n"
   ]
  },
  {
   "cell_type": "code",
   "execution_count": 70,
   "id": "423b843a",
   "metadata": {
    "ExecuteTime": {
     "end_time": "2022-09-10T03:28:23.194337Z",
     "start_time": "2022-09-10T03:28:23.178407Z"
    }
   },
   "outputs": [],
   "source": [
    "file_list=[channels,summary]\n",
    "exported=zip_longest(*file_list)\n",
    "with open(\"/users/hp/mychannels.csv\",'w') as myfile:\n",
    "    wr=csv.writer(myfile)\n",
    "    wr.writerow([\"channels\",\"summary\"])\n",
    "    wr.writerows([exported])"
   ]
  },
  {
   "cell_type": "code",
   "execution_count": null,
   "id": "e1df1cc7",
   "metadata": {},
   "outputs": [],
   "source": []
  }
 ],
 "metadata": {
  "kernelspec": {
   "display_name": "Python 3 (ipykernel)",
   "language": "python",
   "name": "python3"
  },
  "language_info": {
   "codemirror_mode": {
    "name": "ipython",
    "version": 3
   },
   "file_extension": ".py",
   "mimetype": "text/x-python",
   "name": "python",
   "nbconvert_exporter": "python",
   "pygments_lexer": "ipython3",
   "version": "3.9.12"
  },
  "toc": {
   "base_numbering": 1,
   "nav_menu": {},
   "number_sections": true,
   "sideBar": true,
   "skip_h1_title": false,
   "title_cell": "Table of Contents",
   "title_sidebar": "Contents",
   "toc_cell": false,
   "toc_position": {},
   "toc_section_display": true,
   "toc_window_display": false
  },
  "varInspector": {
   "cols": {
    "lenName": 16,
    "lenType": 16,
    "lenVar": 40
   },
   "kernels_config": {
    "python": {
     "delete_cmd_postfix": "",
     "delete_cmd_prefix": "del ",
     "library": "var_list.py",
     "varRefreshCmd": "print(var_dic_list())"
    },
    "r": {
     "delete_cmd_postfix": ") ",
     "delete_cmd_prefix": "rm(",
     "library": "var_list.r",
     "varRefreshCmd": "cat(var_dic_list()) "
    }
   },
   "types_to_exclude": [
    "module",
    "function",
    "builtin_function_or_method",
    "instance",
    "_Feature"
   ],
   "window_display": false
  }
 },
 "nbformat": 4,
 "nbformat_minor": 5
}
