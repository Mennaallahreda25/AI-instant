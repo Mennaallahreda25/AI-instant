{
 "cells": [
  {
   "cell_type": "markdown",
   "metadata": {},
   "source": [
    "Calculus --> Training            \n",
    "AI models:            \n",
    "    . Statistical model         \n",
    "    . Non statistical model           "
   ]
  },
  {
   "cell_type": "code",
   "execution_count": null,
   "metadata": {},
   "outputs": [],
   "source": [
    "y = m x + c (linear equation)\n",
    "\n",
    "price = m * area + c  \n",
    "price = meterSalary * area + insurance \n",
    "\n",
    "\n",
    "size\n",
    "location\n",
    "age \n",
    "numer of rooms \n",
    "\n",
    "\n",
    "m1,m2,m3,m4 importance of each feature\n",
    "price = m1 * size +  m2*location + m3* age +  m4* rooms + c\n",
    "\n",
    "\n",
    "price = 2000*size + 400*location - 5*age+ 4*rooms + 8\n",
    "price = size + location + age + rooms + c\n",
    "training : \n",
    "    "
   ]
  },
  {
   "cell_type": "code",
   "execution_count": null,
   "metadata": {},
   "outputs": [],
   "source": [
    "f(x) = 3x - 4 \n",
    "f`(x) = 3 ( rate of change )\n",
    "\n",
    "x = 1 , f(x) = -1\n",
    "x = 2 , f(x) =  2\n",
    "x = 3 , f(x) =  5 \n",
    "\n",
    "\n",
    "\n"
   ]
  },
  {
   "cell_type": "code",
   "execution_count": null,
   "metadata": {},
   "outputs": [],
   "source": [
    "y = 5 \n",
    "x = 1 , 2, 3, 4, 5, ,7, 8,\n",
    "y` = 0\n",
    "\n",
    "\n",
    "y = 3x\n",
    "y` = 3 \n",
    "\n",
    "x = 1 , y = 3 \n",
    "x = 2 , y = 6 \n",
    "x = 3 , y = 9 \n",
    "\n",
    "y = 2x + 5 \n",
    "y`= 2 \n",
    "\n",
    "x = 1 , y = 7 \n",
    "x = 2 , y = 9 \n",
    "x = 3 , y = 11\n",
    "\n",
    "\n",
    "y = 7 -3x \n",
    "y` = -3 \n",
    "\n",
    "\n",
    "x = 9 , y = -20\n",
    "x = 10 , y = -23\n",
    "\n",
    "\n",
    "y = 5x1*x2+ 6x2 + 7x3 - x4  \n",
    "y`(x1) = 5x2 \n",
    "y`(x2) = 6 \n",
    "\n",
    "\n",
    "y = 5x^3 + 4x \n",
    "y` = 15x^2 + 4 \n",
    "\n",
    "x = 2 , y = 64 \n",
    "x = 3,  y = 139\n",
    "75 \n",
    "139 \n",
    "x = 4, 15*16 + 4 \n",
    "\n",
    "244- 139\n",
    "\n",
    "y = 5x \n",
    "y` = 5\n",
    "\n",
    "y = 3x \n",
    "y` = 3 \n",
    "\n",
    "y = -2x \n",
    "y`= -2\n",
    "\n",
    "\n",
    "y = 3x^2\n",
    "y` = 2*3x = 6x\n",
    "\n",
    "y = 4x^3\n",
    "y` = 12x^2\n",
    "\n",
    "y = 5 \n",
    "y` = 0  \n",
    "\n",
    "y = (x^2 + 4x - 7 )^5\n",
    "y = 5 *(x^2 + 4x - 7 )^4 *  (2x + 4)  \n",
    "\n",
    "\n",
    "y = 3x1 ^2 + 2 x2 ^ 5 \n",
    "y` = 6x1\n",
    "\n",
    "5x^2 = 10\n",
    "\n",
    "y = 3x1^4 x2^3 + 2x3^9\n",
    "y`= 12x1^3 * x2^3 \n",
    "\n",
    "\n",
    "\n",
    "chain rule = \n",
    "dx/dy = dx / du * du/dy\n",
    "\n",
    "\n",
    "y = 5a + 4 \n",
    "a = 3x + 6 \n",
    "\n",
    "y(a) = 5\n",
    "a(x) = 3\n",
    "y(x) = y(a) *  a(x)\n",
    "y` = 5*3 = 15"
   ]
  },
  {
   "cell_type": "code",
   "execution_count": null,
   "metadata": {},
   "outputs": [],
   "source": [
    "Rate of Change \n",
    "\n",
    "x = سعر السهم\n",
    "\n",
    "y = 5x - 20 \n",
    "y^ = 5 \n",
    "\n",
    "y = 5x^2 - 20 \n",
    "y=  2*5*x\n",
    "\n",
    "y = 3x^3- 20 \n",
    "y`= 9x^2\n",
    "y`` = 18x\n",
    "y``` = 18\n",
    "y```` = 0\n",
    "\n",
    "\n",
    "f(x) = 5\n",
    "Advanced Statistics --> calculus \n",
    "\n",
    "data \n",
    "\n",
    "\n",
    "y = 3 \n",
    "y` = 0\n",
    "\n",
    "\n",
    "Data Collection \n",
    "Data Preprocessing \n",
    "Feature Engineering \n",
    "----------------------\n",
    "\n",
    "Model Selection "
   ]
  },
  {
   "cell_type": "markdown",
   "metadata": {},
   "source": [
    "# Rate of Change\n",
    "Functions are often visualized as a line on a graph, and this line shows how the value returned by the function changes based on changes in the input value.\n",
    "\n",
    "## Linear Rate of Change\n",
    "\n",
    "For example, imagine a function that returns the number of meters travelled by a cyclist based on the number of seconds that the cyclist has been cycling.\n",
    "\n",
    "Here is such a function:\n",
    "\n",
    "\\begin{equation}q(x) = 2x + 1\\end{equation}\n",
    "\n",
    "We can plot the output for this function for a period of 10 seconds like this:"
   ]
  },
  {
   "cell_type": "code",
   "execution_count": null,
   "metadata": {},
   "outputs": [],
   "source": [
    "velocity = distance / time\n",
    "\n",
    "speed, dis , time\n",
    "20   , 80  ,    4  = 4 - 20 \n",
    "100  , 1000,   10  = 88\n",
    "\n",
    "\n",
    "Distance = 50 \n",
    "time =     5 \n",
    "speed      ?  \n",
    "\n",
    "AIoutput = (2*distance/ time) * 1 / dx  \n",
    "Error = (2 * distance/ time)  - Actualoutput  "
   ]
  },
  {
   "cell_type": "code",
   "execution_count": 1,
   "metadata": {
    "ExecuteTime": {
     "end_time": "2021-09-27T18:31:47.571362Z",
     "start_time": "2021-09-27T18:31:47.085383Z"
    }
   },
   "outputs": [
    {
     "data": {
      "image/png": "[encoded data removed]",
      "text/plain": [
       "<Figure size 432x288 with 1 Axes>"
      ]
     },
     "metadata": {
      "needs_background": "light"
     },
     "output_type": "display_data"
    }
   ],
   "source": [
    "%matplotlib inline\n",
    "\n",
    "def q(x):\n",
    "    return 2*x + 1\n",
    "\n",
    "# Plot the function\n",
    "import numpy as np\n",
    "from matplotlib import pyplot as plt\n",
    "\n",
    "# Create an array of x values from 0 to 10\n",
    "x = np.array(range(0, 11))\n",
    "\n",
    "# Set up the graph\n",
    "plt.xlabel('Seconds')\n",
    "plt.ylabel('Meters')\n",
    "plt.xticks(range(0,11, 1))\n",
    "plt.yticks(range(0, 22, 1))\n",
    "plt.grid()\n",
    "\n",
    "# Plot x against q(x)\n",
    "plt.plot(x,q(x), color='green')\n",
    "\n",
    "plt.show()"
   ]
  },
  {
   "cell_type": "markdown",
   "metadata": {},
   "source": [
    "It's clear from the graph that ***q*** is a *linear* function that describes a slope in which distance increases at a constant rate over time. In other words, the cyclist is travelling at a constant speed.\n",
    "\n",
    "But what speed?\n",
    "\n",
    "Speed, or more technically, velocity is a measure of change - it measures how the distance travelled changes over time (which is why we typically express it as a unit of distance per a unit of time, like *miles-per-hour* or *meters-per-second*). So we're looking for a way to measure the change in the line created by the function.\n",
    "\n",
    "The change in values along the line define its *slope*, which we know from a previous lesson is represented like this:\n",
    "\n",
    "\\begin{equation}m = \\frac{\\Delta{y}}{\\Delta{x}} \\end{equation}\n",
    "\n",
    "We can calculate the slope of our function like this:\n",
    "\n",
    "\\begin{equation}m = \\frac{q(x)_{2} - q(x)_{1}}{x_{2} - x_{1}} \\end{equation}\n",
    "\n",
    "So we just need two ordered pairs of ***x*** and ***q(x)*** values from our line to apply this equation.\n",
    "\n",
    "- After 1 second, ***x*** is 1 and ***q***(1) = **3**.\n",
    "- After 10 seconds, ***x*** is 10 and ***q***(10) = 21.\n",
    "\n",
    "So we can meassure the rate of change like this:\n",
    "\n",
    "\\begin{equation}m = \\frac{21 - 3}{10 - 1} \\end{equation}\n",
    "\n",
    "This is the same as:\n",
    "\n",
    "\\begin{equation}m = \\frac{18}{9} \\end{equation}\n",
    "\n",
    "Which simplifies to:\n",
    "\n",
    "\\begin{equation}m = \\frac{2}{1} \\end{equation}\n",
    "\n",
    "So our rate of change is <sup>2</sup>/<sub>1</sub> or put another way, the cyclist is travelling at 2 meters-per-second."
   ]
  },
  {
   "cell_type": "markdown",
   "metadata": {},
   "source": [
    "## Average Rate of Change\n",
    "OK, let's look at another function that calculates distance travelled for a given number of seconds:\n",
    "\n",
    "\\begin{equation}r(x) = x^{2} + x\\end{equation}\n",
    "\n",
    "Let's take a look at that using Python:"
   ]
  },
  {
   "cell_type": "code",
   "execution_count": null,
   "metadata": {},
   "outputs": [],
   "source": [
    "f'(x) = 2x +  1\n",
    "\n",
    "f(x) = x + 13 \n",
    "f(x) = x + 31\n",
    "\n",
    "4 ==> 17 - 15 \n",
    "6 ==> 37 - 27\n",
    "10 ==> 101 - 32 "
   ]
  },
  {
   "cell_type": "code",
   "execution_count": 2,
   "metadata": {
    "ExecuteTime": {
     "end_time": "2021-09-05T15:28:11.097841Z",
     "start_time": "2021-09-05T15:28:10.987735Z"
    }
   },
   "outputs": [
    {
     "data": {
      "image/png": "[encoded data removed]",
      "text/plain": [
       "<Figure size 432x288 with 1 Axes>"
      ]
     },
     "metadata": {
      "needs_background": "light"
     },
     "output_type": "display_data"
    }
   ],
   "source": [
    "%matplotlib inline\n",
    "\n",
    "def r(x):\n",
    "    return x**2 + x\n",
    "\n",
    "# Plot the function\n",
    "import numpy as np\n",
    "from matplotlib import pyplot as plt\n",
    "\n",
    "# Create an array of x values from 0 to 10\n",
    "x = np.array(range(0, 11))\n",
    "\n",
    "# Set up the graph\n",
    "plt.xlabel('Seconds')\n",
    "plt.ylabel('Meters')\n",
    "plt.grid()\n",
    "\n",
    "# Plot x against r(x)\n",
    "plt.plot(x,r(x), color='green')\n",
    "\n",
    "plt.show()"
   ]
  },
  {
   "cell_type": "markdown",
   "metadata": {},
   "source": [
    "This time, the function is not linear. It's actually a quadratic function, and the line from 0 seconds to 10 seconds shows an exponential increase; in other words, the cyclist is *accelerating*.\n",
    "\n",
    "Technically, acceleration itself is a measure of change in velocity over time; and velocity, as we've already discussed, is a measure of change in distance over time. So measuring accelleration is pretty complex, and requires *differential calculus*, which we're going to cover shortly. In fact, even just measuring the velocity at a single point in time requires differential calculus; but we can use algebraic methods to calculate an *average* rate of velocity for a given period shown in the graph.\n",
    "\n",
    "First, we need to define a *secant* line that joins two points in our exponential arc to create a straight slope. For example, a secant line for the entire 10 second time span would join the following two points:\n",
    "\n",
    "- 0, ***r***(0)\n",
    "- 10, ***r***(10)\n",
    "\n",
    "Run the following Python code to visualize this line:"
   ]
  },
  {
   "cell_type": "code",
   "execution_count": 3,
   "metadata": {
    "ExecuteTime": {
     "end_time": "2021-05-05T19:13:58.605686Z",
     "start_time": "2021-05-05T19:13:58.503731Z"
    }
   },
   "outputs": [
    {
     "data": {
      "image/png": "[encoded data removed]",
      "text/plain": [
       "<Figure size 432x288 with 1 Axes>"
      ]
     },
     "metadata": {
      "needs_background": "light"
     },
     "output_type": "display_data"
    }
   ],
   "source": [
    "%matplotlib inline\n",
    "\n",
    "def r(x):\n",
    "    return (x)**2 + x\n",
    "\n",
    "# Plot the function\n",
    "import numpy as np\n",
    "from matplotlib import pyplot as plt\n",
    "\n",
    "# Create an array of x values from 0 to 10\n",
    "x = np.array(range(0, 11))\n",
    "\n",
    "# Create an array for the secant line\n",
    "s = np.array([0,10])\n",
    "\n",
    "# Set up the graph\n",
    "plt.xlabel('Seconds')\n",
    "plt.ylabel('Meters')\n",
    "plt.grid()\n",
    "\n",
    "# Plot x against r(x)\n",
    "plt.plot(x,r(x), color='green')\n",
    "\n",
    "# Plot the secant line\n",
    "plt.plot(s,r(s), color='magenta')\n",
    "\n",
    "plt.show()"
   ]
  },
  {
   "cell_type": "markdown",
   "metadata": {},
   "source": [
    "Now, because the secant line is straight, we can apply the slope formula we used for a linear function to calculate the average velocity for the 10 second period:\n",
    "\n",
    "- At 0 seconds, ***x*** is 0 and ***r***(0) = **0**.\n",
    "- At 10 seconds, ***x*** is 10 and ***r***(10) = 110.\n",
    "\n",
    "So we can meassure the rate of change like this:\n",
    "\n",
    "\\begin{equation}m = \\frac{110 - 0}{10 - 0} \\end{equation}\n",
    "\n",
    "This is the same as:\n",
    "\n",
    "\\begin{equation}m = \\frac{110}{10} \\end{equation}\n",
    "\n",
    "Which simplifies to:\n",
    "\n",
    "\\begin{equation}m = \\frac{11}{1} \\end{equation}\n",
    "\n",
    "So our rate of change is <sup>11</sup>/<sub>1</sub> or put another way, the cyclist is travelling at an average velocity of 11 meters-per-second over the 10-second period.\n",
    "\n",
    "Of course, we can measure the average velocity between any two points on the exponential line. Use the following Python code to show the secant line for the period between 2 and 7 seconds, and calculate the average velocity for that period"
   ]
  },
  {
   "cell_type": "code",
   "execution_count": 5,
   "metadata": {
    "ExecuteTime": {
     "end_time": "2021-05-09T21:16:42.886434Z",
     "start_time": "2021-05-09T21:16:42.745103Z"
    }
   },
   "outputs": [
    {
     "data": {
      "image/png": "[encoded data removed]",
      "text/plain": [
       "<Figure size 432x288 with 1 Axes>"
      ]
     },
     "metadata": {
      "needs_background": "light"
     },
     "output_type": "display_data"
    }
   ],
   "source": [
    "%matplotlib inline\n",
    "\n",
    "def r(x):\n",
    "    return x**2 + x\n",
    "\n",
    "# Plot the function\n",
    "import numpy as np\n",
    "from matplotlib import pyplot as plt\n",
    "\n",
    "# Create an array of x values from 0 to 10\n",
    "x = np.array(range(0, 11))\n",
    "\n",
    "# Create an array for the secant line\n",
    "s = np.array([2,7])\n",
    "\n",
    "# Calculate rate of change\n",
    "x1 = s[0]\n",
    "x2 = s[-1]\n",
    "y1 = r(x1)\n",
    "y2 = r(x2)\n",
    "a = (y2 - y1)/(x2 - x1)\n",
    "\n",
    "\n",
    "# Set up the graph\n",
    "plt.xlabel('Seconds')\n",
    "plt.ylabel('Meters')\n",
    "plt.grid()\n",
    "\n",
    "# Plot x against r(x)\n",
    "plt.plot(x,r(x), color='green')\n",
    "\n",
    "# Plot the secant line\n",
    "plt.plot(s,r(s), color='magenta')\n",
    "\n",
    "plt.annotate('Average Velocity =' + str(a) + ' m/s',((x2+x1)/2, (y2+y1)/2))\n",
    "\n",
    "plt.show()\n",
    "\n"
   ]
  },
  {
   "cell_type": "code",
   "execution_count": null,
   "metadata": {},
   "outputs": [],
   "source": [
    "linear fucntion = slope = derivative \n",
    "no linear = derivative is changable  \n",
    "slope = average rate of change "
   ]
  }
 ],
 "metadata": {
  "kernelspec": {
   "display_name": "Python 3",
   "language": "python",
   "name": "python3"
  },
  "language_info": {
   "codemirror_mode": {
    "name": "ipython",
    "version": 3
   },
   "file_extension": ".py",
   "mimetype": "text/x-python",
   "name": "python",
   "nbconvert_exporter": "python",
   "pygments_lexer": "ipython3",
   "version": "3.8.5"
  },
  "toc": {
   "base_numbering": 1,
   "nav_menu": {},
   "number_sections": true,
   "sideBar": true,
   "skip_h1_title": false,
   "title_cell": "Table of Contents",
   "title_sidebar": "Contents",
   "toc_cell": false,
   "toc_position": {},
   "toc_section_display": true,
   "toc_window_display": false
  },
  "varInspector": {
   "cols": {
    "lenName": 16,
    "lenType": 16,
    "lenVar": 40
   },
   "kernels_config": {
    "python": {
     "delete_cmd_postfix": "",
     "delete_cmd_prefix": "del ",
     "library": "var_list.py",
     "varRefreshCmd": "print(var_dic_list())"
    },
    "r": {
     "delete_cmd_postfix": ") ",
     "delete_cmd_prefix": "rm(",
     "library": "var_list.r",
     "varRefreshCmd": "cat(var_dic_list()) "
    }
   },
   "types_to_exclude": [
    "module",
    "function",
    "builtin_function_or_method",
    "instance",
    "_Feature"
   ],
   "window_display": false
  }
 },
 "nbformat": 4,
 "nbformat_minor": 2
}
