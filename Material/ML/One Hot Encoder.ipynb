{
 "cells": [
  {
   "cell_type": "markdown",
   "id": "da40fc12",
   "metadata": {},
   "source": [
    "# One Hot Encoder using Panda"
   ]
  },
  {
   "cell_type": "code",
   "execution_count": null,
   "id": "afb05c7b",
   "metadata": {},
   "outputs": [],
   "source": [
    "import pandas as pd\n",
    "s = pd.Series (list ('abca'))\n",
    "print ( pd.get_dummies (s))"
   ]
  },
  {
   "cell_type": "code",
   "execution_count": null,
   "id": "78cecc1d",
   "metadata": {},
   "outputs": [],
   "source": [
    "import pandas as pd\n",
    "print (pd.get_dummies (pd.Series (list('abc')), dtype=float))"
   ]
  },
  {
   "cell_type": "code",
   "execution_count": null,
   "id": "c9bae75d",
   "metadata": {},
   "outputs": [],
   "source": [
    "import pandas as pd\n",
    "print(pd.get_dummies(pd.Series(list('abcaa')),drop_first=True))"
   ]
  },
  {
   "cell_type": "code",
   "execution_count": null,
   "id": "002984fc",
   "metadata": {},
   "outputs": [],
   "source": [
    "import pandas as pd\n",
    "import numpy as np\n",
    "s1 = ['a', 'b', np.nan]\n",
    "print (pd.get_dummies (s1))\n",
    "print ( pd.get_dummies (s1, dummy_na=True))"
   ]
  },
  {
   "cell_type": "code",
   "execution_count": null,
   "id": "d558e858",
   "metadata": {},
   "outputs": [],
   "source": [
    "import pandas as pd\n",
    "df = pd.DataFrame ({'A': ['a', 'b', 'a'],'B': ['b','a', 'c'],'C': [1, 2, 3]})\n",
    "print(df)\n",
    "print (\"\\n\", pd.get_dummies (df, prefix=[' col1','col2']))"
   ]
  },
  {
   "cell_type": "code",
   "execution_count": null,
   "id": "9be03c4a",
   "metadata": {},
   "outputs": [],
   "source": [
    "import pandas as pd\n",
    "import numpy as np\n",
    "A = np. linspace (2.0, 10.0, num=3)\n",
    "b = ['dog', 'cat', 'bird']\n",
    "d = {'numeric': A, 'categorical': B}\n",
    "df = pd. DataFrame (d)\n",
    "print (\"Data Farme is : \\n\", df)\n",
    "df ['categorical'] = pd.Categorical (df['categorical'])\n",
    "dfDummies = pd.get_dummies(df[' categorical'], prefix = 'category')\n",
    "df = pd. concat ([df, dfDummies], axis=1)\n",
    "print (\"\\nAfter Encoding , Data Farme is : \\n\", df)"
   ]
  },
  {
   "cell_type": "code",
   "execution_count": null,
   "id": "b150d60d",
   "metadata": {},
   "outputs": [],
   "source": [
    "import pandas as pd\n",
    "import numpy as np\n",
    "A = np. linspace (2.0, 10.0, num=3)\n",
    "B = ['dog', 'cat', 'bird']\n",
    "d = {'numeric': A, 'categorical': B}\n",
    "df = pd. DataFrame (d)\n",
    "print (\"Data Farme is : \\n\", df)\n",
    "df ['categorical'] = pd.Categorical (df['categorical'])\n",
    "dfDummies = pd.get_dummies(df[' categorical'], prefix = 'category')\n",
    "df = pd. concat ([df, dfDummies], axis=1)\n",
    "print (\"\\nAfter Encoding , Data Farme is : \\n\", df)"
   ]
  },
  {
   "cell_type": "markdown",
   "id": "2d8fc666",
   "metadata": {},
   "source": [
    "# One Hot Encoder using sklearn"
   ]
  },
  {
   "cell_type": "code",
   "execution_count": null,
   "id": "a0cfc629",
   "metadata": {},
   "outputs": [],
   "source": [
    "from numpy import array\n",
    "from sklearn.preprocessing import LabelEncoder\n",
    "from sklearn.preprocessing import OneHotEncoder\n",
    "# define example\n",
    "data = ['cold','cold','warm','warm','cold','cold', 'hot', 'hot','warm','hot']\n",
    "values = array (data)\n",
    "print (values)\n",
    "# integer encode\n",
    "label_encoder = LabelEncoder ()\n",
    "integer_encoded = label_encoder.fit_transform(values)\n",
    "print (integer_encoded)\n",
    "# binary encode\n",
    "onehot_encoder = OneHotEncoder (sparse=False)\n",
    "integer_encoded = integer_encoded. reshape(len (integer_encoded), 1)\n",
    "onehot_encoded = onehot_encoder.fit_transform(integer_encoded)\n",
    "print (onehot_encoded)"
   ]
  },
  {
   "cell_type": "code",
   "execution_count": null,
   "id": "5d4ab489",
   "metadata": {},
   "outputs": [],
   "source": [
    "import pandas as pd\n",
    "from sklearn.preprocessing import Labelencoder, OneHotEncoder\n",
    "dataset = pd.read_csv('Churn_Modelling.csv')\n",
    "X = dataset.iloc[:, 3:13].values\n",
    "y = dataset.iloc[:, 13]. values\n",
    "labelencoder_X_1 = LabelEncoder ()\n",
    "X[:, 1] = labelencoder_X_1.fit_transform(X[:, 1])\n",
    "labelencoder_X_2 = LabelEncoder ()\n",
    "X[:, 2] = labelencoder_X_2.fit_transform(X[:, 2])\n",
    "onehotencoder = OneHotEncoder (categorical_features = [1])\n",
    "X = onehotencoder. fit_transform(X) . toarray()\n",
    "X = X[:, 1:]"
   ]
  },
  {
   "cell_type": "markdown",
   "id": "482b1711",
   "metadata": {},
   "source": [
    "# One Hot Encoder using Keras"
   ]
  },
  {
   "cell_type": "code",
   "execution_count": null,
   "id": "5435a7be",
   "metadata": {},
   "outputs": [],
   "source": [
    "from numpy import array\n",
    "from numpy import argmax\n",
    "from keras.utils import to_ categorical\n",
    "# define example\n",
    "data = [1, 3, 2, 0, 3, 2, 2, 1, 0, 1]\n",
    "data = array (data)\n",
    "print(data)\n",
    "# one hot encode\n",
    "encoded = to_categorical (data)\n",
    "print (encoded)\n",
    "# invert encoding\n",
    "inverted = argmax(ancoded[0])\n",
    "print(inverted)"
   ]
  },
  {
   "cell_type": "markdown",
   "id": "210dd2f3",
   "metadata": {},
   "source": [
    "# Refrences: \n",
    "\n",
    "https://pandas.pydata.org/pandas-docs/stable/reference/api/pandas.get_dummies.html\n",
    "\n",
    "https://machinelearningmastery.com/how-to-one-hot-encode-sequence-data-in-python/\n",
    "\n",
    "http://www.insightsbot.com/blog/zuVu/python-one-hot-encoding-with-pandas-made-simple\n",
    "\n",
    "https://towardsdatascience.com/building-your-own-artificial-neural-network-from-scratch-on-churn-modeling-dataset-using-keras-in-690782f7d051\n"
   ]
  },
  {
   "cell_type": "code",
   "execution_count": null,
   "id": "6edee9e1",
   "metadata": {},
   "outputs": [],
   "source": []
  }
 ],
 "metadata": {
  "kernelspec": {
   "display_name": "Python 3 (ipykernel)",
   "language": "python",
   "name": "python3"
  },
  "language_info": {
   "codemirror_mode": {
    "name": "ipython",
    "version": 3
   },
   "file_extension": ".py",
   "mimetype": "text/x-python",
   "name": "python",
   "nbconvert_exporter": "python",
   "pygments_lexer": "ipython3",
   "version": "3.9.12"
  },
  "toc": {
   "base_numbering": 1,
   "nav_menu": {},
   "number_sections": true,
   "sideBar": true,
   "skip_h1_title": false,
   "title_cell": "Table of Contents",
   "title_sidebar": "Contents",
   "toc_cell": false,
   "toc_position": {},
   "toc_section_display": true,
   "toc_window_display": false
  },
  "varInspector": {
   "cols": {
    "lenName": 16,
    "lenType": 16,
    "lenVar": 40
   },
   "kernels_config": {
    "python": {
     "delete_cmd_postfix": "",
     "delete_cmd_prefix": "del ",
     "library": "var_list.py",
     "varRefreshCmd": "print(var_dic_list())"
    },
    "r": {
     "delete_cmd_postfix": ") ",
     "delete_cmd_prefix": "rm(",
     "library": "var_list.r",
     "varRefreshCmd": "cat(var_dic_list()) "
    }
   },
   "types_to_exclude": [
    "module",
    "function",
    "builtin_function_or_method",
    "instance",
    "_Feature"
   ],
   "window_display": false
  }
 },
 "nbformat": 4,
 "nbformat_minor": 5
}
