{
 "cells": [
  {
   "cell_type": "code",
   "execution_count": 1,
   "id": "fdc05ce9",
   "metadata": {},
   "outputs": [],
   "source": [
    "# import all important libs\n",
    "import requests\n",
    "from bs4 import BeautifulSoup\n",
    "from itertools import zip_longest\n",
    "import csv"
   ]
  },
  {
   "cell_type": "code",
   "execution_count": 22,
   "id": "35141dd7",
   "metadata": {},
   "outputs": [],
   "source": [
    "# 2nd step use requests to fetch the url\n",
    "result = requests.get('https://books.toscrape.com/?')\n",
    "\n",
    "# 3rd step save content page\n",
    "src = result.content"
   ]
  },
  {
   "cell_type": "code",
   "execution_count": 23,
   "id": "108dcdde",
   "metadata": {},
   "outputs": [],
   "source": [
    "#create object and using html parser\n",
    "soup = BeautifulSoup(src, 'lxml')"
   ]
  },
  {
   "cell_type": "code",
   "execution_count": 19,
   "id": "d625d9b9",
   "metadata": {},
   "outputs": [
    {
     "data": {
      "text/plain": [
       "'<!DOCTYPE html>\\n<!--[if lt IE 7]>      <html lang=\"en-us\" class=\"no-js lt-ie9 lt-ie8 lt-ie7\"> <![endif]-->\\n<!--[if IE 7]>         <html lang=\"en-us\" class=\"no-js lt-ie9 lt-ie8\"> <![endif]-->\\n<!--[if IE 8]>         <html lang=\"en-us\" class=\"no-js lt-ie9\"> <![endif]-->\\n<!--[if gt IE 8]><!-->\\n<html class=\"no-js\" lang=\"en-us\">\\n <!--<![endif]-->\\n <head>\\n  <title>\\n   A Light in the Attic | Books to Scrape - Sandbox\\n  </title>\\n  <meta content=\"text/html; charset=utf-8\" http-equiv=\"content-type\"/>\\n  <meta content=\"24th Jun 2016 09:29\" name=\"created\"/>\\n  <meta content=\"\\n    It\\'s hard to imagine a world without A Light in the Attic. This now-classic collection of poetry and drawings from Shel Silverstein celebrates its 20th anniversary with this special edition. Silverstein\\'s humorous and creative verse can amuse the dowdiest of readers. Lemon-faced adults and fidgety kids sit still and read these rhythmic words and laugh and smile and love th It\\'s hard to imagine a world without A Light in the Attic. This now-classic collection of poetry and drawings from Shel Silverstein celebrates its 20th anniversary with this special edition. Silverstein\\'s humorous and creative verse can amuse the dowdiest of readers. Lemon-faced adults and fidgety kids sit still and read these rhythmic words and laugh and smile and love that Silverstein. Need proof of his genius? RockabyeRockabye baby, in the treetopDon\\'t you know a treetopIs no safe place to rock?And who put you up there,And your cradle, too?Baby, I think someone down here\\'sGot it in for you. Shel, you never sounded so good. ...more\\n\" name=\"description\"/>\\n  <meta content=\"width=device-width\" name=\"viewport\"/>\\n  <meta content=\"NOARCHIVE,NOCACHE\" name=\"robots\"/>\\n  <!-- Le HTML5 shim, for IE6-8 support of HTML elements -->\\n  <!--[if lt IE 9]>\\n        <script src=\"//html5shim.googlecode.com/svn/trunk/html5.js\"></script>\\n        <![endif]-->\\n  <link href=\"../../static/oscar/favicon.ico\" rel=\"shortcut icon\"/>\\n  <link href=\"../../static/oscar/css/styles.css\" rel=\"stylesheet\" type=\"text/css\"/>\\n  <link href=\"../../static/oscar/js/bootstrap-datetimepicker/bootstrap-datetimepicker.css\" rel=\"stylesheet\"/>\\n  <link href=\"../../static/oscar/css/datetimepicker.css\" rel=\"stylesheet\" type=\"text/css\"/>\\n </head>\\n <body class=\"default\" id=\"default\">\\n  <header class=\"header container-fluid\">\\n   <div class=\"page_inner\">\\n    <div class=\"row\">\\n     <div class=\"col-sm-8 h1\">\\n      <a href=\"../../index.html\">\\n       Books to Scrape\\n      </a>\\n      <small>\\n       We love being scraped!\\n      </small>\\n     </div>\\n    </div>\\n   </div>\\n  </header>\\n  <div class=\"container-fluid page\">\\n   <div class=\"page_inner\">\\n    <ul class=\"breadcrumb\">\\n     <li>\\n      <a href=\"../../index.html\">\\n       Home\\n      </a>\\n     </li>\\n     <li>\\n      <a href=\"../category/books_1/index.html\">\\n       Books\\n      </a>\\n     </li>\\n     <li>\\n      <a href=\"../category/books/poetry_23/index.html\">\\n       Poetry\\n      </a>\\n     </li>\\n     <li class=\"active\">\\n      A Light in the Attic\\n     </li>\\n    </ul>\\n    <div id=\"messages\">\\n    </div>\\n    <div class=\"content\">\\n     <div id=\"promotions\">\\n     </div>\\n     <div id=\"content_inner\">\\n      <article class=\"product_page\">\\n       <!-- Start of product page -->\\n       <div class=\"row\">\\n        <div class=\"col-sm-6\">\\n         <div class=\"carousel\" id=\"product_gallery\">\\n          <div class=\"thumbnail\">\\n           <div class=\"carousel-inner\">\\n            <div class=\"item active\">\\n             <img alt=\"A Light in the Attic\" src=\"../../media/cache/fe/72/fe72f0532301ec28892ae79a629a293c.jpg\"/>\\n            </div>\\n           </div>\\n          </div>\\n         </div>\\n        </div>\\n        <div class=\"col-sm-6 product_main\">\\n         <h1>\\n          A Light in the Attic\\n         </h1>\\n         <p class=\"price_color\">\\n          £51.77\\n         </p>\\n         <p class=\"instock availability\">\\n          <i class=\"icon-ok\">\\n          </i>\\n          In stock (22 available)\\n         </p>\\n         <p class=\"star-rating Three\">\\n          <i class=\"icon-star\">\\n          </i>\\n          <i class=\"icon-star\">\\n          </i>\\n          <i class=\"icon-star\">\\n          </i>\\n          <i class=\"icon-star\">\\n          </i>\\n          <i class=\"icon-star\">\\n          </i>\\n          <!-- <small><a href=\"/catalogue/a-light-in-the-attic_1000/reviews/\">\\n        \\n                \\n                    0 customer reviews\\n                \\n        </a></small>\\n         -->\\n          <!-- \\n    <a id=\"write_review\" href=\"/catalogue/a-light-in-the-attic_1000/reviews/add/#addreview\" class=\"btn btn-success btn-sm\">\\n        Write a review\\n    </a>\\n\\n -->\\n         </p>\\n         <hr/>\\n         <div class=\"alert alert-warning\" role=\"alert\">\\n          <strong>\\n           Warning!\\n          </strong>\\n          This is a demo website for web scraping purposes. Prices and ratings here were randomly assigned and have no real meaning.\\n         </div>\\n        </div>\\n        <!-- /col-sm-6 -->\\n       </div>\\n       <!-- /row -->\\n       <div class=\"sub-header\" id=\"product_description\">\\n        <h2>\\n         Product Description\\n        </h2>\\n       </div>\\n       <p>\\n        It\\'s hard to imagine a world without A Light in the Attic. This now-classic collection of poetry and drawings from Shel Silverstein celebrates its 20th anniversary with this special edition. Silverstein\\'s humorous and creative verse can amuse the dowdiest of readers. Lemon-faced adults and fidgety kids sit still and read these rhythmic words and laugh and smile and love th It\\'s hard to imagine a world without A Light in the Attic. This now-classic collection of poetry and drawings from Shel Silverstein celebrates its 20th anniversary with this special edition. Silverstein\\'s humorous and creative verse can amuse the dowdiest of readers. Lemon-faced adults and fidgety kids sit still and read these rhythmic words and laugh and smile and love that Silverstein. Need proof of his genius? RockabyeRockabye baby, in the treetopDon\\'t you know a treetopIs no safe place to rock?And who put you up there,And your cradle, too?Baby, I think someone down here\\'sGot it in for you. Shel, you never sounded so good. ...more\\n       </p>\\n       <div class=\"sub-header\">\\n        <h2>\\n         Product Information\\n        </h2>\\n       </div>\\n       <table class=\"table table-striped\">\\n        <tr>\\n         <th>\\n          UPC\\n         </th>\\n         <td>\\n          a897fe39b1053632\\n         </td>\\n        </tr>\\n        <tr>\\n         <th>\\n          Product Type\\n         </th>\\n         <td>\\n          Books\\n         </td>\\n        </tr>\\n        <tr>\\n         <th>\\n          Price (excl. tax)\\n         </th>\\n         <td>\\n          £51.77\\n         </td>\\n        </tr>\\n        <tr>\\n         <th>\\n          Price (incl. tax)\\n         </th>\\n         <td>\\n          £51.77\\n         </td>\\n        </tr>\\n        <tr>\\n         <th>\\n          Tax\\n         </th>\\n         <td>\\n          £0.00\\n         </td>\\n        </tr>\\n        <tr>\\n         <th>\\n          Availability\\n         </th>\\n         <td>\\n          In stock (22 available)\\n         </td>\\n        </tr>\\n        <tr>\\n         <th>\\n          Number of reviews\\n         </th>\\n         <td>\\n          0\\n         </td>\\n        </tr>\\n       </table>\\n       <section>\\n        <div class=\"sub-header\" id=\"reviews\">\\n        </div>\\n       </section>\\n      </article>\\n      <!-- End of product page -->\\n     </div>\\n    </div>\\n   </div>\\n  </div>\\n  <footer class=\"footer container-fluid\">\\n  </footer>\\n  <!-- jQuery -->\\n  <script src=\"http://ajax.googleapis.com/ajax/libs/jquery/1.9.1/jquery.min.js\">\\n  </script>\\n  <script>\\n   window.jQuery || document.write(\\'<script src=\"../../static/oscar/js/jquery/jquery-1.9.1.min.js\"><\\\\/script>\\')\\n  </script>\\n  <!-- Twitter Bootstrap -->\\n  <script src=\"../../static/oscar/js/bootstrap3/bootstrap.min.js\" type=\"text/javascript\">\\n  </script>\\n  <!-- Oscar -->\\n  <script charset=\"utf-8\" src=\"../../static/oscar/js/oscar/ui.js\" type=\"text/javascript\">\\n  </script>\\n  <script charset=\"utf-8\" src=\"../../static/oscar/js/bootstrap-datetimepicker/bootstrap-datetimepicker.js\" type=\"text/javascript\">\\n  </script>\\n  <script charset=\"utf-8\" src=\"../../static/oscar/js/bootstrap-datetimepicker/locales/bootstrap-datetimepicker.all.js\" type=\"text/javascript\">\\n  </script>\\n  <script type=\"text/javascript\">\\n   $(function() {\\n                \\n    \\n    oscar.init();\\n\\n            });\\n  </script>\\n  <!-- Version: N/A -->\\n </body>\\n</html>\\n'"
      ]
     },
     "execution_count": 19,
     "metadata": {},
     "output_type": "execute_result"
    }
   ],
   "source": [
    "#print html code\n",
    "soup.prettify()"
   ]
  },
  {
   "cell_type": "code",
   "execution_count": 24,
   "id": "580fc785",
   "metadata": {},
   "outputs": [],
   "source": [
    "# 5th step find the elements containing info we need book titles,\n",
    "books_title = soup.find_all(\"h3\")"
   ]
  },
  {
   "cell_type": "code",
   "execution_count": 25,
   "id": "3f8180ca",
   "metadata": {},
   "outputs": [
    {
     "data": {
      "text/plain": [
       "[<h3><a href=\"catalogue/a-light-in-the-attic_1000/index.html\" title=\"A Light in the Attic\">A Light in the ...</a></h3>,\n",
       " <h3><a href=\"catalogue/tipping-the-velvet_999/index.html\" title=\"Tipping the Velvet\">Tipping the Velvet</a></h3>,\n",
       " <h3><a href=\"catalogue/soumission_998/index.html\" title=\"Soumission\">Soumission</a></h3>,\n",
       " <h3><a href=\"catalogue/sharp-objects_997/index.html\" title=\"Sharp Objects\">Sharp Objects</a></h3>,\n",
       " <h3><a href=\"catalogue/sapiens-a-brief-history-of-humankind_996/index.html\" title=\"Sapiens: A Brief History of Humankind\">Sapiens: A Brief History ...</a></h3>,\n",
       " <h3><a href=\"catalogue/the-requiem-red_995/index.html\" title=\"The Requiem Red\">The Requiem Red</a></h3>,\n",
       " <h3><a href=\"catalogue/the-dirty-little-secrets-of-getting-your-dream-job_994/index.html\" title=\"The Dirty Little Secrets of Getting Your Dream Job\">The Dirty Little Secrets ...</a></h3>,\n",
       " <h3><a href=\"catalogue/the-coming-woman-a-novel-based-on-the-life-of-the-infamous-feminist-victoria-woodhull_993/index.html\" title=\"The Coming Woman: A Novel Based on the Life of the Infamous Feminist, Victoria Woodhull\">The Coming Woman: A ...</a></h3>,\n",
       " <h3><a href=\"catalogue/the-boys-in-the-boat-nine-americans-and-their-epic-quest-for-gold-at-the-1936-berlin-olympics_992/index.html\" title=\"The Boys in the Boat: Nine Americans and Their Epic Quest for Gold at the 1936 Berlin Olympics\">The Boys in the ...</a></h3>,\n",
       " <h3><a href=\"catalogue/the-black-maria_991/index.html\" title=\"The Black Maria\">The Black Maria</a></h3>,\n",
       " <h3><a href=\"catalogue/starving-hearts-triangular-trade-trilogy-1_990/index.html\" title=\"Starving Hearts (Triangular Trade Trilogy, #1)\">Starving Hearts (Triangular Trade ...</a></h3>,\n",
       " <h3><a href=\"catalogue/shakespeares-sonnets_989/index.html\" title=\"Shakespeare's Sonnets\">Shakespeare's Sonnets</a></h3>,\n",
       " <h3><a href=\"catalogue/set-me-free_988/index.html\" title=\"Set Me Free\">Set Me Free</a></h3>,\n",
       " <h3><a href=\"catalogue/scott-pilgrims-precious-little-life-scott-pilgrim-1_987/index.html\" title=\"Scott Pilgrim's Precious Little Life (Scott Pilgrim #1)\">Scott Pilgrim's Precious Little ...</a></h3>,\n",
       " <h3><a href=\"catalogue/rip-it-up-and-start-again_986/index.html\" title=\"Rip it Up and Start Again\">Rip it Up and ...</a></h3>,\n",
       " <h3><a href=\"catalogue/our-band-could-be-your-life-scenes-from-the-american-indie-underground-1981-1991_985/index.html\" title=\"Our Band Could Be Your Life: Scenes from the American Indie Underground, 1981-1991\">Our Band Could Be ...</a></h3>,\n",
       " <h3><a href=\"catalogue/olio_984/index.html\" title=\"Olio\">Olio</a></h3>,\n",
       " <h3><a href=\"catalogue/mesaerion-the-best-science-fiction-stories-1800-1849_983/index.html\" title=\"Mesaerion: The Best Science Fiction Stories 1800-1849\">Mesaerion: The Best Science ...</a></h3>,\n",
       " <h3><a href=\"catalogue/libertarianism-for-beginners_982/index.html\" title=\"Libertarianism for Beginners\">Libertarianism for Beginners</a></h3>,\n",
       " <h3><a href=\"catalogue/its-only-the-himalayas_981/index.html\" title=\"It's Only the Himalayas\">It's Only the Himalayas</a></h3>]"
      ]
     },
     "execution_count": 25,
     "metadata": {},
     "output_type": "execute_result"
    }
   ],
   "source": [
    "books_title"
   ]
  },
  {
   "cell_type": "code",
   "execution_count": 26,
   "id": "1e7f044c",
   "metadata": {},
   "outputs": [],
   "source": [
    "# create two lists one to titles and second two links\n",
    "links=[]\n",
    "titles = []\n",
    "for i in range(len(books_title)):\n",
    "    titles.append(books_title[i].find('a').attrs['title'])\n",
    "    links.append(books_title[i].find('a').attrs['href'])\n",
    "    "
   ]
  },
  {
   "cell_type": "code",
   "execution_count": 28,
   "id": "144188b0",
   "metadata": {},
   "outputs": [
    {
     "data": {
      "text/plain": [
       "['A Light in the Attic',\n",
       " 'Tipping the Velvet',\n",
       " 'Soumission',\n",
       " 'Sharp Objects',\n",
       " 'Sapiens: A Brief History of Humankind',\n",
       " 'The Requiem Red',\n",
       " 'The Dirty Little Secrets of Getting Your Dream Job',\n",
       " 'The Coming Woman: A Novel Based on the Life of the Infamous Feminist, Victoria Woodhull',\n",
       " 'The Boys in the Boat: Nine Americans and Their Epic Quest for Gold at the 1936 Berlin Olympics',\n",
       " 'The Black Maria',\n",
       " 'Starving Hearts (Triangular Trade Trilogy, #1)',\n",
       " \"Shakespeare's Sonnets\",\n",
       " 'Set Me Free',\n",
       " \"Scott Pilgrim's Precious Little Life (Scott Pilgrim #1)\",\n",
       " 'Rip it Up and Start Again',\n",
       " 'Our Band Could Be Your Life: Scenes from the American Indie Underground, 1981-1991',\n",
       " 'Olio',\n",
       " 'Mesaerion: The Best Science Fiction Stories 1800-1849',\n",
       " 'Libertarianism for Beginners',\n",
       " \"It's Only the Himalayas\"]"
      ]
     },
     "execution_count": 28,
     "metadata": {},
     "output_type": "execute_result"
    }
   ],
   "source": [
    "titles"
   ]
  },
  {
   "cell_type": "code",
   "execution_count": 27,
   "id": "ea98ee55",
   "metadata": {},
   "outputs": [
    {
     "data": {
      "text/plain": [
       "['catalogue/a-light-in-the-attic_1000/index.html',\n",
       " 'catalogue/tipping-the-velvet_999/index.html',\n",
       " 'catalogue/soumission_998/index.html',\n",
       " 'catalogue/sharp-objects_997/index.html',\n",
       " 'catalogue/sapiens-a-brief-history-of-humankind_996/index.html',\n",
       " 'catalogue/the-requiem-red_995/index.html',\n",
       " 'catalogue/the-dirty-little-secrets-of-getting-your-dream-job_994/index.html',\n",
       " 'catalogue/the-coming-woman-a-novel-based-on-the-life-of-the-infamous-feminist-victoria-woodhull_993/index.html',\n",
       " 'catalogue/the-boys-in-the-boat-nine-americans-and-their-epic-quest-for-gold-at-the-1936-berlin-olympics_992/index.html',\n",
       " 'catalogue/the-black-maria_991/index.html',\n",
       " 'catalogue/starving-hearts-triangular-trade-trilogy-1_990/index.html',\n",
       " 'catalogue/shakespeares-sonnets_989/index.html',\n",
       " 'catalogue/set-me-free_988/index.html',\n",
       " 'catalogue/scott-pilgrims-precious-little-life-scott-pilgrim-1_987/index.html',\n",
       " 'catalogue/rip-it-up-and-start-again_986/index.html',\n",
       " 'catalogue/our-band-could-be-your-life-scenes-from-the-american-indie-underground-1981-1991_985/index.html',\n",
       " 'catalogue/olio_984/index.html',\n",
       " 'catalogue/mesaerion-the-best-science-fiction-stories-1800-1849_983/index.html',\n",
       " 'catalogue/libertarianism-for-beginners_982/index.html',\n",
       " 'catalogue/its-only-the-himalayas_981/index.html']"
      ]
     },
     "execution_count": 27,
     "metadata": {},
     "output_type": "execute_result"
    }
   ],
   "source": [
    "links"
   ]
  },
  {
   "cell_type": "code",
   "execution_count": 29,
   "id": "e8956c42",
   "metadata": {},
   "outputs": [],
   "source": [
    "# getting all prices\n",
    "prices = soup.find_all('p', {\"class\":\"price_color\"})"
   ]
  },
  {
   "cell_type": "code",
   "execution_count": 30,
   "id": "a5828719",
   "metadata": {},
   "outputs": [
    {
     "data": {
      "text/plain": [
       "[<p class=\"price_color\">£51.77</p>,\n",
       " <p class=\"price_color\">£53.74</p>,\n",
       " <p class=\"price_color\">£50.10</p>,\n",
       " <p class=\"price_color\">£47.82</p>,\n",
       " <p class=\"price_color\">£54.23</p>,\n",
       " <p class=\"price_color\">£22.65</p>,\n",
       " <p class=\"price_color\">£33.34</p>,\n",
       " <p class=\"price_color\">£17.93</p>,\n",
       " <p class=\"price_color\">£22.60</p>,\n",
       " <p class=\"price_color\">£52.15</p>,\n",
       " <p class=\"price_color\">£13.99</p>,\n",
       " <p class=\"price_color\">£20.66</p>,\n",
       " <p class=\"price_color\">£17.46</p>,\n",
       " <p class=\"price_color\">£52.29</p>,\n",
       " <p class=\"price_color\">£35.02</p>,\n",
       " <p class=\"price_color\">£57.25</p>,\n",
       " <p class=\"price_color\">£23.88</p>,\n",
       " <p class=\"price_color\">£37.59</p>,\n",
       " <p class=\"price_color\">£51.33</p>,\n",
       " <p class=\"price_color\">£45.17</p>]"
      ]
     },
     "execution_count": 30,
     "metadata": {},
     "output_type": "execute_result"
    }
   ],
   "source": [
    "prices"
   ]
  },
  {
   "cell_type": "code",
   "execution_count": 31,
   "id": "21b5abf3",
   "metadata": {},
   "outputs": [],
   "source": [
    "#create a list of book prices\n",
    "book_price = []\n",
    "for i in range(len(prices)):\n",
    "    book_price.append(prices[i].text)"
   ]
  },
  {
   "cell_type": "code",
   "execution_count": 32,
   "id": "452969dc",
   "metadata": {},
   "outputs": [
    {
     "data": {
      "text/plain": [
       "['£51.77',\n",
       " '£53.74',\n",
       " '£50.10',\n",
       " '£47.82',\n",
       " '£54.23',\n",
       " '£22.65',\n",
       " '£33.34',\n",
       " '£17.93',\n",
       " '£22.60',\n",
       " '£52.15',\n",
       " '£13.99',\n",
       " '£20.66',\n",
       " '£17.46',\n",
       " '£52.29',\n",
       " '£35.02',\n",
       " '£57.25',\n",
       " '£23.88',\n",
       " '£37.59',\n",
       " '£51.33',\n",
       " '£45.17']"
      ]
     },
     "execution_count": 32,
     "metadata": {},
     "output_type": "execute_result"
    }
   ],
   "source": [
    "book_price"
   ]
  },
  {
   "cell_type": "code",
   "execution_count": 33,
   "id": "14ee8562",
   "metadata": {},
   "outputs": [],
   "source": [
    "#create a list to check it is in stock\n",
    "availbility = []\n",
    "avail =[] \n",
    "book_available =soup.find_all('p', {'class':'instock availability'})\n",
    "for i in range(len(book_available)):\n",
    "    availbility.append(book_available[i].text)\n",
    "    avail.append(availbility[i][15:23])"
   ]
  },
  {
   "cell_type": "code",
   "execution_count": 39,
   "id": "1ab3cbcf",
   "metadata": {},
   "outputs": [
    {
     "data": {
      "text/plain": [
       "'In stock'"
      ]
     },
     "execution_count": 39,
     "metadata": {},
     "output_type": "execute_result"
    }
   ],
   "source": [
    "availbility[0][15:23]"
   ]
  },
  {
   "cell_type": "code",
   "execution_count": 37,
   "id": "e565a75e",
   "metadata": {},
   "outputs": [
    {
     "data": {
      "text/plain": [
       "['In stock',\n",
       " 'In stock',\n",
       " 'In stock',\n",
       " 'In stock',\n",
       " 'In stock',\n",
       " 'In stock',\n",
       " 'In stock',\n",
       " 'In stock',\n",
       " 'In stock',\n",
       " 'In stock',\n",
       " 'In stock',\n",
       " 'In stock',\n",
       " 'In stock',\n",
       " 'In stock',\n",
       " 'In stock',\n",
       " 'In stock',\n",
       " 'In stock',\n",
       " 'In stock',\n",
       " 'In stock',\n",
       " 'In stock']"
      ]
     },
     "execution_count": 37,
     "metadata": {},
     "output_type": "execute_result"
    }
   ],
   "source": [
    "avail"
   ]
  },
  {
   "cell_type": "code",
   "execution_count": 40,
   "id": "33bc767c",
   "metadata": {},
   "outputs": [
    {
     "name": "stdout",
     "output_type": "stream",
     "text": [
      "media/cache/2c/da/2cdad67c44b002e7ead0cc35693c0e8b.jpg\n",
      "media/cache/26/0c/260c6ae16bce31c8f8c95daddd9f4a1c.jpg\n",
      "media/cache/3e/ef/3eef99c9d9adef34639f510662022830.jpg\n",
      "media/cache/32/51/3251cf3a3412f53f339e42cac2134093.jpg\n",
      "media/cache/be/a5/bea5697f2534a2f86a3ef27b5a8c12a6.jpg\n",
      "media/cache/68/33/68339b4c9bc034267e1da611ab3b34f8.jpg\n",
      "media/cache/92/27/92274a95b7c251fea59a2b8a78275ab4.jpg\n",
      "media/cache/3d/54/3d54940e57e662c4dd1f3ff00c78cc64.jpg\n",
      "media/cache/66/88/66883b91f6804b2323c8369331cb7dd1.jpg\n",
      "media/cache/58/46/5846057e28022268153beff6d352b06c.jpg\n",
      "media/cache/be/f4/bef44da28c98f905a3ebec0b87be8530.jpg\n",
      "media/cache/10/48/1048f63d3b5061cd2f424d20b3f9b666.jpg\n",
      "media/cache/5b/88/5b88c52633f53cacf162c15f4f823153.jpg\n",
      "media/cache/94/b1/94b1b8b244bce9677c2f29ccc890d4d2.jpg\n",
      "media/cache/81/c4/81c4a973364e17d01f217e1188253d5e.jpg\n",
      "media/cache/54/60/54607fe8945897cdcced0044103b10b6.jpg\n",
      "media/cache/55/33/553310a7162dfbc2c6d19a84da0df9e1.jpg\n",
      "media/cache/09/a3/09a3aef48557576e1a85ba7efea8ecb7.jpg\n",
      "media/cache/0b/bc/0bbcd0a6f4bcd81ccb1049a52736406e.jpg\n",
      "media/cache/27/a5/27a53d0bb95bdd88288eaf66c9230d7e.jpg\n"
     ]
    }
   ],
   "source": [
    "# getting all image\n",
    "images = soup.find_all('img')\n",
    "\n",
    "for item in images:\n",
    "    print(item['src'])\n"
   ]
  },
  {
   "cell_type": "code",
   "execution_count": 41,
   "id": "909674f9",
   "metadata": {},
   "outputs": [
    {
     "data": {
      "text/plain": [
       "[<img alt=\"A Light in the Attic\" class=\"thumbnail\" src=\"media/cache/2c/da/2cdad67c44b002e7ead0cc35693c0e8b.jpg\"/>,\n",
       " <img alt=\"Tipping the Velvet\" class=\"thumbnail\" src=\"media/cache/26/0c/260c6ae16bce31c8f8c95daddd9f4a1c.jpg\"/>,\n",
       " <img alt=\"Soumission\" class=\"thumbnail\" src=\"media/cache/3e/ef/3eef99c9d9adef34639f510662022830.jpg\"/>,\n",
       " <img alt=\"Sharp Objects\" class=\"thumbnail\" src=\"media/cache/32/51/3251cf3a3412f53f339e42cac2134093.jpg\"/>,\n",
       " <img alt=\"Sapiens: A Brief History of Humankind\" class=\"thumbnail\" src=\"media/cache/be/a5/bea5697f2534a2f86a3ef27b5a8c12a6.jpg\"/>,\n",
       " <img alt=\"The Requiem Red\" class=\"thumbnail\" src=\"media/cache/68/33/68339b4c9bc034267e1da611ab3b34f8.jpg\"/>,\n",
       " <img alt=\"The Dirty Little Secrets of Getting Your Dream Job\" class=\"thumbnail\" src=\"media/cache/92/27/92274a95b7c251fea59a2b8a78275ab4.jpg\"/>,\n",
       " <img alt=\"The Coming Woman: A Novel Based on the Life of the Infamous Feminist, Victoria Woodhull\" class=\"thumbnail\" src=\"media/cache/3d/54/3d54940e57e662c4dd1f3ff00c78cc64.jpg\"/>,\n",
       " <img alt=\"The Boys in the Boat: Nine Americans and Their Epic Quest for Gold at the 1936 Berlin Olympics\" class=\"thumbnail\" src=\"media/cache/66/88/66883b91f6804b2323c8369331cb7dd1.jpg\"/>,\n",
       " <img alt=\"The Black Maria\" class=\"thumbnail\" src=\"media/cache/58/46/5846057e28022268153beff6d352b06c.jpg\"/>,\n",
       " <img alt=\"Starving Hearts (Triangular Trade Trilogy, #1)\" class=\"thumbnail\" src=\"media/cache/be/f4/bef44da28c98f905a3ebec0b87be8530.jpg\"/>,\n",
       " <img alt=\"Shakespeare's Sonnets\" class=\"thumbnail\" src=\"media/cache/10/48/1048f63d3b5061cd2f424d20b3f9b666.jpg\"/>,\n",
       " <img alt=\"Set Me Free\" class=\"thumbnail\" src=\"media/cache/5b/88/5b88c52633f53cacf162c15f4f823153.jpg\"/>,\n",
       " <img alt=\"Scott Pilgrim's Precious Little Life (Scott Pilgrim #1)\" class=\"thumbnail\" src=\"media/cache/94/b1/94b1b8b244bce9677c2f29ccc890d4d2.jpg\"/>,\n",
       " <img alt=\"Rip it Up and Start Again\" class=\"thumbnail\" src=\"media/cache/81/c4/81c4a973364e17d01f217e1188253d5e.jpg\"/>,\n",
       " <img alt=\"Our Band Could Be Your Life: Scenes from the American Indie Underground, 1981-1991\" class=\"thumbnail\" src=\"media/cache/54/60/54607fe8945897cdcced0044103b10b6.jpg\"/>,\n",
       " <img alt=\"Olio\" class=\"thumbnail\" src=\"media/cache/55/33/553310a7162dfbc2c6d19a84da0df9e1.jpg\"/>,\n",
       " <img alt=\"Mesaerion: The Best Science Fiction Stories 1800-1849\" class=\"thumbnail\" src=\"media/cache/09/a3/09a3aef48557576e1a85ba7efea8ecb7.jpg\"/>,\n",
       " <img alt=\"Libertarianism for Beginners\" class=\"thumbnail\" src=\"media/cache/0b/bc/0bbcd0a6f4bcd81ccb1049a52736406e.jpg\"/>,\n",
       " <img alt=\"It's Only the Himalayas\" class=\"thumbnail\" src=\"media/cache/27/a5/27a53d0bb95bdd88288eaf66c9230d7e.jpg\"/>]"
      ]
     },
     "execution_count": 41,
     "metadata": {},
     "output_type": "execute_result"
    }
   ],
   "source": [
    "images"
   ]
  },
  {
   "cell_type": "code",
   "execution_count": 42,
   "id": "9c5c3777",
   "metadata": {},
   "outputs": [],
   "source": [
    "no_reviews =[]\n",
    "price_in_tax = []\n",
    "for link in links:\n",
    "    result = requests.get('https://books.toscrape.com/'+link)\n",
    "    src = result.content\n",
    "    soup2 =BeautifulSoup(src,'lxml')\n",
    "    reviews = soup2.find_all(\"td\")\n",
    "    #print(reviews)\n",
    "    price_in_tax.append(reviews[3].text)\n",
    "    no_reviews.append(reviews[6].text)"
   ]
  },
  {
   "cell_type": "code",
   "execution_count": 52,
   "id": "7158f7e0",
   "metadata": {},
   "outputs": [
    {
     "data": {
      "text/plain": [
       "['0',\n",
       " '0',\n",
       " '0',\n",
       " '0',\n",
       " '0',\n",
       " '0',\n",
       " '0',\n",
       " '0',\n",
       " '0',\n",
       " '0',\n",
       " '0',\n",
       " '0',\n",
       " '0',\n",
       " '0',\n",
       " '0',\n",
       " '0',\n",
       " '0',\n",
       " '0',\n",
       " '0',\n",
       " '0']"
      ]
     },
     "execution_count": 52,
     "metadata": {},
     "output_type": "execute_result"
    }
   ],
   "source": [
    "no_reviews"
   ]
  },
  {
   "cell_type": "code",
   "execution_count": 55,
   "id": "34731bae",
   "metadata": {},
   "outputs": [
    {
     "data": {
      "text/plain": [
       "['£51.77', '£53.74', '£50.10', '£47.82', '£54.23']"
      ]
     },
     "execution_count": 55,
     "metadata": {},
     "output_type": "execute_result"
    }
   ],
   "source": [
    "price_in_tax[:5]"
   ]
  },
  {
   "cell_type": "code",
   "execution_count": 57,
   "id": "c1daa6d0",
   "metadata": {},
   "outputs": [],
   "source": [
    "file = [titles,  book_price, price_in_tax, no_reviews]\n",
    "exposed = zip_longest(*file)\n",
    "with open('/Users/Omnia Hosny/documents/books.csv', 'w') as myfile:\n",
    "    wr= csv.writer(myfile)\n",
    "    wr.writerow(['Book title', 'Book price', 'price in tax', 'Number of Reviews'])\n",
    "    wr.writerows(exposed)"
   ]
  },
  {
   "cell_type": "code",
   "execution_count": null,
   "id": "c1a71dd1",
   "metadata": {},
   "outputs": [],
   "source": []
  },
  {
   "cell_type": "code",
   "execution_count": 44,
   "id": "e665eb74",
   "metadata": {},
   "outputs": [
    {
     "data": {
      "text/plain": [
       "'https://books.toscrape.com/catalogue/a-light-in-the-attic_1000/index.html'"
      ]
     },
     "execution_count": 44,
     "metadata": {},
     "output_type": "execute_result"
    }
   ],
   "source": [
    "'https://books.toscrape.com/'+links[0]"
   ]
  },
  {
   "cell_type": "code",
   "execution_count": 45,
   "id": "c2b59d4d",
   "metadata": {},
   "outputs": [
    {
     "name": "stdout",
     "output_type": "stream",
     "text": [
      "0\n"
     ]
    }
   ],
   "source": [
    "result = requests.get('https://books.toscrape.com/'+links[0])\n",
    "src = result.content\n",
    "soup =BeautifulSoup(src,'lxml')\n",
    "salaries = soup.find_all(\"td\")\n",
    "\n",
    "print(salaries[6].text)\n",
    "#salary.append(salaries.text)"
   ]
  },
  {
   "cell_type": "code",
   "execution_count": 51,
   "id": "5b731758",
   "metadata": {},
   "outputs": [
    {
     "data": {
      "text/plain": [
       "'0'"
      ]
     },
     "execution_count": 51,
     "metadata": {},
     "output_type": "execute_result"
    }
   ],
   "source": [
    "salaries[6].text"
   ]
  },
  {
   "cell_type": "code",
   "execution_count": 58,
   "id": "4e9eb949",
   "metadata": {},
   "outputs": [
    {
     "ename": "NameError",
     "evalue": "name 'counter' is not defined",
     "output_type": "error",
     "traceback": [
      "\u001b[1;31m---------------------------------------------------------------------------\u001b[0m",
      "\u001b[1;31mNameError\u001b[0m                                 Traceback (most recent call last)",
      "Input \u001b[1;32mIn [58]\u001b[0m, in \u001b[0;36m<cell line: 1>\u001b[1;34m()\u001b[0m\n\u001b[0;32m      1\u001b[0m \u001b[38;5;28;01mfor\u001b[39;00m link \u001b[38;5;129;01min\u001b[39;00m links :\n\u001b[1;32m----> 2\u001b[0m     resultLinks \u001b[38;5;241m=\u001b[39m requests\u001b[38;5;241m.\u001b[39mget(\u001b[38;5;124mf\u001b[39m\u001b[38;5;124m\"\u001b[39m\u001b[38;5;124mhttp://imdb.com/title\u001b[39m\u001b[38;5;132;01m{\u001b[39;00mlink\u001b[38;5;132;01m}\u001b[39;00m\u001b[38;5;124m?pf_rd_m=A2FGELUUNOQJNL&pf_rd_p=1a264172-ae11-42e4-8ef7-7fed1973bb8f&pf_rd_r=HN4N8VGH5JXE7E6B57V6&pf_rd_s=center-1&pf_rd_t=15506&pf_rd_i=top&ref_=chttp_tt_\u001b[39m\u001b[38;5;132;01m{\u001b[39;00mcounter\u001b[38;5;132;01m}\u001b[39;00m\u001b[38;5;124m\"\u001b[39m)\n\u001b[0;32m      3\u001b[0m     src2 \u001b[38;5;241m=\u001b[39m resultLinks\u001b[38;5;241m.\u001b[39mcontent\n\u001b[0;32m      4\u001b[0m     soup2 \u001b[38;5;241m=\u001b[39m BeautifulSoup(src2,\u001b[38;5;124m\"\u001b[39m\u001b[38;5;124mlxml\u001b[39m\u001b[38;5;124m\"\u001b[39m)\n",
      "\u001b[1;31mNameError\u001b[0m: name 'counter' is not defined"
     ]
    }
   ],
   "source": [
    "\n"
   ]
  }
 ],
 "metadata": {
  "kernelspec": {
   "display_name": "Python 3 (ipykernel)",
   "language": "python",
   "name": "python3"
  },
  "language_info": {
   "codemirror_mode": {
    "name": "ipython",
    "version": 3
   },
   "file_extension": ".py",
   "mimetype": "text/x-python",
   "name": "python",
   "nbconvert_exporter": "python",
   "pygments_lexer": "ipython3",
   "version": "3.8.8"
  }
 },
 "nbformat": 4,
 "nbformat_minor": 5
}
