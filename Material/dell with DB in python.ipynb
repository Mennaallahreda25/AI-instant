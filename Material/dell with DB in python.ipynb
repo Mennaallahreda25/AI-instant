{
 "cells": [
  {
   "cell_type": "markdown",
   "id": "684ae8a3",
   "metadata": {},
   "source": [
    "# Traditional DB Creation : sqlite3"
   ]
  },
  {
   "cell_type": "code",
   "execution_count": null,
   "id": "2c47dba7",
   "metadata": {},
   "outputs": [],
   "source": [
    "import salite3\n",
    "conn = sqlite3.connect('example3.db')\n",
    "c = conn.cursor ()\n",
    "c.execute('''\n",
    "    CREATE TABLE person\n",
    "    (id INTEGER PRIMARY KEY ASC, name varchar (250) NOT NULL)\n",
    "    ''')\n",
    "c.execute('''\n",
    "    CREATE TABLE address\n",
    "    (id INTEGER PRIMARY KEY ASC, street_name varchar (250),\n",
    "    street_number varchar (250),\n",
    "    post_code varchar (250) NOT NULL, person_id INTEGER NOT NULL, FOREIGN KEY (person_id) REFERENCES persog(id))\n",
    "    ''')\n",
    "c.execute('''\n",
    "    INSERT INTO person VALUES (1, 'pythoncentral')\n",
    "    ''')\n",
    "c.execute('''\n",
    "INSERT INTO address VALUES(1, 'python road', '1', '00000', 1)\n",
    "    ''')\n",
    "c.execute('''\n",
    "    INSERT INTO address VALUES(2, 'Hussam', '2', '10000', 1)\n",
    "    ''')\n",
    "conn. commit ()\n",
    "conn.close ()"
   ]
  },
  {
   "cell_type": "code",
   "execution_count": null,
   "id": "b7481432",
   "metadata": {},
   "outputs": [],
   "source": [
    "# Example3.db\n",
    "import sqlite3\n",
    "conn = sqlite3.connect ('example3.db')\n",
    "c = conn. cursor ()\n",
    "c.execute( 'SELECT * FROM person')\n",
    "print (c.fetchall ())\n",
    "c.execute( 'SELECT * FROM address\")\n",
    "print (c.fetchall ())\n",
    "conn.close ()\n",
    "          \n",
    "          \n",
    "'''Output:\n",
    "[(1, 'pythoncentral')]\n",
    "[(1, 'python road', '1', '00000', 1), (2, 'Hussam', '2', '10000', 1)]'''"
   ]
  },
  {
   "cell_type": "markdown",
   "id": "c4407626",
   "metadata": {},
   "source": [
    "# SQLAlchemy's declarative"
   ]
  },
  {
   "cell_type": "code",
   "execution_count": null,
   "id": "98dedeba",
   "metadata": {},
   "outputs": [],
   "source": [
    "import os\n",
    "import sys\n",
    "from sqlalchemy import Column, ForeignKey, Integer, String\n",
    "from sqlalchemy.ext.declarative import declarative_base\n",
    "from sqlalchemy.orm import relationship\n",
    "from sqlalchemy import create_engine\n",
    "Base = declarative base()\n",
    "\n",
    "class Person (Base):\n",
    "    __tablename__ = 'person'\n",
    "    id = Column (Integer, primary_key=True)\n",
    "    name = Column(String(250), nullable=False)\n",
    "\n",
    "class Address (Base):\n",
    "    __tablename__ = 'address'\n",
    "    id = Column (Integer, primary_key=True)\n",
    "    street_name = Column(String (250))\n",
    "    street_number = Column(String (250))\n",
    "    post_code = Column(String(250), nullable=False)\n",
    "    person_id = Column(Integer, ForeignKey('person.id'))\n",
    "    person = relationship(Person)\n",
    "\n",
    "engine = create_engine('sqlite:///sqlalchemy_example.db')\n",
    "Base.metadata.create all(engine)"
   ]
  },
  {
   "cell_type": "markdown",
   "id": "2c0ce809",
   "metadata": {},
   "source": [
    "# SOLAlchemy's: Reading Data"
   ]
  },
  {
   "cell_type": "code",
   "execution_count": null,
   "id": "622d2a3d",
   "metadata": {},
   "outputs": [],
   "source": [
    "# sqlalchemy_example.db\n",
    "\n",
    "from sqlalchemy3 import Person, Base, Address\n",
    "from sqlalchemy import create_engine\n",
    "engine = create_engine ('sqlite:///sqlalchemy_example.db')\n",
    "Base.metadata.bind = engine\n",
    "\n",
    "from sqlalchemy.orm import sessionmaker\n",
    "DBSession = sessionmaker ()\n",
    "DBSession.bind = engine\n",
    "\n",
    "session = DBSession()\n",
    "\n",
    "person = session.query (Person).first ()\n",
    "print( \"Name :\", person.name)\n",
    "\n",
    "address = session.query(Address).filter (Address.person == person) .one()\n",
    "address.post_code\n",
    "print (\"address.id:\", address.id )\n",
    "print (\"address.post_code:\" , address.post_code )\n",
    "\n",
    "\"\"\"output :\n",
    "Name : hussam Hourani\n",
    "address.id:1\n",
    "address.post_code: 00000\n",
    "\"\"\""
   ]
  },
  {
   "cell_type": "code",
   "execution_count": null,
   "id": "b9400229",
   "metadata": {},
   "outputs": [],
   "source": []
  },
  {
   "cell_type": "markdown",
   "id": "12456d68",
   "metadata": {},
   "source": [
    "# Refrences\n",
    "\n",
    "https://www.pythoncentral.io/introductory-tutorial-python-sqlalchemy/\n",
    "\n",
    "http://scikit-learn.org/stable/modules/ensemble.html\n",
    "\n",
    "https://chrisalbon.com/machine_learning/trees_and_forests/random_forest_classifier_example/\n",
    "\n",
    "http://ogrisel.github.io/scikit-learn.org/sklearn-tutorial/auto_examples/tutorial/plot_knn_iris.html\n",
    "\n",
    "https://www.pythoncentral.io/introductory-tutorial-python-sqlalchemy/\n"
   ]
  },
  {
   "cell_type": "code",
   "execution_count": null,
   "id": "ffa0953a",
   "metadata": {},
   "outputs": [],
   "source": []
  }
 ],
 "metadata": {
  "kernelspec": {
   "display_name": "Python 3 (ipykernel)",
   "language": "python",
   "name": "python3"
  },
  "language_info": {
   "codemirror_mode": {
    "name": "ipython",
    "version": 3
   },
   "file_extension": ".py",
   "mimetype": "text/x-python",
   "name": "python",
   "nbconvert_exporter": "python",
   "pygments_lexer": "ipython3",
   "version": "3.9.12"
  },
  "toc": {
   "base_numbering": 1,
   "nav_menu": {},
   "number_sections": true,
   "sideBar": true,
   "skip_h1_title": false,
   "title_cell": "Table of Contents",
   "title_sidebar": "Contents",
   "toc_cell": false,
   "toc_position": {},
   "toc_section_display": true,
   "toc_window_display": false
  },
  "varInspector": {
   "cols": {
    "lenName": 16,
    "lenType": 16,
    "lenVar": 40
   },
   "kernels_config": {
    "python": {
     "delete_cmd_postfix": "",
     "delete_cmd_prefix": "del ",
     "library": "var_list.py",
     "varRefreshCmd": "print(var_dic_list())"
    },
    "r": {
     "delete_cmd_postfix": ") ",
     "delete_cmd_prefix": "rm(",
     "library": "var_list.r",
     "varRefreshCmd": "cat(var_dic_list()) "
    }
   },
   "types_to_exclude": [
    "module",
    "function",
    "builtin_function_or_method",
    "instance",
    "_Feature"
   ],
   "window_display": false
  }
 },
 "nbformat": 4,
 "nbformat_minor": 5
}
