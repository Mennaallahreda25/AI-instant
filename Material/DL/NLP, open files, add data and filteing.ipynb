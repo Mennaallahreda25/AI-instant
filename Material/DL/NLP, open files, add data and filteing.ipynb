{
 "cells": [
  {
   "cell_type": "code",
   "execution_count": null,
   "id": "8113e77d",
   "metadata": {},
   "outputs": [],
   "source": [
    "!pip install nltk"
   ]
  },
  {
   "cell_type": "code",
   "execution_count": null,
   "id": "89d12d8b",
   "metadata": {},
   "outputs": [],
   "source": [
    "import nltk \n",
    "nltk.__version__"
   ]
  },
  {
   "cell_type": "code",
   "execution_count": null,
   "id": "f6228f95",
   "metadata": {},
   "outputs": [],
   "source": [
    "nltk.download ()  #result: showing info https://raw.githubusercontent.com/nltk/nltk data/ gl"
   ]
  },
  {
   "cell_type": "code",
   "execution_count": null,
   "id": "52f905eb",
   "metadata": {},
   "outputs": [],
   "source": [
    "!pip install spacy"
   ]
  },
  {
   "cell_type": "code",
   "execution_count": null,
   "id": "fafcc08b",
   "metadata": {},
   "outputs": [],
   "source": [
    "import spacy\n",
    "spacy.__version__"
   ]
  },
  {
   "cell_type": "code",
   "execution_count": null,
   "id": "b667e1bc",
   "metadata": {},
   "outputs": [],
   "source": [
    "# in anaconda propmt\n",
    "# python -m spacy download en_core_web_sm\n",
    "# or\n",
    "# python -m spacy download en_core_web_lg"
   ]
  },
  {
   "cell_type": "code",
   "execution_count": null,
   "id": "a84d2dea",
   "metadata": {},
   "outputs": [],
   "source": [
    "import spacy\n",
    "nlp = spacy. load (\"en_core_web_sm\") # I will be working on English data"
   ]
  },
  {
   "cell_type": "code",
   "execution_count": null,
   "id": "4b8f6e47",
   "metadata": {},
   "outputs": [],
   "source": [
    "type (nlp) # result: spacy.lang.en.English"
   ]
  },
  {
   "cell_type": "code",
   "execution_count": null,
   "id": "19dde67c",
   "metadata": {},
   "outputs": [],
   "source": [
    "import re"
   ]
  },
  {
   "cell_type": "markdown",
   "id": "86f94d1b",
   "metadata": {},
   "source": [
    "# open files and make data"
   ]
  },
  {
   "cell_type": "code",
   "execution_count": null,
   "id": "01a3f589",
   "metadata": {},
   "outputs": [],
   "source": [
    "%%writefile test.txt\n",
    "bla bla bla bla bla bla bla this is the next last session  # result: Overwriting test.txt"
   ]
  },
  {
   "cell_type": "code",
   "execution_count": null,
   "id": "29a23a48",
   "metadata": {},
   "outputs": [],
   "source": [
    "my_file = open ('test.txt')\n",
    "my_file.readline () # result:'bla bla bla bla bla bla bla this is the next last session\\n'"
   ]
  },
  {
   "cell_type": "code",
   "execution_count": null,
   "id": "a4a68795",
   "metadata": {},
   "outputs": [],
   "source": [
    "my_file = open ('test.txt')\n",
    "my_file. read()"
   ]
  },
  {
   "cell_type": "code",
   "execution_count": null,
   "id": "795dcc96",
   "metadata": {},
   "outputs": [],
   "source": [
    "my_ file.close ()"
   ]
  },
  {
   "cell_type": "code",
   "execution_count": null,
   "id": "13e720a1",
   "metadata": {},
   "outputs": [],
   "source": [
    "my_file = open ('test.txt', 'w+') # append on the existing file"
   ]
  },
  {
   "cell_type": "code",
   "execution_count": null,
   "id": "13dee81e",
   "metadata": {},
   "outputs": [],
   "source": [
    "my_file.write ('This is a new first line')"
   ]
  },
  {
   "cell_type": "code",
   "execution_count": null,
   "id": "62521a6d",
   "metadata": {},
   "outputs": [],
   "source": [
    "my_file.close ()"
   ]
  },
  {
   "cell_type": "code",
   "execution_count": null,
   "id": "5d8dfb01",
   "metadata": {},
   "outputs": [],
   "source": [
    "with open ('test.txt', 'a+') as newfile:\n",
    "    my_file = newfile\n",
    "    my_file.write ('\\nThis is another line)"
   ]
  },
  {
   "cell_type": "code",
   "execution_count": null,
   "id": "650e730b",
   "metadata": {},
   "outputs": [],
   "source": [
    "%%writefile -a test.txt\n",
    "This is more text being appended to test.txt\n",
    "And another line here."
   ]
  },
  {
   "cell_type": "code",
   "execution_count": null,
   "id": "ea95c16d",
   "metadata": {},
   "outputs": [],
   "source": [
    "with open ('test.txt', 'r') as txt:\n",
    "    first line = txt.readlines () [0]\n",
    "print (first_line)"
   ]
  },
  {
   "cell_type": "code",
   "execution_count": null,
   "id": "fb60e95f",
   "metadata": {},
   "outputs": [],
   "source": [
    "with open ('test.txt', 'r') as txt:\n",
    "    for line in txt:\n",
    "        print (line, end='')\n",
    "# the end'' argument removes extra linebreak.\n"
   ]
  },
  {
   "cell_type": "code",
   "execution_count": null,
   "id": "d2ec84cb",
   "metadata": {},
   "outputs": [],
   "source": [
    "import pandas as pd\n",
    "data = pd. read_csv ('01.csv', usecols= [\"Class\",\"Class No.\"])\n",
    "data. head (20)"
   ]
  },
  {
   "cell_type": "code",
   "execution_count": null,
   "id": "6c08ceec",
   "metadata": {},
   "outputs": [],
   "source": [
    "data = pd. read_excel ('02.xlsx' , skiprows = 2)\n",
    "data. head ()"
   ]
  },
  {
   "cell_type": "code",
   "execution_count": null,
   "id": "4d3c7022",
   "metadata": {},
   "outputs": [],
   "source": [
    "outfile = open ('03.csv', 'w')\n",
    "outfile.write('a')\n",
    "outfile. close ()"
   ]
  },
  {
   "cell_type": "code",
   "execution_count": null,
   "id": "e8d5c0be",
   "metadata": {},
   "outputs": [],
   "source": [
    "outfile = open ('04.xls', 'w')\n",
    "outfile.write ('a')\n",
    "outfile.close ()"
   ]
  },
  {
   "cell_type": "code",
   "execution_count": null,
   "id": "4ebd6f6b",
   "metadata": {},
   "outputs": [],
   "source": [
    "f= open('5.txt', 'w') # write\n",
    "f.write ('write this line in the file')\n",
    "f.close ()"
   ]
  },
  {
   "cell_type": "code",
   "execution_count": null,
   "id": "8a812b58",
   "metadata": {},
   "outputs": [],
   "source": [
    "f= open('5.txt', 'r') # read\n",
    "for a in f:\n",
    "    print (a)"
   ]
  },
  {
   "cell_type": "code",
   "execution_count": null,
   "id": "2c505620",
   "metadata": {},
   "outputs": [],
   "source": [
    "f= open('5.txt', 'a') # append\n",
    "f.write ('\\nmore lines')\n",
    "f. close ()"
   ]
  },
  {
   "cell_type": "code",
   "execution_count": null,
   "id": "8eb54b67",
   "metadata": {},
   "outputs": [],
   "source": [
    "import numpy as np\n",
    "data = pd. DataFrame (pd. Series (np. random. rand (10000) ) )\n",
    "data.head (20)"
   ]
  },
  {
   "cell_type": "code",
   "execution_count": null,
   "id": "f184cc9e",
   "metadata": {},
   "outputs": [],
   "source": [
    "data.to_csv ('6.csv')"
   ]
  },
  {
   "cell_type": "code",
   "execution_count": null,
   "id": "73efb024",
   "metadata": {},
   "outputs": [],
   "source": [
    "f = open (\"6.txt\", \"w+\", encoding=\"utf-8\")\n",
    "f.write('اللغة العربية')\n",
    "f.write (\"\\n\")\n",
    "f.close ()"
   ]
  },
  {
   "cell_type": "code",
   "execution_count": null,
   "id": "4a09b9a6",
   "metadata": {},
   "outputs": [],
   "source": [
    "f = open (\"7.txt\", \"w\", encoding=\"utf8\")\n",
    "f.write(\"سطور باللغة العربية\")\n",
    "f.close ()"
   ]
  },
  {
   "cell_type": "code",
   "execution_count": null,
   "id": "31b487f5",
   "metadata": {},
   "outputs": [],
   "source": [
    "f = open (\"7.txt\", \"a\", encoding=\"utf8\")\n",
    "f.write(\"\\nسطر ثانى\")\n",
    "f.write(\"\\nسطر ثالث\")\n",
    "f.write(\"\\nسطر رابع\")\n",
    "f.write(\"\\nسطر الاخير\")\n",
    "f.close ()"
   ]
  },
  {
   "cell_type": "code",
   "execution_count": null,
   "id": "d1651527",
   "metadata": {},
   "outputs": [],
   "source": [
    "f= open ('7.txt', 'r', encoding=\"'ut f8\")\n",
    "for a in f:\n",
    "    print (a)"
   ]
  },
  {
   "cell_type": "code",
   "execution_count": 1,
   "id": "0b3dfa01",
   "metadata": {
    "ExecuteTime": {
     "end_time": "2023-06-28T22:42:41.662504Z",
     "start_time": "2023-06-28T22:42:41.657516Z"
    }
   },
   "outputs": [],
   "source": [
    "###############################################################################################################################"
   ]
  },
  {
   "cell_type": "code",
   "execution_count": null,
   "id": "567f2d31",
   "metadata": {},
   "outputs": [],
   "source": [
    "!pip install PYPDE2"
   ]
  },
  {
   "cell_type": "code",
   "execution_count": null,
   "id": "8ab6d2b8",
   "metadata": {},
   "outputs": [],
   "source": [
    "import PyPDF2"
   ]
  },
  {
   "cell_type": "code",
   "execution_count": null,
   "id": "ee8b51b0",
   "metadata": {},
   "outputs": [],
   "source": [
    "f = open ('US_Declaration.pdf', 'rb') # read binary? Data Encoded\n",
    "pdf_reader = PyPDF2.PdfFileReader (f)"
   ]
  },
  {
   "cell_type": "code",
   "execution_count": null,
   "id": "ec99b4d6",
   "metadata": {},
   "outputs": [],
   "source": [
    "pdf_reader. numPages "
   ]
  },
  {
   "cell_type": "code",
   "execution_count": null,
   "id": "e43a7d6d",
   "metadata": {},
   "outputs": [],
   "source": [
    "pdf_reader.pages"
   ]
  },
  {
   "cell_type": "code",
   "execution_count": null,
   "id": "e733d003",
   "metadata": {},
   "outputs": [],
   "source": [
    "page_one = pdf_reader. getPage (0) # save selected page\n",
    "page_one_text = page_one.extractText ()\n",
    "print (page_one_text)"
   ]
  },
  {
   "cell_type": "code",
   "execution_count": null,
   "id": "47bb2a44",
   "metadata": {},
   "outputs": [],
   "source": [
    "my_file.seek(0) # start reading at the beginning of the file"
   ]
  },
  {
   "cell_type": "code",
   "execution_count": null,
   "id": "f61607ad",
   "metadata": {},
   "outputs": [],
   "source": [
    "my_file. readlines ()"
   ]
  },
  {
   "cell_type": "code",
   "execution_count": null,
   "id": "097793d8",
   "metadata": {},
   "outputs": [],
   "source": [
    "my_file.close ()"
   ]
  },
  {
   "cell_type": "code",
   "execution_count": null,
   "id": "38ab1c1e",
   "metadata": {},
   "outputs": [],
   "source": [
    "%%writefile test.txt\n",
    "this is mednna reda and this is not the last session executed\n",
    "# result: Overwriting test.txt"
   ]
  },
  {
   "cell_type": "code",
   "execution_count": null,
   "id": "d9785134",
   "metadata": {},
   "outputs": [],
   "source": [
    "my_file = open ('test.txt')\n",
    "my_file. readline ()"
   ]
  },
  {
   "cell_type": "code",
   "execution_count": null,
   "id": "425bc00e",
   "metadata": {},
   "outputs": [],
   "source": [
    "my_file = open ('test.txt')\n",
    "my_file.read ()"
   ]
  },
  {
   "cell_type": "code",
   "execution_count": null,
   "id": "24f06e52",
   "metadata": {},
   "outputs": [],
   "source": [
    "data =pdf_reader.getPage (0) .extractText() . split()\n",
    "print (data) # يجيب الكلمات و يفصل كل كلمة لوحدها "
   ]
  },
  {
   "cell_type": "code",
   "execution_count": null,
   "id": "780eef9d",
   "metadata": {},
   "outputs": [],
   "source": [
    "if \"only.\" in data:\n",
    "    print (\"yes\")"
   ]
  },
  {
   "cell_type": "code",
   "execution_count": null,
   "id": "19e676b6",
   "metadata": {},
   "outputs": [],
   "source": [
    "f= open ('US Declaration pdf', 'rb')\n",
    "# List of every page's text.\n",
    "# The index will correspond to the page number.\n",
    "pdf_text= [0] #, zero is a placehoder to make page 1= index 1\n",
    "pdf_reader = PyPDF2. PdfFileReader (f)\n",
    "for p in range (pdf_reader .numPages) :\n",
    "    page = pdf_reader. getPage (p)\n",
    "    pdf_text.append (page.extractText ()) # get each page in single index\n",
    "f. close ()\n",
    "print (len (pdf_text))\n",
    "print (pdf_text)"
   ]
  },
  {
   "cell_type": "code",
   "execution_count": null,
   "id": "c8c763a2",
   "metadata": {},
   "outputs": [],
   "source": [
    "f = open ('US_Declaration.pdf', 'rb') \n",
    "pdf reader = PyPDF2.PdfFileReader (f)\n",
    "first_page = pdf_reader.getPage (0)\n",
    "first_page.extractText ()\n",
    "print (type (first_page))"
   ]
  },
  {
   "cell_type": "code",
   "execution_count": null,
   "id": "be4b5761",
   "metadata": {},
   "outputs": [],
   "source": [
    "pdf_writer = PyPDF2.PdfFileWriter ()"
   ]
  },
  {
   "cell_type": "code",
   "execution_count": null,
   "id": "87a05990",
   "metadata": {},
   "outputs": [],
   "source": [
    "pdf_writer.addPage (first_page)"
   ]
  },
  {
   "cell_type": "code",
   "execution_count": null,
   "id": "4de7e603",
   "metadata": {},
   "outputs": [],
   "source": [
    "pdf_output = open (\"new file.pdf\", \"wb\") # write binary"
   ]
  },
  {
   "cell_type": "code",
   "execution_count": null,
   "id": "2028f54b",
   "metadata": {},
   "outputs": [],
   "source": [
    "pdf_writer.write (pdf_output)"
   ]
  },
  {
   "cell_type": "code",
   "execution_count": null,
   "id": "9f3e77c7",
   "metadata": {},
   "outputs": [],
   "source": [
    "pdf_output.close()"
   ]
  },
  {
   "cell_type": "code",
   "execution_count": null,
   "id": "1c33a704",
   "metadata": {},
   "outputs": [],
   "source": [
    "from PyPDF2 import PdfFileMerger, PdfFileReader , PdfFilewriter\n",
    "filenamel ='F1.pdf'\n",
    "filename2 = 'F2.pdf'\n",
    "merger = PdfFileMerger ()\n",
    "merger. append (PdfFileReader (open (filenamel, 'rb') ))\n",
    "merger. append (PdfFileReader (open (filename2, 'rb'))\n",
    "merger. write (\"merged file 1.pdf\")"
   ]
  },
  {
   "cell_type": "code",
   "execution_count": null,
   "id": "d41df3a3",
   "metadata": {},
   "outputs": [],
   "source": [
    "filel = PdfFileReader (open (filenamel, \"rb\"))\n",
    "file2 = PdfFileReader (open (filename2, \"rb\"))\n",
    "output = PdfFileWriter ()\n",
    "output. addPage (filel.get Page (5) )\n",
    "output. addPage (file2.getPage (3))\n",
    "outputstream.= open (\"merged file 2.pdf\", \"wb\") \n",
    "output.write (outputStream) \n",
    "outputStream. close ()"
   ]
  },
  {
   "cell_type": "code",
   "execution_count": 2,
   "id": "c24bd30e",
   "metadata": {
    "ExecuteTime": {
     "end_time": "2023-06-28T23:36:00.438291Z",
     "start_time": "2023-06-28T23:36:00.423335Z"
    }
   },
   "outputs": [],
   "source": [
    "###############################################################################################################################"
   ]
  },
  {
   "cell_type": "markdown",
   "id": "dbec3afb",
   "metadata": {},
   "source": [
    "# filtering"
   ]
  },
  {
   "cell_type": "code",
   "execution_count": null,
   "id": "b4d1485d",
   "metadata": {},
   "outputs": [],
   "source": [
    "import re"
   ]
  },
  {
   "cell_type": "code",
   "execution_count": null,
   "id": "b6ab069a",
   "metadata": {},
   "outputs": [],
   "source": [
    "pattern = 'phone'"
   ]
  },
  {
   "cell_type": "code",
   "execution_count": null,
   "id": "7f69cd8f",
   "metadata": {},
   "outputs": [],
   "source": [
    "text = \"The agent's phone number is 408-555-1234. Call soon!\""
   ]
  },
  {
   "cell_type": "code",
   "execution_count": null,
   "id": "3e5ee26a",
   "metadata": {},
   "outputs": [],
   "source": [
    "match = re. search (pattern, text)"
   ]
  },
  {
   "cell_type": "code",
   "execution_count": null,
   "id": "4d7c4938",
   "metadata": {},
   "outputs": [],
   "source": [
    "match. span ()"
   ]
  },
  {
   "cell_type": "code",
   "execution_count": null,
   "id": "7e446226",
   "metadata": {},
   "outputs": [],
   "source": [
    "match.start () , match. end ()"
   ]
  },
  {
   "cell_type": "code",
   "execution_count": null,
   "id": "2b65459a",
   "metadata": {},
   "outputs": [],
   "source": [
    "text = '''\n",
    "A telephone is a telecommunications device that permits two or more users to conduct a convei they are too far apart to be \n",
    "heard directly. A telephone converts sound, typically and most\n",
    "'''"
   ]
  },
  {
   "cell_type": "code",
   "execution_count": null,
   "id": "62acd6bf",
   "metadata": {},
   "outputs": [],
   "source": [
    "matches = re. findall (pattern, text)"
   ]
  },
  {
   "cell_type": "code",
   "execution_count": null,
   "id": "7a940342",
   "metadata": {},
   "outputs": [],
   "source": [
    "len (matches)"
   ]
  },
  {
   "cell_type": "code",
   "execution_count": null,
   "id": "daa9a825",
   "metadata": {},
   "outputs": [],
   "source": [
    "for match in re.finditer (pattern, text) :\n",
    "    print (match. span () )"
   ]
  },
  {
   "cell_type": "code",
   "execution_count": null,
   "id": "8747b48a",
   "metadata": {},
   "outputs": [],
   "source": [
    "import re\n",
    "text = \"My telephone number is 408-555-1234 and mohamed's phone is 856-987-6632 \""
   ]
  },
  {
   "cell_type": "code",
   "execution_count": null,
   "id": "05cd0969",
   "metadata": {},
   "outputs": [],
   "source": [
    "phone = re. search (r '\\d\\d\\d-\\d\\d\\d-\\d\\d\\d\\d',text)"
   ]
  },
  {
   "cell_type": "code",
   "execution_count": null,
   "id": "0e847ff1",
   "metadata": {},
   "outputs": [],
   "source": [
    "phone.group ()"
   ]
  },
  {
   "cell_type": "code",
   "execution_count": null,
   "id": "678452ca",
   "metadata": {},
   "outputs": [],
   "source": [
    "re.search (r'\\d(3)-\\d(3)-\\d(4) ', text)"
   ]
  },
  {
   "cell_type": "code",
   "execution_count": null,
   "id": "4c8ebad8",
   "metadata": {},
   "outputs": [],
   "source": [
    "phone _pattern = (r' (\\d(3]) - (\\d (3)) - (\\d (4)) ')"
   ]
  },
  {
   "cell_type": "code",
   "execution_count": null,
   "id": "22c8ac86",
   "metadata": {},
   "outputs": [],
   "source": [
    "results = re.search (phone pattern, text)"
   ]
  },
  {
   "cell_type": "code",
   "execution_count": null,
   "id": "034ea8e5",
   "metadata": {},
   "outputs": [],
   "source": [
    "results.group ()"
   ]
  },
  {
   "cell_type": "code",
   "execution_count": null,
   "id": "1e982372",
   "metadata": {},
   "outputs": [],
   "source": [
    "results.group (1) , results.group (2) , results.group (3)"
   ]
  },
  {
   "cell_type": "code",
   "execution_count": null,
   "id": "f2e131c8",
   "metadata": {},
   "outputs": [],
   "source": [
    "results= re. search (phone_pattern, text)"
   ]
  },
  {
   "cell_type": "code",
   "execution_count": null,
   "id": "39581c9e",
   "metadata": {},
   "outputs": [],
   "source": [
    "results.group ()"
   ]
  },
  {
   "cell_type": "code",
   "execution_count": null,
   "id": "cc60f0a3",
   "metadata": {},
   "outputs": [],
   "source": [
    "results.group (1), results.group (2) , results.group (3)"
   ]
  },
  {
   "cell_type": "code",
   "execution_count": null,
   "id": "9dd15f27",
   "metadata": {},
   "outputs": [],
   "source": [
    "results.group (4)"
   ]
  },
  {
   "cell_type": "code",
   "execution_count": null,
   "id": "831a5a52",
   "metadata": {},
   "outputs": [],
   "source": [
    "re. search (r\"man|woman\", \"This man was here.\")"
   ]
  },
  {
   "cell_type": "code",
   "execution_count": null,
   "id": "803d6858",
   "metadata": {},
   "outputs": [],
   "source": [
    "re.search (r\"man|woman\", \"This woman was here.\") "
   ]
  },
  {
   "cell_type": "code",
   "execution_count": null,
   "id": "109a1ccf",
   "metadata": {},
   "outputs": [],
   "source": [
    "re.findall (r\".at\", \"the cat in the hat sat here.\")"
   ]
  },
  {
   "cell_type": "code",
   "execution_count": null,
   "id": "020376ce",
   "metadata": {},
   "outputs": [],
   "source": [
    "re.findall(r\".at\", \"the bat went splat\")"
   ]
  },
  {
   "cell_type": "code",
   "execution_count": null,
   "id": "93ff662c",
   "metadata": {},
   "outputs": [],
   "source": [
    "re.findali(r\"...at\", \"The bat went splat\")"
   ]
  },
  {
   "cell_type": "code",
   "execution_count": null,
   "id": "9ab20bec",
   "metadata": {},
   "outputs": [],
   "source": [
    "re.findal1 (r'\\dS', 'This ends with a number 28')"
   ]
  },
  {
   "cell_type": "code",
   "execution_count": null,
   "id": "d00e1267",
   "metadata": {},
   "outputs": [],
   "source": [
    "re.findall(r'[^\\d]', '1 is the loneliest number.')"
   ]
  },
  {
   "cell_type": "code",
   "execution_count": null,
   "id": "755ab6e7",
   "metadata": {},
   "outputs": [],
   "source": [
    "re.findall(r'^\\d', '1 is the loneliest number.')"
   ]
  },
  {
   "cell_type": "code",
   "execution_count": 1,
   "id": "8e7b5218",
   "metadata": {
    "ExecuteTime": {
     "end_time": "2023-06-29T00:42:35.014991Z",
     "start_time": "2023-06-29T00:42:34.997873Z"
    }
   },
   "outputs": [],
   "source": [
    "###############################################################################################################################"
   ]
  },
  {
   "cell_type": "markdown",
   "id": "2135d52f",
   "metadata": {},
   "source": [
    "# NLP"
   ]
  },
  {
   "cell_type": "code",
   "execution_count": null,
   "id": "b85696e3",
   "metadata": {},
   "outputs": [],
   "source": [
    "!pip install -U spacy"
   ]
  },
  {
   "cell_type": "code",
   "execution_count": null,
   "id": "fce7ba7c",
   "metadata": {},
   "outputs": [],
   "source": [
    "# nltk: natural language tool kit"
   ]
  },
  {
   "cell_type": "code",
   "execution_count": null,
   "id": "b7cc3b28",
   "metadata": {},
   "outputs": [],
   "source": [
    "import Spacy\n",
    "Nlp = spacy. load('en_core_web_sm')"
   ]
  },
  {
   "cell_type": "code",
   "execution_count": null,
   "id": "fef0eceb",
   "metadata": {},
   "outputs": [],
   "source": [
    "doc = nlp ('Tesla 13 looking at buying U.S. startup for 569 million ABCDEFGHI')"
   ]
  },
  {
   "cell_type": "code",
   "execution_count": null,
   "id": "96372f8f",
   "metadata": {},
   "outputs": [],
   "source": [
    "for token in doc:\n",
    "    print (token.text)"
   ]
  },
  {
   "cell_type": "code",
   "execution_count": null,
   "id": "7bf0a631",
   "metadata": {},
   "outputs": [],
   "source": [
    "type (doc) # spacy.tokens.doc.Doc"
   ]
  },
  {
   "cell_type": "code",
   "execution_count": null,
   "id": "95f7842a",
   "metadata": {},
   "outputs": [],
   "source": [
    "for token in doc:\n",
    "    print (token.text)\n",
    "# print(token.shape)\n",
    "# print (taken.shape_)\n",
    "# print (token.is_alpha)\n",
    "# print (token.is_stop)\n",
    "    print (\"=======================\")"
   ]
  },
  {
   "cell_type": "code",
   "execution_count": null,
   "id": "194bae51",
   "metadata": {},
   "outputs": [],
   "source": [
    "doc[0] , doc [1], doc [2] , doc [3] , doc [4] , doc[5] , doc [6] , doc [7] \n",
    "# result: (Tesla, is, looking, at, buying, U.s., startup, for)"
   ]
  },
  {
   "cell_type": "code",
   "execution_count": null,
   "id": "3887e171",
   "metadata": {},
   "outputs": [],
   "source": [
    "doc2 = nlp ('''\n",
    "Although commonly attributed to John Lennon from his song \"Beautiful Boy\"\n",
    "the phrase \"Life is what happens to us while we are making other plans\" was written by cartoonist Allen oublished in Reader\\'s Digest in 1957, when Lennon was 17-\n",
    "''')"
   ]
  },
  {
   "cell_type": "code",
   "execution_count": null,
   "id": "ba273ea2",
   "metadata": {},
   "outputs": [],
   "source": [
    "life_quote = doc2[19:31]\n",
    "print (life_quote)"
   ]
  },
  {
   "cell_type": "code",
   "execution_count": null,
   "id": "c6d36608",
   "metadata": {},
   "outputs": [],
   "source": [
    "for i in range (len (doc2)) :\n",
    "    print (doc2 [i])"
   ]
  },
  {
   "cell_type": "code",
   "execution_count": null,
   "id": "941bc83b",
   "metadata": {},
   "outputs": [],
   "source": [
    "string.split() [19:31]"
   ]
  },
  {
   "cell_type": "code",
   "execution_count": null,
   "id": "de1899b5",
   "metadata": {},
   "outputs": [],
   "source": [
    "mystring = \"We're moving to L.A.!\"\n",
    "print (mystring)"
   ]
  },
  {
   "cell_type": "code",
   "execution_count": null,
   "id": "e175c553",
   "metadata": {},
   "outputs": [],
   "source": [
    "mystring.split()"
   ]
  },
  {
   "cell_type": "code",
   "execution_count": null,
   "id": "18554240",
   "metadata": {},
   "outputs": [],
   "source": [
    "doc3 = nlp (mystring)\n",
    "for token in doc3:\n",
    "    print (token.text, end=' | ')\n",
    "# result: We | 're | moving | to | L.A. | !"
   ]
  },
  {
   "cell_type": "code",
   "execution_count": null,
   "id": "49aa0180",
   "metadata": {},
   "outputs": [],
   "source": [
    "doc4 = nlp (u \"We're here to help! Send snail-mail, email support@oursite.com or visit us at http:)\n",
    "for token in doc4:\n",
    "    print (token)"
   ]
  },
  {
   "cell_type": "code",
   "execution_count": null,
   "id": "8343d602",
   "metadata": {},
   "outputs": [],
   "source": [
    "doc5 = nlp (u \"A 5km, NYC cab ride costs $10.30\")\n",
    "for token in doc5:\n",
    "    print (token)"
   ]
  },
  {
   "cell_type": "code",
   "execution_count": null,
   "id": "6eb0a648",
   "metadata": {},
   "outputs": [],
   "source": [
    "doc7 = n1p (u \"My dinner was horrible.\")\n",
    "doc8 = nlp (u \"Your dinner was delicious.\")\n",
    "# Try to change \"My dinner was horrible\" to \"My dinner was delicious\"\n",
    "doc7 [3] = doc8 [3]"
   ]
  },
  {
   "cell_type": "code",
   "execution_count": null,
   "id": "3aefa08f",
   "metadata": {},
   "outputs": [],
   "source": [
    "from nltk.tokenize import word_tokenize\n",
    "\n",
    "EXAMPLE_TEXT = '''\n",
    "Hello Mr. Smith, how are you doing today? The weather is great, and Python is awesome. The sky is pinkish-blue. You shouldn't eat cardboard.\n",
    "'''"
   ]
  },
  {
   "cell_type": "code",
   "execution_count": null,
   "id": "9322c5a5",
   "metadata": {},
   "outputs": [],
   "source": [
    "print (word_tokenize (EXAMPLE_TEXT) )"
   ]
  },
  {
   "cell_type": "code",
   "execution_count": null,
   "id": "95093f49",
   "metadata": {},
   "outputs": [],
   "source": [
    "EXAMPLE_TEXT ='''\n",
    "Thomas Gradgrind, sir. A man of realities. A man of facts and c In such terms Mr. Gradgrind always mentally introduced himself,\n",
    "n Indeed, as he eagerly sparkled at them from the cellarage before'Girl number twenty,' said Mr. Gradgrind, squarely pointing \n",
    "with\n",
    "'''"
   ]
  },
  {
   "cell_type": "code",
   "execution_count": null,
   "id": "b0bc72d6",
   "metadata": {},
   "outputs": [],
   "source": [
    "print (word_tokenize (EXAMPLE_TEXT) )"
   ]
  },
  {
   "cell_type": "code",
   "execution_count": null,
   "id": "cf37d4e0",
   "metadata": {},
   "outputs": [],
   "source": [
    "for line in EXAMPLE_TEXT.split ('\\n') [:20] :\n",
    "    print (line.split () [:10])\n",
    "    print ('-----------------------------------------')\n",
    "    print (word tokenize (line) [: 10])\n",
    "    print (\"========================================================\")"
   ]
  },
  {
   "cell_type": "markdown",
   "id": "5915f571",
   "metadata": {},
   "source": [
    "# sentences segmentation"
   ]
  },
  {
   "cell_type": "code",
   "execution_count": null,
   "id": "e1ef3c9b",
   "metadata": {},
   "outputs": [],
   "source": [
    "import spacy\n",
    "nlp = spacy. load ('en_core_ web_sm')"
   ]
  },
  {
   "cell_type": "code",
   "execution_count": null,
   "id": "40ad4937",
   "metadata": {},
   "outputs": [],
   "source": [
    "doc1 = nlp(u 'This is the first sentence. This is another sentence. This is the last sentence.')\n",
    "doc1.sents #sentences\n",
    "# result: <generator at Oxle191261860>"
   ]
  },
  {
   "cell_type": "code",
   "execution_count": null,
   "id": "c34d5506",
   "metadata": {},
   "outputs": [],
   "source": [
    "for sent in doc1.sents:\n",
    "    print (sent)"
   ]
  },
  {
   "cell_type": "code",
   "execution_count": null,
   "id": "e514400c",
   "metadata": {},
   "outputs": [],
   "source": [
    "print (doc1 [6])\n",
    "doc1 [6] .is_sent_start"
   ]
  },
  {
   "cell_type": "code",
   "execution_count": null,
   "id": "247ac8c7",
   "metadata": {},
   "outputs": [],
   "source": [
    "list (doc1.sents) [2]"
   ]
  },
  {
   "cell_type": "code",
   "execution_count": null,
   "id": "8bcbe22c",
   "metadata": {},
   "outputs": [],
   "source": [
    "doc_sents = [sent for sent in doc1.sents]\n",
    "doc_sents."
   ]
  },
  {
   "cell_type": "code",
   "execution_count": null,
   "id": "d3665958",
   "metadata": {},
   "outputs": [],
   "source": [
    "print (doc_sents [1].start, doc_ sents [1].end)"
   ]
  },
  {
   "cell_type": "code",
   "execution_count": null,
   "id": "e04de0c0",
   "metadata": {},
   "outputs": [],
   "source": [
    "print (doc1 [6]) #token \n",
    "doc1 [6].is_sent_start\n",
    "#result: This    True"
   ]
  },
  {
   "cell_type": "code",
   "execution_count": null,
   "id": "26b08f87",
   "metadata": {},
   "outputs": [],
   "source": [
    "print (doc1 [4])\n",
    "print (doc1 [4].is_sent_start)"
   ]
  },
  {
   "cell_type": "code",
   "execution_count": null,
   "id": "ce3301cb",
   "metadata": {},
   "outputs": [],
   "source": [
    "doc2 = nlp (u 'This is a sentence. that is a sentence. here is a sentence. ')\n",
    "for token in doc2:\n",
    "    print (token.is_sent_start,\" \" +token.text)"
   ]
  },
  {
   "cell_type": "code",
   "execution_count": null,
   "id": "6a0e4b20",
   "metadata": {},
   "outputs": [],
   "source": [
    "doc3 = nlp (u \"Management is doing things right; leadership is doing the right things.\")\n",
    "for sent in doc3.sents:\n",
    "    print (sent)"
   ]
  },
  {
   "cell_type": "code",
   "execution_count": null,
   "id": "c28702e2",
   "metadata": {},
   "outputs": [],
   "source": [
    "def set_custom_boundaries (doc) :\n",
    "    for token in doc[:-1]:\n",
    "        if token.text == ';':\n",
    "            doc [token.i+1].is_sent_start = True\n",
    "    return doc\n",
    "\n",
    "nlp.add pipe (set_custom_boundaries, before='parser')\n",
    "nlp.pipe_names"
   ]
  },
  {
   "cell_type": "code",
   "execution_count": null,
   "id": "de5f4117",
   "metadata": {},
   "outputs": [],
   "source": [
    "from nltk. tokenize import sent_tokenize\n",
    "EXAMPLE_TEXT.=\n",
    "\"\"\"\n",
    "Hello Mr. Smith, how are you doing today? The weather is great, and Python is awesome. The sky is pinkish-blue. You shouldn't eat cardboard.\n",
    "\"\"\""
   ]
  },
  {
   "cell_type": "code",
   "execution_count": null,
   "id": "26db8229",
   "metadata": {},
   "outputs": [],
   "source": [
    "for s in sent_tokenizer (EXAMPLE_TEXT)\n",
    "    print (s)\n",
    "    print (' ------------------------------------')"
   ]
  },
  {
   "cell_type": "code",
   "execution_count": null,
   "id": "b2ac71db",
   "metadata": {},
   "outputs": [],
   "source": [
    "from nltk.tokenize import PunktSentenceTokenizer"
   ]
  },
  {
   "cell_type": "code",
   "execution_count": null,
   "id": "804d3202",
   "metadata": {},
   "outputs": [],
   "source": [
    "custom_sent_tokenizer - PunktsentenceTokenizer (EXAMPLE_TEXT)\n",
    "tokenized = custom sent_tokenizer. tokenize (EXAMPLE_TEXT)\n",
    "tokenized [ :10]"
   ]
  },
  {
   "cell_type": "markdown",
   "id": "dc2e5703",
   "metadata": {},
   "source": [
    "بنفس الاسلوب و الاكواد يمكن التنفيذ على اللغة العربية و جملها بشكل طبيعى"
   ]
  },
  {
   "cell_type": "code",
   "execution_count": null,
   "id": "bacf7f17",
   "metadata": {},
   "outputs": [],
   "source": []
  }
 ],
 "metadata": {
  "kernelspec": {
   "display_name": "Python 3 (ipykernel)",
   "language": "python",
   "name": "python3"
  },
  "language_info": {
   "codemirror_mode": {
    "name": "ipython",
    "version": 3
   },
   "file_extension": ".py",
   "mimetype": "text/x-python",
   "name": "python",
   "nbconvert_exporter": "python",
   "pygments_lexer": "ipython3",
   "version": "3.9.12"
  },
  "toc": {
   "base_numbering": 1,
   "nav_menu": {},
   "number_sections": true,
   "sideBar": true,
   "skip_h1_title": false,
   "title_cell": "Table of Contents",
   "title_sidebar": "Contents",
   "toc_cell": false,
   "toc_position": {},
   "toc_section_display": true,
   "toc_window_display": false
  },
  "varInspector": {
   "cols": {
    "lenName": 16,
    "lenType": 16,
    "lenVar": 40
   },
   "kernels_config": {
    "python": {
     "delete_cmd_postfix": "",
     "delete_cmd_prefix": "del ",
     "library": "var_list.py",
     "varRefreshCmd": "print(var_dic_list())"
    },
    "r": {
     "delete_cmd_postfix": ") ",
     "delete_cmd_prefix": "rm(",
     "library": "var_list.r",
     "varRefreshCmd": "cat(var_dic_list()) "
    }
   },
   "types_to_exclude": [
    "module",
    "function",
    "builtin_function_or_method",
    "instance",
    "_Feature"
   ],
   "window_display": false
  }
 },
 "nbformat": 4,
 "nbformat_minor": 5
}
