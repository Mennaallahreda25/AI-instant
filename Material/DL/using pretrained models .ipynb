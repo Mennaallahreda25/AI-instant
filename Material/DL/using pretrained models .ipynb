{
 "cells": [
  {
   "cell_type": "code",
   "execution_count": null,
   "id": "f70060fb",
   "metadata": {},
   "outputs": [],
   "source": [
    "pip install keras-ocr"
   ]
  },
  {
   "cell_type": "code",
   "execution_count": null,
   "id": "66c80a3a",
   "metadata": {},
   "outputs": [],
   "source": [
    "Installation:\n",
    "keras-ocr supports Python >= 3.6 and TensorFlow >= 2.0.0.\n",
    "\n",
    "# To install from master\n",
    "pip install git+https://github.com/faustomorales/keras-ocr.git#egg=keras-ocr\n",
    "\n",
    "# To install from PyPi\n",
    "pip install keras-ocr"
   ]
  },
  {
   "cell_type": "code",
   "execution_count": null,
   "id": "8501e515",
   "metadata": {},
   "outputs": [],
   "source": [
    "#to extract text from images by link\n",
    "import matplotlib.pyplot as plt\n",
    "\n",
    "import keras_ocr\n",
    "\n",
    "# keras-ocr will automatically download pretrained\n",
    "# weights for the detector and recognizer.\n",
    "pipeline = keras_ocr.pipeline.Pipeline()\n",
    "\n",
    "# Get a set of three example images\n",
    "images = [\n",
    "    keras_ocr.tools.read(url) for url in [\n",
    "        'https://upload.wikimedia.org/wikipedia/commons/b/bd/Army_Reserves_Recruitment_Banner_MOD_45156284.jpg',\n",
    "        'https://upload.wikimedia.org/wikipedia/commons/e/e8/FseeG2QeLXo.jpg',\n",
    "        'https://upload.wikimedia.org/wikipedia/commons/b/b4/EUBanana-500x112.jpg'\n",
    "    ]\n",
    "]\n",
    "\n",
    "# Each list of predictions in prediction_groups is a list of\n",
    "# (word, box) tuples.\n",
    "prediction_groups = pipeline.recognize(images)\n",
    "\n",
    "# Plot the predictions\n",
    "fig, axs = plt.subplots(nrows=len(images), figsize=(20, 20))\n",
    "for ax, image, predictions in zip(axs, images, prediction_groups):\n",
    "    keras_ocr.tools.drawAnnotations(image=image, predictions=predictions, ax=ax)"
   ]
  },
  {
   "cell_type": "code",
   "execution_count": null,
   "id": "2efa23c2",
   "metadata": {},
   "outputs": [],
   "source": [
    "Contributing\n",
    "To work on the project, start by doing the following. These instructions probably do not yet work for Windows but if a Windows user has some ideas for how to fix that it would be greatly appreciated (I don't have a Windows machine to test on at the moment).\n",
    "\n",
    "# Install local dependencies for\n",
    "# code completion, etc.\n",
    "make init\n",
    "\n",
    "# Build the Docker container to run\n",
    "# tests and such.\n",
    "make build"
   ]
  },
  {
   "cell_type": "code",
   "execution_count": 1,
   "id": "8ceb192f",
   "metadata": {
    "ExecuteTime": {
     "end_time": "2023-03-11T02:18:24.355804Z",
     "start_time": "2023-03-11T02:18:24.334861Z"
    }
   },
   "outputs": [],
   "source": [
    "################################################################################################################################"
   ]
  },
  {
   "cell_type": "code",
   "execution_count": null,
   "id": "b3d9d976",
   "metadata": {},
   "outputs": [],
   "source": [
    "#object detection\n",
    "https://colab.research.google.com/github/tensorflow/hub/blob/master/examples/colab/object_detection.ipynb"
   ]
  },
  {
   "cell_type": "code",
   "execution_count": 2,
   "id": "c16ce22a",
   "metadata": {
    "ExecuteTime": {
     "end_time": "2023-03-11T02:18:29.104279Z",
     "start_time": "2023-03-11T02:18:29.086327Z"
    }
   },
   "outputs": [],
   "source": [
    "################################################################################################################################"
   ]
  },
  {
   "cell_type": "code",
   "execution_count": null,
   "id": "1ea2864b",
   "metadata": {},
   "outputs": [],
   "source": [
    "#transfer learning on classification problem\n",
    "https://codelabs.developers.google.com/codelabs/keras-flowers-transfer-learning/#1\n",
    "https://colab.research.google.com/github/tensorflow/docs/blob/master/site/en/tutorials/images/transfer_learning.ipynb#scrollTo=RxvgOYTDSWTx"
   ]
  }
 ],
 "metadata": {
  "kernelspec": {
   "display_name": "Python 3 (ipykernel)",
   "language": "python",
   "name": "python3"
  },
  "language_info": {
   "codemirror_mode": {
    "name": "ipython",
    "version": 3
   },
   "file_extension": ".py",
   "mimetype": "text/x-python",
   "name": "python",
   "nbconvert_exporter": "python",
   "pygments_lexer": "ipython3",
   "version": "3.9.12"
  },
  "toc": {
   "base_numbering": 1,
   "nav_menu": {},
   "number_sections": true,
   "sideBar": true,
   "skip_h1_title": false,
   "title_cell": "Table of Contents",
   "title_sidebar": "Contents",
   "toc_cell": false,
   "toc_position": {},
   "toc_section_display": true,
   "toc_window_display": false
  },
  "varInspector": {
   "cols": {
    "lenName": 16,
    "lenType": 16,
    "lenVar": 40
   },
   "kernels_config": {
    "python": {
     "delete_cmd_postfix": "",
     "delete_cmd_prefix": "del ",
     "library": "var_list.py",
     "varRefreshCmd": "print(var_dic_list())"
    },
    "r": {
     "delete_cmd_postfix": ") ",
     "delete_cmd_prefix": "rm(",
     "library": "var_list.r",
     "varRefreshCmd": "cat(var_dic_list()) "
    }
   },
   "types_to_exclude": [
    "module",
    "function",
    "builtin_function_or_method",
    "instance",
    "_Feature"
   ],
   "window_display": false
  }
 },
 "nbformat": 4,
 "nbformat_minor": 5
}
