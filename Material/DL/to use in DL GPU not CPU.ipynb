{
 "cells": [
  {
   "cell_type": "code",
   "execution_count": null,
   "id": "96273160",
   "metadata": {},
   "outputs": [],
   "source": [
    "# to make code in DL work by GPU not CPU\n",
    "gpus = tf.config.list_physical_devices ( 'GPU')\n",
    "if gpus:\n",
    "# Restrict TensorFlow to only use the first GPU\n",
    "    try:\n",
    "        tf.config.set_visible_devices (gpus [0], 'GPU')   # gpus [0] if there more than one we will say the gpu wanted number\n",
    "        logical_gpus = tf.config.list_logical_devices ('GPU')\n",
    "        print(len(gpus), \"Physical GPUs,\" , len (logical_gpus),\"Logical GPU\")\n",
    "    except RuntimeError as e:\n",
    "# Visible devices must be set before GPUs have been initialized\n",
    "        print (e)\n",
    "\n",
    "\n",
    "\n",
    "# to make code in DL work by GPU not CPU and limit the memory that we will use to not affect on the other programs\n",
    "gpus = tf.config. list_physical_devices ('GPU')\n",
    "if gpus:\n",
    "# Restrict TensorFlow to only allocate 1GB of memory on the first GPU\n",
    "    try:\n",
    "        tf.config.set_logical_device_configuration (gpus [0], [tf.config. LogicalDeviceConfiguration (memory_limit=1024)])\n",
    "        logical_gpus = tf.config.list_logical_devices ( 'GPU')\n",
    "        print(len (gpus), \"Physical GPUs,\", len(logical_gpus), \"Logical GPUs\")\n",
    "    except RuntimeError as e:\n",
    "        # Virtual devices must be set before GPUs have been initialized\n",
    "        print(e)"
   ]
  }
 ],
 "metadata": {
  "kernelspec": {
   "display_name": "Python 3 (ipykernel)",
   "language": "python",
   "name": "python3"
  },
  "language_info": {
   "codemirror_mode": {
    "name": "ipython",
    "version": 3
   },
   "file_extension": ".py",
   "mimetype": "text/x-python",
   "name": "python",
   "nbconvert_exporter": "python",
   "pygments_lexer": "ipython3",
   "version": "3.9.12"
  },
  "toc": {
   "base_numbering": 1,
   "nav_menu": {},
   "number_sections": true,
   "sideBar": true,
   "skip_h1_title": false,
   "title_cell": "Table of Contents",
   "title_sidebar": "Contents",
   "toc_cell": false,
   "toc_position": {},
   "toc_section_display": true,
   "toc_window_display": false
  },
  "varInspector": {
   "cols": {
    "lenName": 16,
    "lenType": 16,
    "lenVar": 40
   },
   "kernels_config": {
    "python": {
     "delete_cmd_postfix": "",
     "delete_cmd_prefix": "del ",
     "library": "var_list.py",
     "varRefreshCmd": "print(var_dic_list())"
    },
    "r": {
     "delete_cmd_postfix": ") ",
     "delete_cmd_prefix": "rm(",
     "library": "var_list.r",
     "varRefreshCmd": "cat(var_dic_list()) "
    }
   },
   "types_to_exclude": [
    "module",
    "function",
    "builtin_function_or_method",
    "instance",
    "_Feature"
   ],
   "window_display": false
  }
 },
 "nbformat": 4,
 "nbformat_minor": 5
}
