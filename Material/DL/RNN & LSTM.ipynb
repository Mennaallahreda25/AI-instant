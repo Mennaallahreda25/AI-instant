{
 "cells": [
  {
   "cell_type": "markdown",
   "id": "501da57b",
   "metadata": {},
   "source": [
    "Implementation Projects:\n",
    "• Project 1 : Simple RNN               \n",
    "• Project 2 : LSTM Stock Prediction             \n",
    "• Project 3 : LSTM for Sequence Classification :IMDB               \n",
    "• Project 4 : LSTM Time Series Prediction              "
   ]
  },
  {
   "cell_type": "markdown",
   "id": "1a9798e3",
   "metadata": {},
   "source": [
    "# Project 1 : Simple RNN"
   ]
  },
  {
   "cell_type": "markdown",
   "id": "2739b6a5",
   "metadata": {},
   "source": [
    "• units: Positive integer, dimensionality of the output space.                \n",
    "• input dim: dimensionality of the input (integer). This argument (or alternatively, the keyword argument input _shape) is required when using this layer as the first layer in a model."
   ]
  },
  {
   "cell_type": "code",
   "execution_count": null,
   "id": "ad87866c",
   "metadata": {},
   "outputs": [],
   "source": [
    "import pandas as pd\n",
    "import numpy as np\n",
    "import matplotlib.pyplot as plt\n",
    "from keras.models import Sequential\n",
    "from keras.layers import Dense, SimpleRNN\n",
    "# convert into dataset matrix\n",
    "def convertToMatrix(data, step):\n",
    "    X, Y =[1, []\n",
    "    for i in range(len (data)-step):\n",
    "        d=i+step\n",
    "        X.append (data[i:d, ])\n",
    "        Y. append(data[d, ])\n",
    "    return np.array (X), np.array (Y)\n",
    "step = 4\n",
    "N = 1000\n",
    "Tp = 800\n",
    "t=np.arange (0,N)\n",
    "x=np.sin(0.02*t)+2*np.random.rand(N)\n",
    "df = pd. DataFrame (x)\n",
    "df. head ()\n",
    "plt.plot (df)\n",
    "plt. show()\n",
    "           \n",
    "           \n",
    "values=df.values\n",
    "train, test = values [O: TP.:], values[Tp:N,:]\n",
    "# add step elements into train and test\n",
    "test = np.append (test,np.repeat(test [-1,],step))\n",
    "train = np.append (train, np.repeat(train[-1,],step))\n",
    "trainX, trainY =convertToMatrix(train,step)\n",
    "testX, testY =convertToMatrix(test,step)\n",
    "trainX = np.reshape(trainX, (trainX.shape[0], 1, trainX.shape[1]))\n",
    "testX = np.reshape(testX, (testX.shape[0], 1, testX.shape [1]))\n",
    "model = Sequential ()\n",
    "model. add(SimpleRNN(units=32, input_shape=(1,step), activation=\"relu\"))\n",
    "model. add(Dense (8, activation=\"relu\"))\n",
    "model. add (Dense (1))\n",
    "model. compile (loss='mean_squared_error', optimizer='rmsprop')\n",
    "model. summary ()   \n",
    "           \n",
    "           \n",
    "model.fit (trainX, trainY, epochs=100, batch_size=16, verbose=2)\n",
    "trainPredict = model.predict (trainX)\n",
    "testPredict= model.predict(testX)\n",
    "predicted=np. concatenate((trainPredict,testPredict),axis=0)\n",
    "trainScore = model.evaluate (train, trainY, verbose=0)\n",
    "print (trainScore)\n",
    "index = df.index.values\n",
    "plt.plot (index, df)\n",
    "plt.plot (index, predicted)\n",
    "plt.axvline(df.index[Tp], c=\"p\")\n",
    "plt.show()"
   ]
  },
  {
   "cell_type": "markdown",
   "id": "877fe36d",
   "metadata": {},
   "source": [
    "# Project 2 : LSTM Stock Prediction\n",
    "\n",
    "Training Dataset : Apple stock prices\n",
    "From 1st January 2013 to 31 December 2017                   \n",
    "Testing Dataset: Apple stock prices for the month of January 2018"
   ]
  },
  {
   "cell_type": "code",
   "execution_count": null,
   "id": "6eb1cf3e",
   "metadata": {},
   "outputs": [],
   "source": [
    "import numpy as np\n",
    "import matplotlib.pyplot as plt\n",
    "import pandas as pd\n",
    "apple_training_complete = pd.read_csv(r'apple_training.csv')\n",
    "apple_training_processed = apple_training_complete.iloc[:, 1:2].values # Open column\n",
    "\n",
    "from sklearn.preprocessing import MinMaxScaler\n",
    "scaler = MinMaxScaler(feature_range = (0, 1)) # Data Normalization\n",
    "apple_training_scaled = scaler.fit_transform(apple_training_processed) # Convert Training Data to Right Shape\n",
    "features set =[]\n",
    "labels = [] # past 60 days.\n",
    "for i in range (60, 1260):\n",
    "features_set.append(apple_training_scaled[i-60:i, 0])\n",
    "labels.append(apple_training_scaled[i, 0]) # convert both the feature set and the labels list to the numpy array\n",
    "Features_set, labels = np.array(features_set), np.array(labels)\n",
    "features_set = np.reshape(features_set, (features_set.shape[0], features_set.shape [1], 1))\n",
    "\n",
    "\n",
    "from keras.models import Sequential\n",
    "from keras.layers import Dense\n",
    "from keras.layers import LSTM\n",
    "from keras.layers import Dropout\n",
    "model = Sequential ()\n",
    "model. add(LSTM(units=50, return_sequences=True, input_shape=(features_set.shape [1], 1)))\n",
    "model. add(Dropout (0.2))\n",
    "model.add(LSTM(units=50, return_sequences=True))\n",
    "model.add(Dropout (0.2))\n",
    "model.add(LSTM(units=50, return_sequences=True))\n",
    "model.add(Dropout (0.2))\n",
    "model.add(LSTM(units=50))\n",
    "model.add (Dropout (0.2))\n",
    "model.add (Dense(units = 1))\n",
    "model.compile(optimizer ='adam', loss = 'mean_squared _error')\n",
    "model.fit (features_set, labels, epochs = 100, batch_size = 32)\n",
    "apple_testing_complete = pd.read_ csv(r'apple testing.csv')\n",
    "apple_testing_processed = apple_testing_complete.iloc[:, 1:2].values\n",
    "apple_total = pd. concat((apple_training_complete['Open'], apple_testing_complete['Open']), axis=0)\n",
    "test_Inputs = apple_total[len(apple_total) - len (apple_testing_complete) - 60: ]. Values\n",
    "\n",
    "\n",
    "test_inputs = test inputs.reshape (-1,1)\n",
    "test_inputs = scaler.transform(test_inputs)\n",
    "test features = []\n",
    "for i in range(60, 80):\n",
    "    test_features.append(test_inputs [i-60:i, 0])\n",
    "test_features = np.array (test_features)\n",
    "test_features = np.reshape(test_features, (test_features.shape [0], test_features.shape [1], 1))\n",
    "predictions = model.predict(test features)\n",
    "predictions = scaler.inverse_transform(predictions)\n",
    "plt.figure(figsize=(10,6))\n",
    "plt.plot (apple_testing_processed, color='blue', label='Actual Apple Stock Price')\n",
    "plt.plot(predictions, color='red', label='Predicted Apple Stock Price')\n",
    "plt.title( 'Apple Stock Price Prediction')\n",
    "plt.xlabel ('Date')\n",
    "plt.ylabel('Apple Stock Price')\n",
    "plt. legend ()\n",
    "plt.show()"
   ]
  },
  {
   "cell_type": "markdown",
   "id": "d6d5b857",
   "metadata": {},
   "source": [
    "# Project 3: LSTM for Sequence Classification :IMDB"
   ]
  },
  {
   "cell_type": "code",
   "execution_count": null,
   "id": "89224e73",
   "metadata": {},
   "outputs": [],
   "source": [
    "import numpy\n",
    "from keras.datasets import imdb\n",
    "from keras.models import Sequential\n",
    "from keras.layers import Dense\n",
    "from keras.layers import LSTM\n",
    "from keras. layers.embeddings import Embedding\n",
    "from keras.preprocessing import sequence\n",
    "# fix random seed for reproducibility\n",
    "numpy.random. seed (7)\n",
    "# load the dataset but only keep the top n words, zero the rest\n",
    "top_words = 5000\n",
    "(X_train, y_train), (X_test, _test) = imdb.load_data(num_words=top_words)\n",
    "# truncate and pad input sequences\n",
    "max _review length = 500\n",
    "X_train = sequence.pad_sequences (X_train, maxlen=max_review_length)\n",
    "X_test = sequence.pad_sequences (X_test, maxlen=max_review_length)\n",
    "# Covert num samples sequences (lists of integers) into a 2D\n",
    "# Numpy array of shape (num _samples, num_timesteps)\n",
    "\n",
    "# create the model\n",
    "embedding_vecor_length = 32\n",
    "model = Sequential ()\n",
    "model. add(Embedding (top_words, embedding_vecor_length, input_length=max_review_length))\n",
    "model.add(LSTM(100))\n",
    "model. add(Dense(1, activation='sigmoid'))\n",
    "model. compile (loss= 'binary_crossentropy', optimizer='adam', metrics=['accuracy'])\n",
    "print (model.summary ())\n",
    "model.fit (X_train, y_train, epochs=3, batch_size=64)\n",
    "# Final evaluation of the model\n",
    "scores = model.evaluate (X_test, _test, verbose=0)\n",
    "print(\"Accuracy: %.2f%%\" % (scores [1]*100))\n"
   ]
  },
  {
   "cell_type": "markdown",
   "id": "b9ad8839",
   "metadata": {},
   "source": [
    "# Project 4 : LSTM Time Series Prediction"
   ]
  },
  {
   "cell_type": "code",
   "execution_count": null,
   "id": "d10c1b9e",
   "metadata": {},
   "outputs": [],
   "source": [
    "from numpy import array\n",
    "from keras.models import Sequential\n",
    "from keras.layers import LSTM\n",
    "from keras.layers import Dense\n",
    "# define input sequence\n",
    "X= array([[[10], [20], [30]],[[20], [30], [40]],[[30], [40], [50]],[ [40], [50], [60]],[ [50], [60], [70]],[[60], [70], [80]]])\n",
    "y= array ([40, 50, 60, 70, 80, 90])\n",
    "# choose a number of time steps\n",
    "n_steps = 3\n",
    "n_features = 1\n",
    "# define model\n",
    "model = Sequential ()\n",
    "model.add (LSTM(50, activation='relu', input_shape=(n_steps, _features)))\n",
    "model. add (Dense (1))\n",
    "model. compile(optimizer='adam', loss='mse')\n",
    "# fit model\n",
    "model.fit (X, y, epochs=200, verbose=0)\n",
    "# demonstrate prediction\n",
    "x_input = array ( [70, 80, 90])\n",
    "×_input = ×_input.reshape((1, n_steps, n_features))\n",
    "yhat = model.predict (×_input, verbose=0)\n",
    "print(yhat)\n"
   ]
  },
  {
   "cell_type": "markdown",
   "id": "12185817",
   "metadata": {},
   "source": [
    "# References: \n",
    "\n",
    "https://www.datatechnotes.com/2018/12/rnn-example-with-keras-simplernn-in.html\n",
    "\n",
    "https://finance.yahoo.com/quote/AAPL/history?period1=1514757600&period2=1517349600&interval=1d&filter=history&frequency=1d\n",
    "\n",
    "https://stackabuse.com/time-series-analysis-with-Istm-using-pythons-keras-library/\n",
    "\n",
    "https://machinelearningmastery.com/sequence-classification-Istm-recurrent-neural-networks-python-keras/\n",
    "\n",
    "https://machinelearningmastery.com/how-to-develop-Istm-models-for-time-series-forecasting/"
   ]
  },
  {
   "cell_type": "code",
   "execution_count": null,
   "id": "5062924c",
   "metadata": {},
   "outputs": [],
   "source": []
  }
 ],
 "metadata": {
  "kernelspec": {
   "display_name": "Python 3 (ipykernel)",
   "language": "python",
   "name": "python3"
  },
  "language_info": {
   "codemirror_mode": {
    "name": "ipython",
    "version": 3
   },
   "file_extension": ".py",
   "mimetype": "text/x-python",
   "name": "python",
   "nbconvert_exporter": "python",
   "pygments_lexer": "ipython3",
   "version": "3.9.12"
  },
  "toc": {
   "base_numbering": 1,
   "nav_menu": {},
   "number_sections": true,
   "sideBar": true,
   "skip_h1_title": false,
   "title_cell": "Table of Contents",
   "title_sidebar": "Contents",
   "toc_cell": false,
   "toc_position": {},
   "toc_section_display": true,
   "toc_window_display": false
  },
  "varInspector": {
   "cols": {
    "lenName": 16,
    "lenType": 16,
    "lenVar": 40
   },
   "kernels_config": {
    "python": {
     "delete_cmd_postfix": "",
     "delete_cmd_prefix": "del ",
     "library": "var_list.py",
     "varRefreshCmd": "print(var_dic_list())"
    },
    "r": {
     "delete_cmd_postfix": ") ",
     "delete_cmd_prefix": "rm(",
     "library": "var_list.r",
     "varRefreshCmd": "cat(var_dic_list()) "
    }
   },
   "types_to_exclude": [
    "module",
    "function",
    "builtin_function_or_method",
    "instance",
    "_Feature"
   ],
   "window_display": false
  }
 },
 "nbformat": 4,
 "nbformat_minor": 5
}
