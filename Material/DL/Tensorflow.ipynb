{
 "cells": [
  {
   "cell_type": "markdown",
   "id": "90546494",
   "metadata": {},
   "source": [
    "# Constants"
   ]
  },
  {
   "cell_type": "markdown",
   "id": "811cfd6e",
   "metadata": {},
   "source": [
    "The result of the lines of code is an abstract tensor in the computation graph. the result doesn't actually get calculated. It just defined the model but no process ran to calculate the result.\n",
    "there's not really a result"
   ]
  },
  {
   "cell_type": "code",
   "execution_count": null,
   "id": "5175b240",
   "metadata": {},
   "outputs": [],
   "source": [
    "# Import 'tensorflow'\n",
    "import tensorflow as tf\n",
    "\n",
    "# Initialize two constants\n",
    "x1 = tf.constant([1,2,3,4])\n",
    "x2 = tf.constant ([5,6,7,8])\n",
    "\n",
    "# Multiply\n",
    "result = tf.multiply (×1, ×2)\n",
    "\n",
    "# Print the result\n",
    "print (result)"
   ]
  },
  {
   "cell_type": "markdown",
   "id": "ad3615cb",
   "metadata": {},
   "source": [
    "Constants : Are not changeable values created using the function constant"
   ]
  },
  {
   "cell_type": "code",
   "execution_count": null,
   "id": "7742e34b",
   "metadata": {},
   "outputs": [],
   "source": [
    "import tensorflow as tf\n",
    "# Import 'tensorflow'\n",
    "\n",
    "# Initialize two constants\n",
    "x1 = tf. constant ( [1,2,3,4])\n",
    "x2 = tf.constant( [5,6,7,8])\n",
    "\n",
    "# Multiply\n",
    "result = tf.multiply (x1, ×2)\n",
    "# Intialize the Session\n",
    "sess = tf. Session ()\n",
    "# Print the result\n",
    "print(sess.run (result))\n",
    "# Close the session\n",
    "sess.close()"
   ]
  },
  {
   "cell_type": "code",
   "execution_count": null,
   "id": "ccf9cd36",
   "metadata": {},
   "outputs": [],
   "source": [
    "import tensorflow as tf\n",
    "\n",
    "# Initialize two constants\n",
    "\n",
    "x1 = tf.constant ( [1,2,3,4])\n",
    "x2 = tf.constant ([5,6,7,8])\n",
    "\n",
    "# Multiply\n",
    "result = tf.multiply (×1, ×2)\n",
    "\n",
    "# Initialize Session and run 'result\n",
    "with tf. Session () as sess:\n",
    "    output = sess.run (result)\n",
    "    print(output)"
   ]
  },
  {
   "cell_type": "markdown",
   "id": "0a3d8623",
   "metadata": {},
   "source": [
    "# Variables"
   ]
  },
  {
   "cell_type": "markdown",
   "id": "4cb5ce47",
   "metadata": {},
   "source": [
    "Variables in TensorFlow are in-memory buffers containing tensors which have to be explicitly initialized and used in-graph to maintain state across session."
   ]
  },
  {
   "cell_type": "code",
   "execution_count": null,
   "id": "a38ffd05",
   "metadata": {},
   "outputs": [],
   "source": [
    "import tensorflow as tf\n",
    "\n",
    "var1 = tf.Variable (L[1, 2], [1, 2]], name=\"variable1\")\n",
    "var2 = tf. Variable ([[3, 4], [3, 4]], name=\"variable2\")\n",
    "\n",
    "result = tf.matmul (var1, var2)\n",
    "init = tf.global variables initializer ()\n",
    "with tf. Session () as sess:\n",
    "    sess.run(init)\n",
    "    output = sess.run (result)\n",
    "    print(output)"
   ]
  },
  {
   "cell_type": "markdown",
   "id": "66b785a9",
   "metadata": {},
   "source": [
    "# Placeholders"
   ]
  },
  {
   "cell_type": "markdown",
   "id": "9ecfd288",
   "metadata": {},
   "source": [
    "Placeholder is TensorFlow's way of allowing developers to inject data into the computation graph through placeholders which are bound inside some expressions\n",
    "Placeholders are tensors which are waiting to be initialized/fed. Placeholders are used for training data which is only fed when the code is actually run inside a session. What is fed to Placeholder is called feed dict."
   ]
  },
  {
   "cell_type": "code",
   "execution_count": null,
   "id": "5e74a804",
   "metadata": {},
   "outputs": [],
   "source": [
    "import tensorflow as tf\n",
    "a = tf.placeholder (\"float\") # Create a symbolic variable 'a'\n",
    "b = tf.placeholder (\"float\") # Create a symbolic variable 'b'\n",
    "\n",
    "y = tf.multiply(a, b) # multiply the symbolic variables\n",
    "with tf.Session () as sess: # create a session to evaluate the symbolic expressions\n",
    "    # eval expressions with parameters for a and b\n",
    "    print (\"% should equal 2.0\" % sess. run(y, feed_dict={a: 1, b: 2})) \n",
    "    print (\"% should equal 9.0\" % sess. run(y, feed_dict={a: 3, b: 3}))\n"
   ]
  },
  {
   "cell_type": "markdown",
   "id": "e834e798",
   "metadata": {},
   "source": [
    "# TensorBoard"
   ]
  },
  {
   "cell_type": "markdown",
   "id": "a40ebcf5",
   "metadata": {},
   "source": [
    "TensorBoard is a visualization tool to analyzing Data Flow Graph and to better understand the machine learning models. In order to help users understand the structure of their computation graphs and also to understand the overall behavior of machine learning models.\n",
    "The data displayed with TensorBoard module are generated during the execution of TensorFlow and stored in trace."
   ]
  },
  {
   "cell_type": "code",
   "execution_count": null,
   "id": "3e8d51a4",
   "metadata": {},
   "outputs": [],
   "source": [
    "import tensorflow as tf\n",
    "x = tf.placeholder (tf.float32, name=\"×\")\n",
    "y = tf.placeholder(tf.float32, name=\"y\")\n",
    "z = tf.multiply(x, y, name=\"z\")\n",
    "with tf.Session() as session:\n",
    "    print (session.run(z, feed_dict={x: 2.1, : 3.0}))\n",
    "    merged = tf.summary emerge_all()\n",
    "    writer = tf.summary. FileWriter (\"logs/2\", session graph)"
   ]
  },
  {
   "cell_type": "markdown",
   "id": "7b49517f",
   "metadata": {},
   "source": [
    "# Example Placeholder & Variable"
   ]
  },
  {
   "cell_type": "code",
   "execution_count": null,
   "id": "bc183f34",
   "metadata": {},
   "outputs": [],
   "source": [
    "import tensorflow as tf\n",
    "import numpy as np\n",
    "\n",
    "# create TensorFlow variables\n",
    "b = tf.placeholder(tf.float32, [None, 1], name='b')\n",
    "c = tf. Variable (20.0, name='c\")\n",
    "a = tf.multiply(b, c, name='a')\n",
    "# setup the variable initialisation\n",
    "init_op = tf.global_variables_initializer ()\n",
    "\n",
    "# start the session\n",
    "with tf. Session () as sess:\n",
    "    sess.run(init_op)\n",
    "    # compute the output of the graph\n",
    "    a_out = sess.run(a, feed_dict={b: np.arange (0, 15) [:, np.newaxis]})\n",
    "    print(\"Variable a is {}\".format (a_out))"
   ]
  },
  {
   "cell_type": "markdown",
   "id": "bfea35d4",
   "metadata": {},
   "source": [
    "# Variable & Constants & Sessions"
   ]
  },
  {
   "cell_type": "code",
   "execution_count": null,
   "id": "c785fe29",
   "metadata": {},
   "outputs": [],
   "source": [
    "import tensorflow as tf\n",
    "x = tf. constant (-2.0, name=\"x\", dtype=tf.float32)\n",
    "a = tf.constant (5.0, name=\"a\", dtype=tf.float32)\n",
    "5b = tf.constant (13.0, name=\"b\", dtype-tf. float32)\n",
    "print(\"x : \", x)\n",
    "print(\"a : \", a)\n",
    "y = tf.Variable(tf.add(tf.multiply(a, x), b))\n",
    "init = tf.global_variables_initializer ()\n",
    "with tf.Session() as session:\n",
    "    session.run(init)\n",
    "    print (\"the sum is :\",session. run (y))"
   ]
  },
  {
   "cell_type": "markdown",
   "id": "6489ef60",
   "metadata": {},
   "source": [
    "# Variable Example"
   ]
  },
  {
   "cell_type": "code",
   "execution_count": null,
   "id": "22f7c4fc",
   "metadata": {},
   "outputs": [],
   "source": [
    "import tensorflow as tf\n",
    "var = tf.Variable(0)\n",
    "# our first variable in the \"global_variable\" set\n",
    "add_operation = tf.add(var, 1)\n",
    "update_operation = tf.assign(var, add_operation)\n",
    "with tf. Session () as sess:\n",
    "    # once define variables, you have to initialize them by doing this\n",
    "    sess.run(tf-global_variables_initializer ())\n",
    "    for _ in range (5):\n",
    "        sess.run(update_operation)\n",
    "        print(sess.run (var))"
   ]
  },
  {
   "cell_type": "markdown",
   "id": "9a473ebe",
   "metadata": {},
   "source": [
    "# Tensors ( multidimensional arrays)"
   ]
  },
  {
   "cell_type": "code",
   "execution_count": null,
   "id": "244e479a",
   "metadata": {},
   "outputs": [],
   "source": [
    "import tensorflow as tf\n",
    "import numpy as np\n",
    "\n",
    "matrix1 = np.array([(2,2,2), (2,2,2), (2,2,2)], dtype='int32')\n",
    "matrix2 = np.array([(1,1,1), (1,1,1), (1,1,1)], dtype='int32')\n",
    "matrix_3 = np.array([(2,7,2), (1,4,2), (9,0,2)], dtype='float32')\n",
    "\n",
    "print (\"matrix1 =\" ‚matrix1)\n",
    "print (\"matrix2 =\", ‚matrix2)\n",
    "print (\"matrix_3 =\",matrix_3)\n",
    "\n",
    "matrix1 = tf.constant (matrix1)\n",
    "matrix2 = tf.constant(matrix2)\n",
    "\n",
    "matrix_product = tf .matmul (matrix1, matrix2)\n",
    "matrix_sum = tf.add(matrix1, matrix2)\n",
    "matrix_det = tf.matrix_determinant (matrix_3)\n",
    "\n",
    "with tf. Session () as sess:\n",
    "    result1 = sess.run(matrix_product)\n",
    "    result2 = sess.run(matrix_sum)\n",
    "    result3 = sess.run(matrix_det)\n",
    "    \n",
    "print (\"matrix1*matrix2 =\"‚result1)\n",
    "print (\"matrix1 + matrix2 =\"‚result2)\n",
    "print (\"matrix3 determinant result =\", result3)"
   ]
  },
  {
   "cell_type": "markdown",
   "id": "f1185c8a",
   "metadata": {},
   "source": [
    "# Tensorflow to Solve Simple Math Equation"
   ]
  },
  {
   "cell_type": "markdown",
   "id": "7ee9afcb",
   "metadata": {},
   "source": [
    "Tensorflow is a powerful deep learning framework that it can help us reduce automation works and save us from daily hassle. Apart from that, it is also can be train to do smart thing such as solving puzzle.\n",
    "\n",
    "y=X+Z\n",
    "\n",
    "Z=Y -X !!!"
   ]
  },
  {
   "cell_type": "code",
   "execution_count": null,
   "id": "0503fb22",
   "metadata": {},
   "outputs": [],
   "source": [
    "import tensorflow as tf\n",
    "x = tf.constant (4.)\n",
    "y = tf. constant (12.)\n",
    "Z = tf.Variable (0.)\n",
    "yy = tf.add(x, Z)\n",
    "deviation = tf.square (y - yy)\n",
    "train_step = tf.train.GradientDescentOptimizer (0.01).minimize (deviation)\n",
    "init = tf.global_variables_initializer ()\n",
    "sess = tf. Session ();\n",
    "sess.run(init)\n",
    "for i in range (1000):\n",
    "    sess.run(train_step)\n",
    "print(\"Estimating of Z: \", sess. run(Z))"
   ]
  },
  {
   "cell_type": "markdown",
   "id": "c77a6769",
   "metadata": {},
   "source": [
    "# Matrix Operations"
   ]
  },
  {
   "cell_type": "code",
   "execution_count": null,
   "id": "d88002e7",
   "metadata": {},
   "outputs": [],
   "source": [
    "import tensorflow as tf\n",
    "import numpy as np\n",
    "def convert(v, t=tf.float32):\n",
    "    return tf.convert_to_tensor (v, dtype=t)\n",
    "m1 = convert (np.array(np.random. rand (4, 4), dtype='float32'))\n",
    "m2 = convert(np.array (np.random.rand(4, 4), dtype='float32'))\n",
    "m3 = convert (np.array(np.random. rand(4, 4), dtype= 'float32))\n",
    "m4 = convert (np.array(np.random.rand (4, 4), dtype='float32'))\n",
    "m5 = convert (np.array(np.random. rand (4, 4), dtype='float32'))\n",
    "\n",
    "m_tranpose = tf. transpose (m1)\n",
    "m_mul = tf.matmul(m1, m2)\n",
    "m_det = tf.matrix_determinant (m3)\n",
    "m_inv = tf.matrix_ inverse(m4)\n",
    "m_solve = tf.matrix_solve (m5, [[1], [1], [1], [1]])\n",
    "\n",
    "with tf. Session() as session:\n",
    "    print (session.run (m_tranpose))\n",
    "    print (session.run(m mul))\n",
    "    print (session.run(m_inv))\n",
    "    print (session.run(m det))\n",
    "    print (session.run (m_solve))"
   ]
  },
  {
   "cell_type": "markdown",
   "id": "5857180a",
   "metadata": {},
   "source": [
    "# Computing Gradients"
   ]
  },
  {
   "cell_type": "code",
   "execution_count": null,
   "id": "9dfd7f2c",
   "metadata": {},
   "outputs": [],
   "source": [
    "import tensorflow as tf\n",
    "x = tf.placeholder (tf.float32)\n",
    "y = 2*×**2\n",
    "var_grad = tf-gradients (y, x)\n",
    "with tf. Session() as session:\n",
    "    var_grad_val = session.run(var_grad, feed_dict={x:1})\n",
    "print(var_grad_val)"
   ]
  },
  {
   "cell_type": "markdown",
   "id": "c1e23226",
   "metadata": {},
   "source": [
    "# The linear regression algorithm"
   ]
  },
  {
   "cell_type": "code",
   "execution_count": null,
   "id": "f4d72286",
   "metadata": {},
   "outputs": [],
   "source": [
    "import numpy as np\n",
    "import matplotlib.pyplot as plt\n",
    "import tensorflow as tf\n",
    "number_of_points = 200\n",
    "x_point = []\n",
    "y_point = []\n",
    "a = 0.22\n",
    "b = 0.78\n",
    "for i in range (number_of_points):\n",
    "    x = np.random.normal (0.0,0.5)\n",
    "    y = a*x + b +np.random.normal (0.0,0.1)\n",
    "    x_point.append([x])\n",
    "    y_point.append([y])\n",
    "plt.plot(x_point,y_point,'o', label='Input Data')\n",
    "plt. legend()\n",
    "plt.show()\n",
    "A = tf. Variable(tf.random_uniform([1], -1.0, 1.0))\n",
    "B = tf.Variable(tf.zeros ([1]))\n",
    "y = A * x_point + B\n",
    "cost_function = tf.reduce_mean (tf. square (y - y_point))\n",
    "optimizer = tf.train.GradientDescentOptimizer (0.5)\n",
    "train = optimizer.minimize(cost_function)\n",
    "model = tf.initialize_all_variables ()\n",
    "with tf. Session() as session:\n",
    "    session.run(model)\n",
    "    for step in range (0,21):\n",
    "        session.run(train)\n",
    "        if (step % 5) == 0:\n",
    "            plt.plot(×_point, y_point, 'o',label='step = ()'.format(step))\n",
    "            plt.plot (x_point,session.run(A) *x_point +session.run (B))\n",
    "            plt. legend()\n",
    "            plt.show()"
   ]
  },
  {
   "cell_type": "markdown",
   "id": "a37e3a9e",
   "metadata": {},
   "source": [
    "# XOR - Tensorflow Traditional way"
   ]
  },
  {
   "cell_type": "code",
   "execution_count": null,
   "id": "e99b76e3",
   "metadata": {},
   "outputs": [],
   "source": [
    "import tensorflow as tf\n",
    "x_ = tf.placeholder(tf.float32, shape= [4,2], name=\"x-input\")\n",
    "y_ = tf.placeholder(tf.float32, shape= [4,1], name=\"y-input\")\n",
    "Thetal = tf.Variable(tf.random_uniform( [2,2],-1, 1), name=\"Thetal\")\n",
    "Theta2 = tf. Variable(tf.random_uniform([2,1], -1, 1), name= \"Theta2\")\n",
    "Bias1 = tf. Variable(tf.zeros ([2]), name= \"Bias1\"')\n",
    "Bias2 = tf. Variable(tf.zeros ([1]), name=\"Bias2\")\n",
    "A2 = tf.sigmoid(tf.matmul(x_, Theta1) + Bias1)\n",
    "Hypothesis = tf.sigmoid(tf.matmul(A2, Theta2) + Bias2)\n",
    "cost = tf.reduce mean(( (y_ * tf.log (Hypothesis))+((1 - y_) * tf.log(1.0 - Hypothesis)) ) * -1)\n",
    "train_step = tf.train.GradientDescentOptimizer (0.01).minimize (cost)\n",
    "XOR_X = [[0,0], [0,1], [1,0], [1,1]]\n",
    "XOR_Y = [ [0], [1], [1], [0]]\n",
    "init = tf.global_variables_initializer ()\n",
    "sess = tf. Session ()\n",
    "sess.run(init)\n",
    "for i in range (100000) :\n",
    "    sess.run(train_step, feed_dict={x_: XOR_X, Y_: XOR_Y}) \n",
    "    if i % 10000 == 0:\n",
    "        print('Epoch ', i)\n",
    "        print('Hypothesis ', sess.run (Hypothesis, feed_dict={x_: XOR_X, Y_: XOR_Y}))\n",
    "        print('Thetal', sess.run (Theta1))\n",
    "        print('Bias1', sess.run (Bias1))\n",
    "        print('Theta2', sess.run (Theta2))\n",
    "        print('Bias2', sess.run(Bias2))\n",
    "        print('cost', sess.run(cost, feed_dict={x_: XOR_X, Y_: XOR_Y}))"
   ]
  },
  {
   "cell_type": "markdown",
   "id": "5989e62c",
   "metadata": {},
   "source": [
    "# XOR Using Tensorflow-Keras"
   ]
  },
  {
   "cell_type": "code",
   "execution_count": null,
   "id": "d142a8f2",
   "metadata": {},
   "outputs": [],
   "source": [
    "from tensorflow import keras\n",
    "import numpy as np\n",
    "data = np.array ([ [0,0], [0,1], [1,0], [1,1]], \"float32\")\n",
    "labels = np.array (I [0], [1], [1], [0]1,\"float32\")\n",
    "model = keras. Sequential ()\n",
    "model. add(keras. layars. Dense (16, input_dim=2, activation='relu'))\n",
    "model. add(keras. layers. Dense (1, activation='sigmoid'))\n",
    "model. compile (loss='mean _squared_error',optimizer='adam',metrics=['binary_accuracy'])\n",
    "model.fit (data, labels, _epoch=500, verbose=2)\n",
    "print (model.predict (data) .round ())"
   ]
  },
  {
   "cell_type": "markdown",
   "id": "9604d98d",
   "metadata": {},
   "source": [
    "# Working with images"
   ]
  },
  {
   "cell_type": "markdown",
   "id": "d82c5f36",
   "metadata": {},
   "source": [
    "This line uses TensorFlow's transpose method, swapping the axes 0 and 1 around using the perm parameter (axis 2 stays where it is).\n"
   ]
  },
  {
   "cell_type": "code",
   "execution_count": null,
   "id": "c5616d63",
   "metadata": {},
   "outputs": [],
   "source": [
    "import tensorflow as tf\n",
    "import matplotlib.image as img\n",
    "import matplotlib.pyplot as plot\n",
    "##########################################\n",
    "myfile = \"baboon.png\"\n",
    "myimage = img.imread(myfile)\n",
    "plot.imshow (myimage)\n",
    "plot.show()\n",
    "############################################\n",
    "slice = tf.placeholder (\"int32\", [None, None, 3])\n",
    "cropped = tf.slice (myimage, [10,0,0], [16, -1,-1])\n",
    "sess = tf. Session ()\n",
    "result = sess.run(cropped, feed_dict={slice: myimage})\n",
    "plot.imshow(result)\n",
    "plot.show ()\n",
    "############################################\n",
    "image = tf. Variable (mimage, name='image')\n",
    "vars = tf.global_variables_initializer ()\n",
    "flipped = tf.transpose(image, perm= [1,0,2])\n",
    "sess.run(vars)\n",
    "result=sess.run(flipped)\n",
    "plot.imshow(result)\n",
    "plot.show()"
   ]
  },
  {
   "cell_type": "markdown",
   "id": "e8d21a36",
   "metadata": {},
   "source": [
    "# Refrences :\n",
    "\n",
    "https://www.toptal.com/machine-learning/tensorflow-machine-learning-tutorial\n",
    "\n",
    "https://github.com/MorvanZhou/Tensorflow-Tutorial/blob/master/tutorial-contents/203_variable.py\n",
    "\n",
    "https://medium.com/@liccowee/tensorflow-to-solve-simple-math-equation-27f42a44f0f1\n",
    "\n",
    "https://aimatters.wordpress.com/2016/01/16/solving-xor-with-a-neural-network-in-tensorflow/\n",
    "\n",
    "https://blog.thoughtram.io/machine-learning/2016/11/02/understanding-XOR-with-keras-and-tensorlow.html\n"
   ]
  },
  {
   "cell_type": "code",
   "execution_count": null,
   "id": "d6273d8e",
   "metadata": {},
   "outputs": [],
   "source": []
  }
 ],
 "metadata": {
  "kernelspec": {
   "display_name": "Python 3 (ipykernel)",
   "language": "python",
   "name": "python3"
  },
  "language_info": {
   "codemirror_mode": {
    "name": "ipython",
    "version": 3
   },
   "file_extension": ".py",
   "mimetype": "text/x-python",
   "name": "python",
   "nbconvert_exporter": "python",
   "pygments_lexer": "ipython3",
   "version": "3.9.12"
  },
  "toc": {
   "base_numbering": 1,
   "nav_menu": {},
   "number_sections": true,
   "sideBar": true,
   "skip_h1_title": false,
   "title_cell": "Table of Contents",
   "title_sidebar": "Contents",
   "toc_cell": false,
   "toc_position": {},
   "toc_section_display": true,
   "toc_window_display": false
  },
  "varInspector": {
   "cols": {
    "lenName": 16,
    "lenType": 16,
    "lenVar": 40
   },
   "kernels_config": {
    "python": {
     "delete_cmd_postfix": "",
     "delete_cmd_prefix": "del ",
     "library": "var_list.py",
     "varRefreshCmd": "print(var_dic_list())"
    },
    "r": {
     "delete_cmd_postfix": ") ",
     "delete_cmd_prefix": "rm(",
     "library": "var_list.r",
     "varRefreshCmd": "cat(var_dic_list()) "
    }
   },
   "types_to_exclude": [
    "module",
    "function",
    "builtin_function_or_method",
    "instance",
    "_Feature"
   ],
   "window_display": false
  }
 },
 "nbformat": 4,
 "nbformat_minor": 5
}
