{
 "cells": [
  {
   "cell_type": "code",
   "execution_count": null,
   "id": "c87cbcd0",
   "metadata": {},
   "outputs": [],
   "source": [
    "# Blur\n",
    "blur = cv. GaussianBlur (img, (3,3), cv. BORDER_ DEFAULT)\n",
    "cv. imshow( 'Blur', blur) \n",
    "cv.waitKey (0)\n",
    "\n",
    "\n",
    "# Edge Cascade\n",
    "canny = cv. Canny(blur, 125, 175)\n",
    "cv. imshow ( 'Canny Edges', canny) \n",
    "cv.waitKey (0)\n",
    "\n",
    "\n",
    "# Dilating the image\n",
    "dilated = cv. dilate (canny, (7,7), iterations 3)\n",
    "cv. imshow ('Dilated', dilated) \n",
    "cv.waitKey(0)\n",
    "\n",
    "\n",
    "# Eroding\n",
    "eroded = cv.erode(dilated, (7,7), iterations=3)\n",
    "cv. imshow ('Eroded' , eroded) \n",
    "cv.waitKey (0)\n",
    "\n",
    "\n",
    "# Resize\n",
    "resized = cv.resize(img, (1000,500), interpolation= cv.INTER_CUBIC)\n",
    "cv.imshow ('Resized', resized) \n",
    "cv.waitKey (0)\n"
   ]
  },
  {
   "cell_type": "code",
   "execution_count": null,
   "id": "11b670b2",
   "metadata": {},
   "outputs": [],
   "source": [
    "# Reading Videos\n",
    "capture = cv.VideoCapture(' .. /Resources/Videos/dog.mp4' ) # n number\n",
    "counter = 0\n",
    "frames = []\n",
    "while True:\n",
    "    isTrue, frame = capture.read() # read 1 image (frame ) return t/f\n",
    "    # if cv.waitKey (20) & OxFF==ord( 'd'):\n",
    "    # This is the preferred way - if \"isTrue is false (the frame could\n",
    "    # not be read, or we're at the end of the video),. we immediately\n",
    "    # break from the loop.\n",
    "    if isTrue:\n",
    "        frames.append (frame)\n",
    "        counter+=1\n",
    "        cv. imshow ( 'my video', frame) \n",
    "        if cv.waitkey (20) & OxFF==ord('d'):\n",
    "            break\n",
    "    else:\n",
    "        break\n",
    "capture.release ( )\n",
    "cv. destroyAllWindows ( ) # remove video from memory\n",
    "print (counter)\n",
    "\n",
    "cv.imshow( \"newframe\", frames [74]) \n",
    "cv.waitKey(0)"
   ]
  },
  {
   "cell_type": "code",
   "execution_count": null,
   "id": "3ee2b5d5",
   "metadata": {},
   "outputs": [],
   "source": [
    "# Cropping\n",
    "cropped = img[50:200, 200:400] # slicing\n",
    "cv. imshow ( 'Cropped', cropped) \n",
    "cv.waitKey (0)"
   ]
  },
  {
   "cell_type": "code",
   "execution_count": null,
   "id": "e86aaf96",
   "metadata": {},
   "outputs": [],
   "source": [
    "# Converting to grayscale\n",
    "gray = cv.cvtColor (img, cv.COLOR_BGR2GRAY)\n",
    "cv. imshow( 'Gray', gray)"
   ]
  },
  {
   "cell_type": "code",
   "execution_count": null,
   "id": "8221036a",
   "metadata": {},
   "outputs": [],
   "source": [
    "# Blur\n",
    "blur = cv. GaussianBlur (img, (7,7), CV.BORDER_DEFAULT)\n",
    "cv. imshow( 'Blur', blur)\n",
    "# Edge Cascade\n",
    "canny = cv. Canny(blur, 125, 175)\n",
    "cv. imshow ( 'Canny Edges', canny)"
   ]
  },
  {
   "cell_type": "code",
   "execution_count": null,
   "id": "c291b0a2",
   "metadata": {},
   "outputs": [],
   "source": [
    "import numpy as np\n",
    "blank = np.zeros ( (500,500, 3), dtype='uint8' ) \n",
    "cv. imshow ('Blank', blank) \n",
    "cv.waitKey (0)"
   ]
  },
  {
   "cell_type": "code",
   "execution_count": null,
   "id": "4a92ce37",
   "metadata": {},
   "outputs": [],
   "source": [
    "# 1. Paint the image a certain colour\n",
    "img[200:300 , 300:400] = 0,255,0 # BGR\n",
    "cv. imshow( 'Green', img) \n",
    "cv.waitKey (0)\n"
   ]
  },
  {
   "cell_type": "code",
   "execution_count": null,
   "id": "e19fe69c",
   "metadata": {},
   "outputs": [],
   "source": [
    "# 2. Draw a Rectangle\n",
    "cv. rectangle(blank, (100,150), (200, 400), (255,0,0), thickness=-1)\n",
    "cv. imshow ('Rectangle', blank) \n",
    "cv.waitKey (0)\n"
   ]
  },
  {
   "cell_type": "code",
   "execution_count": null,
   "id": "278a3a27",
   "metadata": {},
   "outputs": [],
   "source": [
    "# 3. Draw A circle\n",
    "blank = np.zeros ( (500, 1000,3), dtype='uint8')\n",
    "cv.circle(blank, (200, 300), 120, (0,0,255), thickness=-1) \n",
    "cv. imshow( 'Circle', blank) \n",
    "cv.waitKey (0)"
   ]
  },
  {
   "cell_type": "code",
   "execution_count": null,
   "id": "71be2086",
   "metadata": {},
   "outputs": [],
   "source": [
    "# 4. Draw a line\n",
    "cv. line (blank, (100,250), (100,400), (255,255,255), thickness=7) \n",
    "cv. imshow ( 'Line', blank) \n",
    "cv.waitKey ( 0 )"
   ]
  },
  {
   "cell_type": "code",
   "execution_count": null,
   "id": "c3c4ae4e",
   "metadata": {},
   "outputs": [],
   "source": [
    "# 5. Write text \n",
    "import numpy as np \n",
    "import cv2 as cv\n",
    "blank = np.zeros ( (500, 1000, 3), dtype='uint8' )\n",
    "CV. putText (blank, 'this is opencv session!!!', (20,100), cv. FONT_ HERSHEY_TRIPLEX, .90, (0,255, 0), 1)\n",
    "cv. imshow ( 'Text', blank) \n",
    "cv.waitKey (0)"
   ]
  },
  {
   "cell_type": "code",
   "execution_count": null,
   "id": "6f10d250",
   "metadata": {},
   "outputs": [],
   "source": [
    "# Translation\n",
    "def translate (img, X, Y) :\n",
    "    transmat = np. float32 ([[1, 0,x], [0,1,y]])\n",
    "    dimensions = (img.shape [1], img. shape [0])\n",
    "    return. cv.warpAffine(img, transMat, dimensions)\n",
    "translated = translate (img, - 100, 100)\n",
    "cv. imshow ( 'Translated', translated) \n",
    "cv.waitkey (0)"
   ]
  },
  {
   "cell_type": "code",
   "execution_count": null,
   "id": "3d4e3fbe",
   "metadata": {},
   "outputs": [],
   "source": [
    "# Rotation\n",
    "def rotate (img, angle, rotPoint=None) :\n",
    "    (height ,width) = img.shape[: 2]\n",
    "    if rotPoint is None:\n",
    "        rotPoint - (width//2,height//2)\n",
    "    rotMat - cv. getRotationMatrix2D (rotPoint, angle, 1)"
   ]
  },
  {
   "cell_type": "code",
   "execution_count": null,
   "id": "8904c02c",
   "metadata": {},
   "outputs": [],
   "source": [
    "# show img by matplotlib in gray scale\n",
    "from matplotlib import pyplot as plt\n",
    "plt.figure (figsize= (20, 10))\n",
    "%matplotlib notebook\n",
    "plt.imshow (img, cmap = 'gray')\n",
    "plt.xticks ([]), plt.yticks ([]) # to hide tick values on X and Y axis\n",
    "plt. show ( )"
   ]
  }
 ],
 "metadata": {
  "kernelspec": {
   "display_name": "Python 3 (ipykernel)",
   "language": "python",
   "name": "python3"
  },
  "language_info": {
   "codemirror_mode": {
    "name": "ipython",
    "version": 3
   },
   "file_extension": ".py",
   "mimetype": "text/x-python",
   "name": "python",
   "nbconvert_exporter": "python",
   "pygments_lexer": "ipython3",
   "version": "3.9.12"
  },
  "toc": {
   "base_numbering": 1,
   "nav_menu": {},
   "number_sections": true,
   "sideBar": true,
   "skip_h1_title": false,
   "title_cell": "Table of Contents",
   "title_sidebar": "Contents",
   "toc_cell": false,
   "toc_position": {},
   "toc_section_display": true,
   "toc_window_display": false
  },
  "varInspector": {
   "cols": {
    "lenName": 16,
    "lenType": 16,
    "lenVar": 40
   },
   "kernels_config": {
    "python": {
     "delete_cmd_postfix": "",
     "delete_cmd_prefix": "del ",
     "library": "var_list.py",
     "varRefreshCmd": "print(var_dic_list())"
    },
    "r": {
     "delete_cmd_postfix": ") ",
     "delete_cmd_prefix": "rm(",
     "library": "var_list.r",
     "varRefreshCmd": "cat(var_dic_list()) "
    }
   },
   "types_to_exclude": [
    "module",
    "function",
    "builtin_function_or_method",
    "instance",
    "_Feature"
   ],
   "window_display": false
  }
 },
 "nbformat": 4,
 "nbformat_minor": 5
}
