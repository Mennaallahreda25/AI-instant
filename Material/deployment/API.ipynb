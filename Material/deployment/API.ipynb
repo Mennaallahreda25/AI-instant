{
 "cells": [
  {
   "cell_type": "markdown",
   "id": "d49fed3e",
   "metadata": {},
   "source": [
    "### To Create an API:\n",
    "\n",
    "- Flask\n",
    "- FastAPI\n",
    "- Streamlit "
   ]
  },
  {
   "cell_type": "code",
   "execution_count": null,
   "id": "2b62455b-5bd4-479f-8fd7-9ee417b3fe48",
   "metadata": {
    "ExecuteTime": {
     "start_time": "2023-02-08T17:10:30.508Z"
    }
   },
   "outputs": [
    {
     "name": "stderr",
     "output_type": "stream",
     "text": [
      " * Running on http://localhost:8000/ (Press CTRL+C to quit)\n",
      "/Users/ahmedhafez/opt/anaconda3/lib/python3.9/site-packages/sklearn/base.py:450: UserWarning: X does not have valid feature names, but LinearRegression was fitted with feature names\n",
      "  warnings.warn(\n",
      "127.0.0.1 - - [08/Feb/2023 19:10:32] \"POST /predict HTTP/1.1\" 200 -\n"
     ]
    },
    {
     "name": "stdout",
     "output_type": "stream",
     "text": [
      "<class 'str'>\n"
     ]
    }
   ],
   "source": [
    "import json \n",
    "from werkzeug.wrappers import Request, Response\n",
    "from flask import Flask\n",
    "from flask import jsonify,request\n",
    "\n",
    "app = Flask(__name__)\n",
    "\n",
    "# GET Request\n",
    "@app.route(\"/\")\n",
    "def hello_world():\n",
    "    return \"Ahmed\"\n",
    "\n",
    "\n",
    "# POST Request\n",
    "@app.route(\"/round25\",  methods=[\"POST\"])\n",
    "def new():\n",
    "    if request.method == 'POST':\n",
    "        num = int(request.form.get(\"area\"))\n",
    "    return jsonify(str(num+5))\n",
    "        \n",
    "# Using API to predict\n",
    "@app.route(\"/predict\" , methods = [\"POST\"])\n",
    "def predict():\n",
    "    if request.method == 'POST':\n",
    "        area = int(request.form.get(\"area\"))\n",
    "        import joblib\n",
    "        model = joblib.load(\"model_joblib\")\n",
    "        result = model.predict([[area]])\n",
    "        x= dict()\n",
    "        x[\"Price\"] = str(result[0])\n",
    "    return jsonify(x)\n",
    "\n",
    "\n",
    "from werkzeug.serving import run_simple\n",
    "run_simple('localhost', 8000, app)"
   ]
  },
  {
   "cell_type": "code",
   "execution_count": null,
   "id": "9b05826d",
   "metadata": {},
   "outputs": [],
   "source": []
  }
 ],
 "metadata": {
  "kernelspec": {
   "display_name": "Python 3 (ipykernel)",
   "language": "python",
   "name": "python3"
  },
  "language_info": {
   "codemirror_mode": {
    "name": "ipython",
    "version": 3
   },
   "file_extension": ".py",
   "mimetype": "text/x-python",
   "name": "python",
   "nbconvert_exporter": "python",
   "pygments_lexer": "ipython3",
   "version": "3.9.13"
  }
 },
 "nbformat": 4,
 "nbformat_minor": 5
}
