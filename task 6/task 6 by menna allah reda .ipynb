{
 "cells": [
  {
   "cell_type": "code",
   "execution_count": 10,
   "id": "62359fe6",
   "metadata": {
    "ExecuteTime": {
     "end_time": "2022-08-21T01:47:05.192333Z",
     "start_time": "2022-08-21T01:47:05.179350Z"
    }
   },
   "outputs": [],
   "source": [
    "#1-Why and how to use protected visibility in python?\n",
    "#Protected members of a class are accessible from within the class and are also available to its sub-classes. No other environment is permitted access to it. This enables specific resources of the parent class to be inherited by the child class.\n",
    "\n",
    "#Python's convention to make an instance variable protected is to add a prefix _ (single underscore) to it. This effectively prevents it from being accessed unless it is from within a sub-class."
   ]
  },
  {
   "cell_type": "code",
   "execution_count": 2,
   "id": "68937db0",
   "metadata": {
    "ExecuteTime": {
     "end_time": "2022-08-21T01:43:57.325041Z",
     "start_time": "2022-08-21T01:43:57.305095Z"
    }
   },
   "outputs": [],
   "source": [
    "class Student:\n",
    "    _schoolName = 'XYZ School' # protected class attribute\n",
    "    \n",
    "    def __init__(self, name, age):\n",
    "        self._name=name  # protected instance attribute\n",
    "        self._age=age # protected instance attribute"
   ]
  },
  {
   "cell_type": "code",
   "execution_count": 3,
   "id": "ff6b3001",
   "metadata": {
    "ExecuteTime": {
     "end_time": "2022-08-21T01:45:02.406391Z",
     "start_time": "2022-08-21T01:45:02.398412Z"
    }
   },
   "outputs": [],
   "source": [
    "std = Student(\"Swati\", 25)"
   ]
  },
  {
   "cell_type": "code",
   "execution_count": 4,
   "id": "4e8c1bf4",
   "metadata": {
    "ExecuteTime": {
     "end_time": "2022-08-21T01:45:21.825396Z",
     "start_time": "2022-08-21T01:45:21.751602Z"
    }
   },
   "outputs": [
    {
     "data": {
      "text/plain": [
       "'Swati'"
      ]
     },
     "execution_count": 4,
     "metadata": {},
     "output_type": "execute_result"
    }
   ],
   "source": [
    "std._name"
   ]
  },
  {
   "cell_type": "code",
   "execution_count": 5,
   "id": "ce5504d8",
   "metadata": {
    "ExecuteTime": {
     "end_time": "2022-08-21T01:45:59.967720Z",
     "start_time": "2022-08-21T01:45:59.961737Z"
    }
   },
   "outputs": [],
   "source": [
    "std._name = 'Dipa'"
   ]
  },
  {
   "cell_type": "code",
   "execution_count": 7,
   "id": "76e254c6",
   "metadata": {
    "ExecuteTime": {
     "end_time": "2022-08-21T01:46:11.214759Z",
     "start_time": "2022-08-21T01:46:11.199771Z"
    }
   },
   "outputs": [
    {
     "data": {
      "text/plain": [
       "'Dipa'"
      ]
     },
     "execution_count": 7,
     "metadata": {},
     "output_type": "execute_result"
    }
   ],
   "source": [
    "std._name"
   ]
  },
  {
   "cell_type": "code",
   "execution_count": 9,
   "id": "2c8cf689",
   "metadata": {
    "ExecuteTime": {
     "end_time": "2022-08-21T01:46:56.449566Z",
     "start_time": "2022-08-21T01:46:56.433611Z"
    }
   },
   "outputs": [],
   "source": [
    "#2-How to access private data in super class from sub-class?"
   ]
  },
  {
   "cell_type": "code",
   "execution_count": 34,
   "id": "ea9f5103",
   "metadata": {
    "ExecuteTime": {
     "end_time": "2022-08-21T02:19:14.928076Z",
     "start_time": "2022-08-21T02:19:14.917108Z"
    }
   },
   "outputs": [],
   "source": [
    "class A:\n",
    "\n",
    "    __name = None\n",
    "    __roll = None\n",
    "    __branch = None\n",
    "\n",
    "# constructor\n",
    "    def __init__(self, name, roll, branch):\n",
    "        self.__name = name\n",
    "        self.__roll = roll\n",
    "        self.__branch = branch\n",
    "\n",
    " # private member function\n",
    "    def __displayDetails(self):\n",
    "\n",
    "# accessing private data members\n",
    "        print(\"Name: \", self.__name)\n",
    "        print(\"Roll: \", self.__roll)\n",
    "        print(\"Branch: \", self.__branch)\n",
    "        \n",
    "# public member function\n",
    "    def accessPrivateFunction(self):\n",
    "\n",
    "# accessing private member function\n",
    "        self.__displayDetails()"
   ]
  },
  {
   "cell_type": "code",
   "execution_count": 35,
   "id": "e534cd23",
   "metadata": {
    "ExecuteTime": {
     "end_time": "2022-08-21T02:19:16.758825Z",
     "start_time": "2022-08-21T02:19:16.750817Z"
    }
   },
   "outputs": [],
   "source": [
    "class B:\n",
    "    pass"
   ]
  },
  {
   "cell_type": "code",
   "execution_count": 36,
   "id": "44cca6ba",
   "metadata": {
    "ExecuteTime": {
     "end_time": "2022-08-21T02:19:18.611654Z",
     "start_time": "2022-08-21T02:19:18.594700Z"
    }
   },
   "outputs": [],
   "source": [
    "b=A(\"R2J\", 1706256, \"Information Technology\")"
   ]
  },
  {
   "cell_type": "code",
   "execution_count": 37,
   "id": "bfa304ae",
   "metadata": {
    "ExecuteTime": {
     "end_time": "2022-08-21T02:19:23.243786Z",
     "start_time": "2022-08-21T02:19:23.237800Z"
    }
   },
   "outputs": [
    {
     "name": "stdout",
     "output_type": "stream",
     "text": [
      "Name:  R2J\n",
      "Roll:  1706256\n",
      "Branch:  Information Technology\n"
     ]
    }
   ],
   "source": [
    "b.accessPrivateFunction()"
   ]
  }
 ],
 "metadata": {
  "kernelspec": {
   "display_name": "Python 3 (ipykernel)",
   "language": "python",
   "name": "python3"
  },
  "language_info": {
   "codemirror_mode": {
    "name": "ipython",
    "version": 3
   },
   "file_extension": ".py",
   "mimetype": "text/x-python",
   "name": "python",
   "nbconvert_exporter": "python",
   "pygments_lexer": "ipython3",
   "version": "3.9.12"
  },
  "toc": {
   "base_numbering": 1,
   "nav_menu": {},
   "number_sections": true,
   "sideBar": true,
   "skip_h1_title": false,
   "title_cell": "Table of Contents",
   "title_sidebar": "Contents",
   "toc_cell": false,
   "toc_position": {},
   "toc_section_display": true,
   "toc_window_display": false
  },
  "varInspector": {
   "cols": {
    "lenName": 16,
    "lenType": 16,
    "lenVar": 40
   },
   "kernels_config": {
    "python": {
     "delete_cmd_postfix": "",
     "delete_cmd_prefix": "del ",
     "library": "var_list.py",
     "varRefreshCmd": "print(var_dic_list())"
    },
    "r": {
     "delete_cmd_postfix": ") ",
     "delete_cmd_prefix": "rm(",
     "library": "var_list.r",
     "varRefreshCmd": "cat(var_dic_list()) "
    }
   },
   "types_to_exclude": [
    "module",
    "function",
    "builtin_function_or_method",
    "instance",
    "_Feature"
   ],
   "window_display": false
  }
 },
 "nbformat": 4,
 "nbformat_minor": 5
}
