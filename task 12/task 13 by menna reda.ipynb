{
 "cells": [
  {
   "cell_type": "code",
   "execution_count": 37,
   "id": "4ab57120",
   "metadata": {
    "ExecuteTime": {
     "end_time": "2022-09-13T15:39:02.599896Z",
     "start_time": "2022-09-13T15:39:02.591923Z"
    }
   },
   "outputs": [],
   "source": [
    "# How do you convert nonlinear to linear equations?"
   ]
  },
  {
   "cell_type": "code",
   "execution_count": null,
   "id": "f38841f5",
   "metadata": {},
   "outputs": [],
   "source": [
    "would you go about converting => 1y=x2+ab−x into linear form.\n",
    "I know how you would normally go about solving this type of problem but I fail to make any progress on this one.\n",
    "\n",
    "I have to make it in the form Y=mX+c\n",
    "\n",
    "where, Y and X are in terms of x and y (the variables) without a and b (the constants); m and c are in terms of a and b (the constants) without x and y (the variables).\n",
    "\n",
    "I'm having trouble separating the a and x in the ab−x term. Thank you, all help is appreciated.\n",
    "\n",
    "answer:-\n",
    "1y=x2+ab−x\n",
    "1y−x2=ab−x\n",
    "log(1y−x2)=log(ab−x)\n",
    "log(1y−x2)=(b−x)log(a)\n",
    "log(1y−x2)=−log(a)×x+logab\n",
    "Y=mX+c\n",
    "where Y=log(1y−x2) , m=−log(a) , X=x and c=logab"
   ]
  },
  {
   "cell_type": "code",
   "execution_count": 39,
   "id": "ce3fc9fc",
   "metadata": {
    "ExecuteTime": {
     "end_time": "2022-09-13T16:34:30.498760Z",
     "start_time": "2022-09-13T16:34:30.484005Z"
    }
   },
   "outputs": [],
   "source": [
    "# What is PCA and how it works?"
   ]
  },
  {
   "cell_type": "code",
   "execution_count": null,
   "id": "aef98ffa",
   "metadata": {},
   "outputs": [],
   "source": [
    "Principal component analysis, or PCA, is a statistical procedure that allows you \n",
    "to summarize the information content in large data tables by means of a smaller set of\n",
    "“summary indices” that can be more easily visualized and analyzed. The underlying data can be measurements describing \n",
    "properties of production samples, chemical compounds or reactions, process time points of a continuous process,\n",
    "batches from a batch process, biological individuals or trials of a DOE-protocol\n",
    "Using PCA can help identify correlations between data points, such as whether there is a correlation between consumption of foods like frozen fish and crisp bread in Nordic countries.\n",
    "\n",
    "Principal component analysis today is one of the most popular multivariate statistical techniques. It has been widely \n",
    "used in the areas of pattern recognition and signal processing and is a statistical method under the broad title of \n",
    "factor analysis.\n",
    "\n",
    "how it works?\n",
    "Consider a matrix X with N rows (aka \"observations\") and K columns (aka \"variables\"). For this matrix, we construct a variable\n",
    "space with as many dimensions as there are variables (see figure below). Each variable represents one coordinate axis. For each \n",
    "variable, the length has been standardized according to a scaling criterion, normally by scaling to unit variance. You can find\n",
    "more details on scaling to unit variance in the previous blog post.\n",
    "A K-dimensional variable space. For simplicity, only three variables axes are displayed. The “length” of each coordinate axis\n",
    "has been standardized according to a specific criterion, usually unit variance scaling.\n",
    "\n",
    "In the next step, each observation (row) of the X-matrix is placed in the K-dimensional variable space. Consequently,\n",
    "the rows in the data table form a swarm of points in this space.\n",
    "The observations (rows) in the data matrix X can be understood as a swarm of points in the variable space (K-space).\n",
    "Mean centering\n",
    "Next, mean-centering involves the subtraction of the variable averages from the data. The vector of averages corresponds to\n",
    "a point in the K-space.\n",
    "In the mean-centering procedure, you first compute the variable averages. This vector of averages is interpretable as\n",
    "a point (here in red) in space. The point is situated in the middle of the point swarm (at the center of gravity).\n",
    "The subtraction of the averages from the data corresponds to a re-positioning of the coordinate system, such that the average\n",
    "point now is the origin.\n",
    "The mean-centering procedure corresponds to moving the origin of the coordinate system to coincide with the average point \n",
    "(here in red)."
   ]
  },
  {
   "cell_type": "code",
   "execution_count": 38,
   "id": "ce1f2017",
   "metadata": {
    "ExecuteTime": {
     "end_time": "2022-09-13T15:57:57.101062Z",
     "start_time": "2022-09-13T15:57:57.087396Z"
    }
   },
   "outputs": [],
   "source": [
    "# What are C++ Libraries / Frameworks for AI?"
   ]
  },
  {
   "cell_type": "code",
   "execution_count": null,
   "id": "e5fd27ca",
   "metadata": {},
   "outputs": [],
   "source": [
    "1. TensorFlow\n",
    "\"Computation using data flow graphs for scalable machine learning.\"\n",
    "framework \n",
    "2. Microsoft CNTK\n",
    "\"An open source-deep learning toolkit.\"\n",
    "library \n",
    "3. Theano\n",
    "\"A numerical computation library.\"\n",
    "library \n",
    "4. Caffe\n",
    "\"Fast, open framework for deep learning.\"\n",
    "framework\n",
    "5. Keras\n",
    "\"Deep learning for humans.\"\n",
    "framework\n",
    "6. Torch\n",
    "\"An open-source machine learning library.\"\n",
    "library \n",
    "7. Accord.NET\n",
    "\"Machine learning, computer vision, statistics, and general scientific computing for .NET.\"\n",
    "framework \n",
    "8. Spark MLlib\n",
    "\"A scalable machine learning library.\"\n",
    "library\n",
    "9. Sci-kit Learn\n",
    "\"Machine learning in Python.\"\n",
    "library\n",
    "10. MLPack\n",
    "\"A scalable C++ machine learning library.\"\n",
    "library\n",
    "11. TensorFlow\n",
    "\"a particular focus on training and inference of deep neural networks\"\n",
    "Library\n",
    "12. Sci-kit-learn\n",
    "\"features various classification, regression and clustering algorithms including support vector machines\"\n",
    "Library\n",
    "13. Microsoft Cognitive Toolkit\n",
    "\"describes neural networks as a series of computational steps via a directed graph\"\n",
    "Framework\n",
    "14. PyTorch\n",
    "\"used for applications such as computer vision and natural language processing\"\n",
    "Library\n",
    "15. OpenCV\n",
    "\"provides a real-time optimized Computer Vision library, tools, and hardware\"\n",
    "Library\n",
    "16. OpenNN\n",
    "\"implements neural networks, the main area of deep learning research\"\n",
    "Library\n",
    "17. DyNet\n",
    "\"the Dynamic Neural Network Toolki\"\n",
    "Library\n",
    "18. Shogun\n",
    "\"offers numerous algorithms and data structures for machine learning problems.\"\n",
    "Library\n",
    "19. Robot Operating System\n",
    "\"an open-source robotics middleware suite\"\n",
    "Library\n",
    "20. Flux\n",
    "\"an open-source machine-learning software library and ecosystem\"\n",
    "Framework\n",
    "21. ML.NET\n",
    "\"ML.NET supports sentiment analysis, price prediction, fraud detection, and more using custom models\"\n",
    "Framework\n",
    "22. AForge.NET\n",
    "\"computer vision and artificial intelligence\"\n",
    "Framework"
   ]
  }
 ],
 "metadata": {
  "kernelspec": {
   "display_name": "Python 3 (ipykernel)",
   "language": "python",
   "name": "python3"
  },
  "language_info": {
   "codemirror_mode": {
    "name": "ipython",
    "version": 3
   },
   "file_extension": ".py",
   "mimetype": "text/x-python",
   "name": "python",
   "nbconvert_exporter": "python",
   "pygments_lexer": "ipython3",
   "version": "3.9.12"
  },
  "toc": {
   "base_numbering": 1,
   "nav_menu": {},
   "number_sections": true,
   "sideBar": true,
   "skip_h1_title": false,
   "title_cell": "Table of Contents",
   "title_sidebar": "Contents",
   "toc_cell": false,
   "toc_position": {},
   "toc_section_display": true,
   "toc_window_display": false
  },
  "varInspector": {
   "cols": {
    "lenName": 16,
    "lenType": 16,
    "lenVar": 40
   },
   "kernels_config": {
    "python": {
     "delete_cmd_postfix": "",
     "delete_cmd_prefix": "del ",
     "library": "var_list.py",
     "varRefreshCmd": "print(var_dic_list())"
    },
    "r": {
     "delete_cmd_postfix": ") ",
     "delete_cmd_prefix": "rm(",
     "library": "var_list.r",
     "varRefreshCmd": "cat(var_dic_list()) "
    }
   },
   "types_to_exclude": [
    "module",
    "function",
    "builtin_function_or_method",
    "instance",
    "_Feature"
   ],
   "window_display": false
  }
 },
 "nbformat": 4,
 "nbformat_minor": 5
}
