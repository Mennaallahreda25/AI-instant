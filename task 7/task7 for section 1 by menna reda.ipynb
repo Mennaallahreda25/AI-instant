{
 "cells": [
  {
   "cell_type": "code",
   "execution_count": null,
   "id": "45ff2c28",
   "metadata": {
    "ExecuteTime": {
     "end_time": "2022-08-23T16:10:22.909017Z",
     "start_time": "2022-08-23T16:10:22.893094Z"
    }
   },
   "outputs": [],
   "source": [
    "for do the binary search :\n",
    "if we have array of number like : [2,6,7,3,2,1,1,5,4]\n",
    "first thing we should sort it and delete duplicate nimbers , so our numbers of the array will be :[1,2,3,4,5,6,7]\n",
    "and then we shold find the low and high and mid numbers\n",
    "low=1  , high=7  , mid=4\n",
    "the second if we want to find x=2 we will look if 2 is after or before the mid number (4)\n",
    "it is before so ewe will not looh after the mid again our numbers now [1,2,3]\n",
    "and our new low here is =1 , high=3 , mid=2\n",
    "the number we want is the mid x=2\n",
    "so the number is found"
   ]
  },
  {
   "cell_type": "code",
   "execution_count": 2,
   "id": "ffa9a9c8",
   "metadata": {
    "ExecuteTime": {
     "end_time": "2022-08-23T17:03:57.845229Z",
     "start_time": "2022-08-23T17:03:57.836224Z"
    }
   },
   "outputs": [],
   "source": [
    "#by python we have 2 ways algorithm \n",
    "#Iterative Method"
   ]
  },
  {
   "cell_type": "code",
   "execution_count": 5,
   "id": "0b763e83",
   "metadata": {
    "ExecuteTime": {
     "end_time": "2022-08-23T17:04:42.582403Z",
     "start_time": "2022-08-23T17:04:42.571400Z"
    }
   },
   "outputs": [
    {
     "name": "stdout",
     "output_type": "stream",
     "text": [
      "Element is present at index 1\n"
     ]
    }
   ],
   "source": [
    "def binarySearch(array, x, low, high):\n",
    "\n",
    "    # Repeat until the pointers low and high meet each other\n",
    "    while low <= high:\n",
    "\n",
    "        mid = low + (high - low)//2\n",
    "\n",
    "        if array[mid] == x:\n",
    "            return mid\n",
    "\n",
    "        elif array[mid] < x:\n",
    "            low = mid + 1\n",
    "\n",
    "        else:\n",
    "            high = mid - 1\n",
    "\n",
    "    return -1\n",
    "\n",
    "\n",
    "array = [3, 4, 5, 6, 7, 8, 9]\n",
    "x = 4\n",
    "\n",
    "result = binarySearch(array, x, 0, len(array)-1)\n",
    "\n",
    "if result != -1:\n",
    "    print(\"Element is present at index \" + str(result))\n",
    "else:\n",
    "    print(\"Not found\")"
   ]
  },
  {
   "cell_type": "code",
   "execution_count": 4,
   "id": "db9bdf19",
   "metadata": {
    "ExecuteTime": {
     "end_time": "2022-08-23T17:04:18.183061Z",
     "start_time": "2022-08-23T17:04:18.165108Z"
    }
   },
   "outputs": [],
   "source": [
    "#Recursive Method"
   ]
  },
  {
   "cell_type": "code",
   "execution_count": 6,
   "id": "0bf7aad8",
   "metadata": {
    "ExecuteTime": {
     "end_time": "2022-08-23T17:04:49.242453Z",
     "start_time": "2022-08-23T17:04:49.218489Z"
    }
   },
   "outputs": [
    {
     "name": "stdout",
     "output_type": "stream",
     "text": [
      "Element is present at index 1\n"
     ]
    }
   ],
   "source": [
    "def binarySearch(array, x, low, high):\n",
    "\n",
    "    if high >= low:\n",
    "\n",
    "        mid = low + (high - low)//2\n",
    "\n",
    "        # If found at mid, then return it\n",
    "        if array[mid] == x:\n",
    "            return mid\n",
    "\n",
    "        # Search the left half\n",
    "        elif array[mid] > x:\n",
    "            return binarySearch(array, x, low, mid-1)\n",
    "\n",
    "        # Search the right half\n",
    "        else:\n",
    "            return binarySearch(array, x, mid + 1, high)\n",
    "\n",
    "    else:\n",
    "        return -1\n",
    "\n",
    "\n",
    "array = [3, 4, 5, 6, 7, 8, 9]\n",
    "x = 4\n",
    "\n",
    "result = binarySearch(array, x, 0, len(array)-1)\n",
    "\n",
    "if result != -1:\n",
    "    print(\"Element is present at index \" + str(result))\n",
    "else:\n",
    "    print(\"Not found\")\n"
   ]
  }
 ],
 "metadata": {
  "kernelspec": {
   "display_name": "Python 3 (ipykernel)",
   "language": "python",
   "name": "python3"
  },
  "language_info": {
   "codemirror_mode": {
    "name": "ipython",
    "version": 3
   },
   "file_extension": ".py",
   "mimetype": "text/x-python",
   "name": "python",
   "nbconvert_exporter": "python",
   "pygments_lexer": "ipython3",
   "version": "3.9.12"
  },
  "toc": {
   "base_numbering": 1,
   "nav_menu": {},
   "number_sections": true,
   "sideBar": true,
   "skip_h1_title": false,
   "title_cell": "Table of Contents",
   "title_sidebar": "Contents",
   "toc_cell": false,
   "toc_position": {},
   "toc_section_display": true,
   "toc_window_display": false
  },
  "varInspector": {
   "cols": {
    "lenName": 16,
    "lenType": 16,
    "lenVar": 40
   },
   "kernels_config": {
    "python": {
     "delete_cmd_postfix": "",
     "delete_cmd_prefix": "del ",
     "library": "var_list.py",
     "varRefreshCmd": "print(var_dic_list())"
    },
    "r": {
     "delete_cmd_postfix": ") ",
     "delete_cmd_prefix": "rm(",
     "library": "var_list.r",
     "varRefreshCmd": "cat(var_dic_list()) "
    }
   },
   "types_to_exclude": [
    "module",
    "function",
    "builtin_function_or_method",
    "instance",
    "_Feature"
   ],
   "window_display": false
  }
 },
 "nbformat": 4,
 "nbformat_minor": 5
}
